{
 "cells": [
  {
   "cell_type": "markdown",
   "metadata": {},
   "source": [
    "# Webscraping the Teddy Bear Club NFT Data"
   ]
  },
  {
   "cell_type": "markdown",
   "metadata": {},
   "source": [
    "#### This notebook details the process of scraping the Round 1 and 2 NFTs from the official Teddy Bears Club website ([Teddy Bears Club](https://tbc.teddyswap.org/)) and the [CNFT Tools](https://cnft.tools/teddybearclub2) website. It also allows you to recreate the JSON files in case they have been deleted. If that is the case, run this file first, followed by `attributecounter.ipynb` and then `rankdata.ipynb`.\n",
    "---\n",
    "### 1.1 Open Statements"
   ]
  },
  {
   "cell_type": "code",
   "execution_count": 1,
   "metadata": {
    "dotnet_interactive": {
     "language": "fsharp"
    },
    "polyglot_notebook": {
     "kernelName": "fsharp"
    },
    "vscode": {
     "languageId": "polyglot-notebook"
    }
   },
   "outputs": [],
   "source": [
    "open System\n",
    "open System.Collections.Generic\n",
    "open System.Net.Http\n",
    "open System.Text\n",
    "open System.Text.Json\n",
    "open System.Threading.Tasks\n",
    "open System.IO"
   ]
  },
  {
   "cell_type": "markdown",
   "metadata": {},
   "source": [
    "### 1.2 `saveToFile`: saves the given JSON into the given file path\n",
    "It is called by the scraping functions to serialize and save the scraped data."
   ]
  },
  {
   "cell_type": "code",
   "execution_count": 2,
   "metadata": {
    "dotnet_interactive": {
     "language": "fsharp"
    },
    "polyglot_notebook": {
     "kernelName": "fsharp"
    },
    "vscode": {
     "languageId": "polyglot-notebook"
    }
   },
   "outputs": [],
   "source": [
    "let saveToFile (data: obj) (filePath: string) =\n",
    "    try\n",
    "        let dataFolder = Path.GetDirectoryName(filePath)\n",
    "        if not (String.IsNullOrWhiteSpace(dataFolder) && Directory.Exists(dataFolder)) then\n",
    "            Directory.CreateDirectory(dataFolder) |> ignore\n",
    "\n",
    "        let options = JsonSerializerOptions(WriteIndented = true, Encoder = System.Text.Encodings.Web.JavaScriptEncoder.UnsafeRelaxedJsonEscaping)\n",
    "\n",
    "        let jsonOutput = JsonSerializer.Serialize(data, options)\n",
    "        File.WriteAllText(filePath, jsonOutput)\n",
    "        printfn \"Data successfully saved to %s\" filePath\n",
    "    with\n",
    "    | ex -> printfn \"Failed to save data: %s\" ex.Message\n"
   ]
  },
  {
   "cell_type": "markdown",
   "metadata": {},
   "source": [
    "## 1.3 Scraping\n",
    "### Teddy Bear Club Round 1\n",
    "The function `directJSONScraper` is used to scare Round 1 NFTs the official Teddy Bears Club website ([Teddy Bears Club](https://tbc.teddyswap.org/)). "
   ]
  },
  {
   "cell_type": "code",
   "execution_count": 3,
   "metadata": {
    "dotnet_interactive": {
     "language": "fsharp"
    },
    "polyglot_notebook": {
     "kernelName": "fsharp"
    },
    "vscode": {
     "languageId": "polyglot-notebook"
    }
   },
   "outputs": [],
   "source": [
    "let nftRound1Data = List<JsonElement>()\n",
    "\n",
    "let directJSONScraper (url: string, outputFilePath: string) : Task =\n",
    "        async {\n",
    "            nftRound1Data.Clear()\n",
    "            use client = new HttpClient()\n",
    "            client.DefaultRequestHeaders.Add(\"User-Agent\", \"Mozilla/5.0 (Macintosh; Intel Mac OS X 10_15_7)\")\n",
    "\n",
    "            try\n",
    "                printfn \"Fetching data from %s...\" url\n",
    "                let! response = client.GetStringAsync(url) |> Async.AwaitTask\n",
    "\n",
    "                let jsonArray = JsonSerializer.Deserialize<JsonElement[]>(response)\n",
    "\n",
    "                if jsonArray <> null then\n",
    "                    for item in jsonArray do\n",
    "                        nftRound1Data.Add(item)\n",
    "                    \n",
    "                    //let jsonOutput = JsonSerializer.Serialize(nftRound1Data)\n",
    "                    saveToFile nftRound1Data outputFilePath\n",
    "            with\n",
    "                | ex -> printfn \"Error fetching data: %s\" ex.Message\n",
    "        } |> Async.StartAsTask :> Task "
   ]
  },
  {
   "cell_type": "markdown",
   "metadata": {},
   "source": [
    "### Teddy Bear Club Round 2\n",
    "\n",
    "The `paginatedJSONScraper` function is designed to scrape Round 2 NFTs from the [CNFT Tools](https://cnft.tools/teddybearclub2) website. Unlike the `directJSONScraper` function, it handles pagination and requires a payload to retrieve the data efficiently. "
   ]
  },
  {
   "cell_type": "code",
   "execution_count": 4,
   "metadata": {
    "dotnet_interactive": {
     "language": "fsharp"
    },
    "polyglot_notebook": {
     "kernelName": "fsharp"
    },
    "vscode": {
     "languageId": "polyglot-notebook"
    }
   },
   "outputs": [],
   "source": [
    "let nftRound2Data = List<JsonElement>()\n",
    "\n",
    "let paginatedJSONScraper (key: string, url: string, outputFilePath: string) : Task =\n",
    "        async {\n",
    "            nftRound2Data.Clear()\n",
    "            use client = new HttpClient()\n",
    "            client.DefaultRequestHeaders.Add(\"User-Agent\", \"Mozilla/5.0 (Macintosh; Intel Mac OS X 10_15_7)\")\n",
    "            \n",
    "            let payloadTemplate = \n",
    "                {|\n",
    "                    project = \"none\"\n",
    "                    sort = \"asc\"\n",
    "                    method = \"rarity\"\n",
    "                    page = 1\n",
    "                    priceOnly = \"all\"\n",
    "                    filters = {| |}\n",
    "                    sliders = \n",
    "                        {| \n",
    "                            minPrice = 0\n",
    "                            maxPrice = 0\n",
    "                            minRank = 0\n",
    "                            maxRank = 0 \n",
    "                        |}\n",
    "                    instantSale = false\n",
    "                    walletCheck = false\n",
    "                    stakes = []\n",
    "                    pageSize = 50\n",
    "                |}\n",
    "\n",
    "            let totalPages = 41\n",
    "            let delayInMilliseconds = 1000\n",
    "\n",
    "            for page in 1 .. totalPages do\n",
    "                printf \"Fetching page %d...\" page\n",
    "                let payload = \n",
    "                    {| payloadTemplate with \n",
    "                        page = page\n",
    "                    |}\n",
    "\n",
    "                let jsonPayload = JsonSerializer.Serialize(payload)\n",
    "                let content = new StringContent(jsonPayload, Encoding.UTF8, \"application/json\")\n",
    "\n",
    "                try\n",
    "                    let! response = client.PostAsync(url, content) |> Async.AwaitTask\n",
    "                    if response.IsSuccessStatusCode then\n",
    "                        let! responseString = response.Content.ReadAsStringAsync() |> Async.AwaitTask\n",
    "\n",
    "                        let jsonResponse = JsonSerializer.Deserialize<Dictionary<string, obj>>(responseString)\n",
    "\n",
    "                        match jsonResponse.TryGetValue(key) with\n",
    "                        | true, results -> \n",
    "                            let resultsJson = results :?> JsonElement\n",
    "                            if resultsJson.ValueKind = JsonValueKind.Array then\n",
    "                                for element in resultsJson.EnumerateArray() do\n",
    "                                    nftRound2Data.Add(element)\n",
    "                            else\n",
    "                                printfn $\"Unexpected data format for {key}\"\n",
    "                        | _ -> ()\n",
    "\n",
    "                    else\n",
    "                        printfn \"Failed to fetch page %d. Status code: %A\" page response.StatusCode\n",
    "                        return()\n",
    "                with\n",
    "                    | ex -> \n",
    "                        printfn \"Error on page %d: %s\" page ex.Message\n",
    "                        return()\n",
    "\n",
    "                do! Async.Sleep(delayInMilliseconds)\n",
    "\n",
    "            printf \"Data scraping complete\"\n",
    "\n",
    "            try\n",
    "                saveToFile nftRound2Data outputFilePath\n",
    "            with\n",
    "                | ex -> printfn \"Failed to write to file: %s\" ex.Message\n",
    "\n",
    "        } |> Async.StartAsTask :> Task    "
   ]
  },
  {
   "cell_type": "markdown",
   "metadata": {},
   "source": [
    "## 1.6 Call the Function for Each of the NFT Rounds"
   ]
  },
  {
   "cell_type": "code",
   "execution_count": 5,
   "metadata": {
    "dotnet_interactive": {
     "language": "fsharp"
    },
    "polyglot_notebook": {
     "kernelName": "fsharp"
    },
    "vscode": {
     "languageId": "polyglot-notebook"
    }
   },
   "outputs": [
    {
     "name": "stdout",
     "output_type": "stream",
     "text": [
      "Fetching data from https://tbc.teddyswap.org/rankedAssets.json...\n"
     ]
    },
    {
     "data": {
      "text/html": [
       "<details open=\"open\" class=\"dni-treeview\"><summary><span class=\"dni-code-hint\"><code>System.Threading.Tasks.Task`1[Microsoft.FSharp.Core.Unit]</code></span></summary><div><table><thead><tr></tr></thead><tbody><tr><td>Id</td><td><div class=\"dni-plaintext\"><pre>1</pre></div></td></tr><tr><td>Exception</td><td><div class=\"dni-plaintext\"><pre>&lt;null&gt;</pre></div></td></tr><tr><td>Status</td><td><span>WaitingForActivation</span></td></tr><tr><td>IsCanceled</td><td><div class=\"dni-plaintext\"><pre>False</pre></div></td></tr><tr><td>IsCompleted</td><td><div class=\"dni-plaintext\"><pre>False</pre></div></td></tr><tr><td>IsCompletedSuccessfully</td><td><div class=\"dni-plaintext\"><pre>False</pre></div></td></tr><tr><td>CreationOptions</td><td><span>None</span></td></tr><tr><td>AsyncState</td><td><div class=\"dni-plaintext\"><pre>&lt;null&gt;</pre></div></td></tr><tr><td>IsFaulted</td><td><div class=\"dni-plaintext\"><pre>False</pre></div></td></tr></tbody></table></div></details><style>\r\n",
       ".dni-code-hint {\r\n",
       "    font-style: italic;\r\n",
       "    overflow: hidden;\r\n",
       "    white-space: nowrap;\r\n",
       "}\r\n",
       ".dni-treeview {\r\n",
       "    white-space: nowrap;\r\n",
       "}\r\n",
       ".dni-treeview td {\r\n",
       "    vertical-align: top;\r\n",
       "    text-align: start;\r\n",
       "}\r\n",
       "details.dni-treeview {\r\n",
       "    padding-left: 1em;\r\n",
       "}\r\n",
       "table td {\r\n",
       "    text-align: start;\r\n",
       "}\r\n",
       "table tr { \r\n",
       "    vertical-align: top; \r\n",
       "    margin: 0em 0px;\r\n",
       "}\r\n",
       "table tr td pre \r\n",
       "{ \r\n",
       "    vertical-align: top !important; \r\n",
       "    margin: 0em 0px !important;\r\n",
       "} \r\n",
       "table th {\r\n",
       "    text-align: start;\r\n",
       "}\r\n",
       "</style>"
      ]
     },
     "metadata": {},
     "output_type": "display_data"
    }
   ],
   "source": [
    "let url = \"https://tbc.teddyswap.org/rankedAssets.json\"\n",
    "let outputFilePath = \"../data/NFTR1.json\"\n",
    "directJSONScraper(url, outputFilePath) "
   ]
  },
  {
   "cell_type": "code",
   "execution_count": 6,
   "metadata": {
    "dotnet_interactive": {
     "language": "fsharp"
    },
    "polyglot_notebook": {
     "kernelName": "fsharp"
    },
    "vscode": {
     "languageId": "polyglot-notebook"
    }
   },
   "outputs": [
    {
     "data": {
      "text/html": [
       "<details open=\"open\" class=\"dni-treeview\"><summary><span class=\"dni-code-hint\"><code>System.Threading.Tasks.Task`1[Microsoft.FSharp.Core.Unit]</code></span></summary><div><table><thead><tr></tr></thead><tbody><tr><td>Id</td><td><div class=\"dni-plaintext\"><pre>2</pre></div></td></tr><tr><td>Exception</td><td><div class=\"dni-plaintext\"><pre>&lt;null&gt;</pre></div></td></tr><tr><td>Status</td><td><span>WaitingForActivation</span></td></tr><tr><td>IsCanceled</td><td><div class=\"dni-plaintext\"><pre>False</pre></div></td></tr><tr><td>IsCompleted</td><td><div class=\"dni-plaintext\"><pre>False</pre></div></td></tr><tr><td>IsCompletedSuccessfully</td><td><div class=\"dni-plaintext\"><pre>False</pre></div></td></tr><tr><td>CreationOptions</td><td><span>None</span></td></tr><tr><td>AsyncState</td><td><div class=\"dni-plaintext\"><pre>&lt;null&gt;</pre></div></td></tr><tr><td>IsFaulted</td><td><div class=\"dni-plaintext\"><pre>False</pre></div></td></tr></tbody></table></div></details><style>\r\n",
       ".dni-code-hint {\r\n",
       "    font-style: italic;\r\n",
       "    overflow: hidden;\r\n",
       "    white-space: nowrap;\r\n",
       "}\r\n",
       ".dni-treeview {\r\n",
       "    white-space: nowrap;\r\n",
       "}\r\n",
       ".dni-treeview td {\r\n",
       "    vertical-align: top;\r\n",
       "    text-align: start;\r\n",
       "}\r\n",
       "details.dni-treeview {\r\n",
       "    padding-left: 1em;\r\n",
       "}\r\n",
       "table td {\r\n",
       "    text-align: start;\r\n",
       "}\r\n",
       "table tr { \r\n",
       "    vertical-align: top; \r\n",
       "    margin: 0em 0px;\r\n",
       "}\r\n",
       "table tr td pre \r\n",
       "{ \r\n",
       "    vertical-align: top !important; \r\n",
       "    margin: 0em 0px !important;\r\n",
       "} \r\n",
       "table th {\r\n",
       "    text-align: start;\r\n",
       "}\r\n",
       "</style>"
      ]
     },
     "metadata": {},
     "output_type": "display_data"
    }
   ],
   "source": [
    "let url = \"https://cnft.tools/toolsapi/v3/project/teddybearclub2\"\n",
    "let outputFilePath = \"../data/NFTR2.json\"\n",
    "paginatedJSONScraper(\"stats\", url, outputFilePath)"
   ]
  },
  {
   "cell_type": "markdown",
   "metadata": {},
   "source": [
    "## 1.5 Output\n",
    "Lastly, we print out a few of the gathered data for validation."
   ]
  },
  {
   "cell_type": "code",
   "execution_count": 7,
   "metadata": {
    "dotnet_interactive": {
     "language": "fsharp"
    },
    "polyglot_notebook": {
     "kernelName": "fsharp"
    },
    "vscode": {
     "languageId": "polyglot-notebook"
    }
   },
   "outputs": [
    {
     "ename": "Error",
     "evalue": "System.InvalidOperationException: The input sequence has an insufficient number of elements.: tried to take 10 elements past the end of the seq. Use Seq.truncate to get 10 or less elements\n   at Microsoft.FSharp.Collections.SeqModule.Take@855.GenerateNext(IEnumerable`1& next) in D:\\a\\_work\\1\\s\\src\\FSharp.Core\\seq.fs:line 864\n   at Microsoft.FSharp.Core.CompilerServices.GeneratedSequenceBase`1.MoveNextImpl() in D:\\a\\_work\\1\\s\\src\\FSharp.Core\\seqcore.fs:line 488\n   at Microsoft.FSharp.Core.CompilerServices.GeneratedSequenceBase`1.System.Collections.IEnumerator.MoveNext() in D:\\a\\_work\\1\\s\\src\\FSharp.Core\\seqcore.fs:line 530\n   at Microsoft.FSharp.Collections.SeqModule.ToList[T](IEnumerable`1 source) in D:\\a\\_work\\1\\s\\src\\FSharp.Core\\seq.fs:line 1004\n   at <StartupCode$FSI_0010>.$FSI_0010.main@()\n   at System.RuntimeMethodHandle.InvokeMethod(Object target, Void** arguments, Signature sig, Boolean isConstructor)\n   at System.Reflection.MethodBaseInvoker.InvokeWithNoArgs(Object obj, BindingFlags invokeAttr)",
     "output_type": "error",
     "traceback": [
      "System.InvalidOperationException: The input sequence has an insufficient number of elements.: tried to take 10 elements past the end of the seq. Use Seq.truncate to get 10 or less elements\n",
      "   at Microsoft.FSharp.Collections.SeqModule.Take@855.GenerateNext(IEnumerable`1& next) in D:\\a\\_work\\1\\s\\src\\FSharp.Core\\seq.fs:line 864\n",
      "   at Microsoft.FSharp.Core.CompilerServices.GeneratedSequenceBase`1.MoveNextImpl() in D:\\a\\_work\\1\\s\\src\\FSharp.Core\\seqcore.fs:line 488\n",
      "   at Microsoft.FSharp.Core.CompilerServices.GeneratedSequenceBase`1.System.Collections.IEnumerator.MoveNext() in D:\\a\\_work\\1\\s\\src\\FSharp.Core\\seqcore.fs:line 530\n",
      "   at Microsoft.FSharp.Collections.SeqModule.ToList[T](IEnumerable`1 source) in D:\\a\\_work\\1\\s\\src\\FSharp.Core\\seq.fs:line 1004\n",
      "   at <StartupCode$FSI_0010>.$FSI_0010.main@()\n",
      "   at System.RuntimeMethodHandle.InvokeMethod(Object target, Void** arguments, Signature sig, Boolean isConstructor)\n",
      "   at System.Reflection.MethodBaseInvoker.InvokeWithNoArgs(Object obj, BindingFlags invokeAttr)"
     ]
    }
   ],
   "source": [
    "let firstTenR1 = nftRound1Data |> Seq.take 10 |> Seq.toList\n",
    "printfn \"%A\" firstTenR1"
   ]
  },
  {
   "cell_type": "code",
   "execution_count": 8,
   "metadata": {
    "dotnet_interactive": {
     "language": "fsharp"
    },
    "polyglot_notebook": {
     "kernelName": "fsharp"
    },
    "vscode": {
     "languageId": "polyglot-notebook"
    }
   },
   "outputs": [
    {
     "ename": "Error",
     "evalue": "System.InvalidOperationException: The input sequence has an insufficient number of elements.: tried to take 10 elements past the end of the seq. Use Seq.truncate to get 10 or less elements\n   at Microsoft.FSharp.Collections.SeqModule.Take@855.GenerateNext(IEnumerable`1& next) in D:\\a\\_work\\1\\s\\src\\FSharp.Core\\seq.fs:line 864\n   at Microsoft.FSharp.Core.CompilerServices.GeneratedSequenceBase`1.MoveNextImpl() in D:\\a\\_work\\1\\s\\src\\FSharp.Core\\seqcore.fs:line 488\n   at Microsoft.FSharp.Core.CompilerServices.GeneratedSequenceBase`1.System.Collections.IEnumerator.MoveNext() in D:\\a\\_work\\1\\s\\src\\FSharp.Core\\seqcore.fs:line 530\n   at Microsoft.FSharp.Collections.SeqModule.ToList[T](IEnumerable`1 source) in D:\\a\\_work\\1\\s\\src\\FSharp.Core\\seq.fs:line 1004\n   at <StartupCode$FSI_0011>.$FSI_0011.main@()\n   at System.RuntimeMethodHandle.InvokeMethod(Object target, Void** arguments, Signature sig, Boolean isConstructor)\n   at System.Reflection.MethodBaseInvoker.InvokeWithNoArgs(Object obj, BindingFlags invokeAttr)",
     "output_type": "error",
     "traceback": [
      "System.InvalidOperationException: The input sequence has an insufficient number of elements.: tried to take 10 elements past the end of the seq. Use Seq.truncate to get 10 or less elements\n",
      "   at Microsoft.FSharp.Collections.SeqModule.Take@855.GenerateNext(IEnumerable`1& next) in D:\\a\\_work\\1\\s\\src\\FSharp.Core\\seq.fs:line 864\n",
      "   at Microsoft.FSharp.Core.CompilerServices.GeneratedSequenceBase`1.MoveNextImpl() in D:\\a\\_work\\1\\s\\src\\FSharp.Core\\seqcore.fs:line 488\n",
      "   at Microsoft.FSharp.Core.CompilerServices.GeneratedSequenceBase`1.System.Collections.IEnumerator.MoveNext() in D:\\a\\_work\\1\\s\\src\\FSharp.Core\\seqcore.fs:line 530\n",
      "   at Microsoft.FSharp.Collections.SeqModule.ToList[T](IEnumerable`1 source) in D:\\a\\_work\\1\\s\\src\\FSharp.Core\\seq.fs:line 1004\n",
      "   at <StartupCode$FSI_0011>.$FSI_0011.main@()\n",
      "   at System.RuntimeMethodHandle.InvokeMethod(Object target, Void** arguments, Signature sig, Boolean isConstructor)\n",
      "   at System.Reflection.MethodBaseInvoker.InvokeWithNoArgs(Object obj, BindingFlags invokeAttr)"
     ]
    }
   ],
   "source": [
    "let firstTenR2 = nftRound2Data |> Seq.take 10 |> Seq.toList\n",
    "printfn \"%A\" firstTenR2"
   ]
  }
 ],
 "metadata": {
  "kernelspec": {
   "display_name": ".NET (C#)",
   "language": "C#",
   "name": ".net-csharp"
  },
  "language_info": {
   "name": "csharp"
  },
  "polyglot_notebook": {
   "kernelInfo": {
    "defaultKernelName": "csharp",
    "items": [
     {
      "aliases": [],
      "name": "csharp"
     }
    ]
   }
  }
 },
 "nbformat": 4,
 "nbformat_minor": 2
}
