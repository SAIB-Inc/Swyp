{
 "cells": [
  {
   "cell_type": "markdown",
   "metadata": {},
   "source": [
    "# Scraping NFT Data for the Teddy Bears Club\n"
   ]
  },
  {
   "cell_type": "markdown",
   "metadata": {},
   "source": [
    "This notebook demonstrates the process of scraping NFT data for the **Teddy Bears Club** from CNFT Tools:  \n",
    "- [Round 1](https://cnft.tools/teddybearclub)\n",
    "- [Round 2](https://cnft.tools/teddybearclub2)\n",
    "\n",
    "If the JSON files for Round 1 and Round 2 NFTs (`tbc_roundone.json` and `tbc_roundtwo.json`) are missing, run this notebook to recreate them. Afterward, proceed to [`count_trait_values.ipynb`](count_trait_values.ipynb) and then [`rank_nfts_by_rarity.ipynb`](rank_nfts_by_rarity.ipynb) to complete the data processing pipeline.  \n",
    "\n",
    "---\n",
    "### 1.1 Open Statements"
   ]
  },
  {
   "cell_type": "code",
   "execution_count": 1,
   "metadata": {
    "dotnet_interactive": {
     "language": "fsharp"
    },
    "polyglot_notebook": {
     "kernelName": "fsharp"
    },
    "vscode": {
     "languageId": "polyglot-notebook"
    }
   },
   "outputs": [],
   "source": [
    "open System\n",
    "open System.Collections.Generic\n",
    "open System.Net.Http\n",
    "open System.Text\n",
    "open System.Text.Json\n",
    "open System.Threading\n",
    "open System.Threading.Tasks\n",
    "open System.IO"
   ]
  },
  {
   "cell_type": "markdown",
   "metadata": {},
   "source": [
    "### Workflow\n",
    "\n",
    "1. **Saving Data (`saveToFile`)**:\n",
    "   - Saves scraped data in a human-readable JSON format. Automatically creates directories if needed.\n",
    "\n",
    "2. **Waiting for File Creation (`waitForFile`)**:\n",
    "   - Ensures files are ready before proceeding, with a specified timeout.\n",
    "\n",
    "3. **Scraping Data (`teddyBearClubScraper`)**:\n",
    "   - Fetches metadata from the API across multiple pages and saves it to JSON files.\n",
    "   - Parameters:\n",
    "     - **`key`**: Specifies the data to extract (e.g., `\"stats\"`).\n",
    "     - **`maxPage`**: Total pages to scrape.\n",
    "     - **`url`**: API endpoint.\n",
    "     - **`outputFilePath`**: Destination file path.\n",
    "\n",
    "4. **Steps in This Notebook**:\n",
    "   - **Round 1**: Scrape and save metadata to `tbc_roundone.json`.  \n",
    "   - **Round 2**: Scrape and save metadata to `tbc_roundtwo.json`.  \n",
    "   - **Inspect Data**: Display the first 10 NFTs from each round.\n"
   ]
  },
  {
   "cell_type": "code",
   "execution_count": 2,
   "metadata": {
    "dotnet_interactive": {
     "language": "fsharp"
    },
    "polyglot_notebook": {
     "kernelName": "fsharp"
    },
    "vscode": {
     "languageId": "polyglot-notebook"
    }
   },
   "outputs": [],
   "source": [
    "let saveToFile (data: obj) (filePath: string) =\n",
    "    try\n",
    "        if not (File.Exists(filePath)) then\n",
    "            let dataFolder = Path.GetDirectoryName(filePath)\n",
    "            if not (String.IsNullOrWhiteSpace(dataFolder) && Directory.Exists(dataFolder)) then\n",
    "                Directory.CreateDirectory(dataFolder) |> ignore\n",
    "\n",
    "            let options = JsonSerializerOptions(WriteIndented = true, Encoder = System.Text.Encodings.Web.JavaScriptEncoder.UnsafeRelaxedJsonEscaping)\n",
    "\n",
    "            let jsonOutput = JsonSerializer.Serialize(data, options)\n",
    "            File.WriteAllText(filePath, jsonOutput)\n",
    "            printfn \"Data successfully saved to %s\" filePath\n",
    "    with\n",
    "    | ex -> printfn \"Failed to save data: %s\" ex.Message\n"
   ]
  },
  {
   "cell_type": "code",
   "execution_count": 3,
   "metadata": {
    "dotnet_interactive": {
     "language": "fsharp"
    },
    "polyglot_notebook": {
     "kernelName": "fsharp"
    },
    "vscode": {
     "languageId": "polyglot-notebook"
    }
   },
   "outputs": [],
   "source": [
    "let waitForFile filePath timeoutInSeconds =\n",
    "    let startTime = System.DateTime.Now\n",
    "    let rec checkFile () =\n",
    "        if File.Exists(filePath) then\n",
    "            printfn \"File %s is ready.\" filePath\n",
    "            true\n",
    "        elif (System.DateTime.Now - startTime).TotalSeconds > float timeoutInSeconds then\n",
    "            printfn \"Timeout reached. File %s did not appear within %d seconds.\" filePath timeoutInSeconds\n",
    "            false\n",
    "        else\n",
    "            printfn \"Waiting for %s to appear...\" filePath\n",
    "            System.Threading.Thread.Sleep(5000)\n",
    "            checkFile ()\n",
    "    checkFile ()"
   ]
  },
  {
   "cell_type": "markdown",
   "metadata": {},
   "source": [
    "### 1.3 Scraping\n",
    "\n",
    "The `paginatedJSONScraper` function is designed to scrape Round 1 NFTs from [CNFT Tools - Round 1](https://cnft.tools/teddybearclub) and Round 2 NFTs from the [CNFT Tools  -Round 2](https://cnft.tools/teddybearclub2) website."
   ]
  },
  {
   "cell_type": "code",
   "execution_count": 4,
   "metadata": {
    "dotnet_interactive": {
     "language": "fsharp"
    },
    "polyglot_notebook": {
     "kernelName": "fsharp"
    },
    "vscode": {
     "languageId": "polyglot-notebook"
    }
   },
   "outputs": [],
   "source": [
    "let nftData = List<JsonElement>()\n",
    "\n",
    "let teddyBearClubScraper (key: string, maxPage: int, url: string, outputFilePath: string) : Task =\n",
    "        async {\n",
    "            nftData.Clear()\n",
    "            use client = new HttpClient()\n",
    "            client.DefaultRequestHeaders.Add(\"User-Agent\", \"Mozilla/5.0 (Macintosh; Intel Mac OS X 10_15_7)\")\n",
    "            \n",
    "            let payloadTemplate = \n",
    "                {|\n",
    "                    project = \"none\"\n",
    "                    sort = \"asc\"\n",
    "                    method = \"rarity\"\n",
    "                    page = 1\n",
    "                    priceOnly = \"all\"\n",
    "                    filters = {| |}\n",
    "                    sliders = \n",
    "                        {| \n",
    "                            minPrice = 0\n",
    "                            maxPrice = 0\n",
    "                            minRank = 0\n",
    "                            maxRank = 0 \n",
    "                        |}\n",
    "                    instantSale = false\n",
    "                    walletCheck = false\n",
    "                    stakes = []\n",
    "                    pageSize = 50\n",
    "                |}\n",
    "\n",
    "            let delayInMilliseconds = 100\n",
    "\n",
    "            for page in 1 .. maxPage do\n",
    "                printf \"Fetching page %d...\" page\n",
    "                let payload = \n",
    "                    {| payloadTemplate with \n",
    "                        page = page\n",
    "                    |}\n",
    "\n",
    "                let jsonPayload = JsonSerializer.Serialize(payload)\n",
    "                let content = new StringContent(jsonPayload, Encoding.UTF8, \"application/json\")\n",
    "\n",
    "                try\n",
    "                    let! response = client.PostAsync(url, content) |> Async.AwaitTask\n",
    "                    if response.IsSuccessStatusCode then\n",
    "                        let! responseString = response.Content.ReadAsStringAsync() |> Async.AwaitTask\n",
    "\n",
    "                        let jsonResponse = JsonSerializer.Deserialize<Dictionary<string, obj>>(responseString)\n",
    "\n",
    "                        match jsonResponse.TryGetValue(key) with\n",
    "                        | true, results -> \n",
    "                            let resultsJson = results :?> JsonElement\n",
    "                            if resultsJson.ValueKind = JsonValueKind.Array then\n",
    "                                for element in resultsJson.EnumerateArray() do\n",
    "                                    nftData.Add(element)\n",
    "                            else\n",
    "                                printfn $\"Unexpected data format for {key}\"\n",
    "                        | _ -> ()\n",
    "\n",
    "                    else\n",
    "                        printfn \"Failed to fetch page %d. Status code: %A\" page response.StatusCode\n",
    "                        return()\n",
    "                with\n",
    "                    | ex -> \n",
    "                        printfn \"Error on page %d: %s\" page ex.Message\n",
    "                        return()\n",
    "\n",
    "                do! Async.Sleep(delayInMilliseconds)\n",
    "\n",
    "            printf \"Data scraping complete\"\n",
    "\n",
    "            try\n",
    "                saveToFile nftData outputFilePath\n",
    "            with\n",
    "                | ex -> printfn \"Failed to write to file: %s\" ex.Message\n",
    "\n",
    "        } |> Async.StartAsTask :> Task    "
   ]
  },
  {
   "cell_type": "markdown",
   "metadata": {},
   "source": [
    "### 1.4 Round 1"
   ]
  },
  {
   "cell_type": "code",
   "execution_count": null,
   "metadata": {
    "dotnet_interactive": {
     "language": "fsharp"
    },
    "polyglot_notebook": {
     "kernelName": "fsharp"
    },
    "vscode": {
     "languageId": "polyglot-notebook"
    }
   },
   "outputs": [],
   "source": [
    "let url = \"https://cnft.tools/toolsapi/v3/project/teddybearclub\"\n",
    "let outputFilePath = \"./data/tbc_roundone.json\"\n",
    "teddyBearClubScraper(\"stats\",17,url, outputFilePath) "
   ]
  },
  {
   "cell_type": "code",
   "execution_count": null,
   "metadata": {
    "dotnet_interactive": {
     "language": "fsharp"
    },
    "polyglot_notebook": {
     "kernelName": "fsharp"
    },
    "vscode": {
     "languageId": "polyglot-notebook"
    }
   },
   "outputs": [],
   "source": [
    "waitForFile \"./data/tbc_roundone.json\" 200\n",
    "\n",
    "let firstTenRoundOne = nftData |> Seq.take 10 |> Seq.toList\n",
    "printfn \"%A\" firstTenRoundOne"
   ]
  },
  {
   "cell_type": "markdown",
   "metadata": {},
   "source": [
    "### Round 2"
   ]
  },
  {
   "cell_type": "code",
   "execution_count": null,
   "metadata": {
    "dotnet_interactive": {
     "language": "fsharp"
    },
    "polyglot_notebook": {
     "kernelName": "fsharp"
    },
    "vscode": {
     "languageId": "polyglot-notebook"
    }
   },
   "outputs": [],
   "source": [
    "let url = \"https://cnft.tools/toolsapi/v3/project/teddybearclub2\"\n",
    "let outputFilePath = \"./data/tbc_roundtwo.json\"\n",
    "teddyBearClubScraper(\"stats\", 41, url, outputFilePath)"
   ]
  },
  {
   "cell_type": "code",
   "execution_count": null,
   "metadata": {
    "dotnet_interactive": {
     "language": "fsharp"
    },
    "polyglot_notebook": {
     "kernelName": "fsharp"
    },
    "vscode": {
     "languageId": "polyglot-notebook"
    }
   },
   "outputs": [],
   "source": [
    "waitForFile \"./data/tbc_roundtwo.json\" 200\n",
    "\n",
    "let firstTenRoundTwo = nftData |> Seq.take 10 |> Seq.toList\n",
    "printfn \"%A\" firstTenRoundTwo"
   ]
  }
 ],
 "metadata": {
  "kernelspec": {
   "display_name": ".NET (C#)",
   "language": "C#",
   "name": ".net-csharp"
  },
  "language_info": {
   "name": "csharp"
  },
  "polyglot_notebook": {
   "kernelInfo": {
    "defaultKernelName": "csharp",
    "items": [
     {
      "aliases": [],
      "name": "csharp"
     }
    ]
   }
  }
 },
 "nbformat": 4,
 "nbformat_minor": 2
}
