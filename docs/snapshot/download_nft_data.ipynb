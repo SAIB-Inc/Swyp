{
 "cells": [
  {
   "cell_type": "markdown",
   "metadata": {},
   "source": [
    "# Scraping NFT Data for the Teddy Bears Club\n"
   ]
  },
  {
   "cell_type": "markdown",
   "metadata": {},
   "source": [
    "This notebook demonstrates the process of scraping NFT data for the **Teddy Bears Club** from CNFT Tools:  \n",
    "- [Round 1](https://cnft.tools/teddybearclub)\n",
    "- [Round 2](https://cnft.tools/teddybearclub2)\n",
    "\n",
    "If the JSON files for Round 1 and Round 2 NFTs (`tbc_roundone.json` and `tbc_roundtwo.json`) are missing, run this notebook to recreate them. Afterward, proceed to [`count_trait_values.ipynb`](count_trait_values.ipynb) and then [`rank_nfts_by_rarity.ipynb`](rank_nfts_by_rarity.ipynb) to complete the data processing pipeline.  \n",
    "\n",
    "---\n",
    "### 1.1 Open Statements"
   ]
  },
  {
   "cell_type": "code",
   "execution_count": 9,
   "metadata": {
    "dotnet_interactive": {
     "language": "fsharp"
    },
    "polyglot_notebook": {
     "kernelName": "fsharp"
    },
    "vscode": {
     "languageId": "polyglot-notebook"
    }
   },
   "outputs": [],
   "source": [
    "open System\n",
    "open System.Collections.Generic\n",
    "open System.Net.Http\n",
    "open System.Text\n",
    "open System.Text.Json\n",
    "open System.Threading\n",
    "open System.Threading.Tasks\n",
    "open System.IO"
   ]
  },
  {
   "cell_type": "markdown",
   "metadata": {},
   "source": [
    "### Workflow\n",
    "\n",
    "1. **Saving Data (`saveToFile`)**:\n",
    "   - Saves scraped data in a human-readable JSON format. Automatically creates directories if needed.\n",
    "\n",
    "2. **Waiting for File Creation (`waitForFile`)**:\n",
    "   - Ensures files are ready before proceeding, with a specified timeout.\n",
    "\n",
    "3. **Scraping Data (`teddyBearClubScraper`)**:\n",
    "   - Fetches metadata from the API across multiple pages and saves it to JSON files.\n",
    "   - Parameters:\n",
    "     - **`key`**: Specifies the data to extract (e.g., `\"stats\"`).\n",
    "     - **`maxPage`**: Total pages to scrape.\n",
    "     - **`url`**: API endpoint.\n",
    "     - **`outputFilePath`**: Destination file path.\n",
    "\n",
    "4. **Steps in This Notebook**:\n",
    "   - **Round 1**: Scrape and save metadata to `tbc_roundone.json`.  \n",
    "   - **Round 2**: Scrape and save metadata to `tbc_roundtwo.json`.  \n",
    "   - **Inspect Data**: Display the first 10 NFTs from each round.\n"
   ]
  },
  {
   "cell_type": "code",
   "execution_count": 10,
   "metadata": {
    "dotnet_interactive": {
     "language": "fsharp"
    },
    "polyglot_notebook": {
     "kernelName": "fsharp"
    },
    "vscode": {
     "languageId": "polyglot-notebook"
    }
   },
   "outputs": [],
   "source": [
    "let saveToFile (data: obj) (filePath: string) =\n",
    "    try\n",
    "        if not (File.Exists(filePath)) then\n",
    "            let dataFolder = Path.GetDirectoryName(filePath)\n",
    "            if not (String.IsNullOrWhiteSpace(dataFolder) && Directory.Exists(dataFolder)) then\n",
    "                Directory.CreateDirectory(dataFolder) |> ignore\n",
    "\n",
    "            let options = JsonSerializerOptions(WriteIndented = true, Encoder = System.Text.Encodings.Web.JavaScriptEncoder.UnsafeRelaxedJsonEscaping)\n",
    "\n",
    "            let jsonOutput = JsonSerializer.Serialize(data, options)\n",
    "            File.WriteAllText(filePath, jsonOutput)\n",
    "            printfn \"Data successfully saved to %s\" filePath\n",
    "    with\n",
    "    | ex -> printfn \"Failed to save data: %s\" ex.Message\n"
   ]
  },
  {
   "cell_type": "code",
   "execution_count": 11,
   "metadata": {
    "dotnet_interactive": {
     "language": "fsharp"
    },
    "polyglot_notebook": {
     "kernelName": "fsharp"
    },
    "vscode": {
     "languageId": "polyglot-notebook"
    }
   },
   "outputs": [],
   "source": [
    "let waitForFile filePath timeoutInSeconds =\n",
    "    let startTime = System.DateTime.Now\n",
    "    let rec checkFile () =\n",
    "        if File.Exists(filePath) then\n",
    "            printfn \"File %s is ready.\" filePath\n",
    "            true\n",
    "        elif (System.DateTime.Now - startTime).TotalSeconds > float timeoutInSeconds then\n",
    "            printfn \"Timeout reached. File %s did not appear within %d seconds.\" filePath timeoutInSeconds\n",
    "            false\n",
    "        else\n",
    "            printfn \"Waiting for %s to appear...\" filePath\n",
    "            System.Threading.Thread.Sleep(5000)\n",
    "            checkFile ()\n",
    "    checkFile ()"
   ]
  },
  {
   "cell_type": "markdown",
   "metadata": {},
   "source": [
    "### 1.3 Scraping\n",
    "\n",
    "The `paginatedJSONScraper` function is designed to scrape Round 1 NFTs from [CNFT Tools - Round 1](https://cnft.tools/teddybearclub) and Round 2 NFTs from the [CNFT Tools  -Round 2](https://cnft.tools/teddybearclub2) website."
   ]
  },
  {
   "cell_type": "code",
   "execution_count": 12,
   "metadata": {
    "dotnet_interactive": {
     "language": "fsharp"
    },
    "polyglot_notebook": {
     "kernelName": "fsharp"
    },
    "vscode": {
     "languageId": "polyglot-notebook"
    }
   },
   "outputs": [],
   "source": [
    "let nftData = List<JsonElement>()\n",
    "\n",
    "let teddyBearClubScraper (key: string, maxPage: int, url: string, outputFilePath: string) : Task =\n",
    "        async {\n",
    "            nftData.Clear()\n",
    "            use client = new HttpClient()\n",
    "            client.DefaultRequestHeaders.Add(\"User-Agent\", \"Mozilla/5.0 (Macintosh; Intel Mac OS X 10_15_7)\")\n",
    "            \n",
    "            let payloadTemplate = \n",
    "                {|\n",
    "                    project = \"none\"\n",
    "                    sort = \"asc\"\n",
    "                    method = \"rarity\"\n",
    "                    page = 1\n",
    "                    priceOnly = \"all\"\n",
    "                    filters = {| |}\n",
    "                    sliders = \n",
    "                        {| \n",
    "                            minPrice = 0\n",
    "                            maxPrice = 0\n",
    "                            minRank = 0\n",
    "                            maxRank = 0 \n",
    "                        |}\n",
    "                    instantSale = false\n",
    "                    walletCheck = false\n",
    "                    stakes = []\n",
    "                    pageSize = 50\n",
    "                |}\n",
    "\n",
    "            let delayInMilliseconds = 100\n",
    "\n",
    "            for page in 1 .. maxPage do\n",
    "                printf \"Fetching page %d...\" page\n",
    "                let payload = \n",
    "                    {| payloadTemplate with \n",
    "                        page = page\n",
    "                    |}\n",
    "\n",
    "                let jsonPayload = JsonSerializer.Serialize(payload)\n",
    "                let content = new StringContent(jsonPayload, Encoding.UTF8, \"application/json\")\n",
    "\n",
    "                try\n",
    "                    let! response = client.PostAsync(url, content) |> Async.AwaitTask\n",
    "                    if response.IsSuccessStatusCode then\n",
    "                        let! responseString = response.Content.ReadAsStringAsync() |> Async.AwaitTask\n",
    "\n",
    "                        let jsonResponse = JsonSerializer.Deserialize<Dictionary<string, obj>>(responseString)\n",
    "\n",
    "                        match jsonResponse.TryGetValue(key) with\n",
    "                        | true, results -> \n",
    "                            let resultsJson = results :?> JsonElement\n",
    "                            if resultsJson.ValueKind = JsonValueKind.Array then\n",
    "                                for element in resultsJson.EnumerateArray() do\n",
    "                                    nftData.Add(element)\n",
    "                            else\n",
    "                                printfn $\"Unexpected data format for {key}\"\n",
    "                        | _ -> ()\n",
    "\n",
    "                    else\n",
    "                        printfn \"Failed to fetch page %d. Status code: %A\" page response.StatusCode\n",
    "                        return()\n",
    "                with\n",
    "                    | ex -> \n",
    "                        printfn \"Error on page %d: %s\" page ex.Message\n",
    "                        return()\n",
    "\n",
    "                do! Async.Sleep(delayInMilliseconds)\n",
    "\n",
    "            printf \"Data scraping complete\"\n",
    "\n",
    "            try\n",
    "                saveToFile nftData outputFilePath\n",
    "            with\n",
    "                | ex -> printfn \"Failed to write to file: %s\" ex.Message\n",
    "\n",
    "        } |> Async.StartAsTask :> Task    "
   ]
  },
  {
   "cell_type": "markdown",
   "metadata": {},
   "source": [
    "### 1.4 Round 1"
   ]
  },
  {
   "cell_type": "code",
   "execution_count": 13,
   "metadata": {
    "dotnet_interactive": {
     "language": "fsharp"
    },
    "polyglot_notebook": {
     "kernelName": "fsharp"
    },
    "vscode": {
     "languageId": "polyglot-notebook"
    }
   },
   "outputs": [
    {
     "data": {
      "text/html": [
       "<details open=\"open\" class=\"dni-treeview\"><summary><span class=\"dni-code-hint\"><code>System.Threading.Tasks.Task`1[Microsoft.FSharp.Core.Unit]</code></span></summary><div><table><thead><tr></tr></thead><tbody><tr><td>Id</td><td><div class=\"dni-plaintext\"><pre>3</pre></div></td></tr><tr><td>Exception</td><td><div class=\"dni-plaintext\"><pre>&lt;null&gt;</pre></div></td></tr><tr><td>Status</td><td><span>WaitingForActivation</span></td></tr><tr><td>IsCanceled</td><td><div class=\"dni-plaintext\"><pre>False</pre></div></td></tr><tr><td>IsCompleted</td><td><div class=\"dni-plaintext\"><pre>False</pre></div></td></tr><tr><td>IsCompletedSuccessfully</td><td><div class=\"dni-plaintext\"><pre>False</pre></div></td></tr><tr><td>CreationOptions</td><td><span>None</span></td></tr><tr><td>AsyncState</td><td><div class=\"dni-plaintext\"><pre>&lt;null&gt;</pre></div></td></tr><tr><td>IsFaulted</td><td><div class=\"dni-plaintext\"><pre>False</pre></div></td></tr></tbody></table></div></details><style>\r\n",
       ".dni-code-hint {\r\n",
       "    font-style: italic;\r\n",
       "    overflow: hidden;\r\n",
       "    white-space: nowrap;\r\n",
       "}\r\n",
       ".dni-treeview {\r\n",
       "    white-space: nowrap;\r\n",
       "}\r\n",
       ".dni-treeview td {\r\n",
       "    vertical-align: top;\r\n",
       "    text-align: start;\r\n",
       "}\r\n",
       "details.dni-treeview {\r\n",
       "    padding-left: 1em;\r\n",
       "}\r\n",
       "table td {\r\n",
       "    text-align: start;\r\n",
       "}\r\n",
       "table tr { \r\n",
       "    vertical-align: top; \r\n",
       "    margin: 0em 0px;\r\n",
       "}\r\n",
       "table tr td pre \r\n",
       "{ \r\n",
       "    vertical-align: top !important; \r\n",
       "    margin: 0em 0px !important;\r\n",
       "} \r\n",
       "table th {\r\n",
       "    text-align: start;\r\n",
       "}\r\n",
       "</style>"
      ]
     },
     "metadata": {},
     "output_type": "display_data"
    }
   ],
   "source": [
    "let url = \"https://cnft.tools/toolsapi/v3/project/teddybearclub\"\n",
    "let outputFilePath = \"./data/tbc_roundone.json\"\n",
    "teddyBearClubScraper(\"stats\",17,url, outputFilePath) "
   ]
  },
  {
   "cell_type": "code",
   "execution_count": null,
   "metadata": {
    "dotnet_interactive": {
     "language": "fsharp"
    },
    "polyglot_notebook": {
     "kernelName": "fsharp"
    },
    "vscode": {
     "languageId": "polyglot-notebook"
    }
   },
   "outputs": [],
   "source": [
    "waitForFile \"./data/tbc_roundone.json\" 200\n",
    "\n",
    "let firstTenRoundOne = nftData |> Seq.take 10 |> Seq.toList\n",
    "printfn \"%A\" firstTenRoundOne"
   ]
  },
  {
   "cell_type": "markdown",
   "metadata": {},
   "source": [
    "### Round 2"
   ]
  },
  {
   "cell_type": "code",
   "execution_count": null,
   "metadata": {
    "dotnet_interactive": {
     "language": "fsharp"
    },
    "polyglot_notebook": {
     "kernelName": "fsharp"
    },
    "vscode": {
     "languageId": "polyglot-notebook"
    }
   },
   "outputs": [],
   "source": [
    "let url = \"https://cnft.tools/toolsapi/v3/project/teddybearclub2\"\n",
    "let outputFilePath = \"./data/tbc_roundtwo.json\"\n",
    "teddyBearClubScraper(\"stats\", 41, url, outputFilePath)"
   ]
  },
  {
   "cell_type": "code",
   "execution_count": 17,
   "metadata": {
    "dotnet_interactive": {
     "language": "fsharp"
    },
    "polyglot_notebook": {
     "kernelName": "fsharp"
    },
    "vscode": {
     "languageId": "polyglot-notebook"
    }
   },
   "outputs": [
    {
     "name": "stdout",
     "output_type": "stream",
     "text": [
      "File ./data/tbc_roundtwo.json is ready.\n",
      "[{\n",
      "            \"assetName\": \"TeddyBearsClub89\",\n",
      "            \"assetID\": \"89\",\n",
      "            \"name\": \"Teddy Bears Club #89\",\n",
      "            \"price\": \"x\",\n",
      "            \"cnftID\": \"x\",\n",
      "            \"iconurl\": \"QmWBffPMZCGYrEEULxmVcoZjYdNkwqcTwJFYfsY3zN1a21\",\n",
      "            \"url\": \"QmWBffPMZCGYrEEULxmVcoZjYdNkwqcTwJFYfsY3zN1a21\",\n",
      "            \"Background\": \"Blue Sky\",\n",
      "            \"Bear\": \"Gold Bear\",\n",
      "            \"Clothes\": \"Red Devil Suit\",\n",
      "            \"Face\": \"Fake Mustache \",\n",
      "            \"Handheld\": \"None\",\n",
      "            \"Head\": \"Black Red Hat\",\n",
      "            \"Skins\": \"None\",\n",
      "            \"Trait Count\": \"5\",\n",
      "            \"encodedName\": \"54656464794265617273436c75623839\",\n",
      "            \"buildType\": \"robot\",\n",
      "            \"rarityScore\": \"336\",\n",
      "            \"rarityRank\": \"1\",\n",
      "            \"prices\": {},\n",
      "            \"listingDate\": \"x\",\n",
      "            \"ownerStakeKey\": \"stake1u9sa02tk80rmjtfaat5u3vydm3kj7xacurwf2y7c34p0eng87r0c6\"\n",
      "        };\n",
      " {\n",
      "            \"assetName\": \"TeddyBearsClub7180\",\n",
      "            \"assetID\": \"7180\",\n",
      "            \"name\": \"Teddy Bears Club #7180\",\n",
      "            \"price\": \"x\",\n",
      "            \"cnftID\": \"x\",\n",
      "            \"iconurl\": \"QmdG3oDMG8a8SZWrqu5GgdxZ1jinnEoS1341w1LPTCKQnj\",\n",
      "            \"url\": \"QmdG3oDMG8a8SZWrqu5GgdxZ1jinnEoS1341w1LPTCKQnj\",\n",
      "            \"Background\": \"Blue Sky\",\n",
      "            \"Bear\": \"Gold Bear\",\n",
      "            \"Clothes\": \"Red Devil Suit\",\n",
      "            \"Face\": \"Wink 2\",\n",
      "            \"Handheld\": \"None\",\n",
      "            \"Head\": \"None\",\n",
      "            \"Skins\": \"None\",\n",
      "            \"Trait Count\": \"4\",\n",
      "            \"encodedName\": \"54656464794265617273436c756237313830\",\n",
      "            \"buildType\": \"robot\",\n",
      "            \"rarityScore\": \"334\",\n",
      "            \"rarityRank\": \"2\",\n",
      "            \"prices\": {},\n",
      "            \"listingDate\": \"x\",\n",
      "            \"ownerStakeKey\": \"stake1u8nv28qzkv270u82wv2x752atrn7p9wcxwstxz3nfjeg30cdmx3f3\"\n",
      "        };\n",
      " {\n",
      "            \"assetName\": \"TeddyBearsClub9637\",\n",
      "            \"assetID\": \"9637\",\n",
      "            \"name\": \"Teddy Bears Club #9637\",\n",
      "            \"price\": \"x\",\n",
      "            \"cnftID\": \"x\",\n",
      "            \"iconurl\": \"Qmb1cHLFga194A8sSZuhxwQTKvZ93iXFYvEn91714xoags\",\n",
      "            \"url\": \"Qmb1cHLFga194A8sSZuhxwQTKvZ93iXFYvEn91714xoags\",\n",
      "            \"Background\": \"Blue Sky\",\n",
      "            \"Bear\": \"Gold Bear\",\n",
      "            \"Clothes\": \"Red Pajamas\",\n",
      "            \"Face\": \"Fake Mustache \",\n",
      "            \"Handheld\": \"None\",\n",
      "            \"Head\": \"None\",\n",
      "            \"Skins\": \"None\",\n",
      "            \"Trait Count\": \"4\",\n",
      "            \"encodedName\": \"54656464794265617273436c756239363337\",\n",
      "            \"buildType\": \"robot\",\n",
      "            \"rarityScore\": \"332\",\n",
      "            \"rarityRank\": \"3\",\n",
      "            \"prices\": {},\n",
      "            \"listingDate\": \"x\",\n",
      "            \"ownerStakeKey\": \"stake1ux2fe7axuwvjx9ej592vnvx3mrw0m3ju673cvq5v6gnyj4gqrwp8q\"\n",
      "        };\n",
      " {\n",
      "            \"assetName\": \"TeddyBearsClub6089\",\n",
      "            \"assetID\": \"6089\",\n",
      "            \"name\": \"Teddy Bears Club #6089\",\n",
      "            \"price\": \"x\",\n",
      "            \"cnftID\": \"x\",\n",
      "            \"iconurl\": \"QmSLKK8KAzc5pm6XuRGyAcAi4JsgMHe65xmfp9ZSmMC3jJ\",\n",
      "            \"url\": \"QmSLKK8KAzc5pm6XuRGyAcAi4JsgMHe65xmfp9ZSmMC3jJ\",\n",
      "            \"Background\": \"Starry Mountains\",\n",
      "            \"Bear\": \"Teddy Bear\",\n",
      "            \"Clothes\": \"Fisherman Clothes\",\n",
      "            \"Face\": \"Flirty\",\n",
      "            \"Handheld\": \"King Staff\",\n",
      "            \"Head\": \"Red Devil\",\n",
      "            \"Skins\": \"Raggedy Bear\",\n",
      "            \"Trait Count\": \"7\",\n",
      "            \"encodedName\": \"54656464794265617273436c756236303839\",\n",
      "            \"buildType\": \"robot\",\n",
      "            \"rarityScore\": \"271\",\n",
      "            \"rarityRank\": \"4\",\n",
      "            \"prices\": {},\n",
      "            \"listingDate\": \"x\",\n",
      "            \"ownerStakeKey\": \"stake1u9dc6gzwsfcd48yp72fujrgeyswfkahqde9rrq3faftwgsgqwmxhe\"\n",
      "        };\n",
      " {\n",
      "            \"assetName\": \"TeddyBearsClub9331\",\n",
      "            \"assetID\": \"9331\",\n",
      "            \"name\": \"Teddy Bears Club #9331\",\n",
      "            \"price\": \"x\",\n",
      "            \"cnftID\": \"x\",\n",
      "            \"iconurl\": \"QmNXwJhodabAAiNd6QwRUy2CZAnFGPwGUzHp6z8CMTtCux\",\n",
      "            \"url\": \"QmNXwJhodabAAiNd6QwRUy2CZAnFGPwGUzHp6z8CMTtCux\",\n",
      "            \"Background\": \"Starry Mountains\",\n",
      "            \"Bear\": \"Teddy Bear\",\n",
      "            \"Clothes\": \"Super Teddy Overalls\",\n",
      "            \"Face\": \"Mad\",\n",
      "            \"Handheld\": \"Singer Microphone\",\n",
      "            \"Head\": \"Space Helmet\",\n",
      "            \"Skins\": \"Zombie\",\n",
      "            \"Trait Count\": \"7\",\n",
      "            \"encodedName\": \"54656464794265617273436c756239333331\",\n",
      "            \"buildType\": \"robot\",\n",
      "            \"rarityScore\": \"267\",\n",
      "            \"rarityRank\": \"5\",\n",
      "            \"prices\": {},\n",
      "            \"listingDate\": \"x\",\n",
      "            \"ownerStakeKey\": \"stake1u9kf8lcpqdnwset2j3qlyqcjrdkrrwpt6c3qacpynd3zutclex6kt\"\n",
      "        };\n",
      " {\n",
      "            \"assetName\": \"TeddyBearsClub8543\",\n",
      "            \"assetID\": \"8543\",\n",
      "            \"name\": \"Teddy Bears Club #8543\",\n",
      "            \"price\": \"x\",\n",
      "            \"cnftID\": \"x\",\n",
      "            \"iconurl\": \"QmZ5BWYSV9AggcGPt3mCrr7a9UVTkbWRGgrNS8G9YVqm7G\",\n",
      "            \"url\": \"QmZ5BWYSV9AggcGPt3mCrr7a9UVTkbWRGgrNS8G9YVqm7G\",\n",
      "            \"Background\": \"Starry Mountains\",\n",
      "            \"Bear\": \"Teddy Bear\",\n",
      "            \"Clothes\": \"Cop Uniform\",\n",
      "            \"Face\": \"Kissing\",\n",
      "            \"Handheld\": \"Fishing Rod\",\n",
      "            \"Head\": \"Vampire Hair\",\n",
      "            \"Skins\": \"Zombie\",\n",
      "            \"Trait Count\": \"7\",\n",
      "            \"encodedName\": \"54656464794265617273436c756238353433\",\n",
      "            \"buildType\": \"robot\",\n",
      "            \"rarityScore\": \"232\",\n",
      "            \"rarityRank\": \"6\",\n",
      "            \"prices\": {},\n",
      "            \"listingDate\": \"x\",\n",
      "            \"ownerStakeKey\": \"stake1ux8cn3shnqq9rumfe8pnhg0ceyuf8vk79f4qhmjmkqyr5xgsvsttr\"\n",
      "        };\n",
      " {\n",
      "            \"assetName\": \"TeddyBearsClub178\",\n",
      "            \"assetID\": \"178\",\n",
      "            \"name\": \"Teddy Bears Club #178\",\n",
      "            \"price\": \"x\",\n",
      "            \"cnftID\": \"x\",\n",
      "            \"iconurl\": \"QmPje6mSo9ubF57hjuahvFbkr7dN36yBA6dCETW89Gpixj\",\n",
      "            \"url\": \"QmPje6mSo9ubF57hjuahvFbkr7dN36yBA6dCETW89Gpixj\",\n",
      "            \"Background\": \"Starry Mountains\",\n",
      "            \"Bear\": \"Teddy Bear\",\n",
      "            \"Clothes\": \"Archaeologist T-shirt\",\n",
      "            \"Face\": \"Nervous\",\n",
      "            \"Handheld\": \"Broom\",\n",
      "            \"Head\": \"Pirate Bandana\",\n",
      "            \"Skins\": \"Zombie\",\n",
      "            \"Trait Count\": \"7\",\n",
      "            \"encodedName\": \"54656464794265617273436c7562313738\",\n",
      "            \"buildType\": \"robot\",\n",
      "            \"rarityScore\": \"227\",\n",
      "            \"rarityRank\": \"7\",\n",
      "            \"prices\": {},\n",
      "            \"listingDate\": \"x\",\n",
      "            \"ownerStakeKey\": \"stake1ux5wur5ya7frpwq5ea3w726qhw3umnvk6eqe29gllm2qjwszef2ml\"\n",
      "        };\n",
      " {\n",
      "            \"assetName\": \"TeddyBearsClub6047\",\n",
      "            \"assetID\": \"6047\",\n",
      "            \"name\": \"Teddy Bears Club #6047\",\n",
      "            \"price\": \"x\",\n",
      "            \"cnftID\": \"x\",\n",
      "            \"iconurl\": \"QmV2duHDPLGF2pCpw23ohfHr3NJUodsXugdp3cdGPEeEdv\",\n",
      "            \"url\": \"QmV2duHDPLGF2pCpw23ohfHr3NJUodsXugdp3cdGPEeEdv\",\n",
      "            \"Background\": \"Starry Mountains\",\n",
      "            \"Bear\": \"Teddy Bear\",\n",
      "            \"Clothes\": \"Grey Suit\",\n",
      "            \"Face\": \"Neutral\",\n",
      "            \"Handheld\": \"Pirate sword\",\n",
      "            \"Head\": \"Cop Hat\",\n",
      "            \"Skins\": \"Zombie\",\n",
      "            \"Trait Count\": \"7\",\n",
      "            \"encodedName\": \"54656464794265617273436c756236303437\",\n",
      "            \"buildType\": \"robot\",\n",
      "            \"rarityScore\": \"225\",\n",
      "            \"rarityRank\": \"8\",\n",
      "            \"prices\": {},\n",
      "            \"listingDate\": \"x\",\n",
      "            \"ownerStakeKey\": \"stake1u8vsgnamlujjaunnnw7v767tx7npa5d2r2te8javj7wf52c76aeey\"\n",
      "        };\n",
      " {\n",
      "            \"assetName\": \"TeddyBearsClub2053\",\n",
      "            \"assetID\": \"2053\",\n",
      "            \"name\": \"Teddy Bears Club #2053\",\n",
      "            \"price\": \"x\",\n",
      "            \"cnftID\": \"x\",\n",
      "            \"iconurl\": \"QmPZnApX1MmYwyrMuVxQHHFR242svd2HaoabFnTEyqzJKz\",\n",
      "            \"url\": \"QmPZnApX1MmYwyrMuVxQHHFR242svd2HaoabFnTEyqzJKz\",\n",
      "            \"Background\": \"Starry Mountains\",\n",
      "            \"Bear\": \"Teddy Bear\",\n",
      "            \"Clothes\": \"Professor Shirt\",\n",
      "            \"Face\": \"Kissing\",\n",
      "            \"Handheld\": \"Red Devil Trident\",\n",
      "            \"Head\": \"Navy Cap\",\n",
      "            \"Skins\": \"Zombie\",\n",
      "            \"Trait Count\": \"7\",\n",
      "            \"encodedName\": \"54656464794265617273436c756232303533\",\n",
      "            \"buildType\": \"robot\",\n",
      "            \"rarityScore\": \"222\",\n",
      "            \"rarityRank\": \"9\",\n",
      "            \"prices\": {},\n",
      "            \"listingDate\": \"x\",\n",
      "            \"ownerStakeKey\": \"stake1u93s7u3wp6flkfl5xkz3ax4j34pfhqw0p3wgqryrg9xngmsp26k62\"\n",
      "        };\n",
      " {\n",
      "            \"assetName\": \"TeddyBearsClub5749\",\n",
      "            \"assetID\": \"5749\",\n",
      "            \"name\": \"Teddy Bears Club #5749\",\n",
      "            \"price\": \"x\",\n",
      "            \"cnftID\": \"x\",\n",
      "            \"iconurl\": \"QmYVixPZeJQgZmBczyfs3PLUf2XfSmXMSq2pBuJ7zBupVK\",\n",
      "            \"url\": \"QmYVixPZeJQgZmBczyfs3PLUf2XfSmXMSq2pBuJ7zBupVK\",\n",
      "            \"Background\": \"Starry Mountains\",\n",
      "            \"Bear\": \"Teddy Bear\",\n",
      "            \"Clothes\": \"Vacation Shirt\",\n",
      "            \"Face\": \"Neutral\",\n",
      "            \"Handheld\": \"Pirate sword\",\n",
      "            \"Head\": \"Spa Day\",\n",
      "            \"Skins\": \"Zombie\",\n",
      "            \"Trait Count\": \"7\",\n",
      "            \"encodedName\": \"54656464794265617273436c756235373439\",\n",
      "            \"buildType\": \"robot\",\n",
      "            \"rarityScore\": \"222\",\n",
      "            \"rarityRank\": \"10\",\n",
      "            \"prices\": {},\n",
      "            \"listingDate\": \"x\",\n",
      "            \"ownerStakeKey\": \"stake1u9yuraahr0stpsl9uasntmfcwnxxm8e6zu7j32acr4vdq8gy0czw9\"\n",
      "        }]\n"
     ]
    }
   ],
   "source": [
    "waitForFile \"./data/tbc_roundtwo.json\" 200\n",
    "\n",
    "let firstTenRoundTwo = nftData |> Seq.take 10 |> Seq.toList\n",
    "printfn \"%A\" firstTenRoundTwo"
   ]
  }
 ],
 "metadata": {
  "kernelspec": {
   "display_name": ".NET (C#)",
   "language": "C#",
   "name": ".net-csharp"
  },
  "language_info": {
   "name": "csharp"
  },
  "polyglot_notebook": {
   "kernelInfo": {
    "defaultKernelName": "csharp",
    "items": [
     {
      "aliases": [],
      "name": "csharp"
     }
    ]
   }
  }
 },
 "nbformat": 4,
 "nbformat_minor": 2
}
