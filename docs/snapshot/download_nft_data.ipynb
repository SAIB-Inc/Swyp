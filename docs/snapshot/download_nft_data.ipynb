{
 "cells": [
  {
   "cell_type": "markdown",
   "metadata": {},
   "source": [
    "# Scraping NFT Data for the Teddy Bears Club\n"
   ]
  },
  {
   "cell_type": "markdown",
   "metadata": {},
   "source": [
    "This notebook demonstrates the process of scraping NFT data for the **Teddy Bears Club** from two sources:  \n",
    "- The official Teddy Bears Club website ([Teddy Bears Club](https://webcf.waybackmachine.org/web/20240905102756/https://tbc.teddyswap.org/)) for Round 1 data.  \n",
    "- The [CNFT Tools](https://cnft.tools/teddybearclub2) website for Round 2 data.  \n",
    "\n",
    "If the JSON files for Round 1 and Round 2 NFTs (`tbc_roundone.json` and `tbc_roundtwo.json`) are missing, run this notebook to recreate them. Afterward, proceed to run [`count_trait_values.ipynb`](count_trait_values.ipynb) and then [`rank_nfts_by_rarity.ipynb`](rank_nfts_by_rarity.ipynb) to complete the data processing pipeline.  \n",
    "\n",
    "---\n",
    "### 1.1 Open Statements"
   ]
  },
  {
   "cell_type": "code",
   "execution_count": 1,
   "metadata": {
    "dotnet_interactive": {
     "language": "fsharp"
    },
    "polyglot_notebook": {
     "kernelName": "fsharp"
    },
    "vscode": {
     "languageId": "polyglot-notebook"
    }
   },
   "outputs": [],
   "source": [
    "open System\n",
    "open System.Collections.Generic\n",
    "open System.Net.Http\n",
    "open System.Text\n",
    "open System.Text.Json\n",
    "open System.Threading.Tasks\n",
    "open System.IO"
   ]
  },
  {
   "cell_type": "markdown",
   "metadata": {},
   "source": [
    "### 1.2 `saveToFile`Function\n",
    "The `saveToFile` function serializes the scraped data into JSON format and saves it to the specified file path. It is called by the scraping functions to ensure data is properly stored after each operation.  "
   ]
  },
  {
   "cell_type": "code",
   "execution_count": 2,
   "metadata": {
    "dotnet_interactive": {
     "language": "fsharp"
    },
    "polyglot_notebook": {
     "kernelName": "fsharp"
    },
    "vscode": {
     "languageId": "polyglot-notebook"
    }
   },
   "outputs": [],
   "source": [
    "let saveToFile (data: obj) (filePath: string) =\n",
    "    try\n",
    "        let dataFolder = Path.GetDirectoryName(filePath)\n",
    "        if not (String.IsNullOrWhiteSpace(dataFolder) && Directory.Exists(dataFolder)) then\n",
    "            Directory.CreateDirectory(dataFolder) |> ignore\n",
    "\n",
    "        let options = JsonSerializerOptions(WriteIndented = true, Encoder = System.Text.Encodings.Web.JavaScriptEncoder.UnsafeRelaxedJsonEscaping)\n",
    "\n",
    "        let jsonOutput = JsonSerializer.Serialize(data, options)\n",
    "        File.WriteAllText(filePath, jsonOutput)\n",
    "        printfn \"Data successfully saved to %s\" filePath\n",
    "    with\n",
    "    | ex -> printfn \"Failed to save data: %s\" ex.Message\n"
   ]
  },
  {
   "cell_type": "markdown",
   "metadata": {},
   "source": [
    "### 1.3 Scraping\n",
    "### Teddy Bear Club Round 1\n",
    "The function `directJSONScraper` is used to scrape Round 1 NFTs the official Teddy Bears Club website ([Teddy Bears Club](https://webcf.waybackmachine.org/web/20240905102756/https://tbc.teddyswap.org/)). "
   ]
  },
  {
   "cell_type": "code",
   "execution_count": 3,
   "metadata": {
    "dotnet_interactive": {
     "language": "fsharp"
    },
    "polyglot_notebook": {
     "kernelName": "fsharp"
    },
    "vscode": {
     "languageId": "polyglot-notebook"
    }
   },
   "outputs": [],
   "source": [
    "let nftRound1Data = List<JsonElement>()\n",
    "\n",
    "let directJSONScraper (url: string, outputFilePath: string) : Task =\n",
    "        async {\n",
    "            nftRound1Data.Clear()\n",
    "            use client = new HttpClient()\n",
    "            client.DefaultRequestHeaders.Add(\"User-Agent\", \"Mozilla/5.0 (Macintosh; Intel Mac OS X 10_15_7)\")\n",
    "\n",
    "            try\n",
    "                printfn \"Fetching data from %s...\" url\n",
    "                let! response = client.GetStringAsync(url) |> Async.AwaitTask\n",
    "\n",
    "                let jsonArray = JsonSerializer.Deserialize<JsonElement[]>(response)\n",
    "\n",
    "                if jsonArray <> null then\n",
    "                    for item in jsonArray do\n",
    "                        nftRound1Data.Add(item)\n",
    "                    \n",
    "                    //let jsonOutput = JsonSerializer.Serialize(nftRound1Data)\n",
    "                    saveToFile nftRound1Data outputFilePath\n",
    "            with\n",
    "                | ex -> printfn \"Error fetching data: %s\" ex.Message\n",
    "        } |> Async.StartAsTask :> Task "
   ]
  },
  {
   "cell_type": "markdown",
   "metadata": {},
   "source": [
    "### Teddy Bear Club Round 2\n",
    "\n",
    "The `paginatedJSONScraper` function is designed to scrape Round 2 NFTs from the [CNFT Tools](https://cnft.tools/teddybearclub2) website. Unlike the `directJSONScraper` function, it handles pagination and requires a payload to retrieve the data efficiently. "
   ]
  },
  {
   "cell_type": "code",
   "execution_count": 4,
   "metadata": {
    "dotnet_interactive": {
     "language": "fsharp"
    },
    "polyglot_notebook": {
     "kernelName": "fsharp"
    },
    "vscode": {
     "languageId": "polyglot-notebook"
    }
   },
   "outputs": [],
   "source": [
    "let nftRound2Data = List<JsonElement>()\n",
    "\n",
    "let paginatedJSONScraper (key: string, url: string, outputFilePath: string) : Task =\n",
    "        async {\n",
    "            nftRound2Data.Clear()\n",
    "            use client = new HttpClient()\n",
    "            client.DefaultRequestHeaders.Add(\"User-Agent\", \"Mozilla/5.0 (Macintosh; Intel Mac OS X 10_15_7)\")\n",
    "            \n",
    "            let payloadTemplate = \n",
    "                {|\n",
    "                    project = \"none\"\n",
    "                    sort = \"asc\"\n",
    "                    method = \"rarity\"\n",
    "                    page = 1\n",
    "                    priceOnly = \"all\"\n",
    "                    filters = {| |}\n",
    "                    sliders = \n",
    "                        {| \n",
    "                            minPrice = 0\n",
    "                            maxPrice = 0\n",
    "                            minRank = 0\n",
    "                            maxRank = 0 \n",
    "                        |}\n",
    "                    instantSale = false\n",
    "                    walletCheck = false\n",
    "                    stakes = []\n",
    "                    pageSize = 50\n",
    "                |}\n",
    "\n",
    "            let totalPages = 41\n",
    "            let delayInMilliseconds = 1000\n",
    "\n",
    "            for page in 1 .. totalPages do\n",
    "                printf \"Fetching page %d...\" page\n",
    "                let payload = \n",
    "                    {| payloadTemplate with \n",
    "                        page = page\n",
    "                    |}\n",
    "\n",
    "                let jsonPayload = JsonSerializer.Serialize(payload)\n",
    "                let content = new StringContent(jsonPayload, Encoding.UTF8, \"application/json\")\n",
    "\n",
    "                try\n",
    "                    let! response = client.PostAsync(url, content) |> Async.AwaitTask\n",
    "                    if response.IsSuccessStatusCode then\n",
    "                        let! responseString = response.Content.ReadAsStringAsync() |> Async.AwaitTask\n",
    "\n",
    "                        let jsonResponse = JsonSerializer.Deserialize<Dictionary<string, obj>>(responseString)\n",
    "\n",
    "                        match jsonResponse.TryGetValue(key) with\n",
    "                        | true, results -> \n",
    "                            let resultsJson = results :?> JsonElement\n",
    "                            if resultsJson.ValueKind = JsonValueKind.Array then\n",
    "                                for element in resultsJson.EnumerateArray() do\n",
    "                                    nftRound2Data.Add(element)\n",
    "                            else\n",
    "                                printfn $\"Unexpected data format for {key}\"\n",
    "                        | _ -> ()\n",
    "\n",
    "                    else\n",
    "                        printfn \"Failed to fetch page %d. Status code: %A\" page response.StatusCode\n",
    "                        return()\n",
    "                with\n",
    "                    | ex -> \n",
    "                        printfn \"Error on page %d: %s\" page ex.Message\n",
    "                        return()\n",
    "\n",
    "                do! Async.Sleep(delayInMilliseconds)\n",
    "\n",
    "            printf \"Data scraping complete\"\n",
    "\n",
    "            try\n",
    "                saveToFile nftRound2Data outputFilePath\n",
    "            with\n",
    "                | ex -> printfn \"Failed to write to file: %s\" ex.Message\n",
    "\n",
    "        } |> Async.StartAsTask :> Task    "
   ]
  },
  {
   "cell_type": "markdown",
   "metadata": {},
   "source": [
    "### 1.4 Call the Function for Each of the NFT Rounds\n",
    "\n",
    "Unfortunately, as the official Teddy Bear Club website is unaccessible we can no longer scrap the Round 1 data from"
   ]
  },
  {
   "cell_type": "code",
   "execution_count": null,
   "metadata": {
    "dotnet_interactive": {
     "language": "fsharp"
    },
    "polyglot_notebook": {
     "kernelName": "fsharp"
    },
    "vscode": {
     "languageId": "polyglot-notebook"
    }
   },
   "outputs": [],
   "source": [
    "let url = \"https://tbc.teddyswap.org/rankedAssets.json\"\n",
    "let outputFilePath = \"./data/tbc_roundone.json\"\n",
    "directJSONScraper(url, outputFilePath) "
   ]
  },
  {
   "cell_type": "code",
   "execution_count": null,
   "metadata": {
    "dotnet_interactive": {
     "language": "fsharp"
    },
    "polyglot_notebook": {
     "kernelName": "fsharp"
    },
    "vscode": {
     "languageId": "polyglot-notebook"
    }
   },
   "outputs": [],
   "source": [
    "let url = \"https://cnft.tools/toolsapi/v3/project/teddybearclub2\"\n",
    "let outputFilePath = \"./data/tbc_roundtwo.json\"\n",
    "paginatedJSONScraper(\"stats\", url, outputFilePath)"
   ]
  },
  {
   "cell_type": "markdown",
   "metadata": {},
   "source": [
    "### 1.5 Validating Scraped Data\n",
    "Finally, this section prints a few entries from the scraped data to validate that the functions are working correctly. This process may take a moment, as it waits for scraping and saving operations to complete.  "
   ]
  },
  {
   "cell_type": "code",
   "execution_count": null,
   "metadata": {
    "dotnet_interactive": {
     "language": "fsharp"
    },
    "polyglot_notebook": {
     "kernelName": "fsharp"
    },
    "vscode": {
     "languageId": "polyglot-notebook"
    }
   },
   "outputs": [],
   "source": [
    "let firstTenR1 = nftRound1Data |> Seq.take 10 |> Seq.toList\n",
    "printfn \"%A\" firstTenR1"
   ]
  },
  {
   "cell_type": "code",
   "execution_count": 9,
   "metadata": {
    "dotnet_interactive": {
     "language": "fsharp"
    },
    "polyglot_notebook": {
     "kernelName": "fsharp"
    },
    "vscode": {
     "languageId": "polyglot-notebook"
    }
   },
   "outputs": [
    {
     "name": "stdout",
     "output_type": "stream",
     "text": [
      "[{\n",
      "            \"assetName\": \"TeddyBearsClub869\",\n",
      "            \"assetID\": \"869\",\n",
      "            \"name\": \"Teddy Bears Club #869\",\n",
      "            \"price\": \"x\",\n",
      "            \"cnftID\": \"x\",\n",
      "            \"iconurl\": \"QmYQJ2ZbyNCJYcd8xoWP7oMsRK74RpZcPHRo825nNMZHmW\",\n",
      "            \"url\": \"QmYQJ2ZbyNCJYcd8xoWP7oMsRK74RpZcPHRo825nNMZHmW\",\n",
      "            \"Background\": \"Room\",\n",
      "            \"Bear\": \"Pink Bear\",\n",
      "            \"Clothes\": \"Full Space Suit\",\n",
      "            \"Face\": \"wink 2\",\n",
      "            \"Handheld\": \"Clown Lollipop\",\n",
      "            \"Head\": \"None\",\n",
      "            \"Skins\": \"None\",\n",
      "            \"Trait Count\": \"5\",\n",
      "            \"encodedName\": \"54656464794265617273436c7562383639\",\n",
      "            \"buildType\": \"robot\",\n",
      "            \"rarityScore\": \"841\",\n",
      "            \"rarityRank\": \"1\",\n",
      "            \"prices\": {},\n",
      "            \"listingDate\": \"x\",\n",
      "            \"ownerStakeKey\": \"stake1uy67jvetyl2usuhlnlg85t4vfcq07ung5fzp0gd5fs4m4mcke6277\"\n",
      "        };\n",
      " {\n",
      "            \"assetName\": \"TeddyBearsClub909\",\n",
      "            \"assetID\": \"909\",\n",
      "            \"name\": \"Teddy Bears Club #909\",\n",
      "            \"price\": \"x\",\n",
      "            \"cnftID\": \"x\",\n",
      "            \"iconurl\": \"QmQvU95vhKcKhsoEVTw14jJJj7fLfVgf3tF64xWkchSKzP\",\n",
      "            \"url\": \"QmQvU95vhKcKhsoEVTw14jJJj7fLfVgf3tF64xWkchSKzP\",\n",
      "            \"Background\": \"Bamboo Forest\",\n",
      "            \"Bear\": \"Black Bear\",\n",
      "            \"Clothes\": \"Colorful Balloons\",\n",
      "            \"Face\": \"Expressionless\",\n",
      "            \"Handheld\": \"Honey\",\n",
      "            \"Head\": \"None\",\n",
      "            \"Skins\": \"None\",\n",
      "            \"Trait Count\": \"5\",\n",
      "            \"encodedName\": \"54656464794265617273436c7562393039\",\n",
      "            \"buildType\": \"robot\",\n",
      "            \"rarityScore\": \"435\",\n",
      "            \"rarityRank\": \"2\",\n",
      "            \"prices\": {},\n",
      "            \"listingDate\": \"x\",\n",
      "            \"ownerStakeKey\": \"stake1u94t63xven9kcj7eve6ushxnwtwpc8yfyjr7nf9s5ccrdvcthjdpx\"\n",
      "        };\n",
      " {\n",
      "            \"assetName\": \"TeddyBearsClub1413\",\n",
      "            \"assetID\": \"1413\",\n",
      "            \"name\": \"Teddy Bears Club #1413\",\n",
      "            \"price\": \"x\",\n",
      "            \"cnftID\": \"x\",\n",
      "            \"iconurl\": \"QmURiqtVSVYa34GQrNAGkMHb4SSGXxkzhs5WzCteomPMtz\",\n",
      "            \"url\": \"QmURiqtVSVYa34GQrNAGkMHb4SSGXxkzhs5WzCteomPMtz\",\n",
      "            \"Background\": \"Sunflowers\",\n",
      "            \"Bear\": \"Pink Bear\",\n",
      "            \"Clothes\": \"Balloons\",\n",
      "            \"Face\": \"Mad\",\n",
      "            \"Handheld\": \"Honey\",\n",
      "            \"Head\": \"None\",\n",
      "            \"Skins\": \"None\",\n",
      "            \"Trait Count\": \"5\",\n",
      "            \"encodedName\": \"54656464794265617273436c756231343133\",\n",
      "            \"buildType\": \"robot\",\n",
      "            \"rarityScore\": \"402\",\n",
      "            \"rarityRank\": \"3\",\n",
      "            \"prices\": {},\n",
      "            \"listingDate\": \"x\",\n",
      "            \"ownerStakeKey\": \"stake1u8j29els85nfsc5f003akpsadhfcwnq7lqjfwy6km8q3e8qfntknl\"\n",
      "        };\n",
      " {\n",
      "            \"assetName\": \"TeddyBearsClub5591\",\n",
      "            \"assetID\": \"5591\",\n",
      "            \"name\": \"Teddy Bears Club #5591\",\n",
      "            \"price\": \"x\",\n",
      "            \"cnftID\": \"x\",\n",
      "            \"iconurl\": \"QmNfeeLJzXAGtxbLBfw61UoTG5ZNodGdPbzWoX8vgAw8Mi\",\n",
      "            \"url\": \"QmNfeeLJzXAGtxbLBfw61UoTG5ZNodGdPbzWoX8vgAw8Mi\",\n",
      "            \"Background\": \"Bamboo Forest\",\n",
      "            \"Bear\": \"Panda Bear\",\n",
      "            \"Clothes\": \"Balloons\",\n",
      "            \"Face\": \"In Love\",\n",
      "            \"Handheld\": \"Honey\",\n",
      "            \"Head\": \"None\",\n",
      "            \"Skins\": \"None\",\n",
      "            \"Trait Count\": \"5\",\n",
      "            \"encodedName\": \"54656464794265617273436c756235353931\",\n",
      "            \"buildType\": \"robot\",\n",
      "            \"rarityScore\": \"399\",\n",
      "            \"rarityRank\": \"4\",\n",
      "            \"prices\": {},\n",
      "            \"listingDate\": \"x\",\n",
      "            \"ownerStakeKey\": \"stake1uywk9jq7ckvl0yslrv4ndy76jt7gwpjtcy70g6z7rt6znhcnjd667\"\n",
      "        };\n",
      " {\n",
      "            \"assetName\": \"TeddyBearsClub2661\",\n",
      "            \"assetID\": \"2661\",\n",
      "            \"name\": \"Teddy Bears Club #2661\",\n",
      "            \"price\": \"x\",\n",
      "            \"cnftID\": \"x\",\n",
      "            \"iconurl\": \"QmTgUEKZ9fqTPJyTqeqWzgL1HVjfPWmkGXLtrjZvVepoq6\",\n",
      "            \"url\": \"QmTgUEKZ9fqTPJyTqeqWzgL1HVjfPWmkGXLtrjZvVepoq6\",\n",
      "            \"Background\": \"Sunflowers\",\n",
      "            \"Bear\": \"Teddy Bear\",\n",
      "            \"Clothes\": \"Pineapple Suit\",\n",
      "            \"Face\": \"Wink 1\",\n",
      "            \"Handheld\": \"Shovel\",\n",
      "            \"Head\": \"None\",\n",
      "            \"Skins\": \"None\",\n",
      "            \"Trait Count\": \"5\",\n",
      "            \"encodedName\": \"54656464794265617273436c756232363631\",\n",
      "            \"buildType\": \"robot\",\n",
      "            \"rarityScore\": \"341\",\n",
      "            \"rarityRank\": \"5\",\n",
      "            \"prices\": {},\n",
      "            \"listingDate\": \"x\",\n",
      "            \"ownerStakeKey\": \"stake1ux5wur5ya7frpwq5ea3w726qhw3umnvk6eqe29gllm2qjwszef2ml\"\n",
      "        };\n",
      " {\n",
      "            \"assetName\": \"TeddyBearsClub7361\",\n",
      "            \"assetID\": \"7361\",\n",
      "            \"name\": \"Teddy Bears Club #7361\",\n",
      "            \"price\": \"x\",\n",
      "            \"cnftID\": \"x\",\n",
      "            \"iconurl\": \"QmcrMSZeeyFAV8HnD9MjWkpdev2RoaL3Te1g82qsZhV4hf\",\n",
      "            \"url\": \"QmcrMSZeeyFAV8HnD9MjWkpdev2RoaL3Te1g82qsZhV4hf\",\n",
      "            \"Background\": \"Bamboo Forest\",\n",
      "            \"Bear\": \"Polar Bear\",\n",
      "            \"Clothes\": \"White Space Suit\",\n",
      "            \"Face\": \"Wink 1\",\n",
      "            \"Handheld\": \"Ninja Star\",\n",
      "            \"Head\": \"None\",\n",
      "            \"Skins\": \"None\",\n",
      "            \"Trait Count\": \"5\",\n",
      "            \"encodedName\": \"54656464794265617273436c756237333631\",\n",
      "            \"buildType\": \"robot\",\n",
      "            \"rarityScore\": \"325\",\n",
      "            \"rarityRank\": \"6\",\n",
      "            \"prices\": {},\n",
      "            \"listingDate\": \"x\",\n",
      "            \"ownerStakeKey\": \"stake1u80r3t84wehnkdcdr7uvzhyyjur0ukcv99cnw3hhw28dxqcw7l86r\"\n",
      "        };\n",
      " {\n",
      "            \"assetName\": \"TeddyBearsClub49\",\n",
      "            \"assetID\": \"49\",\n",
      "            \"name\": \"Teddy Bears Club #49\",\n",
      "            \"price\": \"x\",\n",
      "            \"cnftID\": \"x\",\n",
      "            \"iconurl\": \"QmVgaJ7ksNsbAzjg3C9eLNUVyxMNqJofKnwb6xRJ83EpDk\",\n",
      "            \"url\": \"QmVgaJ7ksNsbAzjg3C9eLNUVyxMNqJofKnwb6xRJ83EpDk\",\n",
      "            \"Background\": \"Room\",\n",
      "            \"Bear\": \"Pink Bear\",\n",
      "            \"Clothes\": \"White Space Suit\",\n",
      "            \"Face\": \"Wink 1\",\n",
      "            \"Handheld\": \"Ninja Star\",\n",
      "            \"Head\": \"None\",\n",
      "            \"Skins\": \"None\",\n",
      "            \"Trait Count\": \"5\",\n",
      "            \"encodedName\": \"54656464794265617273436c75623439\",\n",
      "            \"buildType\": \"robot\",\n",
      "            \"rarityScore\": \"324\",\n",
      "            \"rarityRank\": \"7\",\n",
      "            \"prices\": {},\n",
      "            \"listingDate\": \"x\",\n",
      "            \"ownerStakeKey\": \"stake1ux6mk6q89ppdsned5zt3kazaqa7rlmddg80mctp32vv54ggpcfv9u\"\n",
      "        };\n",
      " {\n",
      "            \"assetName\": \"TeddyBearsClub1454\",\n",
      "            \"assetID\": \"1454\",\n",
      "            \"name\": \"Teddy Bears Club #1454\",\n",
      "            \"price\": \"x\",\n",
      "            \"cnftID\": \"x\",\n",
      "            \"iconurl\": \"QmeL4bk5f4KoLsTcBFxVFXT82fBjzpUEx7ktAKQVegcnFm\",\n",
      "            \"url\": \"QmeL4bk5f4KoLsTcBFxVFXT82fBjzpUEx7ktAKQVegcnFm\",\n",
      "            \"Background\": \"Space\",\n",
      "            \"Bear\": \"Teddy Bear\",\n",
      "            \"Clothes\": \"Ninja Suit\",\n",
      "            \"Face\": \"Emotionless\",\n",
      "            \"Handheld\": \"Singer Microphone\",\n",
      "            \"Head\": \"Wizard Hat\",\n",
      "            \"Skins\": \"Zombie\",\n",
      "            \"Trait Count\": \"7\",\n",
      "            \"encodedName\": \"54656464794265617273436c756231343534\",\n",
      "            \"buildType\": \"robot\",\n",
      "            \"rarityScore\": \"284\",\n",
      "            \"rarityRank\": \"8\",\n",
      "            \"prices\": {},\n",
      "            \"listingDate\": \"x\",\n",
      "            \"ownerStakeKey\": \"stake1u9dtjquwfl5q9lm9gepa4yfd9kl0r36daklpkj7uspukm0sh8gvdq\"\n",
      "        };\n",
      " {\n",
      "            \"assetName\": \"TeddyBearsClub8906\",\n",
      "            \"assetID\": \"8906\",\n",
      "            \"name\": \"Teddy Bears Club #8906\",\n",
      "            \"price\": \"x\",\n",
      "            \"cnftID\": \"x\",\n",
      "            \"iconurl\": \"QmSkLXa7ejSyt726WzTJNWz1b53ARRooRiAZECfnLnGLqi\",\n",
      "            \"url\": \"QmSkLXa7ejSyt726WzTJNWz1b53ARRooRiAZECfnLnGLqi\",\n",
      "            \"Background\": \"Space\",\n",
      "            \"Bear\": \"Teddy Bear\",\n",
      "            \"Clothes\": \"Ninja Suit\",\n",
      "            \"Face\": \"Flirty\",\n",
      "            \"Handheld\": \"Ninja Star\",\n",
      "            \"Head\": \"Fancy Sunglasses\",\n",
      "            \"Skins\": \"Zombie\",\n",
      "            \"Trait Count\": \"7\",\n",
      "            \"encodedName\": \"54656464794265617273436c756238393036\",\n",
      "            \"buildType\": \"robot\",\n",
      "            \"rarityScore\": \"278\",\n",
      "            \"rarityRank\": \"9\",\n",
      "            \"prices\": {},\n",
      "            \"listingDate\": \"x\",\n",
      "            \"ownerStakeKey\": \"stake1u80r3t84wehnkdcdr7uvzhyyjur0ukcv99cnw3hhw28dxqcw7l86r\"\n",
      "        };\n",
      " {\n",
      "            \"assetName\": \"TeddyBearsClub5666\",\n",
      "            \"assetID\": \"5666\",\n",
      "            \"name\": \"Teddy Bears Club #5666\",\n",
      "            \"price\": \"x\",\n",
      "            \"cnftID\": \"x\",\n",
      "            \"iconurl\": \"QmbuS64E2NQe2FRw7qQfTEPo7AF8WN4YViiwUaf4Cr3VUn\",\n",
      "            \"url\": \"QmbuS64E2NQe2FRw7qQfTEPo7AF8WN4YViiwUaf4Cr3VUn\",\n",
      "            \"Background\": \"Space\",\n",
      "            \"Bear\": \"Teddy Bear\",\n",
      "            \"Clothes\": \"Beach Tank Top\",\n",
      "            \"Face\": \"Nervous\",\n",
      "            \"Handheld\": \"Fishing Rod\",\n",
      "            \"Head\": \"Green Dino Hood\",\n",
      "            \"Skins\": \"Zombie\",\n",
      "            \"Trait Count\": \"7\",\n",
      "            \"encodedName\": \"54656464794265617273436c756235363636\",\n",
      "            \"buildType\": \"robot\",\n",
      "            \"rarityScore\": \"274\",\n",
      "            \"rarityRank\": \"10\",\n",
      "            \"prices\": {},\n",
      "            \"listingDate\": \"x\",\n",
      "            \"ownerStakeKey\": \"stake1uywkkc8fdzvwsmcmru4j8kxjh970cd2zf8j9t9cq4fp8huq3jjfuv\"\n",
      "        }]\n"
     ]
    }
   ],
   "source": [
    "let firstTenR2 = nftRound2Data |> Seq.take 10 |> Seq.toList\n",
    "printfn \"%A\" firstTenR2"
   ]
  }
 ],
 "metadata": {
  "kernelspec": {
   "display_name": ".NET (C#)",
   "language": "C#",
   "name": ".net-csharp"
  },
  "language_info": {
   "name": "csharp"
  },
  "polyglot_notebook": {
   "kernelInfo": {
    "defaultKernelName": "csharp",
    "items": [
     {
      "aliases": [],
      "name": "csharp"
     }
    ]
   }
  }
 },
 "nbformat": 4,
 "nbformat_minor": 2
}
