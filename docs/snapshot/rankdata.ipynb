{
 "cells": [
  {
   "cell_type": "markdown",
   "metadata": {
    "dotnet_interactive": {
     "language": "fsharp"
    },
    "polyglot_notebook": {
     "kernelName": "fsharp"
    },
    "vscode": {
     "languageId": "polyglot-notebook"
    }
   },
   "source": [
    "# Create the CSV File Mapping NFTs to their Rank\n",
    "---\n",
    "This uses the same steps and functions as the NFT rank calculation in `calculations.ipynb`. However, in the `calculations.ipynb` file, we illustrate the process and then pull from a CSV file for the rankings. In this notebook, we will use those steps to create the CSV file needed instead.\n",
    "\n",
    "---\n",
    "## 1.1 Open Statements"
   ]
  },
  {
   "cell_type": "code",
   "execution_count": 1,
   "metadata": {
    "dotnet_interactive": {
     "language": "fsharp"
    },
    "polyglot_notebook": {
     "kernelName": "fsharp"
    },
    "vscode": {
     "languageId": "polyglot-notebook"
    }
   },
   "outputs": [],
   "source": [
    "open System.Text.Json\n",
    "open System.IO\n",
    "open FSharp.Reflection"
   ]
  },
  {
   "cell_type": "markdown",
   "metadata": {},
   "source": [
    "## 1.2 Calculation Steps\n",
    "For a detailed explanation of this process, please refer to `calculations.ipynb`. However, if you want to create the CSV file, run all the cells in this notebook. However, please first make sure that you have the JSON files from running `webscraper.ipynb` and `attributecounter.ipynb`.\n",
    "\n",
    "#### Fetching Data"
   ]
  },
  {
   "cell_type": "code",
   "execution_count": 2,
   "metadata": {
    "dotnet_interactive": {
     "language": "fsharp"
    },
    "polyglot_notebook": {
     "kernelName": "fsharp"
    },
    "vscode": {
     "languageId": "polyglot-notebook"
    }
   },
   "outputs": [],
   "source": [
    "type NFT = {\n",
    "    assetName: string\n",
    "    encodedName: string\n",
    "    Background: string\n",
    "    Bear: string\n",
    "    Clothes: string\n",
    "    Face: string\n",
    "    Handheld: string\n",
    "    Head: string\n",
    "    Skins: string\n",
    "}\n",
    "\n",
    "type NFTTraits = {\n",
    "    Background: Map<string, int>\n",
    "    Bear: Map<string, int>\n",
    "    Clothes: Map<string, int>\n",
    "    Face: Map<string, int>\n",
    "    Handheld: Map<string, int>\n",
    "    Head: Map<string, int>\n",
    "    Skins: Map<string, int>\n",
    "}"
   ]
  },
  {
   "cell_type": "code",
   "execution_count": 3,
   "metadata": {
    "dotnet_interactive": {
     "language": "fsharp"
    },
    "polyglot_notebook": {
     "kernelName": "fsharp"
    },
    "vscode": {
     "languageId": "polyglot-notebook"
    }
   },
   "outputs": [],
   "source": [
    "let loadNFTs<'T> (filePath: string) : 'T =\n",
    "    let jsonContent = File.ReadAllText(filePath)\n",
    "    JsonSerializer.Deserialize<'T>(jsonContent)"
   ]
  },
  {
   "cell_type": "code",
   "execution_count": null,
   "metadata": {
    "dotnet_interactive": {
     "language": "fsharp"
    },
    "polyglot_notebook": {
     "kernelName": "fsharp"
    },
    "vscode": {
     "languageId": "polyglot-notebook"
    }
   },
   "outputs": [],
   "source": [
    "let nftRound1NFTS = loadNFTs<NFT list> \"../data/collection_1.json\"\n",
    "let nftRound2NFTS = loadNFTs<NFT list> \"../data/collection_2.json\""
   ]
  },
  {
   "cell_type": "code",
   "execution_count": null,
   "metadata": {
    "dotnet_interactive": {
     "language": "fsharp"
    },
    "polyglot_notebook": {
     "kernelName": "fsharp"
    },
    "vscode": {
     "languageId": "polyglot-notebook"
    }
   },
   "outputs": [],
   "source": [
    "let nftRound1Traits = loadNFTs<NFTTraits> \"../data/collectiontraits_1.json\"\n",
    "let nftRound2Traits = loadNFTs<NFTTraits> \"../data/collectiontraits_2.json\""
   ]
  },
  {
   "cell_type": "markdown",
   "metadata": {},
   "source": [
    "#### Calculating Trait Value Scores"
   ]
  },
  {
   "cell_type": "code",
   "execution_count": 6,
   "metadata": {
    "dotnet_interactive": {
     "language": "fsharp"
    },
    "polyglot_notebook": {
     "kernelName": "fsharp"
    },
    "vscode": {
     "languageId": "polyglot-notebook"
    }
   },
   "outputs": [],
   "source": [
    "let r1TotalNfts = 804.0\n",
    "let r2TotalNfts = 2035.0"
   ]
  },
  {
   "cell_type": "code",
   "execution_count": 7,
   "metadata": {
    "dotnet_interactive": {
     "language": "fsharp"
    },
    "polyglot_notebook": {
     "kernelName": "fsharp"
    },
    "vscode": {
     "languageId": "polyglot-notebook"
    }
   },
   "outputs": [],
   "source": [
    "let processNFTTraits (nftTraits: NFTTraits) (totalNfts: float) =\n",
    "    let recordType = typeof<NFTTraits>\n",
    "    FSharp.Reflection.FSharpType.GetRecordFields(recordType)\n",
    "    |> Array.fold (fun acc field ->\n",
    "        let fieldValue = field.GetValue(nftTraits) :?> Map<string, int>\n",
    "        let traitScores = \n",
    "            fieldValue |> Map.map (fun key value ->\n",
    "                Math.Round(100.0 - (float value / float totalNfts) * 100.0, 2)\n",
    "            )\n",
    "        Map.add field.Name traitScores acc\n",
    "    ) Map.empty"
   ]
  },
  {
   "cell_type": "code",
   "execution_count": 8,
   "metadata": {
    "dotnet_interactive": {
     "language": "fsharp"
    },
    "polyglot_notebook": {
     "kernelName": "fsharp"
    },
    "vscode": {
     "languageId": "polyglot-notebook"
    }
   },
   "outputs": [],
   "source": [
    "let r1ScoredTraits = processNFTTraits nftRound1Traits r1TotalNfts\n",
    "let r2ScoredTraits = processNFTTraits nftRound2Traits r2TotalNfts"
   ]
  },
  {
   "cell_type": "markdown",
   "metadata": {},
   "source": [
    "#### Compute NFT Ranks"
   ]
  },
  {
   "cell_type": "code",
   "execution_count": 9,
   "metadata": {
    "dotnet_interactive": {
     "language": "fsharp"
    },
    "polyglot_notebook": {
     "kernelName": "fsharp"
    },
    "vscode": {
     "languageId": "polyglot-notebook"
    }
   },
   "outputs": [],
   "source": [
    "let computeNFTRank (nftList: list<NFT>) nftTraitScores = \n",
    "    nftList\n",
    "    |> List.map (fun nft ->\n",
    "        let rarityScore =  \n",
    "            [\n",
    "                (\"Background\", nft.Background)\n",
    "                (\"Bear\", nft.Bear)\n",
    "                (\"Clothes\", nft.Clothes)\n",
    "                (\"Face\", nft.Face)\n",
    "                (\"Handheld\", nft.Handheld)\n",
    "                (\"Head\", nft.Head)\n",
    "                (\"Skins\", nft.Skins)\n",
    "            ]\n",
    "            |> List.fold (fun acc (attrName, attrValue) ->  \n",
    "                match Map.tryFind attrName nftTraitScores with\n",
    "                | Some traitMap ->  \n",
    "                    acc + (Map.tryFind attrValue traitMap |> Option.defaultValue 0.0)\n",
    "                | None -> acc \n",
    "            ) 0.0 \n",
    "        (nft.assetName, nft.encodedName, rarityScore) \n",
    "    )\n",
    "    |> List.sortBy (fun (_, _, rarityScore) -> -rarityScore)\n",
    "    |> List.mapi (fun index (assetName, encodedName, rarityScore) -> \n",
    "    (index + 1, assetName, encodedName, rarityScore))"
   ]
  },
  {
   "cell_type": "code",
   "execution_count": 10,
   "metadata": {
    "dotnet_interactive": {
     "language": "fsharp"
    },
    "polyglot_notebook": {
     "kernelName": "fsharp"
    },
    "vscode": {
     "languageId": "polyglot-notebook"
    }
   },
   "outputs": [],
   "source": [
    "let rankedNFTround1 = computeNFTRank nftRound1NFTS r1ScoredTraits\n",
    "let rankedNFTround2 = computeNFTRank nftRound2NFTS r2ScoredTraits"
   ]
  },
  {
   "cell_type": "markdown",
   "metadata": {},
   "source": [
    "#### CSV for Subject to Rank\n",
    "This section creates the CSV file mapping a subject to its rank."
   ]
  },
  {
   "cell_type": "code",
   "execution_count": 11,
   "metadata": {
    "dotnet_interactive": {
     "language": "fsharp"
    },
    "polyglot_notebook": {
     "kernelName": "fsharp"
    },
    "vscode": {
     "languageId": "polyglot-notebook"
    }
   },
   "outputs": [],
   "source": [
    "let listToCsv (data: (int * string * string * float) list) (policyId: string) (filePath: string) =\n",
    "    let isNewFile = not (File.Exists(filePath))\n",
    "    \n",
    "    let header = \"Name,Subject,Rank,Score\"\n",
    "    let rows =\n",
    "        data\n",
    "        |> List.map (fun (rank, assetName, encodedName, score) ->  \n",
    "            let subject = sprintf \"%s%s\" policyId encodedName  \n",
    "            sprintf \"%s,%s,%d,%f\" assetName subject rank score\n",
    "        )\n",
    "    \n",
    "    let existingRows = \n",
    "        if not isNewFile then\n",
    "            File.ReadAllLines(filePath) |> Set.ofSeq\n",
    "        else\n",
    "            Set.empty\n",
    "\n",
    "    let newRows = \n",
    "        rows\n",
    "        |> List.filter (fun row -> not (existingRows.Contains row))\n",
    "    \n",
    "    if isNewFile then\n",
    "        File.AppendAllLines(filePath, [header])\n",
    "\n",
    "    if newRows.Length > 0 then\n",
    "        File.AppendAllLines(filePath, newRows)"
   ]
  },
  {
   "cell_type": "code",
   "execution_count": null,
   "metadata": {
    "dotnet_interactive": {
     "language": "fsharp"
    },
    "polyglot_notebook": {
     "kernelName": "fsharp"
    },
    "vscode": {
     "languageId": "polyglot-notebook"
    }
   },
   "outputs": [],
   "source": [
    "let policyIdRound1 = \"ab182ed76b669b49ee54a37dee0d0064ad4208a859cc4fdf3f906d87\";\n",
    "let policyIdRound2 = \"da3562fad43b7759f679970fb4e0ec07ab5bebe5c703043acda07a3c\";\n",
    "\n",
    "listToCsv rankedNFTround1  policyIdRound1 \"../data/collectionranks.csv\"\n",
    "listToCsv rankedNFTround2 policyIdRound2 \"../data/collectionranks.csv\""
   ]
  }
 ],
 "metadata": {
  "kernelspec": {
   "display_name": ".NET (C#)",
   "language": "C#",
   "name": ".net-csharp"
  },
  "language_info": {
   "name": "csharp"
  },
  "polyglot_notebook": {
   "kernelInfo": {
    "defaultKernelName": "csharp",
    "items": [
     {
      "aliases": [],
      "name": "csharp"
     }
    ]
   }
  }
 },
 "nbformat": 4,
 "nbformat_minor": 2
}
