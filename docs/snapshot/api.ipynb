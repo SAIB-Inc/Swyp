{
 "cells": [
  {
   "cell_type": "markdown",
   "metadata": {
    "dotnet_interactive": {
     "language": "csharp"
    },
    "polyglot_notebook": {
     "kernelName": "csharp"
    }
   },
   "source": [
    "# Retrieve NFTs Assets by Address using CardanoScan API\n",
    "---\n",
    "This notebook details the process of retrieving the NFTs associated with a specific Cardano address using the [CardanoScan API](https://docs.cardanoscan.io/operation/operation-get-asset-list-byaddress). The process includes securely accessing your API key, querying the API, and saving the results in a formatted JSON file.\n",
    "---\n",
    "### 1.1 **1.4 Necessary Package Installations and Open Statements**"
   ]
  },
  {
   "cell_type": "code",
   "execution_count": null,
   "metadata": {
    "dotnet_interactive": {
     "language": "fsharp"
    },
    "polyglot_notebook": {
     "kernelName": "fsharp"
    },
    "vscode": {
     "languageId": "polyglot-notebook"
    }
   },
   "outputs": [],
   "source": [
    "#r \"nuget: FSharp.Data\""
   ]
  },
  {
   "cell_type": "code",
   "execution_count": 2,
   "metadata": {
    "dotnet_interactive": {
     "language": "fsharp"
    },
    "polyglot_notebook": {
     "kernelName": "fsharp"
    },
    "vscode": {
     "languageId": "polyglot-notebook"
    }
   },
   "outputs": [],
   "source": [
    "open System\n",
    "open System.IO\n",
    "open System.Text.Json\n",
    "open System.Net.Http\n",
    "open System.Threading.Tasks\n",
    "open FSharp.Data"
   ]
  },
  {
   "cell_type": "markdown",
   "metadata": {},
   "source": [
    "## 2. Workflow\n",
    "\n",
    "*Note!*\n",
    "To use the [CardanoScan API](https://docs.cardanoscan.io/), you must have a valid API key. The `getApiKey` function retrieves this key from your environment variables, so ensure your key is named `CARDANO_API_KEY` or change the code below to ensure your key will be recognized. \n",
    "\n",
    "1. **`getApiKey`**:\n",
    "   - Retrieves your API key from the environment.\n",
    "   - Ensures the key is securely accessed and avoids hardcoding sensitive information.\n",
    "\n",
    "2. **`saveJsonToFile`**:\n",
    "   - Formats the JSON response into a more readable format and saves it to a file.\n",
    "   - By default, it saves the output to [`collectionassets.json`](./data/collectionassets.json).\n",
    "\n",
    "3. **`getAssetsByAddress`**:\n",
    "   - Configures the API request by setting the required headers (including the API key) and query parameters.\n",
    "   - Sends the request to the API endpoint and handles the response.\n"
   ]
  },
  {
   "cell_type": "code",
   "execution_count": 15,
   "metadata": {
    "dotnet_interactive": {
     "language": "fsharp"
    },
    "polyglot_notebook": {
     "kernelName": "fsharp"
    },
    "vscode": {
     "languageId": "polyglot-notebook"
    }
   },
   "outputs": [],
   "source": [
    "type Token = {\n",
    "    policyId: string\n",
    "    assetName: string\n",
    "    fingerprint: string\n",
    "    assetId: string\n",
    "    balance: string\n",
    "}\n",
    "\n",
    "type ApiResponse = {\n",
    "    tokens: Token list\n",
    "    count: int\n",
    "    pageNo: int\n",
    "    limit: int\n",
    "}"
   ]
  },
  {
   "cell_type": "code",
   "execution_count": 3,
   "metadata": {
    "dotnet_interactive": {
     "language": "fsharp"
    },
    "polyglot_notebook": {
     "kernelName": "fsharp"
    },
    "vscode": {
     "languageId": "polyglot-notebook"
    }
   },
   "outputs": [],
   "source": [
    "let getApiKey () =\n",
    "    match Environment.GetEnvironmentVariable(\"CARDANO_API_KEY\") with\n",
    "    | null -> failwith \"API key not found. Set it in your environment variables.\"\n",
    "    | key -> key"
   ]
  },
  {
   "cell_type": "code",
   "execution_count": 19,
   "metadata": {
    "dotnet_interactive": {
     "language": "fsharp"
    },
    "polyglot_notebook": {
     "kernelName": "fsharp"
    },
    "vscode": {
     "languageId": "polyglot-notebook"
    }
   },
   "outputs": [],
   "source": [
    "let saveJsonToFile (filePath: string) (jsonResponse: string) =\n",
    "    try\n",
    "        \n",
    "        let data = JsonSerializer.Deserialize<obj>(jsonResponse)\n",
    "        let options = JsonSerializerOptions(WriteIndented = true, Encoder = System.Text.Encodings.Web.JavaScriptEncoder.UnsafeRelaxedJsonEscaping)\n",
    "        let jsonOutput = JsonSerializer.Serialize(data, options)\n",
    "\n",
    "        File.WriteAllText(filePath, jsonOutput)\n",
    "    with ex ->\n",
    "        printfn \"Failed to save JSON. Error: %s\" ex.Message"
   ]
  },
  {
   "cell_type": "code",
   "execution_count": null,
   "metadata": {
    "dotnet_interactive": {
     "language": "fsharp"
    },
    "polyglot_notebook": {
     "kernelName": "fsharp"
    },
    "vscode": {
     "languageId": "polyglot-notebook"
    }
   },
   "outputs": [],
   "source": [
    "let getAssetsByAddress (address: string) (filePath: string) =\n",
    "    async {\n",
    "        let apiKey = getApiKey()\n",
    "        let baseUrl = \"https://api.cardanoscan.io/api/v1/asset/list/byAddress\"\n",
    "        let mutable pageNo = 1\n",
    "        let mutable allTokens = []\n",
    "\n",
    "        use client = new HttpClient()\n",
    "        client.DefaultRequestHeaders.Add(\"apiKey\", apiKey)\n",
    "\n",
    "        try\n",
    "            let mutable hasMoreData = true\n",
    "\n",
    "            while hasMoreData do\n",
    "                let url = $\"{baseUrl}?address={address}&pageNo={pageNo}\"\n",
    "                let! response = client.GetAsync(url) |> Async.AwaitTask\n",
    "\n",
    "                if response.IsSuccessStatusCode then\n",
    "                    let! content = response.Content.ReadAsStringAsync() |> Async.AwaitTask\n",
    "                    try\n",
    "                        let data = JsonSerializer.Deserialize<ApiResponse>(content)\n",
    "\n",
    "                        if data.tokens.IsEmpty then\n",
    "                            hasMoreData <- false\n",
    "                        else\n",
    "                            allTokens <- allTokens @ [data]\n",
    "                            pageNo <- pageNo + 1\n",
    "                    with ex ->\n",
    "                        printfn \"JSON Deserialization Error: %s\" ex.Message\n",
    "                        printfn \"Raw Content: %s\" content\n",
    "                        return Error \"Failed to deserialize API response.\" |> ignore\n",
    "                else\n",
    "                    let! errorContent = response.Content.ReadAsStringAsync() |> Async.AwaitTask\n",
    "                    printfn \"API Error: %s\" errorContent\n",
    "                    return Error $\"Error: {response.StatusCode} - {response.ReasonPhrase}\" |> ignore\n",
    "\n",
    "            let allTokensJson = JsonSerializer.Serialize(allTokens, JsonSerializerOptions(WriteIndented = true))\n",
    "            saveJsonToFile filePath allTokensJson\n",
    "\n",
    "            printfn \"Successfully saved all tokens to %s\" filePath\n",
    "            return Ok ()\n",
    "        with ex ->\n",
    "            printfn \"Exception occurred: %s\" ex.Message\n",
    "            return Error $\"Exception: {ex.Message}\"\n",
    "    }\n"
   ]
  },
  {
   "cell_type": "markdown",
   "metadata": {},
   "source": [
    "## Enter the Address and Call the Functions\n",
    "\n",
    "Replace the placeholder address below to retrieve and save the assets associated with a Cardano address. Please note that the endpoint requires the **hex representation of the address**.\n"
   ]
  },
  {
   "cell_type": "code",
   "execution_count": 17,
   "metadata": {
    "dotnet_interactive": {
     "language": "fsharp"
    },
    "polyglot_notebook": {
     "kernelName": "fsharp"
    },
    "vscode": {
     "languageId": "polyglot-notebook"
    }
   },
   "outputs": [],
   "source": [
    "let address = \"PlaceAddressHere\" "
   ]
  },
  {
   "cell_type": "code",
   "execution_count": null,
   "metadata": {
    "dotnet_interactive": {
     "language": "fsharp"
    },
    "polyglot_notebook": {
     "kernelName": "fsharp"
    },
    "vscode": {
     "languageId": "polyglot-notebook"
    }
   },
   "outputs": [
    {
     "name": "stdout",
     "output_type": "stream",
     "text": [
      "Successfully saved all tokens to ./data/collectionassets.json\n",
      "API response saved successfully.\n"
     ]
    }
   ],
   "source": [
    "let filePath = \"./data/collectionassets.json\"\n",
    "\n",
    "async {\n",
    "    let! result = getAssetsByAddress address filePath\n",
    "    match result with\n",
    "    | Ok () -> ()\n",
    "    | Error errMsg -> printfn \"Error: %s\" errMsg\n",
    "}\n",
    "|> Async.RunSynchronously"
   ]
  }
 ],
 "metadata": {
  "kernelspec": {
   "display_name": ".NET (C#)",
   "language": "C#",
   "name": ".net-csharp"
  },
  "language_info": {
   "name": "csharp"
  },
  "polyglot_notebook": {
   "kernelInfo": {
    "defaultKernelName": "csharp",
    "items": [
     {
      "aliases": [],
      "name": "csharp"
     }
    ]
   }
  }
 },
 "nbformat": 4,
 "nbformat_minor": 2
}
