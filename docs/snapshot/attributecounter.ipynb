{
 "cells": [
  {
   "cell_type": "markdown",
   "metadata": {},
   "source": [
    "# Processing the NFT Trait Value Occurrences into JSON Files"
   ]
  },
  {
   "cell_type": "markdown",
   "metadata": {},
   "source": [
    "This notebook describes the process for creating the NFT trait value occurrences, which is used in `calculations.ipynb` to calculate for trait value scores and the NFT rarity scores and rank. If you are missing the trait value occurence JSON, run this file. However, if you dont have the NFT Round 1 and 2 JSON files as well, please run `webscraper.ipynb` first.\n",
    "\n",
    "---\n",
    "\n",
    "### 1.1 Open Statemetnts"
   ]
  },
  {
   "cell_type": "code",
   "execution_count": 1,
   "metadata": {
    "dotnet_interactive": {
     "language": "fsharp"
    },
    "polyglot_notebook": {
     "kernelName": "fsharp"
    },
    "vscode": {
     "languageId": "polyglot-notebook"
    }
   },
   "outputs": [],
   "source": [
    "open System\n",
    "open System.Collections.Generic\n",
    "open System.IO\n",
    "open System.Text.Json\n",
    "open System.Reflection"
   ]
  },
  {
   "cell_type": "markdown",
   "metadata": {},
   "source": [
    "### 1.2 Creating the Type for JSON Serialization\n",
    "`NFTTraitData` represents the traits of each NFT."
   ]
  },
  {
   "cell_type": "code",
   "execution_count": 2,
   "metadata": {
    "dotnet_interactive": {
     "language": "fsharp"
    },
    "polyglot_notebook": {
     "kernelName": "fsharp"
    },
    "vscode": {
     "languageId": "polyglot-notebook"
    }
   },
   "outputs": [],
   "source": [
    "type NFTTraitData = {\n",
    "    Background: string\n",
    "    Bear: string\n",
    "    Clothes: string\n",
    "    Face: string\n",
    "    Handheld: string\n",
    "    Head: string\n",
    "    Skins: string\n",
    "}"
   ]
  },
  {
   "cell_type": "markdown",
   "metadata": {},
   "source": [
    "### 1.3 Calculate the Trait Value Occurences\n",
    "This function `countAttributes` deserializes the JSON in a given file and then calculates the number of occurences of each trait value over the total number of NFTs. It then returns a Dictionary<string, Dictionary<string, int>> of traits to trait values and their number of occurrences."
   ]
  },
  {
   "cell_type": "code",
   "execution_count": 3,
   "metadata": {
    "dotnet_interactive": {
     "language": "fsharp"
    },
    "polyglot_notebook": {
     "kernelName": "fsharp"
    },
    "vscode": {
     "languageId": "polyglot-notebook"
    }
   },
   "outputs": [],
   "source": [
    "let countAttributes (jsonFilePath: string) =\n",
    "\n",
    "    let jsonString = File.ReadAllText(jsonFilePath)\n",
    "    let nftList = JsonSerializer.Deserialize<NFTTraitData list>(jsonString)\n",
    "    let attributeCounts = Dictionary<string, Dictionary<string, int>>()\n",
    "\n",
    "    let nftAttributes = \n",
    "        typeof<NFTTraitData>.GetProperties()\n",
    "        |> Array.filter (fun prop -> prop.PropertyType = typeof<string>)\n",
    "\n",
    "    for attribute in nftAttributes do\n",
    "        let propertyName = attribute.Name\n",
    "        for nft in nftList do\n",
    "            let value = attribute.GetValue(nft) :?> string\n",
    "            if not (isNull value) then\n",
    "                if not (attributeCounts.ContainsKey(propertyName)) then\n",
    "                    attributeCounts.[propertyName] <- Dictionary<string, int>()\n",
    "\n",
    "                let propertyDict = attributeCounts.[propertyName]\n",
    "                if not (propertyDict.ContainsKey(value)) then\n",
    "                    propertyDict.[value] <- 0\n",
    "\n",
    "                propertyDict.[value] <- propertyDict.[value] + 1\n",
    "\n",
    "    attributeCounts"
   ]
  },
  {
   "cell_type": "markdown",
   "metadata": {},
   "source": [
    "### 1.4 Serialize and Save Results\n",
    "The function `serializeAttributes` takes in the output of `countAttributes`, serializes the data, and then saves it in the indicated file."
   ]
  },
  {
   "cell_type": "code",
   "execution_count": 4,
   "metadata": {
    "dotnet_interactive": {
     "language": "fsharp"
    },
    "polyglot_notebook": {
     "kernelName": "fsharp"
    },
    "vscode": {
     "languageId": "polyglot-notebook"
    }
   },
   "outputs": [],
   "source": [
    "let serializeAttributes (attributeCounts: Dictionary<string, Dictionary<string, int>>) (outputFilePath: string) =\n",
    "    try\n",
    "        let directory = Path.GetDirectoryName(outputFilePath)\n",
    "        if not (Directory.Exists(directory)) then\n",
    "            Directory.CreateDirectory(directory) |> ignore\n",
    "\n",
    "        let jsonOutput = JsonSerializer.Serialize(attributeCounts, JsonSerializerOptions(WriteIndented = true))\n",
    "        File.WriteAllText(outputFilePath, jsonOutput)\n",
    "        printfn \"Attribute counts saved to %s\" outputFilePath\n",
    "    with\n",
    "    | ex ->\n",
    "        printfn \"Error during serialization: %s\" ex.Message\n",
    "        raise ex\n"
   ]
  },
  {
   "cell_type": "markdown",
   "metadata": {},
   "source": [
    "### 1.5 Call the Functions for Each of the NFT Rounds"
   ]
  },
  {
   "cell_type": "code",
   "execution_count": null,
   "metadata": {
    "dotnet_interactive": {
     "language": "fsharp"
    },
    "polyglot_notebook": {
     "kernelName": "fsharp"
    },
    "vscode": {
     "languageId": "polyglot-notebook"
    }
   },
   "outputs": [
    {
     "name": "stdout",
     "output_type": "stream",
     "text": [
      "Attribute counts saved to ../data/NFTR1Traits.json\n"
     ]
    }
   ],
   "source": [
    "let jsonFilePath = \"../data/collection_1.json\"\n",
    "let outputPath = \"../data/collectiontraits_1.json\"\n",
    "let attributeCounts = countAttributes jsonFilePath\n",
    "serializeAttributes attributeCounts  outputPath"
   ]
  },
  {
   "cell_type": "code",
   "execution_count": null,
   "metadata": {
    "dotnet_interactive": {
     "language": "fsharp"
    },
    "polyglot_notebook": {
     "kernelName": "fsharp"
    },
    "vscode": {
     "languageId": "polyglot-notebook"
    }
   },
   "outputs": [
    {
     "name": "stdout",
     "output_type": "stream",
     "text": [
      "Attribute counts saved to ../data/NFTR2Traits.json\n"
     ]
    }
   ],
   "source": [
    "let jsonFilePath = \"../data/collection_2.json\"\n",
    "let outputPath = \"../data/collectiontraits_2.json\"\n",
    "let attributeCounts = countAttributes jsonFilePath\n",
    "serializeAttributes attributeCounts outputPath"
   ]
  }
 ],
 "metadata": {
  "kernelspec": {
   "display_name": ".NET (C#)",
   "language": "C#",
   "name": ".net-csharp"
  },
  "language_info": {
   "name": "csharp"
  },
  "polyglot_notebook": {
   "kernelInfo": {
    "defaultKernelName": "csharp",
    "items": [
     {
      "aliases": [],
      "name": "csharp"
     }
    ]
   }
  }
 },
 "nbformat": 4,
 "nbformat_minor": 2
}
