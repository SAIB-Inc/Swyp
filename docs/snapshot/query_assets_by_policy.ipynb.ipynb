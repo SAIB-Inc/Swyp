{
 "cells": [
  {
   "cell_type": "markdown",
   "metadata": {
    "dotnet_interactive": {
     "language": "csharp"
    },
    "polyglot_notebook": {
     "kernelName": "csharp"
    }
   },
   "source": [
    "# Retrieve Round 2 NFTs by Policy ID using CardanoScan API\n",
    "\n",
    "---"
   ]
  },
  {
   "cell_type": "markdown",
   "metadata": {},
   "source": [
    "### 1. Overview\n",
    "This notebook details the process of retrieving the NFTs associated with the Round 2 Teddy Bear Club Policy ID using the [CardanoScan API](https://docs.cardanoscan.io/operation/operation-get-asset-list-byaddress). The process includes securely accessing your API key, querying the API, and saving the results in a formatted JSON file. The data is then used to identify the order of minting.\n",
    "\n",
    "The process includes:\n",
    "1. Securely accessing your API key.\n",
    "2. Querying the API for assets tied to the policy ID.\n",
    "3. Saving the results to a formatted JSON file according to order of minting.\n",
    "4. Saving the results to a CSV file mapping a subject to its order.\n",
    "\n",
    "Before running this notebook:\n",
    "- Ensure you have a valid **CardanoScan API key** set up in your environment variables.\n",
    "- Verify that the address you provide is in **hexadecimal format**.\n",
    "\n",
    "---\n",
    "### 1.1 Necessary Package Installations and Open Statements"
   ]
  },
  {
   "cell_type": "code",
   "execution_count": null,
   "metadata": {
    "dotnet_interactive": {
     "language": "fsharp"
    },
    "polyglot_notebook": {
     "kernelName": "fsharp"
    },
    "vscode": {
     "languageId": "polyglot-notebook"
    }
   },
   "outputs": [],
   "source": [
    "#r \"nuget: FSharp.Data\""
   ]
  },
  {
   "cell_type": "code",
   "execution_count": 2,
   "metadata": {
    "dotnet_interactive": {
     "language": "fsharp"
    },
    "polyglot_notebook": {
     "kernelName": "fsharp"
    },
    "vscode": {
     "languageId": "polyglot-notebook"
    }
   },
   "outputs": [],
   "source": [
    "open System\n",
    "open System.IO\n",
    "open System.Text.Json\n",
    "open System.Net.Http\n",
    "open System.Threading.Tasks\n",
    "open FSharp.Data"
   ]
  },
  {
   "cell_type": "markdown",
   "metadata": {},
   "source": [
    "### 2. Workflow\n",
    "\n",
    "*Note!*<br>\n",
    "To use the [CardanoScan API](https://docs.cardanoscan.io/), you must have a valid API key. The `getApiKey` function retrieves this key from your environment variables, so ensure your key is named `CARDANO_API_KEY` or update the function to match your setup. \n",
    "\n",
    "1. **`getApiKey`**:\n",
    "   - Retrieves your API key from the environment.\n",
    "   - Ensures the key is securely accessed and avoids hardcoding sensitive information.\n",
    "\n",
    "2. **`saveJsonToFile`**:\n",
    "   - Formats the JSON response into a more readable format and saves it to a file.\n",
    "   - By default, it saves the output to [`collectionassets.json`](./data/collectionassets.json).\n",
    "\n",
    "3. **`saveTokensToCsv`**:\n",
    "   - Maps subjects to their order\n",
    "   - Saves the output to [``]()\n",
    "\n",
    "4. **`getAssetsByPolicyId`**:\n",
    "   - Configures the API request by setting the required headers (including the API key) and query parameters.\n",
    "   - Sends the request to the API endpoint and handles the response."
   ]
  },
  {
   "cell_type": "code",
   "execution_count": 3,
   "metadata": {
    "dotnet_interactive": {
     "language": "fsharp"
    },
    "polyglot_notebook": {
     "kernelName": "fsharp"
    },
    "vscode": {
     "languageId": "polyglot-notebook"
    }
   },
   "outputs": [],
   "source": [
    "type Token = {\n",
    "    assetId: string\n",
    "    txCount: int\n",
    "    mintedOn: string\n",
    "    policyId: string\n",
    "    assetName: string\n",
    "    fingerprint: string\n",
    "    totalSupply: string\n",
    "}\n",
    "\n",
    "type ApiResponse = {\n",
    "    tokens: Token []\n",
    "    count: int\n",
    "    pageNo: int\n",
    "    limit: int\n",
    "}"
   ]
  },
  {
   "cell_type": "code",
   "execution_count": 4,
   "metadata": {
    "dotnet_interactive": {
     "language": "fsharp"
    },
    "polyglot_notebook": {
     "kernelName": "fsharp"
    },
    "vscode": {
     "languageId": "polyglot-notebook"
    }
   },
   "outputs": [],
   "source": [
    "let getApiKey () =\n",
    "    match Environment.GetEnvironmentVariable(\"CARDANO_API_KEY\") with\n",
    "    | null -> failwith \"API key not found. Set it in your environment variables.\"\n",
    "    | key -> key"
   ]
  },
  {
   "cell_type": "code",
   "execution_count": 6,
   "metadata": {
    "dotnet_interactive": {
     "language": "fsharp"
    },
    "polyglot_notebook": {
     "kernelName": "fsharp"
    },
    "vscode": {
     "languageId": "polyglot-notebook"
    }
   },
   "outputs": [],
   "source": [
    "let saveTokensToCsv (sortedTokens: Token []) (filePath: string) =\n",
    "    try\n",
    "        let rows =\n",
    "            sortedTokens\n",
    "            |> Array.skip 1 \n",
    "            |> Array.mapi (fun order token -> sprintf \"%s,%d\" token.assetId (order + 1))\n",
    "\n",
    "        let csvContent = StringBuilder()\n",
    "        csvContent.AppendLine(\"AssetId,Order\") |> ignore\n",
    "        rows |> Array.iter (fun row -> csvContent.AppendLine(row) |> ignore)\n",
    "\n",
    "        File.WriteAllText(filePath, csvContent.ToString())\n",
    "        printfn \"CSV file created successfully at %s\" filePath\n",
    "    with ex ->\n",
    "        printfn \"Failed to save CSV: %s\" ex.Message"
   ]
  },
  {
   "cell_type": "code",
   "execution_count": 7,
   "metadata": {
    "dotnet_interactive": {
     "language": "fsharp"
    },
    "polyglot_notebook": {
     "kernelName": "fsharp"
    },
    "vscode": {
     "languageId": "polyglot-notebook"
    }
   },
   "outputs": [],
   "source": [
    "let saveJsonToFile (filePath: string) (jsonResponse: string) =\n",
    "    try\n",
    "        \n",
    "        let data = JsonSerializer.Deserialize<Token []>(jsonResponse)\n",
    "\n",
    "        let sortedTokens =\n",
    "            data\n",
    "            |> Array.toList\n",
    "            |> List.sortBy (fun token -> token.mintedOn)\n",
    "            |> List.toArray \n",
    "\n",
    "        saveTokensToCsv sortedTokens  \"./data/tbc_ranked_by_order.csv\"\n",
    "        \n",
    "        let options = JsonSerializerOptions(WriteIndented = true, Encoder = System.Text.Encodings.Web.JavaScriptEncoder.UnsafeRelaxedJsonEscaping)\n",
    "        let jsonOutput = JsonSerializer.Serialize(sortedTokens, options)\n",
    "\n",
    "        File.WriteAllText(filePath, jsonOutput)\n",
    "    with ex ->\n",
    "        printfn \"Failed to save JSON at %s. Error: %s\" filePath ex.Message"
   ]
  },
  {
   "cell_type": "code",
   "execution_count": 8,
   "metadata": {
    "dotnet_interactive": {
     "language": "fsharp"
    },
    "polyglot_notebook": {
     "kernelName": "fsharp"
    },
    "vscode": {
     "languageId": "polyglot-notebook"
    }
   },
   "outputs": [],
   "source": [
    "let getAssetsByPolicyId (policyId: string) (filePath: string) =\n",
    "    async {\n",
    "        let apiKey = getApiKey()\n",
    "        let baseUrl = \"https://api.cardanoscan.io/api/v1/asset/list/byPolicyId\"\n",
    "        let mutable pageNo = 1\n",
    "        let mutable allTokens = []\n",
    "\n",
    "        use client = new HttpClient()\n",
    "        client.DefaultRequestHeaders.Add(\"apiKey\", apiKey)\n",
    "\n",
    "        try\n",
    "            let mutable hasMoreData = true\n",
    "\n",
    "            while hasMoreData do\n",
    "                let url = $\"{baseUrl}?policyId={policyId}&pageNo={pageNo}\"\n",
    "                let! response = client.GetAsync(url) |> Async.AwaitTask\n",
    "\n",
    "                if response.IsSuccessStatusCode then\n",
    "                    let! content = response.Content.ReadAsStringAsync() |> Async.AwaitTask\n",
    "                    try\n",
    "                        let data = JsonSerializer.Deserialize<ApiResponse>(content)\n",
    "\n",
    "                        if data.tokens.Length = 0 then\n",
    "                            hasMoreData <- false\n",
    "                        else\n",
    "                            allTokens <- allTokens @ Array.toList data.tokens\n",
    "                            pageNo <- pageNo + 1\n",
    "                    with ex ->\n",
    "                        printfn \"JSON Deserialization Error: %s\" ex.Message\n",
    "                        printfn \"Raw Content: %s\" content\n",
    "                        return Error \"Failed to deserialize API response.\" |> ignore\n",
    "                else\n",
    "                    let! errorContent = response.Content.ReadAsStringAsync() |> Async.AwaitTask\n",
    "                    printfn \"API Error: %s\" errorContent\n",
    "                    return Error $\"Error: {response.StatusCode} - {response.ReasonPhrase}\" |> ignore\n",
    "\n",
    "            let allTokensJson = JsonSerializer.Serialize(allTokens, JsonSerializerOptions(WriteIndented = true))\n",
    "            saveJsonToFile filePath allTokensJson\n",
    "\n",
    "            printfn \"Successfully saved all tokens to %s\" filePath\n",
    "            return Ok ()\n",
    "        with ex ->\n",
    "            printfn \"Exception occurred: %s\" ex.Message\n",
    "            return Error $\"Exception: {ex.Message}\"\n",
    "    }\n"
   ]
  },
  {
   "cell_type": "markdown",
   "metadata": {},
   "source": [
    "### Function Calls"
   ]
  },
  {
   "cell_type": "code",
   "execution_count": 9,
   "metadata": {
    "dotnet_interactive": {
     "language": "fsharp"
    },
    "polyglot_notebook": {
     "kernelName": "fsharp"
    },
    "vscode": {
     "languageId": "polyglot-notebook"
    }
   },
   "outputs": [],
   "source": [
    "let policyId = \"da3562fad43b7759f679970fb4e0ec07ab5bebe5c703043acda07a3c\""
   ]
  },
  {
   "cell_type": "code",
   "execution_count": 10,
   "metadata": {
    "dotnet_interactive": {
     "language": "fsharp"
    },
    "polyglot_notebook": {
     "kernelName": "fsharp"
    },
    "vscode": {
     "languageId": "polyglot-notebook"
    }
   },
   "outputs": [
    {
     "name": "stdout",
     "output_type": "stream",
     "text": [
      "CSV file created successfully at ./data/roundtwo_tokens_minting_order.csv\n",
      "Successfully saved all tokens to ./data/tbc_roundtwo_minting_order.json\n"
     ]
    }
   ],
   "source": [
    "let filePath = \"./data/tbc_roundtwo_minting_order.json\"\n",
    "\n",
    "async {\n",
    "    let! result = getAssetsByPolicyId policyId filePath\n",
    "    match result with\n",
    "    | Ok () -> ()\n",
    "    | Error errMsg -> printfn \"Error: %s\" errMsg\n",
    "}\n",
    "|> Async.RunSynchronously"
   ]
  }
 ],
 "metadata": {
  "kernelspec": {
   "display_name": ".NET (C#)",
   "language": "C#",
   "name": ".net-csharp"
  },
  "language_info": {
   "name": "csharp"
  },
  "polyglot_notebook": {
   "kernelInfo": {
    "defaultKernelName": "csharp",
    "items": [
     {
      "aliases": [],
      "name": "csharp"
     }
    ]
   }
  }
 },
 "nbformat": 4,
 "nbformat_minor": 2
}
