{
 "cells": [
  {
   "cell_type": "markdown",
   "metadata": {},
   "source": [
    "# Processing NFT Trait Value Occurrences into JSON Files"
   ]
  },
  {
   "cell_type": "markdown",
   "metadata": {},
   "source": [
    "This notebook outlines the process for creating JSON files that store the occurrences of NFT trait values. These files are later used in [`calculations.ipynb`](./calculations.ipynb) to calculate trait value scores, rarity scores, and ranks.\n",
    "\n",
    "If the JSON files for trait occurrences are missing, you can run this notebook to generate them. However, ensure you have the NFT data files (`tbc_roundone.json` and `tbc_roundtwo.json`) before proceeding. If these files are also missing, first run [`download_nft_data.ipynb`](download_nft_data.ipynb) to scrape and save the required data.\n",
    "\n",
    "\n",
    "---\n",
    "\n",
    "### 1.1 Open Statements"
   ]
  },
  {
   "cell_type": "code",
   "execution_count": 8,
   "metadata": {
    "dotnet_interactive": {
     "language": "fsharp"
    },
    "polyglot_notebook": {
     "kernelName": "fsharp"
    },
    "vscode": {
     "languageId": "polyglot-notebook"
    }
   },
   "outputs": [],
   "source": [
    "open System\n",
    "open System.Collections.Generic\n",
    "open System.IO\n",
    "open System.Text.Json\n",
    "open System.Reflection"
   ]
  },
  {
   "cell_type": "markdown",
   "metadata": {},
   "source": [
    "### 1.2 Creating the Type for JSON Serialization\n",
    "The `NftTraitData` type represents the traits of each NFT. It includes fields such as `Background`, `Bear`, `Clothes`, and others. This type is used to deserialize JSON data and dynamically access NFT properties during processing.\n"
   ]
  },
  {
   "cell_type": "code",
   "execution_count": 9,
   "metadata": {
    "dotnet_interactive": {
     "language": "fsharp"
    },
    "polyglot_notebook": {
     "kernelName": "fsharp"
    },
    "vscode": {
     "languageId": "polyglot-notebook"
    }
   },
   "outputs": [],
   "source": [
    "type NftTraitData = {\n",
    "    Background: string\n",
    "    Bear: string\n",
    "    Clothes: string\n",
    "    Face: string\n",
    "    Handheld: string\n",
    "    Head: string\n",
    "    Skins: string\n",
    "}"
   ]
  },
  {
   "cell_type": "markdown",
   "metadata": {},
   "source": [
    "### 1.3 Calculate the Trait Value Occurrences\n",
    "The function `countAttributes` reads the NFT JSON file, deserializes its contents, and calculates the number of occurrences for each trait value across all NFTs. It dynamically accesses the properties of the `NftTraitData` type, returning a nested dictionary of the form Dictionary<string, Dictionary<string, int>>:\n",
    "\n",
    "- Outer dictionary: Maps trait categories (e.g., `Background`, `Bear`) to inner dictionary\n",
    "- Inner dictionary: Maps each trait value to its occurrence count.\n",
    "\n",
    "The output is used to understand the distribution of trait values within the dataset."
   ]
  },
  {
   "cell_type": "code",
   "execution_count": 10,
   "metadata": {
    "dotnet_interactive": {
     "language": "fsharp"
    },
    "polyglot_notebook": {
     "kernelName": "fsharp"
    },
    "vscode": {
     "languageId": "polyglot-notebook"
    }
   },
   "outputs": [],
   "source": [
    "let countAttributes (jsonFilePath: string) =\n",
    "\n",
    "    let jsonString = File.ReadAllText(jsonFilePath)\n",
    "    let nftList = JsonSerializer.Deserialize<NftTraitData list>(jsonString)\n",
    "    let attributeCounts = Dictionary<string, Dictionary<string, int>>()\n",
    "\n",
    "    let nftAttributes = \n",
    "        typeof<NftTraitData>.GetProperties()\n",
    "        |> Array.filter (fun prop -> prop.PropertyType = typeof<string>)\n",
    "\n",
    "    for attribute in nftAttributes do\n",
    "        let propertyName = attribute.Name\n",
    "        for nft in nftList do\n",
    "            let value = attribute.GetValue(nft) :?> string\n",
    "            if not (isNull value) then\n",
    "                if not (attributeCounts.ContainsKey(propertyName)) then\n",
    "                    attributeCounts.[propertyName] <- Dictionary<string, int>()\n",
    "\n",
    "                let propertyDict = attributeCounts.[propertyName]\n",
    "                if not (propertyDict.ContainsKey(value)) then\n",
    "                    propertyDict.[value] <- 0\n",
    "\n",
    "                propertyDict.[value] <- propertyDict.[value] + 1\n",
    "\n",
    "    attributeCounts"
   ]
  },
  {
   "cell_type": "markdown",
   "metadata": {},
   "source": [
    "### 1.4 Serialize and Save Results\n",
    "The function `serializeAttributes` takes in the output of `countAttributes`, serializes the data, and then saves it in the indicated file."
   ]
  },
  {
   "cell_type": "code",
   "execution_count": 11,
   "metadata": {
    "dotnet_interactive": {
     "language": "fsharp"
    },
    "polyglot_notebook": {
     "kernelName": "fsharp"
    },
    "vscode": {
     "languageId": "polyglot-notebook"
    }
   },
   "outputs": [],
   "source": [
    "let serializeAttributes (attributeCounts: Dictionary<string, Dictionary<string, int>>) (outputFilePath: string) =\n",
    "    try\n",
    "        let directory = Path.GetDirectoryName(outputFilePath)\n",
    "        if not (Directory.Exists(directory)) then\n",
    "            Directory.CreateDirectory(directory) |> ignore\n",
    "\n",
    "        let jsonOutput = JsonSerializer.Serialize(attributeCounts, JsonSerializerOptions(WriteIndented = true))\n",
    "        File.WriteAllText(outputFilePath, jsonOutput)\n",
    "        printfn \"Attribute counts saved to %s\" outputFilePath\n",
    "    with\n",
    "    | ex ->\n",
    "        printfn \"Error during serialization: %s\" ex.Message\n",
    "        raise ex\n"
   ]
  },
  {
   "cell_type": "markdown",
   "metadata": {},
   "source": [
    "### 1.5 Call the Functions for Each of the NFT Rounds"
   ]
  },
  {
   "cell_type": "code",
   "execution_count": 12,
   "metadata": {
    "dotnet_interactive": {
     "language": "fsharp"
    },
    "polyglot_notebook": {
     "kernelName": "fsharp"
    },
    "vscode": {
     "languageId": "polyglot-notebook"
    }
   },
   "outputs": [
    {
     "name": "stdout",
     "output_type": "stream",
     "text": [
      "Attribute counts saved to ./data/tbc_traits_roundone.json\n"
     ]
    }
   ],
   "source": [
    "let jsonFilePath = \"./data/tbc_roundone.json\"\n",
    "let outputPath = \"./data/tbc_traits_roundone.json\"\n",
    "let attributeCounts = countAttributes jsonFilePath\n",
    "serializeAttributes attributeCounts  outputPath"
   ]
  },
  {
   "cell_type": "code",
   "execution_count": 13,
   "metadata": {
    "dotnet_interactive": {
     "language": "fsharp"
    },
    "polyglot_notebook": {
     "kernelName": "fsharp"
    },
    "vscode": {
     "languageId": "polyglot-notebook"
    }
   },
   "outputs": [
    {
     "name": "stdout",
     "output_type": "stream",
     "text": [
      "Attribute counts saved to ./data/tbc_traits_roundtwo.json\n"
     ]
    }
   ],
   "source": [
    "let jsonFilePath = \"./data/tbc_roundtwo.json\"\n",
    "let outputPath = \"./data/tbc_traits_roundtwo.json\"\n",
    "let attributeCounts = countAttributes jsonFilePath\n",
    "serializeAttributes attributeCounts outputPath"
   ]
  }
 ],
 "metadata": {
  "kernelspec": {
   "display_name": ".NET (C#)",
   "language": "C#",
   "name": ".net-csharp"
  },
  "language_info": {
   "name": "csharp"
  },
  "polyglot_notebook": {
   "kernelInfo": {
    "defaultKernelName": "csharp",
    "items": [
     {
      "aliases": [],
      "name": "csharp"
     }
    ]
   }
  }
 },
 "nbformat": 4,
 "nbformat_minor": 2
}
