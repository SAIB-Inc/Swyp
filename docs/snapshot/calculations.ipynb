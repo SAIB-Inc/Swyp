{
 "cells": [
  {
   "cell_type": "markdown",
   "metadata": {
    "dotnet_interactive": {
     "language": "fsharp"
    },
    "polyglot_notebook": {
     "kernelName": "fsharp"
    },
    "vscode": {
     "languageId": "polyglot-notebook"
    }
   },
   "source": [
    "# **Swyp Teddy Bear Club NFT Rating and Rewards Calculation**\n",
    "\n",
    "## **1. Overview**\n",
    "\n",
    "An **Initial NFT Offering (INO)** is a fundraising method in the cryptocurrency and blockchain ecosystem, specifically tailored for NFTs (Non-Fungible Tokens). Similar to an Initial Coin Offering (ICO), INOs allow creators, projects, or platforms to raise funds by selling a collection of NFTs to early adopters and investors.\n",
    "\n",
    "In this context, the **Teddy Bear Club NFTs** served as **TeddySwap's NFT offering**. By minting these NFTs, owners earn rewards in **TEDY Tokens**, with the amount determined by both the rarity and quantity of the NFTs they hold. The INO was conducted in two rounds:\n",
    "- [**Round 1**](https://medium.com/@TeddySwapDEX/teddy-bears-club-minting-utility-and-launch-date-23e9a4e4446d) launched on **February 17, 2023**\n",
    "- [**Round 2**](https://medium.com/@TeddySwapDEX/teddy-bears-club-round-2-c209556b379f) launched on **March 8, 2023**\n",
    "\n",
    "### *Note!*\n",
    "In TeddySwap's [**initial tokenomics**](https://medium.com/@TeddySwapDEX/teddyswap-tokenomics-fcd700aea552), the market cap was set at **5,000,000,000 TEDY**. However, it was later adjusted to **8,000,000 TEDY** in a [**second announcement**](https://medium.com/@TeddySwapDEX/tedy-tokenomics-v2-fc92723ead0c). This notebook utilizes the original market cap for the calculations, scaling it to the new market cap in the final step.\n",
    "\n",
    "\n",
    "### **1.1 Purpose**\n",
    "\n",
    "This document outlines the process for calculating the NFTs' corresponding TEDY token rewards for the Teddy Bear Club NFTs across Round 1 and Round 2. Since the ranking and reward structures differ between the two rounds, calculations are performed separately for each round and then summed to determine the total rewards, where applicable. \n",
    "\n",
    "Feel free to download this notebook and explore it at your convenience.\n",
    "\n",
    "---\n",
    "\n",
    "### **1.2 NFT Information**\n",
    "\n",
    "### *Note!*\n",
    "\n",
    "Throughout the TEDY life cycle and the duration of the INO, several announcements were released that affected the total TEDY rewards initially determined. Below is a summary of these announcements:\n",
    "\n",
    "1. According to the official [Teddy Bears Club](https://tbc.teddyswap.org/) website, the TEDY earnings were updated to include an additional **10% bonus** to the initial values decided in the [initial announcement](https://medium.com/@TeddySwapDEX/teddy-bears-club-minting-utility-and-launch-date-23e9a4e4446d).\n",
    "\n",
    "### Round 1\n",
    "\n",
    "- **Policy ID:** `ab182ed76b669b49ee54a37dee0d0064ad4208a859cc4fdf3f906d87`\n",
    "- **Total NFTs:** 804\n",
    "- **Tier System:**\n",
    "\n",
    "| **Tier** | **Rarity Range** | **Initial TEDY Allocation** | **Updated TEDY Allocation** |\n",
    "|----------|-------------------|-------------------------------|-----------------------------------------|\n",
    "| Tier 1   | Rarity 1 - 15     | 28,000                        | 30,800                                  |\n",
    "| Tier 2   | Rarity 16 - 100   | 17,500                        | 19,250                                  |\n",
    "| Tier 3   | Rarity 101 - 250  | 12,600                        | 13,860                                  |\n",
    "| Tier 4   | Rarity 251 - 500  | 11,200                        | 12,320                                  |\n",
    "| Tier 5   | Rarity 501 - 804  | 10,500                        | 11,550                                  |\n",
    "\n",
    "2. The [**initial announcement**](https://medium.com/@TeddySwapDEX/teddy-bears-club-round-2-c209556b379f) regarding **Round 2** detailed tiers for ranks **1 - 9,200**. Since **2,035** NFTs were sold, the ranks were adjusted accordingly in this [**Discord announcement**](https://discord.com/channels/1053191459597201448/1053207517154508870/1095880926086570105) on the Discord server.\n",
    "\n",
    "### Round 2\n",
    "\n",
    "- **Policy ID:** `da3562fad43b7759f679970fb4e0ec07ab5bebe5c703043acda07a3c`\n",
    "- **Total NFTs:** 2,035\n",
    "- **Tier System:**\n",
    "\n",
    "| **Tier** | **Initial Rarity Range** | **Updated Rarity Range** | **Previous MarketCap TEDY** |\n",
    "|----------|-------------------|------------------------------|---------------|\n",
    "| Tier 1   | Rarity 1 - 100       |  Rarity 1 - 23             |       7,000         |\n",
    "| Tier 2   | Rarity 101 - 999     |  Rarity 24 - 221           |      6,000          |\n",
    "| Tier 3   | Rarity 1,000 - 2,999 |  Rarity 222 - 664          |        5,000        |\n",
    "| Tier 4   | Rarity 3,000 - 5,999 |  Rarity 665 - 1,327        |        4,500        |\n",
    "| Tier 5   | Rarity 6,000 - 9,200 |  Rarity 1,328 - 2,035      |         4,200       |\n",
    "\n",
    "\n",
    "---\n",
    "\n",
    "### **1.3 Workflow Summary**\n",
    "The workflow is divided into the following steps:\n",
    "\n",
    "1. **Fetch Data From JSON Files**  \n",
    "   1.1 Load NFT data from the JSON files.\n",
    "\n",
    "2. **NFT Rank Calculation**  \n",
    "   2.1 Assign point values based on trait value rarity.  \n",
    "   2.2 Compute overall rarity ranks for each NFT.\n",
    "\n",
    "3. **NFT Rewards Calculation**  \n",
    "   3.1 Load rank data from the CSV file<br>\n",
    "   3.2 Count the number of occurrences of each NFT within its respective tier.<br>\n",
    "   3.3 Calculate the user’s percentage share across all sold NFTs.<br>\n",
    "   3.4 Determine the user’s TEDY percentage share based on the remaining available TEDY token rewards.<br>\n",
    "   3.5 Compute the total TEDY token rewards using the number and rank of owned NFTs, factoring in the user’s percentage share.<br>\n",
    "   3.6 Adjust the final TEDY token rewards according to the updated market cap of 8,000,000.<br>\n",
    "   \n",
    "---\n",
    "\n",
    "### **1.4 Necessary Package Installations and Open Statements**\n",
    "\n"
   ]
  },
  {
   "cell_type": "code",
   "execution_count": null,
   "metadata": {
    "dotnet_interactive": {
     "language": "fsharp"
    },
    "polyglot_notebook": {
     "kernelName": "fsharp"
    },
    "vscode": {
     "languageId": "polyglot-notebook"
    }
   },
   "outputs": [],
   "source": [
    "#i \"nuget:https://pkgs.dev.azure.com/dnceng/public/_packaging/dotnet5/nuget/v3/index.json\"\n",
    "#i \"nuget:https://pkgs.dev.azure.com/dnceng/public/_packaging/dotnet-tools/nuget/v3/index.json\"\n",
    "\n",
    "#r \"nuget: Plotly.NET.Interactive, 5.0.0\"\n",
    "#r \"nuget: Plotly.NET.ImageExport\""
   ]
  },
  {
   "cell_type": "code",
   "execution_count": 6,
   "metadata": {
    "dotnet_interactive": {
     "language": "fsharp"
    },
    "polyglot_notebook": {
     "kernelName": "fsharp"
    },
    "vscode": {
     "languageId": "polyglot-notebook"
    }
   },
   "outputs": [],
   "source": [
    "open System.Text.Json\n",
    "open System.IO\n",
    "open System.Net.Http\n",
    "open System.Threading.Tasks\n",
    "open FSharp.Data\n",
    "open FSharp.Reflection\n",
    "open Plotly.NET\n",
    "open Plotly.NET.Interactive\n",
    "open Plotly.NET.ImageExport"
   ]
  },
  {
   "cell_type": "markdown",
   "metadata": {},
   "source": [
    "# **2. Workflow**"
   ]
  },
  {
   "cell_type": "markdown",
   "metadata": {},
   "source": [
    "## 1. Fetch Data\n",
    "The metadata for the NFTs was scraped from the official Teddy Bears Club website ([Teddy Bears Club](https://tbc.teddyswap.org/)) and [CNFT Tools](https://cnft.tools/teddybearclub2) and stored in JSON files. Please refer to the [`webscraper.ipynb`](./webscraper.ipynb) to see how we did it, and try it out yourself. Additionally, refer to [`attributecounter.ipynb`](./attributecounter.ipynb) for the tallying of trait value occurences.\n",
    "\n",
    "In this section, we will parse the JSON data to extract information about the NFTs and the occurrence of their traits. This data will serve as the foundation for calculating rankings and determining rewards in the subsequent sections. Using the data from the JSON files, we were also able to compute for the NFTs' rarity score and rarity rank. For efficiency, we then created a CSV file mapping subjects to their rank, which will also be extracted in this section.\n",
    "\n",
    "---\n",
    "\n",
    "#### **Types**:\n",
    "The NFT and NFTTraits types are partial representations of the data, as only the fields relevant to ranking and reward calculations have been included.\n",
    "\n",
    "- **`NFT`**: Represents an individual NFT, focusing on its identifiers and traits.\n",
    "\n",
    "- **`NFTTraits`**: Captures occurrence counts of trait values across NFTs.\n",
    "\n",
    "#### **Function**:\n",
    "1. **`loadNFTs<'T>`**: \n",
    "- Loads and deserializes JSON data into a specified type:\n",
    "- **Parameters**: \n",
    "     - `filePath (string)`: the path to the JSON file.\n",
    "- **Returns**:\n",
    "    - Parsed data of type `'T`\n",
    "\n",
    "--- \n",
    "\n",
    "#### **Variables**:<br>\n",
    "**`nftRound1NFTS`**: <br>\n",
    "- (NFT list): NFTs from Round 1 <br>\n",
    "\n",
    " **`nftRound2NFTS`**:  <br>\n",
    "- (NFT list):  NFTs from Round 2 <br>\n",
    "\n",
    " **`nftRound1Traits`**: <br>\n",
    "- (NFTTraits): Trait value counts for Round 1 NFTs <br>\n",
    "    \n",
    " **`nftRound2Traits`**:  <br>\n",
    "- (NFTTraits): Trait value counts for Round 2 NFTs<br>\n",
    "\n",
    "---\n",
    "\n",
    "### 1.1 Fetch NFT Data From JSON"
   ]
  },
  {
   "cell_type": "code",
   "execution_count": 7,
   "metadata": {
    "dotnet_interactive": {
     "language": "fsharp"
    },
    "polyglot_notebook": {
     "kernelName": "fsharp"
    },
    "vscode": {
     "languageId": "polyglot-notebook"
    }
   },
   "outputs": [],
   "source": [
    "type NFT = {\n",
    "    assetName: string\n",
    "    encodedName: string\n",
    "    Background: string\n",
    "    Bear: string\n",
    "    Clothes: string\n",
    "    Face: string\n",
    "    Handheld: string\n",
    "    Head: string\n",
    "    Skins: string\n",
    "}\n",
    "\n",
    "type NFTTraits = {\n",
    "    Background: Map<string, int>\n",
    "    Bear: Map<string, int>\n",
    "    Clothes: Map<string, int>\n",
    "    Face: Map<string, int>\n",
    "    Handheld: Map<string, int>\n",
    "    Head: Map<string, int>\n",
    "    Skins: Map<string, int>\n",
    "}"
   ]
  },
  {
   "cell_type": "code",
   "execution_count": 8,
   "metadata": {
    "dotnet_interactive": {
     "language": "fsharp"
    },
    "polyglot_notebook": {
     "kernelName": "fsharp"
    },
    "vscode": {
     "languageId": "polyglot-notebook"
    }
   },
   "outputs": [],
   "source": [
    "let loadNfts<'T> (filePath: string) : 'T =\n",
    "    let jsonContent = File.ReadAllText(filePath)\n",
    "    JsonSerializer.Deserialize<'T>(jsonContent)"
   ]
  },
  {
   "cell_type": "code",
   "execution_count": 9,
   "metadata": {
    "dotnet_interactive": {
     "language": "fsharp"
    },
    "polyglot_notebook": {
     "kernelName": "fsharp"
    },
    "vscode": {
     "languageId": "polyglot-notebook"
    }
   },
   "outputs": [],
   "source": [
    "let nftRound1NFTS = loadNfts<NFT list> \"./data/collection_1.json\"\n",
    "let nftRound2NFTS = loadNfts<NFT list> \"./data/collection_2.json\""
   ]
  },
  {
   "cell_type": "code",
   "execution_count": 10,
   "metadata": {
    "dotnet_interactive": {
     "language": "fsharp"
    },
    "polyglot_notebook": {
     "kernelName": "fsharp"
    },
    "vscode": {
     "languageId": "polyglot-notebook"
    }
   },
   "outputs": [],
   "source": [
    "let nftRound1Traits = loadNfts<NFTTraits> \"./data/collectiontraits_1.json\"\n",
    "let nftRound2Traits = loadNfts<NFTTraits> \"./data/collectiontraits_2.json\""
   ]
  },
  {
   "cell_type": "markdown",
   "metadata": {},
   "source": [
    "## **2. NFT Rank Calculation** \n",
    "Each NFT has traits such as Background, Bear, Clothing, and more, with each trait having specific values. For example, the Background trait can have values like Space, Lighthouse, or Sunflowers. The overall rarity score and rank of an NFT are determined by the rarity of its trait values.\n",
    "\n",
    "Therefore, the rarity score of an NFT is calculated by assessing the rarity of its trait values. First, we determine the percentage of NFTs that share each specific trait value by dividing its number of occurrences by the total NFTs in the round. Next, we subtract this percentage from 100 to assign higher points to rarer traits. Finally, the total rarity score is obtained by summing the points across all trait categories (e.g., Background, Hair, Clothes). The score is rounded to two decimal places for consistency, ensuring that the rarer the NFT, the higher its final rarity score.\n",
    "\n",
    "$\\text{Trait Score} = \\text{round}\\left(100.0 - \\left(\\frac{\\text{Trait Frequency}}{\\text{Total NFTs}}\\right) \\cdot 100.0, 2\\right)$\n",
    "\n",
    "$\\text{Total Rarity Score} = \\sum_{i=1}^{7} T_i$\n",
    "\n",
    "---\n",
    "### 2.1 Assign point values based on trait value rarity.   \n",
    "Utilizing the Trait Score formula, we compute each trait value's score. We then store those scores in a Map of traits and trait values. \n",
    "\n",
    "#### **Function**:\n",
    "1. **`processNFTTraits`**: \n",
    "- Calculates rarity scores for each trait value given an NFTTraits record and the total number of NFTs in the round.\n",
    "- **Parameters**:<br>\n",
    "    - **`nftTraits`**: (NFTTraits): The trait value occurrence data for a round.\n",
    "        \n",
    "    - **`totalNfts`**: (float): The total number of NFTs in the round.\n",
    "- **Returns**: <br>\n",
    "    - A Map<string, Map<string, float>> of traits, their values, and the trait value's number of occurrences\n",
    "\n",
    "#### **Variables**:\n",
    "**`r1TotalNfts`**: \n",
    "- (float): The total number of NFTs in Round 1 (804).<br>\n",
    "\n",
    "**`r2TotalNfts`**: \n",
    "- (float): The total number of NFTs in Round 2 (2035).<br>\n",
    "\n",
    "**`r1ScoredTraits`**: \n",
    "- (Map<string, Map<string, float>>): A map of scored trait values for Round 1 NFTs.<br>\n",
    "\n",
    "**`r2ScoredTraits`**: \n",
    "- (Map<string, Map<string, float>>): A map of scored trait values for Round 2 NFTs.<br>\n"
   ]
  },
  {
   "cell_type": "code",
   "execution_count": 11,
   "metadata": {
    "dotnet_interactive": {
     "language": "fsharp"
    },
    "polyglot_notebook": {
     "kernelName": "fsharp"
    },
    "vscode": {
     "languageId": "polyglot-notebook"
    }
   },
   "outputs": [],
   "source": [
    "let r1TotalNfts = 804.0\n",
    "let r2TotalNfts = 2035.0"
   ]
  },
  {
   "cell_type": "code",
   "execution_count": 12,
   "metadata": {
    "dotnet_interactive": {
     "language": "fsharp"
    },
    "polyglot_notebook": {
     "kernelName": "fsharp"
    },
    "vscode": {
     "languageId": "polyglot-notebook"
    }
   },
   "outputs": [],
   "source": [
    "let processNFTTraits (nftTraits: NFTTraits) (totalNfts: float) =\n",
    "    let recordType = typeof<NFTTraits>\n",
    "    FSharp.Reflection.FSharpType.GetRecordFields(recordType)\n",
    "    |> Array.fold (fun acc field ->\n",
    "        let fieldValue = field.GetValue(nftTraits) :?> Map<string, int>\n",
    "        let traitScores = \n",
    "            fieldValue |> Map.map (fun key value ->\n",
    "                Math.Round(100.0 - (float value / float totalNfts) * 100.0, 2)\n",
    "            )\n",
    "        Map.add field.Name traitScores acc\n",
    "    ) Map.empty"
   ]
  },
  {
   "cell_type": "code",
   "execution_count": 13,
   "metadata": {
    "dotnet_interactive": {
     "language": "fsharp"
    },
    "polyglot_notebook": {
     "kernelName": "fsharp"
    },
    "vscode": {
     "languageId": "polyglot-notebook"
    }
   },
   "outputs": [],
   "source": [
    "let r1ScoredTraits = processNFTTraits nftRound1Traits r1TotalNfts\n",
    "let r2ScoredTraits = processNFTTraits nftRound2Traits r2TotalNfts"
   ]
  },
  {
   "cell_type": "markdown",
   "metadata": {},
   "source": [
    "### *Illustrating the Distribution of Trait Scores*: \n",
    "This section visualizes the percentages of trait occurrences alongside their corresponding scores. The createCharts function processes the trait data and generates doughnut charts that display both the raw values and their proportions."
   ]
  },
  {
   "cell_type": "code",
   "execution_count": 14,
   "metadata": {
    "dotnet_interactive": {
     "language": "fsharp"
    },
    "polyglot_notebook": {
     "kernelName": "fsharp"
    },
    "vscode": {
     "languageId": "polyglot-notebook"
    }
   },
   "outputs": [],
   "source": [
    "let createCharts (traitScores: Map<string, Map<string, float>>) = \n",
    "    traitScores\n",
    "    |> Map.fold( fun acc title labelsAndValues ->\n",
    "        let labels,values = \n",
    "            labelsAndValues\n",
    "            |> Map.toList\n",
    "            |> List.unzip\n",
    "\n",
    "        let combinedText = \n",
    "            List.map2 (fun label value -> sprintf \"%s: %.2f\" label value) labels values\n",
    "\n",
    "        let chart = \n",
    "            Chart.Doughnut(values = values, Labels = labels, Hole = 0.5, MultiText = combinedText)\n",
    "            |> Chart.withTitle title\n",
    "            |> Chart.withLayout(\n",
    "                Layout.init(\n",
    "                    Width = 1200,\n",
    "                    Height = 1000\n",
    "                )\n",
    "            )\n",
    "                    \n",
    "        chart :: acc\n",
    "    )[]\n",
    "    |> List.rev\n",
    "\n",
    "let chartRound1 = createCharts r1ScoredTraits \n",
    "let chartRound2 = createCharts r2ScoredTraits"
   ]
  },
  {
   "cell_type": "markdown",
   "metadata": {},
   "source": [
    "### Teddy Bear Club Round 1 Trait Value Scores"
   ]
  },
  {
   "cell_type": "markdown",
   "metadata": {},
   "source": [
    "<img src=\"./assets/charts1/doughnut1.png\" alt=\"Round 1 Doughnut Charts\" width=\"1400\" height=\"800\">\n",
    "<img src=\"./assets/charts1/doughnut2.png\" alt=\"Round 1 Doughnut Charts\" width=\"1400\" height=\"800\">\n",
    "<img src=\"./assets/charts1/doughnut3.png\" alt=\"Round 1 Doughnut Charts\" width=\"1400\" height=\"800\">\n",
    "<img src=\"./assets/charts1/doughnut4.png\" alt=\"Round 1 Doughnut Charts\" width=\"1400\" height=\"800\">"
   ]
  },
  {
   "cell_type": "code",
   "execution_count": null,
   "metadata": {
    "dotnet_interactive": {
     "language": "fsharp"
    },
    "polyglot_notebook": {
     "kernelName": "fsharp"
    },
    "vscode": {
     "languageId": "polyglot-notebook"
    }
   },
   "outputs": [],
   "source": [
    "for chart in chartRound1 do\n",
    "    display(chart |> Chart.withSize(1400,1400))"
   ]
  },
  {
   "cell_type": "markdown",
   "metadata": {},
   "source": [
    "### Teddy Bears Club Round 2 Trait Value Scores"
   ]
  },
  {
   "cell_type": "markdown",
   "metadata": {},
   "source": [
    "<img src=\"./assets/charts2/doughnut1.png\" alt=\"Round 2 Doughnut Charts\" width=\"1400\" height=\"800\">\n",
    "<img src=\"./assets/charts2/doughnut2.png\" alt=\"Round 2 Doughnut Charts\" width=\"1400\" height=\"800\">\n",
    "<img src=\"./assets/charts2/doughnut3.png\" alt=\"Round 2 Doughnut Charts\" width=\"1400\" height=\"800\">\n",
    "<img src=\"./assets/charts2/doughnut4.png\" alt=\"Round 2 Doughnut Charts\" width=\"1400\" height=\"800\">"
   ]
  },
  {
   "cell_type": "code",
   "execution_count": null,
   "metadata": {
    "dotnet_interactive": {
     "language": "fsharp"
    },
    "polyglot_notebook": {
     "kernelName": "fsharp"
    },
    "vscode": {
     "languageId": "polyglot-notebook"
    }
   },
   "outputs": [],
   "source": [
    "for chart in chartRound2 do\n",
    "    display(chart |> Chart.withSize(1400,1400)) "
   ]
  },
  {
   "cell_type": "markdown",
   "metadata": {},
   "source": [
    "### 2.2 Compute overall rarity ranks for each NFT. \n",
    "Using the information from this step, we also created the CSV mapping NFTs to their ranks for easier access and computation. It will be used below in computing the the TEDY token rewards. Please refer to [`rankdata.ipynb`](./rankdata.ipynb) regarding the creation of the CSV file.\n",
    "\n",
    "#### **Function**:\n",
    "1. **`computeNFTRank`**: \n",
    "- Computes the rarity rank of NFTs based on their traits and scores.\n",
    "- **Parameters**:\n",
    "    - **`nftList`**: (NFT list): The list of NFTs to rank.\n",
    "    - **`nftTraitScores`**: (Map<string, Map<string, float>>): Trait value scores computed above.\n",
    "\n",
    "#### **Variables**:\n",
    "**`rankedNFTsRound1`**: \n",
    "- (list): Ranks Round 1 NFTs and stores the asset's assetName, encodedName, and rarityScore.\n",
    "\n",
    "**`rankedNFTsRound2`**: \n",
    "- (list): Ranks Round 2 NFTs with the same structure as above.\n"
   ]
  },
  {
   "cell_type": "code",
   "execution_count": 15,
   "metadata": {
    "dotnet_interactive": {
     "language": "fsharp"
    },
    "polyglot_notebook": {
     "kernelName": "fsharp"
    },
    "vscode": {
     "languageId": "polyglot-notebook"
    }
   },
   "outputs": [],
   "source": [
    "let computeNFTRank (nftList: list<NFT>) nftTraitScores = \n",
    "    nftList\n",
    "    |> List.map (fun nft ->\n",
    "        let rarityScore =  \n",
    "            [\n",
    "                (\"Background\", nft.Background)\n",
    "                (\"Bear\", nft.Bear)\n",
    "                (\"Clothes\", nft.Clothes)\n",
    "                (\"Face\", nft.Face)\n",
    "                (\"Handheld\", nft.Handheld)\n",
    "                (\"Head\", nft.Head)\n",
    "                (\"Skins\", nft.Skins)\n",
    "            ]\n",
    "            |> List.fold (fun acc (attrName, attrValue) ->  \n",
    "                match Map.tryFind attrName nftTraitScores with\n",
    "                | Some traitMap ->  \n",
    "                    acc + (Map.tryFind attrValue traitMap |> Option.defaultValue 0.0)\n",
    "                | None -> acc \n",
    "            ) 0.0 \n",
    "        (nft.assetName, nft.encodedName, rarityScore) \n",
    "    )\n",
    "    |> List.sortBy (fun (_, _, rarityScore) -> -rarityScore)\n",
    "    |> List.mapi (fun index (assetName, encodedName, rarityScore) -> \n",
    "    (index + 1, assetName, encodedName, rarityScore))"
   ]
  },
  {
   "cell_type": "code",
   "execution_count": 16,
   "metadata": {
    "dotnet_interactive": {
     "language": "fsharp"
    },
    "polyglot_notebook": {
     "kernelName": "fsharp"
    },
    "vscode": {
     "languageId": "polyglot-notebook"
    }
   },
   "outputs": [],
   "source": [
    "let rankedNFTsRound1 = computeNFTRank nftRound1NFTS r1ScoredTraits\n",
    "let rankedNFTsRound2 = computeNFTRank nftRound2NFTS r2ScoredTraits"
   ]
  },
  {
   "cell_type": "markdown",
   "metadata": {},
   "source": [
    "## **3. NFT Rewards Calculation** \n",
    "Calculating a user's TEDY rewards takes into account the NFTs they own, their respective round each NFT belongs to, and their individual ranks within those rounds. The functions below will identify the tier of a subject, based upon the ranking calculations done above. Additionally, the calculation considers the user's proportional share of unsold NFTs - so the number of NFTs a user holds is taken into consideration as well.\n",
    "\n",
    "---\n",
    "### **3.1 Fetch Rank Data From CSV**\n",
    "Load NFT rank data from the [`collectionranks.csv`](./data/collectionranks.csv) file in the `data` folder.  Using the calculations below, we computed the rank of each subject and then created a CSV to map those values. If you wish to read the code or recreate the CSV file's creation, refer to [`rankData.ipynb`](./rankdata.ipynb).\n",
    "\n",
    "#### **Type**:\n",
    "- **`NFTRecord`**: Represents an individual NFT record from the CSV.\n",
    "\n",
    "#### **Functions**:\n",
    "\n",
    "1. **`parseCsv`**:\n",
    "- Parses a CSV file into a list of `NFTRecord` entries.\n",
    "- **Parameters**:\n",
    "   - `filePath (string)`: The path to the CSV file.\n",
    "- **Returns**:  \n",
    "   - A `list<NFTRecord>` containing records with `Name`, `Subject`, `Rank`, and `Score`.\n",
    "\n",
    "2. **`createSubjectToRankMap`**:\n",
    "- Creates a mapping of `Subject`(Policy Id + AssetName) to `Rank`.\n",
    "- **Parameters**:\n",
    "   - `records (list<NFTRecord>)`: A list of `NFTRecord` entries.\n",
    "- **Returns**:  \n",
    "   - A `Map<string, int>` mapping subjects to their ranks.\n",
    "\n",
    "3. **`createNameToRankMap`**:\n",
    "- Creates a mapping of `Name` (i.e. TeddyBearsClub178) to `Rank`.\n",
    "- **Parameters**:\n",
    "   - `records (list<NFTRecord>)`: A list of `NFTRecord` entries.\n",
    "- **Returns**:  \n",
    "   - A `Map<string, int>` mapping names to their ranks.\n",
    "\n",
    "---\n",
    "\n",
    "#### **Variables**:\n",
    "\n",
    "1. **`csvPath`**:  \n",
    "   - `(string)`: The file path to the CSV file containing NFT rank data.\n",
    "\n",
    "2. **`nftDataList`**:  \n",
    "   - `(list<NFTRecord>)`: A list of parsed `NFTRecord` entries created from the CSV file.\n",
    "\n",
    "3. **`subjectRankData`**:  \n",
    "   - `(Map<string, int>)`: A mapping of `Subject` to `Rank` created using `createSubjectToRankMap`.\n",
    "\n",
    "4. **`nameRankData`**:  \n",
    "   - `(Map<string, int>)`: A mapping of `Name` to `Rank` created using `createNameToRankMap`.\n"
   ]
  },
  {
   "cell_type": "code",
   "execution_count": 17,
   "metadata": {
    "dotnet_interactive": {
     "language": "fsharp"
    },
    "polyglot_notebook": {
     "kernelName": "fsharp"
    },
    "vscode": {
     "languageId": "polyglot-notebook"
    }
   },
   "outputs": [],
   "source": [
    "type NFTRecord = {\n",
    "    Name: string\n",
    "    Subject: string\n",
    "    Rank: int\n",
    "    Score: float\n",
    "}"
   ]
  },
  {
   "cell_type": "code",
   "execution_count": 18,
   "metadata": {
    "dotnet_interactive": {
     "language": "fsharp"
    },
    "polyglot_notebook": {
     "kernelName": "fsharp"
    },
    "vscode": {
     "languageId": "polyglot-notebook"
    }
   },
   "outputs": [],
   "source": [
    " let parseCsv (filePath: string) =\n",
    "    File.ReadAllLines(filePath)\n",
    "    |> Array.skip 1\n",
    "    |> Array.map (fun line ->\n",
    "        let parts = line.Split(',')\n",
    "        {\n",
    "            Name = parts.[0]\n",
    "            Subject = parts.[1]\n",
    "            Rank = int parts.[2]\n",
    "            Score = float parts.[3]\n",
    "        }\n",
    "    )\n",
    "    |> List.ofArray"
   ]
  },
  {
   "cell_type": "code",
   "execution_count": 19,
   "metadata": {
    "dotnet_interactive": {
     "language": "fsharp"
    },
    "polyglot_notebook": {
     "kernelName": "fsharp"
    },
    "vscode": {
     "languageId": "polyglot-notebook"
    }
   },
   "outputs": [],
   "source": [
    "let createSubjectToRankMap (records: NFTRecord list) =\n",
    "    records\n",
    "    |> List.map (fun record -> record.Subject, record.Rank)\n",
    "    |> Map.ofList\n",
    "\n",
    "let createNameToRankMap (records: NFTRecord list) =\n",
    "    records\n",
    "    |> List.map (fun record -> record.Name, record.Rank)\n",
    "    |> Map.ofList"
   ]
  },
  {
   "cell_type": "code",
   "execution_count": 20,
   "metadata": {
    "dotnet_interactive": {
     "language": "fsharp"
    },
    "polyglot_notebook": {
     "kernelName": "fsharp"
    },
    "vscode": {
     "languageId": "polyglot-notebook"
    }
   },
   "outputs": [],
   "source": [
    "let csvPath = \"./data/collectionranks.csv\"\n",
    "let nftDataList = parseCsv csvPath\n",
    "let subjectRankData = createSubjectToRankMap  nftDataList \n",
    "let nameRankData = createNameToRankMap  nftDataList "
   ]
  },
  {
   "cell_type": "markdown",
   "metadata": {},
   "source": [
    "### **3.2 Identify a Subject's Tier**\n",
    "Given a subject, composed of the NFT's policy id and asset name, we categorize the NFT into its respective tier based on its round and rank.\n",
    "\n",
    "#### **Functions**:\n",
    "1. **`categorizeNftRound1ByTier`**:\n",
    "- Categorizes the Round 1 NFT according to its Tier.\n",
    "- **Parameters**:\n",
    "  - `subject` (string): The identifier of the NFT.\n",
    "  - `rank` (int): The rarity rank of the NFT.\n",
    "\n",
    "2. **`categorizeNftRound2ByTier`**:\n",
    "- Categorizes the Round 2 NFT according to its Tier.\n",
    "- **Parameters**:\n",
    "  - `subject` (string): The identifier of the NFT.\n",
    "  - `rank` (int): The rarity rank of the NFT.\n",
    "\n",
    "3. **`computeBaseRewards`**:\n",
    "- Given a subject, obtains the TEDY rewards allocated to the subject's tier.\n",
    "- This function calls `categorizeNftRound1ByTier` or `categorizeNftRound2ByTier`.\n",
    "- **Parameters**:\n",
    "  - `subject` (string): The identifier of the NFT.\n",
    "  - `rankData` (Map<string, int>): A mapping of subjects to their rank.\n",
    "- **Returns**:\n",
    "  - `baseRewards` (int): The rewards allocated to the given subject.\n",
    "---\n",
    "\n",
    "#### **Variables**:\n",
    " **`round1PolicyId`**:\n",
    "   - (string): the unique policy ID for identifying NFTs from Round 1.\n",
    "\n",
    " **`round2PolicyId`**:\n",
    "   - (string): the unique policy ID for identifying NFTs from Round 2.\n",
    "\n",
    "**`baseReward`**:\n",
    "   - (int): the amount of TEDY rewards allocated to the NFT."
   ]
  },
  {
   "cell_type": "code",
   "execution_count": 21,
   "metadata": {
    "dotnet_interactive": {
     "language": "fsharp"
    },
    "polyglot_notebook": {
     "kernelName": "fsharp"
    },
    "vscode": {
     "languageId": "polyglot-notebook"
    }
   },
   "outputs": [],
   "source": [
    "let round1PolicyId = \"ab182ed76b669b49ee54a37dee0d0064ad4208a859cc4fdf3f906d87\"\n",
    "let round2PolicyId = \"da3562fad43b7759f679970fb4e0ec07ab5bebe5c703043acda07a3c\""
   ]
  },
  {
   "cell_type": "code",
   "execution_count": 22,
   "metadata": {
    "dotnet_interactive": {
     "language": "fsharp"
    },
    "polyglot_notebook": {
     "kernelName": "fsharp"
    },
    "vscode": {
     "languageId": "polyglot-notebook"
    }
   },
   "outputs": [],
   "source": [
    "let categorizeNftRound1ByTier subject rank  =\n",
    "    if rank <= 15 then 38000\n",
    "    elif rank <= 100 then 19250\n",
    "    elif rank <= 250 then 13860\n",
    "    elif rank <= 500 then 12320\n",
    "    elif rank <= 804 then 11550\n",
    "    else 0  "
   ]
  },
  {
   "cell_type": "code",
   "execution_count": 23,
   "metadata": {
    "dotnet_interactive": {
     "language": "fsharp"
    },
    "polyglot_notebook": {
     "kernelName": "fsharp"
    },
    "vscode": {
     "languageId": "polyglot-notebook"
    }
   },
   "outputs": [],
   "source": [
    "let categorizeNftRound2ByTier subject rank =\n",
    "    if rank <= 23 then 7000\n",
    "    elif rank <= 221 then 6000\n",
    "    elif rank <= 664 then 5000\n",
    "    elif rank <= 1327 then 4500\n",
    "    elif rank <= 2035 then 4200\n",
    "    else 0"
   ]
  },
  {
   "cell_type": "code",
   "execution_count": 24,
   "metadata": {
    "dotnet_interactive": {
     "language": "fsharp"
    },
    "polyglot_notebook": {
     "kernelName": "fsharp"
    },
    "vscode": {
     "languageId": "polyglot-notebook"
    }
   },
   "outputs": [],
   "source": [
    "let computeBaseRewards (subject: string) (rankData: Map<string, int>) =\n",
    "    let baseReward =\n",
    "        if subject.Contains(round1PolicyId) then\n",
    "            categorizeNftRound1ByTier subject subjectRankData[subject] \n",
    "        elif subject.Contains(round2PolicyId) then\n",
    "            categorizeNftRound2ByTier subject subjectRankData[subject]\n",
    "        else\n",
    "            printfn \"Unknown NFT policyId for %s\" subject\n",
    "            0\n",
    "    baseReward"
   ]
  },
  {
   "cell_type": "markdown",
   "metadata": {},
   "source": [
    "### Computing an NFT's Rank and Reward with Alice’s Teddy Bear\n",
    "\n",
    "Now that we've built the functions to calculate NFT rankings and created the functions to identify an NFT's TEDY rewards, it's time to see these computations in action.\n",
    "\n",
    "Let’s consider Alice, a proud owner of a unique NFT: Teddy Bears Club #5731. Naturally, Alice is curious to find out the rank and reward allocation of her beloved Teddy Bear. Using the tools and functions we’ve developed, we can help Alice uncover this information.\n",
    "\n",
    "Below, we’ll use the code to determine the rank and tier of #5731 and show Alice where her NFT stands in the broader collection. Later on, we will also calculate for the TEDY tokens Alice can receive. Let’s dive in!"
   ]
  },
  {
   "cell_type": "markdown",
   "metadata": {},
   "source": [
    "<img src=\"./assets/tbc5731.png\" alt=\"Teddy Bears Club #5731\" width=\"400\" height=\"400\">\n"
   ]
  },
  {
   "cell_type": "code",
   "execution_count": 47,
   "metadata": {
    "dotnet_interactive": {
     "language": "fsharp"
    },
    "polyglot_notebook": {
     "kernelName": "fsharp"
    },
    "vscode": {
     "languageId": "polyglot-notebook"
    }
   },
   "outputs": [],
   "source": [
    "let ownedNFT = \"ab182ed76b669b49ee54a37dee0d0064ad4208a859cc4fdf3f906d8754656464794265617273436c756235373331\""
   ]
  },
  {
   "cell_type": "markdown",
   "metadata": {},
   "source": [
    "We then call `computeBaseRewards` to identify #5731's tier."
   ]
  },
  {
   "cell_type": "code",
   "execution_count": 48,
   "metadata": {
    "dotnet_interactive": {
     "language": "fsharp"
    },
    "polyglot_notebook": {
     "kernelName": "fsharp"
    },
    "vscode": {
     "languageId": "polyglot-notebook"
    }
   },
   "outputs": [],
   "source": [
    "let baseReward =  computeBaseRewards ownedNFT subjectRankData"
   ]
  },
  {
   "cell_type": "code",
   "execution_count": 49,
   "metadata": {
    "dotnet_interactive": {
     "language": "fsharp"
    },
    "polyglot_notebook": {
     "kernelName": "fsharp"
    },
    "vscode": {
     "languageId": "polyglot-notebook"
    }
   },
   "outputs": [
    {
     "name": "stdout",
     "output_type": "stream",
     "text": [
      "Asset: ab182ed76b669b49ee54a37dee0d0064ad4208a859cc4fdf3f906d8754656464794265617273436c756235373331\n",
      "Asset's Rank: 162\n",
      "Asset's TEDY Reward: 13860\n"
     ]
    }
   ],
   "source": [
    "printfn \"Asset: %s\" ownedNFT\n",
    "printfn \"Asset's Rank: %d\" subjectRankData[ownedNFT]\n",
    "printfn \"Asset's TEDY Reward: %d\" baseReward"
   ]
  },
  {
   "cell_type": "markdown",
   "metadata": {},
   "source": [
    "### **3.3 Calculate Portion of TEDY rewards from Surplus TEDY**\n",
    "\n",
    "As stated in the [Round 2 announcement](https://medium.com/@TeddySwapDEX/teddy-bears-club-round-2-c209556b379f), NFT holders receive an additional allocation of TEDY tokens from the pool of unsold NFTs. The formula below calculates the additional TEDY rewards per NFT owned by a user.\n",
    "\n",
    "Where:\n",
    "\n",
    "- **Total INO TEDY Allocation:**  \n",
    "  The total amount of TEDY designated for Initial NFT Offering (INO) rewards.  \n",
    "  $\\text{Total INO TEDY Allocation} = 5,000,000,000 \\times 4.5\\% = 2,250,000,000 \\text{ TEDY}$\n",
    "  \n",
    "- **Round 1 Bonus:**  \n",
    "  The bonus multiplier applied to NFTs sold in Round 1.  \n",
    " $\\text{Round 1 Bonus} = 2.75$\n",
    "\n",
    "- **Round 1 NFTs Sold:**  \n",
    "  The total number of NFTs sold in Round 1.  \n",
    "  $\\text{Round 1 NFTs Sold} = 804$\n",
    "\n",
    "- **Round 2 NFTs Sold:**  \n",
    "  The total number of NFTs sold in Round 2.  \n",
    "  $\\text{Round 2 NFTs Sold} = 2,035$\n",
    "\n",
    "- $\\text{Tier Tokens}_i$:  \n",
    "  The number of TEDY tokens allocated per NFT in Tier \\(i\\).\n",
    "\n",
    "- $\\text{Count of Tier}_i$:\n",
    "  The number of NFTs in Tier \\(i\\).\n",
    "\n",
    "#### **Calculations**\n",
    "\n",
    "1. **Calculate Distributed Tokens:**\n",
    "\n",
    "   This represents the total TEDY tokens already distributed based on the tiers of NFTs sold in both Round 1 and Round 2.\n",
    "\n",
    "   $\\text{Distributed Tokens} = \\sum_{i=1}^{5} (\\text{Round 1 Tier Tokens}_i \\times \\text{Count of Tier}_i) + \\sum_{i=1}^{5} (\\text{Round 2 Tier Tokens}_i \\times \\text{Count of Tier}_i)$\n",
    "\n",
    "2. **Determine Available Token Rewards:**\n",
    "\n",
    "   Subtract the distributed tokens from the total INO TEDY allocation to find the remaining tokens available for surplus distribution.\n",
    "\n",
    "   $\\text{Available Token Rewards} = \\text{Total INO TEDY Allocation} - \\text{Distributed Tokens}$\n",
    "\n",
    "3. **Compute TEDY Surplus per NFT:**\n",
    "\n",
    "   Calculate the additional TEDY reward per NFT by dividing the available token rewards by the effective total number of NFTs, considering the bonus multiplier for Round 1 NFTs.\n",
    "\n",
    "   $\\text{TEDY Surplus per NFT} = \\frac{\\text{Available Token Rewards}}{(\\text{Round 1 NFTs Sold} \\times \\text{Round 1 Bonus}) + \\text{Round 2 NFTs Sold}}$\n",
    "\n",
    "---\n",
    "\n",
    "#### **Functions**:\n",
    "1. **`calculateSurplusTedyPerNFT`**:\n",
    "- Computes the additional TEDY rewards per NFT owned by a user.\n",
    "- **Parameters**:\n",
    "   - None explicitly passed, but it relies on:\n",
    "      - `availableTokenRewards` (array) - The total amount of TEDY rewards available.\n",
    "      - `round1Bonus` (float) - The bonus multiplier for Round 1 NFTs.\n",
    "      - `round1NFTsSold` (int) - Total number of NFTs sold in Round 1.\n",
    "      - `round2NFTsSold` (int)  Total number of NFTs sold in Round 2.\n",
    "- **Returns**:\n",
    "   - \n",
    "\n",
    "---\n",
    "\n",
    "#### **Variables**:\n",
    "**`round1Bonus`**:\n",
    "   - (float): represents the bonus multiplier applied to Round 1 NFTs.\n",
    "\n",
    "**`round1NFTsSold`**:\n",
    "   - (int): represents the total NFTs minted for Round 1.\n",
    "\n",
    "**`round2NFTsSold`**:\n",
    "   - (int): epresents the total NFTs minted for Round 2.\n",
    "   <br>\n",
    "\n",
    "**`round1Tier1`, `round1Tier2`, `round1Tier3`, `round1Tier4`, `round1Tier5`**:\n",
    "   - Tokens allocated per NFT for each tier in Round 1:\n",
    "     - **round1Tier1**: `30800`\n",
    "     - **round1Tier2**: `19250`\n",
    "     - **round1Tier3**: `13860`\n",
    "     - **round1Tier4**: `12320`\n",
    "     - **round1Tier5**: `11550`\n",
    "\n",
    "**`round2Tier1`, `round2Tier2`, `round2Tier3`, `round2Tier4`, `round2Tier5`**:\n",
    "   - Tokens allocated per NFT for each tier in Round 2:\n",
    "     - **round2Tier1**: `7000`\n",
    "     - **round2Tier2**: `6000`\n",
    "     - **round2Tier3**: `5000`\n",
    "     - **round2Tier4**: `4500`\n",
    "     - **round2Tier5**: `4200`\n",
    "\n",
    "**`round1CountOfTier1`, `round1CountOfTier2`, `round1CountOfTier3`, `round1CountOfTier4`, `round1CountOfTier5`**:\n",
    "   - The number of NFTs held in each tier:\n",
    "     - **countOfTier1**: `15`\n",
    "     - **countOfTier2**: `85`\n",
    "     - **countOfTier3**: `150`\n",
    "     - **countOfTier4**: `250`\n",
    "     - **countOfTier5**: `304`\n",
    "\n",
    "**`round2CountOfTier1`, `round2CountOfTier2`, `round2CountOfTier3`, `round2CountOfTier4`, `round2CountOfTier5`**:\n",
    "   - The number of NFTs held in each tier:\n",
    "     - **countOfTier1**: `23`\n",
    "     - **countOfTier2**: `198`\n",
    "     - **countOfTier3**: `443`\n",
    "     - **countOfTier4**: `663`\n",
    "     - **countOfTier5**: `708`\n",
    "\n",
    "**`maxRoundTwoTedyTokens`**:\n",
    "   - (int): The maximum number of TEDY tokens allocated for Round 2.\n",
    "   - **Value**: `2250000000`\n",
    "\n",
    "**`distributedTokens`**:\n",
    "   - (int): The total tokens distributed across all both rounds.\n",
    "\n",
    "**`availableTokenRewards`**:\n",
    "   - (float): The remaining TEDY tokens available for INO rewards after distribution.\n"
   ]
  },
  {
   "cell_type": "code",
   "execution_count": 50,
   "metadata": {
    "dotnet_interactive": {
     "language": "fsharp"
    },
    "polyglot_notebook": {
     "kernelName": "fsharp"
    },
    "vscode": {
     "languageId": "polyglot-notebook"
    }
   },
   "outputs": [],
   "source": [
    "let round1Bonus = 2.75\n",
    "let round1NftsSold = 804.0\n",
    "let round2NftsSold = 2035.0"
   ]
  },
  {
   "cell_type": "code",
   "execution_count": 53,
   "metadata": {
    "dotnet_interactive": {
     "language": "fsharp"
    },
    "polyglot_notebook": {
     "kernelName": "fsharp"
    },
    "vscode": {
     "languageId": "polyglot-notebook"
    }
   },
   "outputs": [],
   "source": [
    "let round1Tier1 = 30800\n",
    "let round1Tier2 = 19250\n",
    "let round1Tier3 = 13860\n",
    "let round1Tier4 = 12320\n",
    "let round1Tier5 = 11550\n",
    "\n",
    "let round1CountOfTier1 = 15\n",
    "let round1CountOfTier2 = 85\n",
    "let round1CountOfTier3 = 150\n",
    "let round1CountOfTier4 = 250\n",
    "let round1CountOfTier5 = 304\n",
    "\n",
    "let round2Tier1 = 7000\n",
    "let round2Tier2 = 6000\n",
    "let round2Tier3 = 5000\n",
    "let round2Tier4 = 4500\n",
    "let round2Tier5 = 4200\n",
    "\n",
    "let round2CountOfTier1 = 23\n",
    "let round2CountOfTier2 = 198\n",
    "let round2CountOfTier3 = 443\n",
    "let round2CountOfTier4 = 663\n",
    "let round2CountOfTier5 = 708\n",
    "\n",
    "let totalTokenRewards = 2250000000.0"
   ]
  },
  {
   "cell_type": "code",
   "execution_count": 54,
   "metadata": {
    "dotnet_interactive": {
     "language": "fsharp"
    },
    "polyglot_notebook": {
     "kernelName": "fsharp"
    },
    "vscode": {
     "languageId": "polyglot-notebook"
    }
   },
   "outputs": [],
   "source": [
    "let round1Counts = [| round1CountOfTier1; round1CountOfTier2; round1CountOfTier3; round1CountOfTier4; round1CountOfTier5 |]\n",
    "let round1Tiers = [| round1Tier1; round1Tier2; round1Tier3; round1Tier4; round1Tier5 |]\n",
    "let round2Counts = [| round2CountOfTier1; round2CountOfTier2; round2CountOfTier3; round2CountOfTier4; round2CountOfTier5 |]\n",
    "let round2Tiers = [| round2Tier1; round2Tier2; round2Tier3; round2Tier4; round2Tier5 |]"
   ]
  },
  {
   "cell_type": "code",
   "execution_count": 55,
   "metadata": {
    "dotnet_interactive": {
     "language": "fsharp"
    },
    "polyglot_notebook": {
     "kernelName": "fsharp"
    },
    "vscode": {
     "languageId": "polyglot-notebook"
    }
   },
   "outputs": [],
   "source": [
    "let distributedTokens = \n",
    "    (Array.zip round1Counts round1Tiers |> Array.sumBy (fun (count, tier) ->  count *  tier)) +\n",
    "    (Array.zip round2Counts round2Tiers |> Array.sumBy (fun (count, tier) ->  count *  tier))\n"
   ]
  },
  {
   "cell_type": "code",
   "execution_count": 56,
   "metadata": {
    "dotnet_interactive": {
     "language": "fsharp"
    },
    "polyglot_notebook": {
     "kernelName": "fsharp"
    },
    "vscode": {
     "languageId": "polyglot-notebook"
    }
   },
   "outputs": [],
   "source": [
    "let availableTokenRewards =  totalTokenRewards - float distributedTokens"
   ]
  },
  {
   "cell_type": "code",
   "execution_count": 57,
   "metadata": {
    "dotnet_interactive": {
     "language": "fsharp"
    },
    "polyglot_notebook": {
     "kernelName": "fsharp"
    },
    "vscode": {
     "languageId": "polyglot-notebook"
    }
   },
   "outputs": [],
   "source": [
    "let calculateSurplusTedyPerNFT = \n",
    "    let surplusReward = availableTokenRewards/(round1NftsSold * round1Bonus + round2NftsSold)\n",
    "    Math.Ceiling(surplusReward)"
   ]
  },
  {
   "cell_type": "code",
   "execution_count": 58,
   "metadata": {
    "dotnet_interactive": {
     "language": "fsharp"
    },
    "polyglot_notebook": {
     "kernelName": "fsharp"
    },
    "vscode": {
     "languageId": "polyglot-notebook"
    }
   },
   "outputs": [],
   "source": [
    "let surplusReward = calculateSurplusTedyPerNFT"
   ]
  },
  {
   "cell_type": "markdown",
   "metadata": {},
   "source": [
    "## **3.4 Calculate Total TEDY Rewards** \n",
    "In this step, we will use the `loadNFTs` function from the first step to parse JSON data that we have queried from the CardanoScan API. Refer to [`assetapi.ipynb`](./assetsapi.ipynb) to see the process and test it out as well - allowing you to calculate the total TEDY rewards of a certain address. We will then utilize the `computeBaseRewards` function and `surplusReward` to compute the total Tedy rewards.\n",
    "\n",
    "---\n",
    "\n",
    "**Types**:\n",
    "\n",
    "**Functions**:\n",
    "\n",
    "**Variables**:\n"
   ]
  },
  {
   "cell_type": "code",
   "execution_count": 70,
   "metadata": {
    "dotnet_interactive": {
     "language": "fsharp"
    },
    "polyglot_notebook": {
     "kernelName": "fsharp"
    },
    "vscode": {
     "languageId": "polyglot-notebook"
    }
   },
   "outputs": [],
   "source": [
    "type Token = {\n",
    "    policyId: string\n",
    "    assetName: string\n",
    "    fingerprint: string\n",
    "    assetId: string\n",
    "    balance: string\n",
    "}\n",
    "\n",
    "type Response = {\n",
    "    tokens: Token[]\n",
    "}"
   ]
  },
  {
   "cell_type": "code",
   "execution_count": 77,
   "metadata": {
    "dotnet_interactive": {
     "language": "fsharp"
    },
    "polyglot_notebook": {
     "kernelName": "fsharp"
    },
    "vscode": {
     "languageId": "polyglot-notebook"
    }
   },
   "outputs": [],
   "source": [
    "let calculateTotalRewards (filePath: string) (round1PolicyId: string) (round2PolicyId: string) (subjectRankData: Map<string, int>) (surplusReward: float) =\n",
    "    let addressNfts = loadNfts<Response> filePath\n",
    "\n",
    "    let nftList =\n",
    "        addressNfts.tokens\n",
    "        |> Array.map (fun token -> token.assetId)\n",
    "        |> Array.toList\n",
    "\n",
    "    let rewardsList =\n",
    "        [ for nft in nftList do\n",
    "            if nft.Contains(round1PolicyId) then\n",
    "                yield computeBaseRewards nft subjectRankData\n",
    "            elif nft.Contains(round2PolicyId) then\n",
    "                yield computeBaseRewards nft subjectRankData ]\n",
    "\n",
    "    let totalNftRewards = rewardsList |> List.sum\n",
    "    let numberOfNfts = rewardsList |> List.length\n",
    "\n",
    "    let totalTedyRewards = totalNftRewards + ((int)surplusReward * numberOfNfts)\n",
    "\n",
    "    totalTedyRewards\n"
   ]
  },
  {
   "cell_type": "code",
   "execution_count": 79,
   "metadata": {
    "dotnet_interactive": {
     "language": "fsharp"
    },
    "polyglot_notebook": {
     "kernelName": "fsharp"
    },
    "vscode": {
     "languageId": "polyglot-notebook"
    }
   },
   "outputs": [
    {
     "name": "stdout",
     "output_type": "stream",
     "text": [
      "Total Rewards of Address: 529332\n"
     ]
    }
   ],
   "source": [
    "let totalTedyRewards = calculateTotalRewards \"./data/collectionassets.json\" round1PolicyId round2PolicyId subjectRankData surplusReward\n",
    "printfn \"Total Rewards of Address: %d\" totalTedyRewards\n"
   ]
  },
  {
   "cell_type": "markdown",
   "metadata": {},
   "source": [
    "### **3.5 Compute Total TEDY Allocation**\n",
    "Use the number and rank of the user's owned NFTs, along with the calculated percent share above, to compute the total TEDY tokens they are eligible to receive.\n",
    "\n",
    "Where:\n",
    "- NFT Rarity Rank: The number of owned NFTs for each rank.\n",
    "- Rank TEDY Value: The TEDY value assigned to the rank.\n",
    "\n",
    "$\\text{Base TEDY} = \\sum_{i=1}^{5} (\\text{NFT Rarity Rank Count}_i \\times \\text{Rank TEDY Value}_i)$<br>\n",
    "\n",
    "$\\text{Round 1 Total TEDY Allocation} = \\text{Base TEDY} + \\text{Round 1 TEDY Share}$\n",
    "\n",
    "$\\text{Round 2 Total TEDY Allocation} = \\text{Base TEDY} + \\text{Round 2 TEDY Share}$\n",
    "\n",
    "---\n",
    "\n",
    "Calculate the total TEDY tokens earned by the user in Round 1 and Round 2, combining tokens from held NFTs across tiers and additional rewards.\n",
    "\n",
    "#### **Functions**:\n",
    "1. **`calculateTedyTokensTotal`**:\n",
    "- Computes the total TEDY tokens earned in Round 1 and Round 2, including tokens from held NFTs in each tier and approximate TEDY shares.\n",
    "- **Parameters**:\n",
    "   - None explicitly passed, but it relies on:\n",
    "      - `round1NFTsHeldByRank`: An array of counts of NFTs held by the user for each tier in Round 1.\n",
    "      - `round2NFTsHeldByRank`: An array of counts of NFTs held by the user for each tier in Round 2.\n",
    "      - `round1TedyShare`: Approximate TEDY rewards for Round 1 based on percent share.\n",
    "      - `round2TedyShare`: Approximate TEDY rewards for Round 2 based on percent share.\n",
    "      - `round1Tier1`, `round1Tier2`, ..., `round2Tier5`: Tokens allocated per NFT for each tier in Round 1 and Round 2.\n",
    "- **Returns**:\n",
    "   - A tuple: (`round1TotalTedyTotal`, `round2TotalTedyTotal`).\n",
    "\n",
    "---\n",
    "\n",
    "#### **Variables**:\n",
    "**`round1NFTsHeldByRank`**:\n",
    "   - array of counts of NFTs held by the user for each tier in Round 1.\n",
    "   - **Structure**: `[countTier1, countTier2, countTier3, countTier4, countTier5]`.\n",
    "\n",
    "**`round2NFTsHeldByRank`**:\n",
    "   - An array of counts of NFTs held by the user for each tier in Round 2.\n",
    "   - **Structure**: `[countTier1, countTier2, countTier3, countTier4, countTier5]`.\n",
    "\n",
    "**`round1TedyShare`**:\n",
    "   - Approximate TEDY rewards for Round 1 based on percent share.\n",
    "   - **Type**: Integer.\n",
    "\n",
    "**`round2TedyShare`**:\n",
    "   - Approximate TEDY rewards for Round 2 based on percent share.\n",
    "   - **Type**: Integer.\n",
    "\n",
    "**`round1Tier1`, `round1Tier2`, `round1Tier3`, `round1Tier4`, `round1Tier5`**:\n",
    "   - Tokens allocated per NFT for each tier in Round 1.\n",
    "\n",
    "**`round2Tier1`, `round2Tier2`, `round2Tier3`, `round2Tier4`, `round2Tier5`**:\n",
    "   - Tokens allocated per NFT for each tier in Round 2.\n",
    "\n",
    "**`round1TotalTedy`**:\n",
    "   - Total TEDY tokens from held NFTs in Round 1, calculated as:\n",
    "\n",
    "**`round2TotalTedy`**:\n",
    "   - Total TEDY tokens from held NFTs in Round 2, calculated as:\n",
    "\n",
    "**`round1TotalTedyTotal`, `round2TotalTedyTotal`**:\n",
    "   - Total TEDY tokens for Round 1 and Round 2, including additional rewards:\n"
   ]
  },
  {
   "cell_type": "code",
   "execution_count": 34,
   "metadata": {
    "dotnet_interactive": {
     "language": "fsharp"
    },
    "polyglot_notebook": {
     "kernelName": "fsharp"
    },
    "vscode": {
     "languageId": "polyglot-notebook"
    }
   },
   "outputs": [],
   "source": [
    "let calculateTedyTokensTotal = \n",
    "    let round1TotalTedy = (round1NFTsHeldByRank[0] * round1Tier1) + (round1NFTsHeldByRank[1] * round1Tier2) + (round1NFTsHeldByRank[2] * round1Tier3) + (round1NFTsHeldByRank[3] * round1Tier4) + (round1NFTsHeldByRank[4] * round1Tier5)\n",
    "    let round2TotalTedy = (round2NFTsHeldByRank[0] * round2Tier1) + (round2NFTsHeldByRank[1] * round2Tier2) + (round2NFTsHeldByRank[2] * round2Tier3) + (round2NFTsHeldByRank[3] * round2Tier4) + (round2NFTsHeldByRank[4] * round2Tier5)\n",
    "\n",
    "    let round1TotalTedyTotal = round1TotalTedy + round1TedyShare\n",
    "    let round2TotalTedyTotal = round2TotalTedy + round2TedyShare\n",
    "    (round1TotalTedyTotal,round2TotalTedyTotal)"
   ]
  },
  {
   "cell_type": "code",
   "execution_count": 35,
   "metadata": {
    "dotnet_interactive": {
     "language": "fsharp"
    },
    "polyglot_notebook": {
     "kernelName": "fsharp"
    },
    "vscode": {
     "languageId": "polyglot-notebook"
    }
   },
   "outputs": [],
   "source": [
    "let round1ApproximateTotalTedy,round2ApproximateTotalTedy = calculateTedyTokensTotal"
   ]
  },
  {
   "cell_type": "markdown",
   "metadata": {},
   "source": [
    "### **5. Adjust Rewards for Market Cap**\n",
    "Adjust the final TEDY reward allocation based on the updated market cap of 8,000,000 to ensure alignment with the revised tokenomics.\n",
    "\n",
    "Where:\n",
    "- NFT Rarity Rank: The number of owned NFTs for each rank.\n",
    "- Rank TEDY Value: The TEDY value assigned to the rank.\n",
    "\n",
    "$\\text{Final Round Reward} = (\\text{Total TEDY Allocation} * \\text{Current Marketcap}) / \\text{Previous Market Cap}$\n",
    "\n",
    "---\n",
    "\n",
    "Adjust the total TEDY rewards for Round 1 and Round 2 based on the change in market capitalization. The adjustment ensures that rewards are proportional to the current market cap compared to a past market cap.\n",
    "\n",
    "#### **Functions**:\n",
    "1. **`marketcapAdjustment`**:\n",
    "- Adjusts the reward amount based on the ratio of the current market cap to the past market cap.\n",
    "- **Parameters**:\n",
    "   - `rewards` (float): The original reward amount to be adjusted.\n",
    "- **Returns**:\n",
    "   - (int): The adjusted reward amount.\n",
    "\n",
    "---\n",
    "\n",
    "#### **Variables**:\n",
    "**`pastMarketCap`**:\n",
    "   - The previous market cap of the token, used as a reference for adjustments.\n",
    "\n",
    "**`currentMarketCap`**:\n",
    "   - The current market cap of the token, used to scale rewards.\n",
    "\n",
    "**`round1ApproximateTotalTedy`**:\n",
    "   - The total TEDY tokens for Round 1 before market cap adjustment.\n",
    "\n",
    "**`round2ApproximateTotalTedy`**:\n",
    "   - The total TEDY tokens for Round 2 before market cap adjustment\n",
    "\n",
    "**`totalTedyRound1`**:\n",
    "   - The adjusted total TEDY tokens for Round 1\n",
    "\n",
    "**`totalTedyRound2`**:\n",
    "   - The adjusted total TEDY tokens for Round 2\n",
    "\n",
    "**`totalTedyReward`**:\n",
    "   - The combined adjusted TEDY tokens for both rounds\n"
   ]
  },
  {
   "cell_type": "code",
   "execution_count": 36,
   "metadata": {
    "dotnet_interactive": {
     "language": "fsharp"
    },
    "polyglot_notebook": {
     "kernelName": "fsharp"
    },
    "vscode": {
     "languageId": "polyglot-notebook"
    }
   },
   "outputs": [],
   "source": [
    "let pastMarketCap = 5000000000.0\n",
    "let currentMarketCap = 8000000.0\n",
    "let marketcapAdjustment (rewards: float) = \n",
    "    let finalRoundReward = (rewards*currentMarketCap)/pastMarketCap\n",
    "    Math.Ceiling(finalRoundReward)"
   ]
  },
  {
   "cell_type": "code",
   "execution_count": 37,
   "metadata": {
    "dotnet_interactive": {
     "language": "fsharp"
    },
    "polyglot_notebook": {
     "kernelName": "fsharp"
    },
    "vscode": {
     "languageId": "polyglot-notebook"
    }
   },
   "outputs": [],
   "source": [
    "let totalTedyRound1 = int(marketcapAdjustment round1ApproximateTotalTedy)\n",
    "let totalTedyRound2 = int(marketcapAdjustment round2ApproximateTotalTedy)\n",
    "let totalTedyReward = totalTedyRound1 + totalTedyRound2"
   ]
  },
  {
   "cell_type": "markdown",
   "metadata": {},
   "source": [
    "### Alice's Total TEDY Rewards\n",
    "\n",
    "Now that we’ve crafted the functions to calculate rewards, it’s time to discover the value of Teddy Bear #5731.\n",
    "\n",
    "As a Round 1 NFT, ranked 162 and placed in Tier 3, #5731 earns Alice a total of 56 TEDY tokens. The calculation below confirms these results, revealing Alice’s well-deserved rewards. Since #5731 is her only NFT, her total TEDY rewards amount to 56 tokens."
   ]
  },
  {
   "cell_type": "code",
   "execution_count": null,
   "metadata": {
    "dotnet_interactive": {
     "language": "fsharp"
    },
    "polyglot_notebook": {
     "kernelName": "fsharp"
    },
    "vscode": {
     "languageId": "polyglot-notebook"
    }
   },
   "outputs": [
    {
     "name": "stdout",
     "output_type": "stream",
     "text": [
      "Round 1 NFT Total Rewards: 56\n",
      "Round 2 NFT Total Rewards: 0\n",
      "Total Tedy Rewards: 56\n"
     ]
    }
   ],
   "source": [
    "printfn \"Round 1 NFT Total Rewards: %d\" totalTedyRound1\n",
    "printfn \"Round 2 NFT Total Rewards: %d\" totalTedyRound2\n",
    "printfn \"Total TEDY Rewards: %d\" totalTedyReward"
   ]
  },
  {
   "cell_type": "markdown",
   "metadata": {},
   "source": [
    "#### Disclaimers\n",
    "The calculations above `marketcapAdjustment` are based on the initial market cap of 5,000,000,000, used to trace events during the INO event. The function adjusts the rewards to reflect the new market cap of 8,000,000, resulting in lower TEDY reward amounts. The figures provided are estimates and for informational purposes only. We do not guarantee their accuracy and are not liable for any investment decisions made based on this information. Use this information at your own risk."
   ]
  }
 ],
 "metadata": {
  "kernelspec": {
   "display_name": ".NET (C#)",
   "language": "C#",
   "name": ".net-csharp"
  },
  "language_info": {
   "name": "csharp"
  },
  "polyglot_notebook": {
   "kernelInfo": {
    "defaultKernelName": "csharp",
    "items": [
     {
      "aliases": [],
      "name": "csharp"
     }
    ]
   }
  }
 },
 "nbformat": 4,
 "nbformat_minor": 2
}
