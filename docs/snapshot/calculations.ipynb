{
 "cells": [
  {
   "cell_type": "markdown",
   "metadata": {
    "dotnet_interactive": {
     "language": "fsharp"
    },
    "polyglot_notebook": {
     "kernelName": "fsharp"
    },
    "vscode": {
     "languageId": "polyglot-notebook"
    }
   },
   "source": [
    "# **Swyp Teddy Bear Club NFT Rewards Calculation**\n",
    "\n",
    "## **1. Overview**\n",
    "\n",
    "An **Initial NFT Offering (INO)** is a fundraising method in the cryptocurrency and blockchain ecosystem, specifically tailored for NFTs (Non-Fungible Tokens). Similar to an Initial Coin Offering (ICO), INOs allow creators, projects, or platforms to raise funds by selling a collection of NFTs to early adopters and investors.\n",
    "\n",
    "In this context, the **Teddy Bear Club NFTs** served as **TeddySwap's NFT offering**. By minting these NFTs, owners earn rewards in **TEDY Tokens**, with the amount determined by both the rarity and quantity of the NFTs they hold. The INO was conducted in two rounds:\n",
    "- [**Round 1**](https://medium.com/@TeddySwapDEX/teddy-bears-club-minting-utility-and-launch-date-23e9a4e4446d) launched on **February 17, 2023**\n",
    "- [**Round 2**](https://medium.com/@TeddySwapDEX/teddy-bears-club-round-2-c209556b379f) launched on **March 8, 2023**\n",
    "\n",
    "### *Note!*\n",
    "In TeddySwap's [**initial tokenomics**](https://medium.com/@TeddySwapDEX/teddyswap-tokenomics-fcd700aea552), the market cap was set at **5,000,000,000 TEDY**. However, it was later adjusted to **8,000,000 TEDY** in a [**second announcement**](https://medium.com/@TeddySwapDEX/tedy-tokenomics-v2-fc92723ead0c). This notebook utilizes the original market cap for the calculations, scaling it to the new market cap in the final step.\n",
    "\n",
    "Additionally, the Swyp Team considers rewards for holders of the tokens until Janurary 17, 2024\n",
    "\n",
    "\n",
    "### **1.1 Purpose**\n",
    "\n",
    "This document outlines the process for calculating the NFTs' corresponding TEDY token rewards for the Teddy Bear Club NFTs across Round 1 and Round 2. Since the ranking and reward structures differ between the two rounds, separate functions calculate rewards for each round. They are then summed to determine the total rewards, where applicable. \n",
    "\n",
    "This document aims to provide a comprehensive explanation of how the token rewards are computed, ensuring transparency and reproducibility for NFT holders.\n",
    "\n",
    "Feel free to download this notebook and explore it at your convenience.\n",
    "\n",
    "---\n",
    "\n",
    "### **1.2 NFT Information**\n",
    "\n",
    "### *Note!*\n",
    "\n",
    "Throughout the TEDY life cycle and the duration of the INO, several announcements were released that affected the total TEDY rewards initially determined. Unfortunately, the official Teddy Bears Club can no longer be accessed. The link to those are from the web archive. Below is a summary of these announcements:\n",
    "\n",
    "1. According to the official [Teddy Bears Club](https://webcf.waybackmachine.org/web/20240905102756/https://tbc.teddyswap.org/) website, the TEDY earnings were updated to include an additional **10% bonus** to the initial values decided in the [initial announcement](https://medium.com/@TeddySwapDEX/teddy-bears-club-minting-utility-and-launch-date-23e9a4e4446d). \n",
    "\n",
    "Additionally, as **804** Round 1 NFTs were sold, the tiers were adjusted based on the [source code](https://github.com/teddy-swap/tbc-homepage/blob/main/src/App.tsx) of the official Teddy Bear Club website.\n",
    "\n",
    "### Round 1\n",
    "\n",
    "- **Policy ID:** `ab182ed76b669b49ee54a37dee0d0064ad4208a859cc4fdf3f906d87`\n",
    "- **Total NFTs:** 804\n",
    "- **Tier System:**\n",
    "\n",
    "| **Tier** | **Initial Rarity Range** | **Initial TEDY Allocation** | **Updated Rarity Range** | **Updated TEDY Allocation** |\n",
    "|----------|--------------------------|-----------------------------|----------------------|-------------------|\n",
    "| Tier 1   | Rarity 1 - 100     | 28,000  | Rarity 1 - 15    | 30,800                                  |\n",
    "| Tier 2   | Rarity 101 - 999   | 17,500  | Rarity 16 - 100  | 19,250                                  |\n",
    "| Tier 3   | Rarity 1,000 - 2,999  | 12,600  | Rarity 101 - 250 | 13,860                                  |\n",
    "| Tier 4   | Rarity 3,000 - 5,999  | 11,200  | Rarity 251 - 500 | 12,320                                  |\n",
    "| Tier 5   | Rarity 6,000 - 10,000  | 10,500  | Rarity 501 - 804 | 11,550                                  |\n",
    "\n",
    "2. The [**initial announcement**](https://medium.com/@TeddySwapDEX/teddy-bears-club-round-2-c209556b379f) regarding **Round 2** detailed tiers for ranks **1 - 9,200**. Since **2,035** NFTs were sold, the ranks were adjusted accordingly in this [**Discord announcement**](https://discord.com/channels/1053191459597201448/1053207517154508870/1095880926086570105) on the Discord server.\n",
    "\n",
    "### Round 2\n",
    "\n",
    "- **Policy ID:** `da3562fad43b7759f679970fb4e0ec07ab5bebe5c703043acda07a3c`\n",
    "- **Total NFTs:** 2,035\n",
    "- **Tier System:**\n",
    "\n",
    "| **Tier** | **Initial Rarity Range** | **Updated Rarity Range** | **Previous MarketCap TEDY** |\n",
    "|----------|-------------------|-------------------------------|---------------------|\n",
    "| Tier 1   | Rarity 1 - 100       |  Rarity 1 - 23             |       7,000         |\n",
    "| Tier 2   | Rarity 101 - 999     |  Rarity 24 - 221           |      6,000          |\n",
    "| Tier 3   | Rarity 1,000 - 2,999 |  Rarity 222 - 664          |        5,000        |\n",
    "| Tier 4   | Rarity 3,000 - 5,999 |  Rarity 665 - 1,327        |        4,500        |\n",
    "| Tier 5   | Rarity 6,000 - 9,200 |  Rarity 1,328 - 2,035      |         4,200       |\n",
    "\n",
    "3. Additionally, the [Round 2 announcement](https://medium.com/@TeddySwapDEX/teddy-bears-club-round-2-c209556b379f) established that unsold NFTs from the INO would contribute to a surplus reward pool. Initially, these TEDY rewards were to be evenly distributed to NFT holders in proportion to the number of NFTs they own.\n",
    "\n",
    "However, due to the large quantity of remaining tokens diluting the ranking system's impact, we  calculate surplus rewards per tier, with a corresponding percentage for each tier. Calculations for these values are explain below in 3.4\n",
    "\n",
    "| **Tier** | **Percentage** | **Round 1 TEDY** | **Round 2 TEDY** |\n",
    "|----------|----------------|------------------|------------------|\n",
    "| Tier 1   | 10%            | 654,932          | 238,157          |\n",
    "| Tier 2   | 15%            | 146,196          | 53,162           |\n",
    "| Tier 3   | 20%            | 98,376           | 35,773           |\n",
    "| Tier 4   | 27%            | 84,128           | 30,592           |\n",
    "| Tier 5   | 28%            | 76,310           | 27,749           |\n",
    "\n",
    "4. During the Round 2 NFTs, the [Teddy Bear Surprise](https://medium.com/@TeddySwapDEX/1st-teddy-bear-surprise-945ed9e7405a) was released. Several succeeding announcements were releases on discord, with the second table below containing the updated results.\n",
    "\n",
    "Initial Announcement:\n",
    "\n",
    "| **Tier** | **Range** | **TEDY Rewards** \n",
    "|----------|----------------|------------|\n",
    "| Tier 1   | 1-1,250        | 10,733     | \n",
    "| Tier 2   | 1,251 - 1,400  | 9,733      | \n",
    "| Tier 3   | 1,401 - 1,600  | 8,400      |\n",
    "| Tier 4   | 1,601 - 2,000  | 6,400      | \n",
    "| Tier 5   | 2,001 - 2,500  | 4,000      | \n",
    "\n",
    "Post Succeeding Announcements:\n",
    "\n",
    "1. [+8,400 TEDY for 1-1,599](https://discord.com/channels/1053191459597201448/1053207517154508870/1092528784198094949)\n",
    "2. [Tier Modification](https://discord.com/channels/1053191459597201448/1053207517154508870/1093526335999197274)\n",
    "3. [+2,000 TEDY for 1,800 - 2,000](https://discord.com/channels/1053191459597201448/1053207517154508870/1093690327631659049)\n",
    "4. [+2,000 TEDY for 1,881-2,000](https://discord.com/channels/1053191459597201448/1053207517154508870/1093950972524507278)\n",
    "\n",
    "| **Tier** | **Range** | **TEDY Rewards** \n",
    "|----------|-----------|-----------------|\n",
    "| Tier 1   | 1-1,250        | 19,133     | \n",
    "| Tier 2   | 1,251 - 1,400  | 18,133     | \n",
    "| Tier 3   | 1,401 - 1,599  | 16,800     |\n",
    "| Tier 4   | 1,600          | 8,400      | \n",
    "| Tier 5   | 1,601 - 1,799  | 6,400      | \n",
    "| Tier 6   | 1,800          | 8,400      | \n",
    "| Tier 7   | 1,801 - 1,880  | 6,000      |\n",
    "| Tier 8   | 1,881 - 2,000  | 8,000      | \n",
    "| Tier 9   | 2,001 - 2,035  | 4,000      | \n",
    "---\n",
    "\n",
    "### **1.3 Workflow Summary**\n",
    "The workflow is divided into the following steps:\n",
    "\n",
    "1. **Fetch Data**  \n",
    "   1.1 Load [`collection_1.json`](./data/collection_1.json) and [`collection_2.json`](./data/collection_2.json) data which was scraped and saved in [`webscraper.ipynb`](./webscraper.ipynb), as well the [`collectiontraits_1.json`](./data/collectiontraits_1.json) and [`collectiontraits_2.json`](./data/collectiontraits_2.json) computed and saved in [`attributecounter.ipynb`](attributecounter.ipynb).\n",
    "\n",
    "2. **NFT Rank Calculation**  \n",
    "   2.1 Assign a score to each trait value based on its rarity. <br>\n",
    "   2.2 Compute the rarity rank for each NFT.\n",
    "\n",
    "3. **NFT Rewards Calculation**  \n",
    "   3.1 Load rank data from the [`collectionranks.csv`](./data/collectionranks.csv) created from [`rankdata.ipynb`](rankdata.ipynb)<br>\n",
    "   3.2 Given a subject, identify its TEDY reward based on its round and rarity rank. <br>\n",
    "   3.3 Calculate the Teddy Bear Surprise bonus TEDY for a Round 2 NFT.<br>\n",
    "   3.4 Calculate an NFT's surplus TEDY reward allocation according to its tier.<br>\n",
    "   3.5 Given an address, calculate the total TEDY rewards owed - utilizing the (3.2)identified tier and (3.3)surplus allocation calculated in previous steps. <br>\n",
    "\n",
    "4. **Scale Rewards to New Market Cap**<br>\n",
    "   4.1 Adjust the final TEDY token rewards from the initial [**5,000,000,000**](https://medium.com/@TeddySwapDEX/teddyswap-tokenomics-fcd700aea552) to the updated market cap of [**8,000,000**](https://medium.com/@TeddySwapDEX/tedy-tokenomics-v2-fc92723ead0c).\n",
    "\n",
    "5. **Calculate Your Rewards**<br>\n",
    "   5.1 Enter a Cardano address or a list of subjects to calculate your total TEDY rewards.\n",
    "   \n",
    "---\n",
    "\n",
    "### **1.4 Necessary Package Installations and Open Statements**\n",
    "\n",
    "The following external libraries are required:\n",
    "- `Plotly.NET`\n",
    "- `System.Text.Json`\n",
    "- `FSharp.Data`\n"
   ]
  },
  {
   "cell_type": "code",
   "execution_count": 74,
   "metadata": {
    "dotnet_interactive": {
     "language": "fsharp"
    },
    "polyglot_notebook": {
     "kernelName": "fsharp"
    },
    "vscode": {
     "languageId": "polyglot-notebook"
    }
   },
   "outputs": [
    {
     "data": {
      "text/html": [
       "<div><div><strong>Restore sources</strong><ul><li><span>https://pkgs.dev.azure.com/dnceng/public/_packaging/dotnet-tools/nuget/v3/index.json</span></li><li><span>https://pkgs.dev.azure.com/dnceng/public/_packaging/dotnet5/nuget/v3/index.json</span></li></ul></div><div></div><div><strong>Installed Packages</strong><ul><li><span>Plotly.NET.ImageExport, 6.1.0</span></li><li><span>Plotly.NET.Interactive, 5.0.0</span></li></ul></div></div>"
      ]
     },
     "metadata": {},
     "output_type": "display_data"
    }
   ],
   "source": [
    "#i \"nuget:https://pkgs.dev.azure.com/dnceng/public/_packaging/dotnet5/nuget/v3/index.json\"\n",
    "#i \"nuget:https://pkgs.dev.azure.com/dnceng/public/_packaging/dotnet-tools/nuget/v3/index.json\"\n",
    "\n",
    "#r \"nuget: Plotly.NET.Interactive, 5.0.0\"\n",
    "#r \"nuget: Plotly.NET.ImageExport\""
   ]
  },
  {
   "cell_type": "code",
   "execution_count": 75,
   "metadata": {
    "dotnet_interactive": {
     "language": "fsharp"
    },
    "polyglot_notebook": {
     "kernelName": "fsharp"
    },
    "vscode": {
     "languageId": "polyglot-notebook"
    }
   },
   "outputs": [],
   "source": [
    "open System.Text.Json\n",
    "open System.IO\n",
    "open System.Net.Http\n",
    "open System.Threading.Tasks\n",
    "open FSharp.Data\n",
    "open FSharp.Reflection\n",
    "open Plotly.NET\n",
    "open Plotly.NET.Interactive\n",
    "open Plotly.NET.ImageExport"
   ]
  },
  {
   "cell_type": "markdown",
   "metadata": {},
   "source": [
    "# **2. Workflow**"
   ]
  },
  {
   "cell_type": "markdown",
   "metadata": {},
   "source": [
    "## 1. Fetch Data\n",
    "Metadata for the NFTs was scraped from the official Teddy Bears Club website ([Teddy Bears Club](https://webcf.waybackmachine.org/web/20240905102756/https://tbc.teddyswap.org/)) and [CNFT Tools](https://cnft.tools/teddybearclub2), and stored in [`collection_1.json`](./data/collection_1.json) and [`collection_2.json`](./data/collection_2.json) for Round 1 and Round 2 respectively. Please refer to the [`webscraper.ipynb`](./webscraper.ipynb) to view the process - which you may test out for yourself. \n",
    "\n",
    "Additionally, refer to [`attributecounter.ipynb`](./attributecounter.ipynb) for the tallying of trait value occurences, saved in [`collectiontraits_1.json`](./data/collectiontraits_1.json) and [`collectiontraits_2.json`](./data/collectiontraits_2.json).\n",
    "\n",
    "However, the necessary metadata and trait occurrence data for the NFTs are already included in this repository as JSON files. Therefore, you may directly utilize the above mentioned files without any additional setup.\n",
    "\n",
    "In this section, we will parse the JSON data to extract information about the NFTs and the occurrence of their traits. This data will serve as the foundation for calculating rankings and determining rewards in the subsequent sections. Using the data from the JSON files, we compute for the NFTs' rarity score and rarity rank. \n",
    "\n",
    "---\n",
    "\n",
    "#### **Types**:\n",
    "The NFT and NFTTraits types are partial representations of the data, as only the fields relevant to ranking and reward calculations have been included.\n",
    "\n",
    "- **`NFT`**: Represents an individual NFT, focusing on its identifiers and traits.\n",
    "\n",
    "- **`NftTraits`**: Captures occurrence counts of trait values across NFTs.\n",
    "\n",
    "#### **Function**:\n",
    "1. **`loadNFTs<'T>`**: \n",
    "- Loads and deserializes JSON data into a specified type:\n",
    "- **Parameters**: \n",
    "     - `filePath (string)`: the path to the JSON file.\n",
    "- **Returns**:\n",
    "    - Parsed data of type `'T`\n",
    "\n",
    "--- \n",
    "\n",
    "#### **Variables**:<br>\n",
    "**`nftRound1NFTS`**: <br>\n",
    "- (NFT list): NFTs from Round 1 <br>\n",
    "\n",
    " **`nftRound2NFTS`**:  <br>\n",
    "- (NFT list):  NFTs from Round 2 <br>\n",
    "\n",
    " **`nftRound1Traits`**: <br>\n",
    "- (NFTTraits): Trait value counts for Round 1 NFTs <br>\n",
    "    \n",
    " **`nftRound2Traits`**:  <br>\n",
    "- (NFTTraits): Trait value counts for Round 2 NFTs<br>\n",
    "\n",
    "---\n",
    "\n",
    "### 1.1 Fetch NFT Data From JSON"
   ]
  },
  {
   "cell_type": "code",
   "execution_count": 76,
   "metadata": {
    "dotnet_interactive": {
     "language": "fsharp"
    },
    "polyglot_notebook": {
     "kernelName": "fsharp"
    },
    "vscode": {
     "languageId": "polyglot-notebook"
    }
   },
   "outputs": [],
   "source": [
    "type NFT = {\n",
    "    assetName: string\n",
    "    encodedName: string\n",
    "    Background: string\n",
    "    Bear: string\n",
    "    Clothes: string\n",
    "    Face: string\n",
    "    Handheld: string\n",
    "    Head: string\n",
    "    Skins: string\n",
    "}\n",
    "\n",
    "type NftTraits = {\n",
    "    Background: Map<string, int>\n",
    "    Bear: Map<string, int>\n",
    "    Clothes: Map<string, int>\n",
    "    Face: Map<string, int>\n",
    "    Handheld: Map<string, int>\n",
    "    Head: Map<string, int>\n",
    "    Skins: Map<string, int>\n",
    "}"
   ]
  },
  {
   "cell_type": "code",
   "execution_count": 77,
   "metadata": {
    "dotnet_interactive": {
     "language": "fsharp"
    },
    "polyglot_notebook": {
     "kernelName": "fsharp"
    },
    "vscode": {
     "languageId": "polyglot-notebook"
    }
   },
   "outputs": [],
   "source": [
    "let loadNfts<'T> (filePath: string) : 'T =\n",
    "    let jsonContent = File.ReadAllText(filePath)\n",
    "    JsonSerializer.Deserialize<'T>(jsonContent)"
   ]
  },
  {
   "cell_type": "code",
   "execution_count": 78,
   "metadata": {
    "dotnet_interactive": {
     "language": "fsharp"
    },
    "polyglot_notebook": {
     "kernelName": "fsharp"
    },
    "vscode": {
     "languageId": "polyglot-notebook"
    }
   },
   "outputs": [],
   "source": [
    "let nftRound1NFTS = loadNfts<NFT list> \"./data/collection_1.json\"\n",
    "let nftRound2NFTS = loadNfts<NFT list> \"./data/collection_2.json\""
   ]
  },
  {
   "cell_type": "code",
   "execution_count": 79,
   "metadata": {
    "dotnet_interactive": {
     "language": "fsharp"
    },
    "polyglot_notebook": {
     "kernelName": "fsharp"
    },
    "vscode": {
     "languageId": "polyglot-notebook"
    }
   },
   "outputs": [],
   "source": [
    "let nftRound1Traits = loadNfts<NftTraits> \"./data/collectiontraits_1.json\"\n",
    "let nftRound2Traits = loadNfts<NftTraits> \"./data/collectiontraits_2.json\""
   ]
  },
  {
   "cell_type": "markdown",
   "metadata": {},
   "source": [
    "## **2. NFT Rank Calculation** \n",
    "Each NFT has traits such as Background, Bear, Clothing, and more, with each trait having assigned specific values. For example, the Background trait can have values like Space, Lighthouse, or Sunflowers. The overall rarity score and rank of an NFT are determined by the rarity of its trait values.\n",
    "\n",
    "The rarity score of an NFT is calculated by evaluating the rarity of its trait values. For each trait value, we calculate a **trait score** by determining the percentage of NFTs sharing that value (trait frequency) and subtracting this percentage from 100. This ensures that rarer traits receive higher scores.\n",
    "\n",
    "Finally, the **total rarity score** is obtained by summing the scores across all trait categories (e.g., Background, Hair, Clothes). The score is rounded to two decimal places for consistency.\n",
    "\n",
    "$\\text{Trait Score} = \\text{round}\\left(100.0 - \\left(\\frac{\\text{Trait Frequency}}{\\text{Total NFTs}}\\right) \\cdot 100.0, 2\\right)$\n",
    "\n",
    "$\\text{Total Rarity Score} = \\sum_{i=1}^{7} TraitScore_i$\n",
    "\n",
    "---\n",
    "### 2.1 Assign Point Values Based on Trait Value Rarity   \n",
    "Using the **Trait Score** formula, we compute a score for each trait value. These scores are then stored in a map, organized by trait categories and their respective values. \n",
    "\n",
    "---\n",
    "\n",
    "#### **Function**:\n",
    "1. **`processNftTraits`**: \n",
    "- Calculates rarity scores for each trait value based on the trait data and total NFTs in a round.\n",
    "- **Parameters**:<br>\n",
    "    - **`nftTraits`**: (NftTraits): Contains the trait value occurrence data for a round.\n",
    "        \n",
    "    - **`totalNfts`**: (float): The total number of NFTs in the round.\n",
    "- **Returns**: <br>\n",
    "    - A Map<string, Map<string, float>>, where the outer map corresponds to trait categories, and the inner map holds the scores for each trait value.\n",
    "\n",
    "---\n",
    "\n",
    "#### **Variables**:\n",
    "**`r1TotalNfts`**: \n",
    "- (float): Total NFTs in Round 1 (804.0).<br>\n",
    "\n",
    "**`r2TotalNfts`**: \n",
    "- (float): Total NFTs in Round 2 (2035.0).<br>\n",
    "\n",
    "**`r1ScoredTraits`**: \n",
    "- (Map<string, Map<string, float>>): A map of scored trait values for Round 1 NFTs.<br>\n",
    "\n",
    "**`r2ScoredTraits`**: \n",
    "- (Map<string, Map<string, float>>): A map of scored trait values for Round 2 NFTs.<br>\n"
   ]
  },
  {
   "cell_type": "code",
   "execution_count": 80,
   "metadata": {
    "dotnet_interactive": {
     "language": "fsharp"
    },
    "polyglot_notebook": {
     "kernelName": "fsharp"
    },
    "vscode": {
     "languageId": "polyglot-notebook"
    }
   },
   "outputs": [],
   "source": [
    "let r1TotalNfts = 804.0\n",
    "let r2TotalNfts = 2035.0"
   ]
  },
  {
   "cell_type": "code",
   "execution_count": 81,
   "metadata": {
    "dotnet_interactive": {
     "language": "fsharp"
    },
    "polyglot_notebook": {
     "kernelName": "fsharp"
    },
    "vscode": {
     "languageId": "polyglot-notebook"
    }
   },
   "outputs": [],
   "source": [
    "let processNftTraits (nftTraits: NftTraits) (totalNfts: float) =\n",
    "    let recordType = typeof<NftTraits>\n",
    "    FSharp.Reflection.FSharpType.GetRecordFields(recordType)\n",
    "    |> Array.fold (fun acc field ->\n",
    "        let fieldValue = field.GetValue(nftTraits) :?> Map<string, int>\n",
    "        let traitScores = \n",
    "            fieldValue |> Map.map (fun key value ->\n",
    "                Math.Round(100.0 - (float value / float totalNfts) * 100.0, 2)\n",
    "            )\n",
    "        Map.add field.Name traitScores acc\n",
    "    ) Map.empty"
   ]
  },
  {
   "cell_type": "code",
   "execution_count": 82,
   "metadata": {
    "dotnet_interactive": {
     "language": "fsharp"
    },
    "polyglot_notebook": {
     "kernelName": "fsharp"
    },
    "vscode": {
     "languageId": "polyglot-notebook"
    }
   },
   "outputs": [],
   "source": [
    "let r1ScoredTraits = processNftTraits nftRound1Traits r1TotalNfts\n",
    "let r2ScoredTraits = processNftTraits nftRound2Traits r2TotalNfts"
   ]
  },
  {
   "cell_type": "markdown",
   "metadata": {},
   "source": [
    "### **Illustrating the Distribution of Trait Scores**: \n",
    "This section generates visual representations of the distribution of trait scores. The `createCharts` function produces doughnut charts that display each trait value along with its corresponding score."
   ]
  },
  {
   "cell_type": "code",
   "execution_count": 83,
   "metadata": {
    "dotnet_interactive": {
     "language": "fsharp"
    },
    "polyglot_notebook": {
     "kernelName": "fsharp"
    },
    "vscode": {
     "languageId": "polyglot-notebook"
    }
   },
   "outputs": [],
   "source": [
    "let createCharts (traitScores: Map<string, Map<string, float>>) = \n",
    "    traitScores\n",
    "    |> Map.fold( fun acc title labelsAndValues ->\n",
    "        let labels,values = \n",
    "            labelsAndValues\n",
    "            |> Map.toList\n",
    "            |> List.unzip\n",
    "\n",
    "        let combinedText = \n",
    "            List.map2 (fun label value -> sprintf \"%s: %.2f\" label value) labels values\n",
    "\n",
    "        let chart = \n",
    "            Chart.Doughnut(values = values, Labels = labels, Hole = 0.5, MultiText = combinedText)\n",
    "            |> Chart.withTitle title\n",
    "            |> Chart.withLayout(\n",
    "                Layout.init(\n",
    "                    Width = 1200,\n",
    "                    Height = 1000\n",
    "                )\n",
    "            )\n",
    "                    \n",
    "        chart :: acc\n",
    "    )[]\n",
    "    |> List.rev\n",
    "\n",
    "let chartRound1 = createCharts r1ScoredTraits \n",
    "let chartRound2 = createCharts r2ScoredTraits"
   ]
  },
  {
   "cell_type": "markdown",
   "metadata": {},
   "source": [
    "### Teddy Bear Club Round 1 Trait Value Scores"
   ]
  },
  {
   "cell_type": "markdown",
   "metadata": {},
   "source": [
    "<img src=\"./assets/charts1/doughnut1.png\" alt=\"Round 1 Doughnut Charts\" width=\"1400\" height=\"800\">\n",
    "<img src=\"./assets/charts1/doughnut2.png\" alt=\"Round 1 Doughnut Charts\" width=\"1400\" height=\"800\">\n",
    "<img src=\"./assets/charts1/doughnut3.png\" alt=\"Round 1 Doughnut Charts\" width=\"1400\" height=\"800\">\n",
    "<img src=\"./assets/charts1/doughnut4.png\" alt=\"Round 1 Doughnut Charts\" width=\"1400\" height=\"800\">"
   ]
  },
  {
   "cell_type": "code",
   "execution_count": null,
   "metadata": {
    "dotnet_interactive": {
     "language": "fsharp"
    },
    "polyglot_notebook": {
     "kernelName": "fsharp"
    },
    "vscode": {
     "languageId": "polyglot-notebook"
    }
   },
   "outputs": [],
   "source": [
    "for chart in chartRound1 do\n",
    "    display(chart |> Chart.withSize(1400,1400))"
   ]
  },
  {
   "cell_type": "markdown",
   "metadata": {},
   "source": [
    "### Teddy Bears Club Round 2 Trait Value Scores"
   ]
  },
  {
   "cell_type": "markdown",
   "metadata": {},
   "source": [
    "<img src=\"./assets/charts2/doughnut1.png\" alt=\"Round 2 Doughnut Charts\" width=\"1400\" height=\"800\">\n",
    "<img src=\"./assets/charts2/doughnut2.png\" alt=\"Round 2 Doughnut Charts\" width=\"1400\" height=\"800\">\n",
    "<img src=\"./assets/charts2/doughnut3.png\" alt=\"Round 2 Doughnut Charts\" width=\"1400\" height=\"800\">\n",
    "<img src=\"./assets/charts2/doughnut4.png\" alt=\"Round 2 Doughnut Charts\" width=\"1400\" height=\"800\">"
   ]
  },
  {
   "cell_type": "code",
   "execution_count": null,
   "metadata": {
    "dotnet_interactive": {
     "language": "fsharp"
    },
    "polyglot_notebook": {
     "kernelName": "fsharp"
    },
    "vscode": {
     "languageId": "polyglot-notebook"
    }
   },
   "outputs": [],
   "source": [
    "for chart in chartRound2 do\n",
    "    display(chart |> Chart.withSize(1400,1400)) "
   ]
  },
  {
   "cell_type": "markdown",
   "metadata": {},
   "source": [
    "### 2.2 Compute Overall Rarity Ranks for Each NFT. \n",
    "This section calculates the total rarity score and rank for each NFT within their respective rounds. The **total rarity score** is determined by summing the scores of all trait values associated with an NFT.\n",
    "\n",
    "$\\text{Total Rarity Score} = \\sum_{i=1}^{7} TraitScore_i$\n",
    "\n",
    "Using the results from this step, a CSV file - [`collectionranks.csv`](./data/collectionranks.csv) - was created to map NFTs to their respective ranks, enabling easier access and computation. This file is referenced in subsequent sections for calculating TEDY token rewards. For more details on generating the CSV, refer to [`rankdata.ipynb`](./rankdata.ipynb).\n",
    "\n",
    "---\n",
    "\n",
    "#### **Function**:\n",
    "1. **`computeNFTRank`**: \n",
    "- Computes the rarity rank of NFTs based on their traits and scores.\n",
    "- **Parameters**:\n",
    "    - **`nftList`**: (NFT list): The list of NFTs to rank.\n",
    "    - **`nftTraitScores`**: (Map<string, Map<string, float>>): Trait value scores computed above.\n",
    "\n",
    "---\n",
    "\n",
    "#### **Variables**:\n",
    "**`rankedNFTsRound1`**: \n",
    "- (list): Stores the ranked Round 1 NFTs, including their `assetName`, `encodedName`, and `rarityScore`.\n",
    "\n",
    "**`rankedNFTsRound2`**: \n",
    "- (list): Stores the ranked Round 2 NFTs with the same structure as above.\n"
   ]
  },
  {
   "cell_type": "code",
   "execution_count": 84,
   "metadata": {
    "dotnet_interactive": {
     "language": "fsharp"
    },
    "polyglot_notebook": {
     "kernelName": "fsharp"
    },
    "vscode": {
     "languageId": "polyglot-notebook"
    }
   },
   "outputs": [],
   "source": [
    "let computeNFTRank (nftList: list<NFT>) nftTraitScores = \n",
    "    nftList\n",
    "    |> List.map (fun nft ->\n",
    "        let rarityScore =  \n",
    "            [\n",
    "                (\"Background\", nft.Background)\n",
    "                (\"Bear\", nft.Bear)\n",
    "                (\"Clothes\", nft.Clothes)\n",
    "                (\"Face\", nft.Face)\n",
    "                (\"Handheld\", nft.Handheld)\n",
    "                (\"Head\", nft.Head)\n",
    "                (\"Skins\", nft.Skins)\n",
    "            ]\n",
    "            |> List.fold (fun acc (attrName, attrValue) ->  \n",
    "                match Map.tryFind attrName nftTraitScores with\n",
    "                | Some traitMap ->  \n",
    "                    acc + (Map.tryFind attrValue traitMap |> Option.defaultValue 0.0)\n",
    "                | None -> acc \n",
    "            ) 0.0 \n",
    "        (nft.assetName, nft.encodedName, rarityScore) \n",
    "    )\n",
    "    |> List.sortBy (fun (_, _, rarityScore) -> -rarityScore)\n",
    "    |> List.mapi (fun index (assetName, encodedName, rarityScore) -> \n",
    "    (index + 1, assetName, encodedName, rarityScore))"
   ]
  },
  {
   "cell_type": "code",
   "execution_count": 85,
   "metadata": {
    "dotnet_interactive": {
     "language": "fsharp"
    },
    "polyglot_notebook": {
     "kernelName": "fsharp"
    },
    "vscode": {
     "languageId": "polyglot-notebook"
    }
   },
   "outputs": [],
   "source": [
    "let rankedNFTsRound1 = computeNFTRank nftRound1NFTS r1ScoredTraits\n",
    "let rankedNFTsRound2 = computeNFTRank nftRound2NFTS r2ScoredTraits"
   ]
  },
  {
   "cell_type": "markdown",
   "metadata": {},
   "source": [
    "## **3. NFT Rewards Calculation** \n",
    "Calculating an NFT holder's TEDY rewards involves multiple factors, including the NFTs they own, the round each NFT belongs to, and their respective tiers within those rounds. For Round 2 Teddy Bear Club NFTs, the order of minting is considered as well.\n",
    "\n",
    "Furthermore, the calculation considers the holder's proportional share of unsold NFTs, based on the number of NFTs they hold, the NFTs's round and tier.\n",
    "\n",
    "---\n",
    "### **3.1 Load NFT rank and order data**\n",
    "1. Load NFT rank data from the [`collectionranks.csv`](./data/collectionranks.csv) file in the `data` folder. The CSV was created by using the rank computations executed below. For detailed steps or to recreate the file, refer to [`rankData.ipynb`](./rankdata.ipynb).\n",
    "\n",
    "#### **Type**:\n",
    "- **`NftRecord`**: Represents an individual NFT record from the CSV.\n",
    "\n",
    "#### **Functions**:\n",
    "\n",
    "1. **`parseRankCsv`**:\n",
    "- Parses a CSV file into a list of `NftRecord` entries.\n",
    "- **Parameters**:\n",
    "   - `filePath (string)`: The path to the CSV file.\n",
    "- **Returns**:  \n",
    "   - A `list<NftRecord>` containing records with `Name`, `Subject`, `Rank`, and `Score`.\n",
    "\n",
    "2. **`createSubjectToRankMap`**:\n",
    "- Creates a mapping of `Subject`(Policy ID + Asset Name) to `Rank`.\n",
    "- **Parameters**:\n",
    "   - `records (list<NftRecord>)`: A list of `NftRecord` entries.\n",
    "- **Returns**:  \n",
    "   - A `Map<string, int>` mapping `Subject` to `Rank`.\n",
    "\n",
    "3. **`createNameToRankMap`**:\n",
    "- Creates a mapping of `Name` (i.e. TeddyBearsClub178) to `Rank`.\n",
    "- **Parameters**:\n",
    "   - `records (list<NftRecord>)`: A list of `NftRecord` entries.\n",
    "- **Returns**:  \n",
    "   - A `Map<string, int>` mapping `Name` to `Rank`.\n",
    "\n",
    "---\n",
    "\n",
    "#### **Variables**:\n",
    "\n",
    "1. **`csvPath`**:  \n",
    "   - `(string)`: The file path to the CSV file containing NFT rank data.\n",
    "\n",
    "2. **`nftDataList`**:  \n",
    "   - `(list<NftRecord>)`: A list of parsed `NftRecord` entries from the CSV file.\n",
    "\n",
    "3. **`subjectRankData`**:  \n",
    "   - `(Map<string, int>)`: A mapping of `Subject` to `Rank` created using `createSubjectToRankMap`.\n",
    "\n",
    "4. **`nameRankData`**:  \n",
    "   - `(Map<string, int>)`: A mapping of `Name` to `Rank` created using `createNameToRankMap`.\n"
   ]
  },
  {
   "cell_type": "code",
   "execution_count": 86,
   "metadata": {
    "dotnet_interactive": {
     "language": "fsharp"
    },
    "polyglot_notebook": {
     "kernelName": "fsharp"
    },
    "vscode": {
     "languageId": "polyglot-notebook"
    }
   },
   "outputs": [],
   "source": [
    "type NftRecord = {\n",
    "    Name: string\n",
    "    Subject: string\n",
    "    Rank: int\n",
    "    Score: float\n",
    "}"
   ]
  },
  {
   "cell_type": "code",
   "execution_count": 87,
   "metadata": {
    "dotnet_interactive": {
     "language": "fsharp"
    },
    "polyglot_notebook": {
     "kernelName": "fsharp"
    },
    "vscode": {
     "languageId": "polyglot-notebook"
    }
   },
   "outputs": [],
   "source": [
    " let parseRankCsv (filePath: string) =\n",
    "    File.ReadAllLines(filePath)\n",
    "    |> Array.skip 1\n",
    "    |> Array.map (fun line ->\n",
    "        let parts = line.Split(',')\n",
    "        {\n",
    "            Name = parts.[0]\n",
    "            Subject = parts.[1]\n",
    "            Rank = int parts.[2]\n",
    "            Score = float parts.[3]\n",
    "        }\n",
    "    )\n",
    "    |> List.ofArray\n"
   ]
  },
  {
   "cell_type": "code",
   "execution_count": 88,
   "metadata": {
    "dotnet_interactive": {
     "language": "fsharp"
    },
    "polyglot_notebook": {
     "kernelName": "fsharp"
    },
    "vscode": {
     "languageId": "polyglot-notebook"
    }
   },
   "outputs": [],
   "source": [
    "let createSubjectToRankMap (records: NftRecord list) =\n",
    "    records\n",
    "    |> List.map (fun record -> record.Subject, record.Rank)\n",
    "    |> Map.ofList\n",
    "\n",
    "let createNameToRankMap (records: NftRecord list) =\n",
    "    records\n",
    "    |> List.map (fun record -> record.Name, record.Rank)\n",
    "    |> Map.ofList"
   ]
  },
  {
   "cell_type": "code",
   "execution_count": 89,
   "metadata": {
    "dotnet_interactive": {
     "language": "fsharp"
    },
    "polyglot_notebook": {
     "kernelName": "fsharp"
    },
    "vscode": {
     "languageId": "polyglot-notebook"
    }
   },
   "outputs": [],
   "source": [
    "let rankCsvPath = \"./data/collectionranks.csv\"\n",
    "let nftDataList = parseRankCsv rankCsvPath\n",
    "let subjectRankData = createSubjectToRankMap nftDataList \n",
    "let nameRankData = createNameToRankMap nftDataList  "
   ]
  },
  {
   "cell_type": "markdown",
   "metadata": {},
   "source": [
    "---\n",
    "\n",
    "2. Load NFT order data from the ___ file in the `data` folder. The CSV was created by using the [CardanoScan API](https://docs.cardanoscan.io/). For detailed steps or to recreate the file, refer to [`api.ipynb`](./api.ipynb).\n",
    "\n",
    "#### **Type**:\n",
    "- **`OrderedNft`**: Represents an individual NFT record from the CSV.\n",
    "\n",
    "#### **Functions**:\n",
    "\n",
    "1. **`parseOrderCsv`**:\n",
    "- Parses a CSV file into a list of `OrderedNft` entries.\n",
    "- **Parameters**:\n",
    "   - `filePath (string)`: The path to the CSV file.\n",
    "- **Returns**:  \n",
    "   - A `list<OrderedNft>` containing records with `Name`, `Subject`, `Rank`, and `Score`.\n",
    "\n",
    "2. **`createSubjectToOrderMap`**:\n",
    "- Creates a mapping of `Subject`(Policy ID + Asset Name) to `Order`.\n",
    "- **Parameters**:\n",
    "   - `records (list<OrderedNft>)`: A list of `OrderedNft` entries.\n",
    "- **Returns**:  \n",
    "   - A `Map<string, int>` mapping `Subject` to `Order`.\n",
    "\n",
    "---\n",
    "\n",
    "#### **Variables**:\n",
    "\n",
    "1. **`orderCsvPath`**:  \n",
    "   - `(string)`: The file path to the CSV file containing NFT order data.\n",
    "\n",
    "2. **`nftOrderList`**:  \n",
    "   - `(list<NFTRecord>)`: A list of parsed `OrderedNft` entries from the CSV file.\n",
    "\n",
    "3. **`subjectOrderData`**:  \n",
    "   - `(Map<string, int>)`: A mapping of `Subject` to `Order` created using `createSubjectToOrderMap`."
   ]
  },
  {
   "cell_type": "code",
   "execution_count": null,
   "metadata": {
    "dotnet_interactive": {
     "language": "fsharp"
    },
    "polyglot_notebook": {
     "kernelName": "fsharp"
    },
    "vscode": {
     "languageId": "polyglot-notebook"
    }
   },
   "outputs": [],
   "source": [
    "type OrderedNft = {\n",
    "    AssetId: string\n",
    "    Order: int\n",
    "}"
   ]
  },
  {
   "cell_type": "code",
   "execution_count": null,
   "metadata": {
    "dotnet_interactive": {
     "language": "fsharp"
    },
    "polyglot_notebook": {
     "kernelName": "fsharp"
    },
    "vscode": {
     "languageId": "polyglot-notebook"
    }
   },
   "outputs": [],
   "source": [
    "let parseOrderCsv (filePath: string) =\n",
    "    File.ReadAllLines(filePath)\n",
    "    |> Array.skip 1\n",
    "    |> Array.map (fun line ->\n",
    "        let parts = line.Split(',')\n",
    "        {\n",
    "            AssetId = parts.[0]\n",
    "            Order = int parts.[1]\n",
    "        }\n",
    "    )\n",
    "    |> List.ofArray"
   ]
  },
  {
   "cell_type": "code",
   "execution_count": 179,
   "metadata": {
    "dotnet_interactive": {
     "language": "fsharp"
    },
    "polyglot_notebook": {
     "kernelName": "fsharp"
    },
    "vscode": {
     "languageId": "polyglot-notebook"
    }
   },
   "outputs": [],
   "source": [
    "let createSubjectToOrderMap (records: OrderedNft list) =\n",
    "    records\n",
    "    |> List.map (fun record -> record.AssetId, record.Order)\n",
    "    |> Map.ofList"
   ]
  },
  {
   "cell_type": "code",
   "execution_count": null,
   "metadata": {
    "dotnet_interactive": {
     "language": "fsharp"
    },
    "polyglot_notebook": {
     "kernelName": "fsharp"
    },
    "vscode": {
     "languageId": "polyglot-notebook"
    }
   },
   "outputs": [],
   "source": [
    "let orderCsvPath = \"./data/roundtwo_tokens_minting_order.csv\"\n",
    "let nftOrderList = parseOrderCsv orderCsvPath\n",
    "let subjectOrderData = createSubjectToOrderMap nftOrderList"
   ]
  },
  {
   "cell_type": "markdown",
   "metadata": {},
   "source": [
    "### **3.2 Identify a Subject's Tier**\n",
    "This section determines the tier of an NFT based on its `policyId` (indicating the round) and its rarity rank. The tier determines the base TEDY rewards allocated to the NFT.\n",
    "\n",
    "#### **Functions**:\n",
    "1. **`calculateRewardByTier`**:\n",
    "- Categorizes an NFT into a tier based on its rank and round (indicated by `tiers`).\n",
    "- **Parameters**:\n",
    "  - `rank` (int): The rarity rank of the NFT.\n",
    "  - `subject` ((int * int) list): A list of tier thresholds and their associated rewards.\n",
    "- **Returns**:\n",
    "  -(int): The reward corresponding to the NFT’s tier.\n",
    "\n",
    "2. **`computeBaseReward`**:\n",
    "- Determines the base TEDY rewards for a given NFT based on its round and tier.\n",
    "- Calls `calculateRewardByTier` with either `round1Tiers` or `round2Tiers` based on the NFT's policy ID.\n",
    "- **Parameters**:\n",
    "  - `nft` (string): The unique identifier of the NFT.\n",
    "  - `rankData` (Map<string, int>): A mapping of subjects to their rank.\n",
    "- **Returns**:\n",
    "  - (int): The base rewards allocated to the given subject.\n",
    "---\n",
    "\n",
    "#### **Variables**:\n",
    " **`round1PolicyId`**:\n",
    "   - (string): the unique policy ID for identifying NFTs from Round 1.\n",
    "\n",
    " **`round2PolicyId`**:\n",
    "   - (string): the unique policy ID for identifying NFTs from Round 2.\n",
    "\n",
    "**`round1Tiers`**:\n",
    "   - ((int * int) list): A list of thresholds and rewards for Round 1 tiers.\n",
    "\n",
    "**`round2Tiers`**:\n",
    "   - ((int * int) list): A list of thresholds and rewards for Round 2 tiers."
   ]
  },
  {
   "cell_type": "code",
   "execution_count": 180,
   "metadata": {
    "dotnet_interactive": {
     "language": "fsharp"
    },
    "polyglot_notebook": {
     "kernelName": "fsharp"
    },
    "vscode": {
     "languageId": "polyglot-notebook"
    }
   },
   "outputs": [],
   "source": [
    "let round1PolicyId = \"ab182ed76b669b49ee54a37dee0d0064ad4208a859cc4fdf3f906d87\"\n",
    "let round2PolicyId = \"da3562fad43b7759f679970fb4e0ec07ab5bebe5c703043acda07a3c\""
   ]
  },
  {
   "cell_type": "code",
   "execution_count": 181,
   "metadata": {
    "dotnet_interactive": {
     "language": "fsharp"
    },
    "polyglot_notebook": {
     "kernelName": "fsharp"
    },
    "vscode": {
     "languageId": "polyglot-notebook"
    }
   },
   "outputs": [],
   "source": [
    "let calculateRewardByTier (rank: int) (tiers: (int * int) list) =\n",
    "    match tiers |> List.tryFind (fun (threshold, _) -> rank <= threshold) with\n",
    "    | Some (_, reward) -> reward\n",
    "    | None -> 0"
   ]
  },
  {
   "cell_type": "code",
   "execution_count": 182,
   "metadata": {
    "dotnet_interactive": {
     "language": "fsharp"
    },
    "polyglot_notebook": {
     "kernelName": "fsharp"
    },
    "vscode": {
     "languageId": "polyglot-notebook"
    }
   },
   "outputs": [],
   "source": [
    "let round1Tiers = [ (15, 38000); (100, 19250); (250, 13860); (500, 12320); (804, 11550) ]\n",
    "let round2Tiers = [ (23, 7000); (221, 6000); (664, 5000); (1327, 4500); (2035, 4200) ]"
   ]
  },
  {
   "cell_type": "code",
   "execution_count": 183,
   "metadata": {
    "dotnet_interactive": {
     "language": "fsharp"
    },
    "polyglot_notebook": {
     "kernelName": "fsharp"
    },
    "vscode": {
     "languageId": "polyglot-notebook"
    }
   },
   "outputs": [],
   "source": [
    "let computeBaseReward (nft: string) (rankData: Map<string, int>) =\n",
    "    let rank = rankData[nft]\n",
    "    if nft.Contains(round1PolicyId) then\n",
    "        calculateRewardByTier rank round1Tiers\n",
    "    elif nft.Contains(round2PolicyId) then\n",
    "        calculateRewardByTier rank round2Tiers\n",
    "    else\n",
    "        printfn \"Unknown NFT policyId for %s\" nft\n",
    "        0"
   ]
  },
  {
   "cell_type": "markdown",
   "metadata": {},
   "source": [
    "### 3.3 **Identify a Round Two NFT's Minted Order Tier**\n",
    "\n",
    "This section determines the TEDY bonus allocated to Round 2 Teddy Bear Club NFTs for the [Teddy Bear Surprise](https://medium.com/@TeddySwapDEX/1st-teddy-bear-surprise-945ed9e7405a). For a detailed explanation of the Order Tiers and corresponding TEDY, you may refer to 1.2 - NFT Information above.\n",
    "\n",
    "---\n",
    "#### **Function**:\n",
    "1. **`computeRoundTwoSurprise`**:\n",
    "- Categorizes an NFT into a tier based on the order of minting.\n",
    "- **Parameters**:\n",
    "  - `nft` (string): The subject - Policy ID + Asset Name.\n",
    "  - `orderedData` (Map<string,int>): A map of subjects and their order of minting.\n",
    "- **Returns**:\n",
    "  -(int): The reward corresponding to the NFT’s tier."
   ]
  },
  {
   "cell_type": "code",
   "execution_count": 178,
   "metadata": {
    "dotnet_interactive": {
     "language": "fsharp"
    },
    "polyglot_notebook": {
     "kernelName": "fsharp"
    },
    "vscode": {
     "languageId": "polyglot-notebook"
    }
   },
   "outputs": [],
   "source": [
    "let computeRoundTwoSurprise (nft: string) (orderedData: Map<string,int>) = \n",
    "    let order = orderedData[nft]\n",
    "    if order <= 1250 then\n",
    "        19133\n",
    "    elif order <= 1400 then\n",
    "        18133\n",
    "    elif order < 1600 then\n",
    "        16800\n",
    "    elif order = 1600 then\n",
    "        8400\n",
    "    elif order < 1800 then\n",
    "        6400\n",
    "    elif order = 1800 then\n",
    "        8400\n",
    "    elif order <= 1880 then \n",
    "        6000\n",
    "    elif order <= 2000 then \n",
    "        8000\n",
    "    else\n",
    "        4000"
   ]
  },
  {
   "cell_type": "markdown",
   "metadata": {},
   "source": [
    "### Computing an NFT's Rank and Reward with Alice’s Teddy Bear\n",
    "\n",
    "Now that we've built the tools to calculate NFT rankings and determine TEDY rewards, let’s bring these functions to life with a practical example.\n",
    "\n",
    "Meet Alice, a proud owner of a unique NFT: Teddy Bears Club #5731. Naturally, Alice is curious to find out the rank and TEDY rewards allocated to her her beloved Teddy Bear. Using the tools and functions we’ve developed, we can help Alice uncover this information.\n",
    "\n",
    "Later on, we will also calculate for the total TEDY tokens Alice can receive. Let’s dive in!"
   ]
  },
  {
   "cell_type": "markdown",
   "metadata": {},
   "source": [
    "<img src=\"./assets/teddy5731.png\" alt=\"Teddy Bears Club #5731\" width=\"400\" height=\"400\"/>\n",
    "\n",
    "Let’s start by identifying Alice’s NFT in the system. Alice provides her NFT's subject identifier:\n"
   ]
  },
  {
   "cell_type": "code",
   "execution_count": 192,
   "metadata": {
    "dotnet_interactive": {
     "language": "fsharp"
    },
    "polyglot_notebook": {
     "kernelName": "fsharp"
    },
    "vscode": {
     "languageId": "polyglot-notebook"
    }
   },
   "outputs": [],
   "source": [
    "let aliceNft = \"ab182ed76b669b49ee54a37dee0d0064ad4208a859cc4fdf3f906d8754656464794265617273436c756235373331\""
   ]
  },
  {
   "cell_type": "markdown",
   "metadata": {},
   "source": [
    "We can then use the `computeBaseRewards` function to determine the NFT's tier and TEDY rewards. Here’s how we process Alice’s NFT:"
   ]
  },
  {
   "cell_type": "code",
   "execution_count": 223,
   "metadata": {
    "dotnet_interactive": {
     "language": "fsharp"
    },
    "polyglot_notebook": {
     "kernelName": "fsharp"
    },
    "vscode": {
     "languageId": "polyglot-notebook"
    }
   },
   "outputs": [],
   "source": [
    "let aliceBaseReward =  computeBaseReward aliceNft subjectRankData"
   ]
  },
  {
   "cell_type": "code",
   "execution_count": 224,
   "metadata": {
    "dotnet_interactive": {
     "language": "fsharp"
    },
    "polyglot_notebook": {
     "kernelName": "fsharp"
    },
    "vscode": {
     "languageId": "polyglot-notebook"
    }
   },
   "outputs": [
    {
     "name": "stdout",
     "output_type": "stream",
     "text": [
      "Alice's Asset: ab182ed76b669b49ee54a37dee0d0064ad4208a859cc4fdf3f906d8754656464794265617273436c756235373331\n",
      "Asset's Rank: 162\n",
      "Asset's TEDY Reward: 13860\n"
     ]
    }
   ],
   "source": [
    "printfn \"Alice's Asset: %s\" aliceNft\n",
    "printfn \"Asset's Rank: %d\" subjectRankData[aliceNft]\n",
    "printfn \"Asset's TEDY Reward: %d\" aliceBaseReward"
   ]
  },
  {
   "cell_type": "markdown",
   "metadata": {},
   "source": [
    "As #5731 is a Round 1 NFT, it is not eligible for the Teddy Bear Surprise. However, Alice's friend Bob does have a Round 2 NFT: Teddy Bear Club #5417\n",
    "\n",
    "<img src=\"./assets/teddy5417.png\" alt=\"Teddy Bears Club #5731\" width=\"400\" height=\"400\"/>\n",
    "\n",
    "Let's see determine #5417's NFT Rank and Order, and the corresponding rewards Bob will receive."
   ]
  },
  {
   "cell_type": "code",
   "execution_count": 225,
   "metadata": {
    "dotnet_interactive": {
     "language": "fsharp"
    },
    "polyglot_notebook": {
     "kernelName": "fsharp"
    },
    "vscode": {
     "languageId": "polyglot-notebook"
    }
   },
   "outputs": [],
   "source": [
    "let bobNft = \"da3562fad43b7759f679970fb4e0ec07ab5bebe5c703043acda07a3c54656464794265617273436c756235343137\""
   ]
  },
  {
   "cell_type": "code",
   "execution_count": 226,
   "metadata": {
    "dotnet_interactive": {
     "language": "fsharp"
    },
    "polyglot_notebook": {
     "kernelName": "fsharp"
    },
    "vscode": {
     "languageId": "polyglot-notebook"
    }
   },
   "outputs": [],
   "source": [
    "let rankReward =  computeBaseReward ownedNft subjectRankData\n",
    "let surpriseReward = computeRoundTwoSurprise bobNft subjectOrderData\n",
    "let bobBaseReward = rankReward + surpriseReward"
   ]
  },
  {
   "cell_type": "code",
   "execution_count": 227,
   "metadata": {
    "dotnet_interactive": {
     "language": "fsharp"
    },
    "polyglot_notebook": {
     "kernelName": "fsharp"
    },
    "vscode": {
     "languageId": "polyglot-notebook"
    }
   },
   "outputs": [
    {
     "name": "stdout",
     "output_type": "stream",
     "text": [
      "Bob's Asset: da3562fad43b7759f679970fb4e0ec07ab5bebe5c703043acda07a3c54656464794265617273436c756235343137\n",
      "Asset's Rank: 1865\n",
      "Asset's Order: 239\n",
      "Asset's Rank Reward: 13860\n",
      "Asset's Order Reward: 19133\n",
      "Asset's Order Reward: 32993\n"
     ]
    }
   ],
   "source": [
    "printfn \"Bob's Asset: %s\" bobNft\n",
    "printfn \"Asset's Rank: %d\" subjectRankData[bobNft]\n",
    "printfn \"Asset's Order: %d\" subjectOrderData[bobNft]\n",
    "printfn \"Asset's Rank Reward: %d\" rankReward\n",
    "printfn \"Asset's Order Reward: %d\" surpriseReward\n",
    "printfn \"Asset's Order Reward: %d\" bobBaseReward"
   ]
  },
  {
   "cell_type": "markdown",
   "metadata": {},
   "source": [
    "### **3.4 Calculate Portion of TEDY Rewards from Surplus TEDY**\n",
    "\n",
    "In the [initial Round 2 announcements]((https://medium.com/@TeddySwapDEX/teddy-bears-club-round-2-c209556b379f)), surplus rewards were intended to be proportional to the number of NFTs owned. However, the large quantity of remaining tokens diminished the ranking system's impact. To address this, the Swyp Team introduced a tier-based system where TEDY rewards are allocated based on the rarity and ranking of NFTs. The surplus tiers follow the rarity scheme described in section 1.2 - NFT Information. Following the original announcement, Round 1 Teddy Bear Club NFTs receive a bonus of 2.75 in consideration of the higher minting cost.\n",
    "\n",
    "This section explains the formula used to in this new calculation.\n",
    "\n",
    "The **Round 1 TEDY Allocation** formula calculates the TEDY allocation for each Round 1 NFT by applying the Round 1 Bonus (2.75x).\n",
    "\n",
    "$\\text{Round 1 TEDY Allocation} = \\text{Round 2 TEDY Allocation} * \\text{Round 1 Bonus}$\n",
    "\n",
    "The **Round 2 TEDY Allocation** formula calculates the TEDY allocation for each Round 2 NFT based on the proportion of available token rewards allocated to its tier.\n",
    "\n",
    "$\\text{Round 2 TEDY Allocation} = \\frac{\\text{Percentage} * \\text{Available Token Rewards}}{\\text{Round 1 NFTs Sold} * \\text{Round 1 Bonus} + \\text{Round 2 NFTs Sold}}$\n",
    "\n",
    "\n",
    "| **Tier** | **Percentage** | **Round 1 TEDY** | **Round 2 TEDY** |\n",
    "|----------|----------------|------------------|------------------|\n",
    "| Tier 1   | 10%            | 654,932          | 238,157          |\n",
    "| Tier 2   | 15%            | 146,196          | 53,162           |\n",
    "| Tier 3   | 20%            | 98,376           | 35,773           |\n",
    "| Tier 4   | 27%            | 84,128           | 30,592           |\n",
    "| Tier 5   | 28%            | 76,310           | 27,749           |\n",
    "\n",
    "\n",
    "Where:\n",
    "\n",
    "- **Total INO TEDY Allocation:**  \n",
    "  The total amount of TEDY designated for Initial NFT Offering (INO) rewards based on the [initial tokenomics](https://medium.com/@TeddySwapDEX/teddyswap-tokenomics-fcd700aea552).  \n",
    "  $\\text{Total INO TEDY Allocation} = 5,000,000,000 \\times 4.5\\% = 225,000,000 \\text{TEDY}$\n",
    "  \n",
    "- **Round 1 Bonus:**  \n",
    "  The bonus multiplier applied to NFTs sold in Round 1.  \n",
    " $\\text{Round 1 Bonus} = 2.75$\n",
    "\n",
    "- **Round 1 NFTs Sold:**  \n",
    "  The total number of NFTs sold in Round 1.  \n",
    "  $\\text{Round 1 NFTs Sold} = 804$\n",
    "\n",
    "- **Round 2 NFTs Sold:**  \n",
    "  The total number of NFTs sold in Round 2.  \n",
    "  $\\text{Round 2 NFTs Sold} = 2,035$\n",
    "\n",
    "- $\\text{Tier Tokens}_i$:  \n",
    "  The number of TEDY tokens allocated per NFT in Tier \\(i\\).\n",
    "\n",
    "- $\\text{Count of Tier}_i$:\n",
    "  The number of NFTs in Tier \\(i\\).\n",
    "\n",
    "#### **Calculations**\n",
    "\n",
    "1. **Calculate Distributed Tokens:**\n",
    "\n",
    "   Determine the total TEDY tokens already distributed based on the tiers of NFTs sold in both rounds.\n",
    "\n",
    "   $\\text{Distributed Tokens} = $\n",
    "   <br>$\\sum_{i=1}^{5} (\\text{Round 1 Tier Tokens}_i * \\text{Count of Tier}_i) * 2.75 +$ \n",
    "   <br>$\\sum_{i=1}^{5} (\\text{Round 2 Tier Tokens}_i * \\text{Count of Tier}_i) + $\n",
    "   <br>$\\sum_{i=1}^{9} (\\text{Round 2 MintOrdered Tier Tokens}_i * \\text{Count of MintOrdered Tier}_i)$\n",
    "\n",
    "2. **Determine Available Token Rewards:**\n",
    "\n",
    "   Calculate the remaining TEDY tokens available for surplus distribution by subtracting the distributed tokens from the total INO TEDY allocation.\n",
    "\n",
    "   $\\text{Available Token Rewards} = \\text{Total INO TEDY Allocation} - \\text{Distributed Tokens}$\n",
    "\n",
    "3. **Compute TEDY Surplus per NFT According to Tier:**\n",
    "\n",
    "   The additional TEDY reward allocated per NFT is calculated by multiplying the allocated percentage for the tier by the available token rewards, then dividing it by the total number of NFTs in that tier. This is multiplied by the Round 1 Bonus for Round 1 NFTs.\n",
    "\n",
    "   $\\text{TEDY Surplus per NFT by Tier} = \\frac{\\text{Percentage} * \\text{Available Token Rewards}}{\\text{Round 1 NFTs Sold} * \\text{Round 1 Bonus} + \\text{Round 2 NFTs Sold}}$\n",
    "\n",
    "---\n",
    "\n",
    "#### **Functions**:\n",
    "1. **`calculateSurplusTedyPerNFT`**:\n",
    "- Computes the additional TEDY rewards allocated per NFT for each tier, based on the available token rewards, tier allocation percentages, total number of NFTs in each tier, and Round 1 Bonus.\n",
    "- **Parameters**:\n",
    "   - `availableTokenRewards` (float) - The total amount of TEDY rewards available for surplus distribution.\n",
    "- **Returns**:\n",
    "   - (int list) - A list of TEDY surplus rewards per NFT for each tier, rounded up to the nearest whole number.\n",
    "\n",
    "---\n",
    "\n",
    "#### **Variables**:\n",
    "**`round1Bonus`**:\n",
    "   - (float): represents the bonus multiplier applied to Round 1 NFTs.\n",
    "\n",
    "**`round1NFTsSold`**:\n",
    "   - (int): represents the total NFTs minted for Round 1.\n",
    "\n",
    "**`round2NFTsSold`**:\n",
    "   - (int): represents the total NFTs minted for Round 2.\n",
    "   <br>\n",
    "\n",
    "**`round1Tier1`, `round1Tier2`, `round1Tier3`, `round1Tier4`, `round1Tier5`**:\n",
    "   - Tokens allocated per NFT for each tier in Round 1:\n",
    "     - **round1Tier1**: `30800`\n",
    "     - **round1Tier2**: `19250`\n",
    "     - **round1Tier3**: `13860`\n",
    "     - **round1Tier4**: `12320`\n",
    "     - **round1Tier5**: `11550`\n",
    "\n",
    "**`round2Tier1`, `round2Tier2`, `round2Tier3`, `round2Tier4`, `round2Tier5`**:\n",
    "   - Tokens allocated per NFT for each tier in Round 2:\n",
    "     - **round2Tier1**: `7000`\n",
    "     - **round2Tier2**: `6000`\n",
    "     - **round2Tier3**: `5000`\n",
    "     - **round2Tier4**: `4500`\n",
    "     - **round2Tier5**: `4200`\n",
    "\n",
    "**`round1CountOfTier1`, `round1CountOfTier2`, `round1CountOfTier3`, `round1CountOfTier4`, `round1CountOfTier5`**:\n",
    "   - The number of NFTs held in each tier:\n",
    "     - **countOfTier1**: `15`\n",
    "     - **countOfTier2**: `85`\n",
    "     - **countOfTier3**: `150`\n",
    "     - **countOfTier4**: `250`\n",
    "     - **countOfTier5**: `304`\n",
    "\n",
    "**`round2CountOfTier1`, `round2CountOfTier2`, `round2CountOfTier3`, `round2CountOfTier4`, `round2CountOfTier5`**:\n",
    "   - The number of NFTs held in each tier:\n",
    "     - **countOfTier1**: `23`\n",
    "     - **countOfTier2**: `198`\n",
    "     - **countOfTier3**: `443`\n",
    "     - **countOfTier4**: `663`\n",
    "     - **countOfTier5**: `708`\n",
    "\n",
    "**`round2OrderedTier1`, `round2OrderedTier2`, `round2OrderedTier3`, `round2OrderedTier4`, `round2OrderedTier5`, `round2OrderedTier6`, `round2OrderedTier7`, `round2OrderedTier8`, `round2OrderedTier9`**:\n",
    "   - Tokens allocated per NFT for each tier in Round 2:\n",
    "     - **round2OrderedTier1**: `19133`\n",
    "     - **round2OrderedTier2**: `18133`\n",
    "     - **round2OrderedTier3**: `16800`\n",
    "     - **round2OrderedTier4**: `8400`\n",
    "     - **round2OrderedTier5**: `6400`\n",
    "     - **round2OrderedTier6**: `8400`\n",
    "     - **round2OrderedTier7**: `6000`\n",
    "     - **round2OrderedTier8**: `8000`\n",
    "     - **round2OrderedTier9**: `4000`\n",
    "\n",
    "**`round2OrderedCountOfTier1`, `round2OrderedCountOfTier2`, `round2OrderedCountOfTier3`, `round2OrderedCountOfTier4`, `round2OrderedCountOfTier5`, `round2OrderedCountOfTier6`, `round2OrderedCountOfTier7`, `round2OrderedCountOfTier8`, `round2OrderedCountOfTier9`**:\n",
    "   - The number of NFTs held in each tier:\n",
    "     - **round2OrderedCountOfTier1**: `1250`\n",
    "     - **round2OrderedCountOfTier2**: `150`\n",
    "     - **round2OrderedCountOfTier3**: `199`\n",
    "     - **round2OrderedCountOfTier4**: `1`\n",
    "     - **round2OrderedCountOfTier5**: `199`\n",
    "     - **round2OrderedCountOfTier6**: `1`\n",
    "     - **round2OrderedCountOfTier7**: `80`\n",
    "     - **round2OrderedCountOfTier8**: `120`\n",
    "     - **round2OrderedCountOfTier9**: `35`\n",
    "\n",
    "\n",
    "**`distributedTokens`**:\n",
    "   - (int): The total tokens distributed across all both rounds.\n",
    "\n",
    "**`availableTokenRewards`**:\n",
    "   - (int): The remaining TEDY tokens available for INO rewards after distribution.\n",
    "\n",
    "**`surplusTierReward`**:\n",
    "   - (int list): The calculated TEDY surplus reward per NFT for each tier, computed using the `calculateSurplusRewardsPerTier` function.\n"
   ]
  },
  {
   "cell_type": "code",
   "execution_count": 98,
   "metadata": {
    "dotnet_interactive": {
     "language": "fsharp"
    },
    "polyglot_notebook": {
     "kernelName": "fsharp"
    },
    "vscode": {
     "languageId": "polyglot-notebook"
    }
   },
   "outputs": [],
   "source": [
    "let round1Bonus = 2.75\n",
    "let round1NftsSold = 804.0\n",
    "let round2NftsSold = 2035.0"
   ]
  },
  {
   "cell_type": "code",
   "execution_count": 164,
   "metadata": {
    "dotnet_interactive": {
     "language": "fsharp"
    },
    "polyglot_notebook": {
     "kernelName": "fsharp"
    },
    "vscode": {
     "languageId": "polyglot-notebook"
    }
   },
   "outputs": [],
   "source": [
    "let round1Tier1 = 30800.0\n",
    "let round1Tier2 = 19250.0\n",
    "let round1Tier3 = 13860.0\n",
    "let round1Tier4 = 12320.0\n",
    "let round1Tier5 = 11550.0\n",
    "\n",
    "let round1CountOfTier1 = 15.0\n",
    "let round1CountOfTier2 = 85.0\n",
    "let round1CountOfTier3 = 150.0\n",
    "let round1CountOfTier4 = 250.0\n",
    "let round1CountOfTier5 = 304.0\n",
    "\n",
    "let round2Tier1 = 7000.0\n",
    "let round2Tier2 = 6000.0\n",
    "let round2Tier3 = 5000.0\n",
    "let round2Tier4 = 4500.0\n",
    "let round2Tier5 = 4200.0\n",
    "\n",
    "let round2CountOfTier1 = 23.0\n",
    "let round2CountOfTier2 = 198.0\n",
    "let round2CountOfTier3 = 443.0\n",
    "let round2CountOfTier4 = 663.0\n",
    "let round2CountOfTier5 = 708.0\n",
    "\n",
    "let round2OrderedTier1 = 19133.0\n",
    "let round2OrderedTier2 = 18133.0\n",
    "let round2OrderedTier3 = 16800.0\n",
    "let round2OrderedTier4 = 8400.0\n",
    "let round2OrderedTier5 = 6400.0\n",
    "let round2OrderedTier6 = 8400.0\n",
    "let round2OrderedTier7 = 6000.0\n",
    "let round2OrderedTier8 = 8000.0\n",
    "let round2OrderedTier9 = 4000.0\n",
    "\n",
    "let round2OrderedCountOfTier1 = 1250.0\n",
    "let round2OrderedCountOfTier2 = 150.0\n",
    "let round2OrderedCountOfTier3 = 199.0\n",
    "let round2OrderedCountOfTier4 = 1.0\n",
    "let round2OrderedCountOfTier5 = 199.0\n",
    "let round2OrderedCountOfTier6 = 1.0\n",
    "let round2OrderedCountOfTier7 = 80.0\n",
    "let round2OrderedCountOfTier8 = 120.0\n",
    "let round2OrderedCountOfTier9 = 35.0\n",
    "\n",
    "let totalTokenRewards = 225000000"
   ]
  },
  {
   "cell_type": "code",
   "execution_count": 165,
   "metadata": {
    "dotnet_interactive": {
     "language": "fsharp"
    },
    "polyglot_notebook": {
     "kernelName": "fsharp"
    },
    "vscode": {
     "languageId": "polyglot-notebook"
    }
   },
   "outputs": [],
   "source": [
    "let round1Counts = [| round1CountOfTier1; round1CountOfTier2; round1CountOfTier3; round1CountOfTier4; round1CountOfTier5 |]\n",
    "let round1Tiers = [| round1Tier1; round1Tier2; round1Tier3; round1Tier4; round1Tier5 |]\n",
    "let round2Counts = [| round2CountOfTier1; round2CountOfTier2; round2CountOfTier3; round2CountOfTier4; round2CountOfTier5 |]\n",
    "let round2Tiers = [| round2Tier1; round2Tier2; round2Tier3; round2Tier4; round2Tier5 |]\n",
    "let round2OrderedTiers = [| \n",
    "    round2OrderedTier1; \n",
    "    round2OrderedTier2; \n",
    "    round2OrderedTier3; \n",
    "    round2OrderedTier4; \n",
    "    round2OrderedTier5; \n",
    "    round2OrderedTier6; \n",
    "    round2OrderedTier7; \n",
    "    round2OrderedTier8; \n",
    "    round2OrderedTier9 \n",
    "|]\n",
    "\n",
    "let round2OrderedCounts = [| \n",
    "    round2OrderedCountOfTier1; \n",
    "    round2OrderedCountOfTier2; \n",
    "    round2OrderedCountOfTier3; \n",
    "    round2OrderedCountOfTier4; \n",
    "    round2OrderedCountOfTier5; \n",
    "    round2OrderedCountOfTier6; \n",
    "    round2OrderedCountOfTier7; \n",
    "    round2OrderedCountOfTier8; \n",
    "    round2OrderedCountOfTier9 \n",
    "|]\n"
   ]
  },
  {
   "cell_type": "code",
   "execution_count": 166,
   "metadata": {
    "dotnet_interactive": {
     "language": "fsharp"
    },
    "polyglot_notebook": {
     "kernelName": "fsharp"
    },
    "vscode": {
     "languageId": "polyglot-notebook"
    }
   },
   "outputs": [],
   "source": [
    "let distributedTokens = \n",
    "    Math.Ceiling(\n",
    "        (Array.zip round1Counts round1Tiers |> Array.sumBy (fun (count, tier) ->  count *  tier)) * round1Bonus +\n",
    "        (Array.zip round2Counts round2Tiers |> Array.sumBy (fun (count, tier) ->  count *  tier)) +\n",
    "        (Array.zip round2OrderedCounts round2OrderedTiers |> Array.sumBy (fun (count, tier) ->  count *  tier))\n",
    "    )"
   ]
  },
  {
   "cell_type": "code",
   "execution_count": 167,
   "metadata": {
    "dotnet_interactive": {
     "language": "fsharp"
    },
    "polyglot_notebook": {
     "kernelName": "fsharp"
    },
    "vscode": {
     "languageId": "polyglot-notebook"
    }
   },
   "outputs": [],
   "source": [
    "let availableTokenRewards =  totalTokenRewards - int distributedTokens"
   ]
  },
  {
   "cell_type": "code",
   "execution_count": 207,
   "metadata": {
    "dotnet_interactive": {
     "language": "fsharp"
    },
    "polyglot_notebook": {
     "kernelName": "fsharp"
    },
    "vscode": {
     "languageId": "polyglot-notebook"
    }
   },
   "outputs": [],
   "source": [
    "let calculateSurplusRewardsPerTier (availableTokenRewards: float) =\n",
    "    let percentages = [0.1; 0.15; 0.2; 0.27; 0.28]\n",
    "    let nftCounts = [round1CountOfTier1 * round1Bonus + round2CountOfTier1;\n",
    "                     round1CountOfTier2 * round1Bonus + round2CountOfTier2;\n",
    "                     round1CountOfTier3 * round1Bonus + round2CountOfTier3;\n",
    "                     round1CountOfTier4 * round1Bonus + round2CountOfTier4;\n",
    "                     round1CountOfTier5 * round1Bonus + round2CountOfTier5]\n",
    "    percentages\n",
    "    |> List.mapi (fun i percentage ->\n",
    "        let rewardPerNFT = (availableTokenRewards * percentage) / float nftCounts.[i]\n",
    "        Math.Ceiling(rewardPerNFT) |> int\n",
    "    )"
   ]
  },
  {
   "cell_type": "code",
   "execution_count": 209,
   "metadata": {
    "dotnet_interactive": {
     "language": "fsharp"
    },
    "polyglot_notebook": {
     "kernelName": "fsharp"
    },
    "vscode": {
     "languageId": "polyglot-notebook"
    }
   },
   "outputs": [],
   "source": [
    "let surplusTierReward = calculateSurplusRewardsPerTier availableTokenRewards\n",
    "let roundOneSurplusRewardsPerTier = \n",
    "    surplusTierReward \n",
    "    |> List.map (fun rewards -> int (Math.Ceiling(float rewards * 2.75)))\n"
   ]
  },
  {
   "cell_type": "markdown",
   "metadata": {},
   "source": [
    "## **3.5 Calculate Total TEDY Rewards** \n",
    "In this step, we query the [CardanoScan API](https://docs.cardanoscan.io/) for the NFTs for a certain address, and calculate the total TEDY rewards for a given address based on the Teddy Bear Club NFTs it holds.\n",
    "\n",
    "This process involves **generating the JSON** file - `collectionassets.json` - containing the address's token data by following the workflow outlined below.\n",
    "\n",
    "`collectionassets.json`, is created by querying the [CardanoScan API](https://docs.cardanoscan.io/). The JSON file is not included in this repository, and you must generate it yourself if you wish to explore these calculations. \n",
    "\n",
    "Once the token data is available, we use the `computeBaseRewards` and `computeSurplusRewards` function to compute the total TEDY rewards for the address.\n",
    "\n",
    "*Note!*\n",
    "You will need to replace the placeholder with the address you wish to query.\n",
    "\n",
    "---"
   ]
  },
  {
   "cell_type": "markdown",
   "metadata": {},
   "source": [
    "### 3.5.1 CardanoScan API Query\n",
    "\n",
    "*Note!*<br>\n",
    "To use the [CardanoScan API](https://docs.cardanoscan.io/), you must have a valid API key. The `getApiKey` function retrieves this key from your environment variables, so ensure your key is named `CARDANO_API_KEY` or update the function to match your setup. \n",
    "\n",
    "1. **`getApiKey`**:\n",
    "   - Retrieves your API key from the environment.\n",
    "   - Ensures the key is securely accessed and avoids hardcoding sensitive information.\n",
    "\n",
    "2. **`saveJsonToFile`**:\n",
    "   - Formats the JSON response into a more readable format and saves it to a file.\n",
    "   - By default, it saves the output to [`collectionassets.json`](./data/collectionassets.json).\n",
    "\n",
    "3. **`getAssetsByAddress`**:\n",
    "   - Configures the API request by setting the required headers (including the API key) and query parameters.\n",
    "   - Sends the request to the API endpoint and handles the response.\n",
    "\n",
    "---"
   ]
  },
  {
   "cell_type": "code",
   "execution_count": 210,
   "metadata": {
    "dotnet_interactive": {
     "language": "fsharp"
    },
    "polyglot_notebook": {
     "kernelName": "fsharp"
    },
    "vscode": {
     "languageId": "polyglot-notebook"
    }
   },
   "outputs": [],
   "source": [
    "type Token = {\n",
    "    policyId: string\n",
    "    assetName: string\n",
    "    fingerprint: string\n",
    "    assetId: string\n",
    "    balance: string\n",
    "}\n",
    "\n",
    "type ApiResponse = {\n",
    "    tokens: Token list\n",
    "    count: int\n",
    "    pageNo: int\n",
    "    limit: int\n",
    "}"
   ]
  },
  {
   "cell_type": "code",
   "execution_count": 171,
   "metadata": {
    "dotnet_interactive": {
     "language": "fsharp"
    },
    "polyglot_notebook": {
     "kernelName": "fsharp"
    },
    "vscode": {
     "languageId": "polyglot-notebook"
    }
   },
   "outputs": [],
   "source": [
    "let getApiKey () =\n",
    "    match Environment.GetEnvironmentVariable(\"CARDANO_API_KEY\") with\n",
    "    | null -> failwith \"API key not found. Set it in your environment variables.\"\n",
    "    | key -> key"
   ]
  },
  {
   "cell_type": "code",
   "execution_count": 172,
   "metadata": {
    "dotnet_interactive": {
     "language": "fsharp"
    },
    "polyglot_notebook": {
     "kernelName": "fsharp"
    },
    "vscode": {
     "languageId": "polyglot-notebook"
    }
   },
   "outputs": [],
   "source": [
    "let saveJsonToFile (filePath: string) (jsonResponse: string) =\n",
    "    try\n",
    "        \n",
    "        let data = JsonSerializer.Deserialize<obj>(jsonResponse)\n",
    "        let options = JsonSerializerOptions(WriteIndented = true, Encoder = System.Text.Encodings.Web.JavaScriptEncoder.UnsafeRelaxedJsonEscaping)\n",
    "        let jsonOutput = JsonSerializer.Serialize(data, options)\n",
    "\n",
    "        File.WriteAllText(filePath, jsonOutput)\n",
    "    with ex ->\n",
    "        printfn \"Failed to save JSON at %s. Error: %s\" filePath ex.Message"
   ]
  },
  {
   "cell_type": "code",
   "execution_count": 173,
   "metadata": {
    "dotnet_interactive": {
     "language": "fsharp"
    },
    "polyglot_notebook": {
     "kernelName": "fsharp"
    },
    "vscode": {
     "languageId": "polyglot-notebook"
    }
   },
   "outputs": [],
   "source": [
    "let getAssetsByAddress (address: string) (filePath: string) =\n",
    "    async {\n",
    "        let apiKey = getApiKey()\n",
    "        let baseUrl = \"https://api.cardanoscan.io/api/v1/asset/list/byAddress\"\n",
    "        let mutable pageNo = 1\n",
    "        let mutable allTokens = []\n",
    "        let mutable hasMoreData = true\n",
    "\n",
    "        use client = new HttpClient()\n",
    "        client.DefaultRequestHeaders.Add(\"apiKey\", apiKey)\n",
    "\n",
    "        try\n",
    "            while hasMoreData do\n",
    "                let url = $\"{baseUrl}?address={address}&pageNo={pageNo}\"\n",
    "                let! response = client.GetAsync(url) |> Async.AwaitTask\n",
    "\n",
    "                if response.IsSuccessStatusCode then\n",
    "                    let! content = response.Content.ReadAsStringAsync() |> Async.AwaitTask\n",
    "                    try\n",
    "                        let data = JsonSerializer.Deserialize<ApiResponse>(content)\n",
    "\n",
    "                        if data.tokens.IsEmpty then\n",
    "                            hasMoreData <- false\n",
    "                        else\n",
    "                            allTokens <- allTokens @ data.tokens\n",
    "                            pageNo <- pageNo + 1\n",
    "                    with ex ->\n",
    "                        printfn \"JSON Deserialization Error: %s\" ex.Message\n",
    "                        printfn \"Raw Content: %s\" content\n",
    "                        hasMoreData <- false\n",
    "                        ()\n",
    "                else\n",
    "                    let! errorContent = response.Content.ReadAsStringAsync() |> Async.AwaitTask\n",
    "                    printfn \"API Error: %s\" errorContent\n",
    "                    hasMoreData <- false\n",
    "                    return ()\n",
    "\n",
    "            if allTokens.IsEmpty then\n",
    "                printfn \"No tokens found for address: %s\" address\n",
    "                return ()\n",
    "\n",
    "            let assetIds =\n",
    "                allTokens\n",
    "                |> List.filter (fun token -> token.assetId.Contains(round1PolicyId) || token.assetId.Contains(round2PolicyId))\n",
    "                |> List.map (fun token -> token.assetId)\n",
    "\n",
    "            let allTokensJson = JsonSerializer.Serialize(allTokens, JsonSerializerOptions(WriteIndented = true))\n",
    "            saveJsonToFile filePath allTokensJson\n",
    "\n",
    "            printfn \"Successfully saved all tokens to %s\" filePath\n",
    "            return Ok (), assetIds\n",
    "        with ex ->\n",
    "            printfn \"Exception occurred: %s\" ex.Message\n",
    "            return Error $\"Exception: {ex.Message}\", []\n",
    "    }"
   ]
  },
  {
   "cell_type": "markdown",
   "metadata": {},
   "source": [
    "### 3.5.2 Reward Calculations\n",
    "\n",
    "#### **Functions**:\n",
    "1. **`computeSurplusRewards`**:\n",
    "   - Computes the additional TEDY rewards allocated to a given NFT based on its round and tier.\n",
    "   - **Parameters**:\n",
    "     - **`nft`** (string): The unique identifier of the NFT.\n",
    "     - **`rankData`** (Map<string, int>): A mapping of NFT IDs to their ranks.\n",
    "     - **`surplusRewardsPerTier`** (list<int>): A list of surplus rewards allocated per NFT in each tier.\n",
    "   - **Returns**:\n",
    "     - (int): The calculated surplus reward for the NFT.\n",
    "\n",
    "2. **`calculateTotalRewards`**:\n",
    "  - Computes the total TEDY rewards for all NFTs owned by an address.\n",
    "  - **Parameters**:\n",
    "    - **`nftList`** (list<string>): A list of NFTs held by the address.\n",
    "    - **`round1PolicyId`** (string): The policy ID for tokens in Round 1.\n",
    "    - **`round2PolicyId`** (string): The policy ID for tokens in Round 2.\n",
    "    - **`subjectRankData`** (Map<string, int>): A mapping of token IDs to their ranks.\n",
    "    - **`surplusRewardsPerTier`** (list<int>): A list of surplus rewards per NFT for each tier.\n",
    "  - **Returns**:\n",
    "    - (int): The total calculated TEDY rewards for all NFTs owned by the address.\n",
    "\n",
    "---\n",
    "\n",
    "#### **Variable**:\n",
    "- **`totalTedyRewards`**: \n",
    "  - (int) — Total TEDY rewards allocated to the address. This calculation assumes the original 5,000,000,000 market cap."
   ]
  },
  {
   "cell_type": "code",
   "execution_count": 174,
   "metadata": {
    "dotnet_interactive": {
     "language": "fsharp"
    },
    "polyglot_notebook": {
     "kernelName": "fsharp"
    },
    "vscode": {
     "languageId": "polyglot-notebook"
    }
   },
   "outputs": [],
   "source": [
    "let computeSurplusRewards (nft: string) (rankData: Map<string, int>) (surplusRewardsPerTier: int list) =\n",
    "    let rank = rankData[nft]\n",
    "    let roundOneSurplusRewardsPerTier = \n",
    "        surplusRewardsPerTier \n",
    "        |> List.map (fun rewards -> int (Math.Ceiling(float rewards * 2.75)))\n",
    "    if nft.Contains(round1PolicyId) then\n",
    "        calculateRewardByTier rank (List.zip [15; 100; 250; 500; 804] roundOneSurplusRewardsPerTier)\n",
    "    elif nft.Contains(round2PolicyId) then\n",
    "        calculateRewardByTier rank (List.zip [23; 221; 664; 1327; 2035] surplusRewardsPerTier)\n",
    "    else\n",
    "        -1"
   ]
  },
  {
   "cell_type": "code",
   "execution_count": 175,
   "metadata": {
    "dotnet_interactive": {
     "language": "fsharp"
    },
    "polyglot_notebook": {
     "kernelName": "fsharp"
    },
    "vscode": {
     "languageId": "polyglot-notebook"
    }
   },
   "outputs": [],
   "source": [
    "let calculateTotalRewards (nftList: list<string>) (round1PolicyId: string) (round2PolicyId: string) (subjectRankData: Map<string, int>) (surplusRewardsPerTier: int list) =\n",
    "    let rewardsList =\n",
    "        [ for nft in nftList do\n",
    "            match nft.Contains(round1PolicyId) || nft.Contains(round2PolicyId) with\n",
    "            | true ->\n",
    "                let baseReward =  \n",
    "                    if nft.Contains(round1PolicyId) then\n",
    "                        computeBaseReward nft subjectRankData\n",
    "                    elif nft.Contains(round2PolicyId) then\n",
    "                        computeBaseReward nft subjectRankData + computeRoundTwoSurprise nft subjectOrderData\n",
    "                    else\n",
    "                        0\n",
    "                let surplusReward = computeSurplusRewards nft subjectRankData surplusRewardsPerTier\n",
    "                yield baseReward + surplusReward\n",
    "            | false -> ()\n",
    "        ]\n",
    "\n",
    "    let totalTedyRewards = rewardsList |> List.sum\n",
    "    totalTedyRewards"
   ]
  },
  {
   "cell_type": "markdown",
   "metadata": {},
   "source": [
    "### Enter Your Cardano Address\n",
    "\n",
    "Replace the placeholder address in the code below with the **hex representation of the Cardano address** you want to query."
   ]
  },
  {
   "cell_type": "code",
   "execution_count": 176,
   "metadata": {
    "dotnet_interactive": {
     "language": "fsharp"
    },
    "polyglot_notebook": {
     "kernelName": "fsharp"
    },
    "vscode": {
     "languageId": "polyglot-notebook"
    }
   },
   "outputs": [],
   "source": [
    "let address = \"01a2372d4f613b6d64da77f6047d4756b261b31619a54ec32e49b09797cfa1b556bfa358a865b6982a6e3a8c5f2e7144a430b1c7d9173c2ea4\""
   ]
  },
  {
   "cell_type": "code",
   "execution_count": 239,
   "metadata": {
    "dotnet_interactive": {
     "language": "fsharp"
    },
    "polyglot_notebook": {
     "kernelName": "fsharp"
    },
    "vscode": {
     "languageId": "polyglot-notebook"
    }
   },
   "outputs": [],
   "source": [
    "let fetchRewardsAsync () =\n",
    "    async {\n",
    "        let filePath = \"./data/collectionassets.json\"\n",
    "\n",
    "        let! result, assetIds = getAssetsByAddress address filePath\n",
    "\n",
    "        match result with\n",
    "        | Ok () ->\n",
    "            let totalTedyRewards = calculateTotalRewards assetIds round1PolicyId round2PolicyId subjectRankData surplusTierReward\n",
    "            return Some(assetIds, totalTedyRewards)\n",
    "        | Error errMsg ->\n",
    "            printfn \"Error: %s\" errMsg\n",
    "            return None\n",
    "    }\n"
   ]
  },
  {
   "cell_type": "code",
   "execution_count": 242,
   "metadata": {
    "dotnet_interactive": {
     "language": "fsharp"
    },
    "polyglot_notebook": {
     "kernelName": "fsharp"
    },
    "vscode": {
     "languageId": "polyglot-notebook"
    }
   },
   "outputs": [
    {
     "name": "stdout",
     "output_type": "stream",
     "text": [
      "Successfully saved all tokens to ./data/collectionassets.json\n",
      "Assets: [\"da3562fad43b7759f679970fb4e0ec07ab5bebe5c703043acda07a3c54656464794265617273436c756235343137\"]\n",
      "Total Rewards: 51082\n"
     ]
    }
   ],
   "source": [
    "let mutable totalTedyRewards = 0\n",
    "let result = fetchRewardsAsync () |> Async.RunSynchronously\n",
    "\n",
    "match result with\n",
    "| Some (assetIds, rewards) ->\n",
    "    totalTedyRewards <- rewards\n",
    "    printfn \"Assets: %A\" assetIds\n",
    "    printfn \"Total Rewards: %d\" totalTedyRewards\n",
    "| None ->\n",
    "    printfn \"Failed to fetch rewards.\"\n"
   ]
  },
  {
   "cell_type": "markdown",
   "metadata": {},
   "source": [
    "### **4. Adjust Rewards for Market Cap**\n",
    "In this step, we adjust the final TEDY reward allocation to reflect the updated market cap of 8,000,000, ensuring alignment with the revised tokenomics. The adjustment scales the rewards originally calculated for the initial market cap of 5,000,000,000.\n",
    "\n",
    "Where:\n",
    "- Total TEDY Allocation: The total rewards calculated based upon the initial marketcap.\n",
    "- [Current Marketcap](https://medium.com/@TeddySwapDEX/tedy-tokenomics-v2-fc92723ead0c): 8,000,000\n",
    "- [Previous Market Cap](https://medium.com/@TeddySwapDEX/teddyswap-tokenomics-fcd700aea552): 5,000,000\n",
    "\n",
    "$\\text{Final Round Reward} = (\\frac{\\text{Total TEDY Allocation} * \\text{Current Marketcap}}{\\text{Previous Market Cap}})$\n",
    "\n",
    "---\n",
    "\n",
    "#### **Functions**:\n",
    "1. **`marketcapAdjustment`**:\n",
    "- Adjusts the reward amount based on the ratio of the current market cap to the past market cap.\n",
    "- **Parameters**:\n",
    "   - `rewards` (float): The original reward amount to be adjusted.\n",
    "- **Returns**:\n",
    "   - (int): The adjusted reward amount.\n",
    "\n",
    "---\n",
    "\n",
    "#### **Variables**:\n",
    "**`pastMarketCap`**:\n",
    "   - The previous market cap of the token, used as a reference for adjustments.\n",
    "\n",
    "**`currentMarketCap`**:\n",
    "   - The current market cap of the token, used to scale rewards.\n",
    "\n",
    "**`totalTedyReward`**:\n",
    "   - The final TEDY rewards allocation \n"
   ]
  },
  {
   "cell_type": "code",
   "execution_count": 232,
   "metadata": {
    "dotnet_interactive": {
     "language": "fsharp"
    },
    "polyglot_notebook": {
     "kernelName": "fsharp"
    },
    "vscode": {
     "languageId": "polyglot-notebook"
    }
   },
   "outputs": [],
   "source": [
    "let initialMarketCap = 5000000000.0\n",
    "let currentMarketCap = 8000000.0"
   ]
  },
  {
   "cell_type": "code",
   "execution_count": 233,
   "metadata": {
    "dotnet_interactive": {
     "language": "fsharp"
    },
    "polyglot_notebook": {
     "kernelName": "fsharp"
    },
    "vscode": {
     "languageId": "polyglot-notebook"
    }
   },
   "outputs": [],
   "source": [
    "let marketcapAdjustment (rewards: float) = \n",
    "    let finalRoundReward = (rewards*currentMarketCap)/initialMarketCap\n",
    "    Math.Ceiling(finalRoundReward)"
   ]
  },
  {
   "cell_type": "code",
   "execution_count": 243,
   "metadata": {
    "dotnet_interactive": {
     "language": "fsharp"
    },
    "polyglot_notebook": {
     "kernelName": "fsharp"
    },
    "vscode": {
     "languageId": "polyglot-notebook"
    }
   },
   "outputs": [],
   "source": [
    "let totalTedyReward = int(marketcapAdjustment totalTedyRewards)"
   ]
  },
  {
   "cell_type": "markdown",
   "metadata": {},
   "source": [
    "# Alice's Total TEDY Rewards\n",
    "\n",
    "Now that we’ve developed the functions to calculate rewards, it’s time to discover the total TEDY rewards Alice will receive. Unfortunately, we don't have Alice's address, so we will be running through the calculations manually - to provide an example to follow.\n",
    "\n",
    "We saw above that as a Round 1 NFT, ranked 162 and placed in Tier 3, #5731 earns Alice a total of **13,860 TEDY tokens**. Furthermore, she gains a surplus reward of **98,376**. \n",
    "\n",
    "Her total reward is the sum of the two, 13,860 + 98,376  = **112,236**.\n",
    "\n",
    "Finally, we scale her rewards according to the new market cap of 8,000,000.\n",
    "\n",
    "$\\text{Final Round Reward} = (\\frac{\\text{112,236} * \\text{8,000,000}}{\\text{5,000,000,000}}) = 180$"
   ]
  },
  {
   "cell_type": "code",
   "execution_count": 249,
   "metadata": {
    "dotnet_interactive": {
     "language": "fsharp"
    },
    "polyglot_notebook": {
     "kernelName": "fsharp"
    },
    "vscode": {
     "languageId": "polyglot-notebook"
    }
   },
   "outputs": [],
   "source": [
    "let surplusReward = computeSurplusRewards ownedNFT subjectRankData surplusTierReward\n",
    "let totalReward = aliceBaseReward + surplusReward\n",
    "let finalReward = int(marketcapAdjustment totalReward)"
   ]
  },
  {
   "cell_type": "code",
   "execution_count": 250,
   "metadata": {
    "dotnet_interactive": {
     "language": "fsharp"
    },
    "polyglot_notebook": {
     "kernelName": "fsharp"
    },
    "vscode": {
     "languageId": "polyglot-notebook"
    }
   },
   "outputs": [
    {
     "name": "stdout",
     "output_type": "stream",
     "text": [
      "#5731 Base Reward: 13860\n",
      "Alice's Initial TEDY Rewards: 112236\n",
      "Alice's Total TEDY Rewards: 180\n"
     ]
    }
   ],
   "source": [
    "printfn \"#5731 Base Reward: %d\" aliceBaseReward\n",
    "printfn \"Alice's Initial TEDY Rewards: %d\" totalReward\n",
    "printfn \"Alice's Total TEDY Rewards: %d\" (int finalReward)"
   ]
  },
  {
   "cell_type": "markdown",
   "metadata": {},
   "source": [
    "# Calculate Your Rewards\n",
    "\n",
    "This section allows you to calculate the TEDY reward allocation by providing either a Cardano address or a list of subjects.\n",
    "\n",
    "---\n",
    "### Option 1: Provide a Cardano Address\n",
    "Replace the placeholder address in the code below with the **hexadecimal representation** of the Cardano address you want to query. This will fetch all associated NFTs and calculate the rewards accordingly."
   ]
  },
  {
   "cell_type": "code",
   "execution_count": 261,
   "metadata": {
    "dotnet_interactive": {
     "language": "fsharp"
    },
    "polyglot_notebook": {
     "kernelName": "fsharp"
    },
    "vscode": {
     "languageId": "polyglot-notebook"
    }
   },
   "outputs": [],
   "source": [
    "let address = \"addr1qx3rwt20vyak6ex6wlmqgl2826exrvckrxj5asewfxcf09705x64d0artz5xtd5c9fhr4rzl9ec5ffpsk8raj9eu96jqqw2njm\""
   ]
  },
  {
   "cell_type": "code",
   "execution_count": null,
   "metadata": {
    "dotnet_interactive": {
     "language": "fsharp"
    },
    "polyglot_notebook": {
     "kernelName": "fsharp"
    },
    "vscode": {
     "languageId": "polyglot-notebook"
    }
   },
   "outputs": [],
   "source": [
    "let result = fetchRewardsAsync () |> Async.RunSynchronously\n",
    "\n",
    "match result with\n",
    "| Some (assetIds, rewards) ->\n",
    "    totalTedyRewards <- rewards\n",
    "    printfn \"Assets: %A\" assetIds\n",
    "    printfn \"Total TEDY Pre-MarketCap Adjustment: %d\" totalTedyRewards\n",
    "    printfn \"Total TEDY Post-MarketCap Adjustment: %d\" (int (marketcapAdjustment totalTedyRewards))\n",
    "| None ->\n",
    "    printfn \"Failed to fetch rewards.\""
   ]
  },
  {
   "cell_type": "markdown",
   "metadata": {},
   "source": [
    "### Option 2: Provide a List of Subjects\n",
    "\n",
    "If you already have the specific NFT subjects, you can directly input them into the list. Each subject should be enclosed in quotes and separated by a **semicolon** (;).\n",
    "\n",
    "i.e:<br>\n",
    "[<br> \"ab182ed76b669b49ee54a37dee0d0064ad4208a859cc4fdf3f906d8754656464794265617273436c756235373331\";<br>\n",
    "\"da3562fad43b7759f679970fb4e0ec07ab5bebe5c703043acda07a3c54656464794265617273436c756235343137\"<br>\n",
    "]"
   ]
  },
  {
   "cell_type": "code",
   "execution_count": 258,
   "metadata": {
    "dotnet_interactive": {
     "language": "fsharp"
    },
    "polyglot_notebook": {
     "kernelName": "fsharp"
    },
    "vscode": {
     "languageId": "polyglot-notebook"
    }
   },
   "outputs": [],
   "source": [
    "let subjectList = \n",
    "    [\n",
    "        \n",
    "    ]"
   ]
  },
  {
   "cell_type": "code",
   "execution_count": null,
   "metadata": {
    "dotnet_interactive": {
     "language": "fsharp"
    },
    "polyglot_notebook": {
     "kernelName": "fsharp"
    },
    "vscode": {
     "languageId": "polyglot-notebook"
    }
   },
   "outputs": [],
   "source": [
    "let preadjustmentTedy = calculateTotalRewards subjectList round1PolicyId round2PolicyId subjectRankData surplusTierReward\n",
    "let postadjustmentTedy = int (marketcapAdjustment preadjustmentTedy)\n",
    "\n",
    "printfn \"Total TEDY Pre-MarketCap Adjustment: %d\" preadjustmentTedy\n",
    "printfn \"Total TEDY Post-MarketCap Adjustment: %d\" postadjustmentTedy"
   ]
  },
  {
   "cell_type": "markdown",
   "metadata": {},
   "source": [
    "## **Disclaimers**\n",
    "1. *Market Cap Adjustments*:\n",
    "The calculations above are based on the initial market cap of **5,000,000,000** used to model events during the INO. `marketcapAdjustment` scales rewards to align with the updated market cap of **8,000,000**, resulting in adjusted and lower TEDY reward amounts.\n",
    "\n",
    "The figures provided are *estimates* and are intended for informational purposes only. We do not guarantee their accuracy and disclaim liability for any investment decisions made based on this information. Use this data at your own risk.\n",
    "\n",
    "2. Exclusions:\n",
    "These NFT calculations **do not** account for the following bonuses promised by TeddySwap:\n",
    "\n",
    "- FISO (Fair Initial Stake Offering) bonuses\n",
    "- ITN (Incentivized Testnet) rewards\n",
    "- LBE (Liquidity Bootstrapping Event) rewards\n",
    "- Yield farming bonuses\n"
   ]
  },
  {
   "cell_type": "markdown",
   "metadata": {},
   "source": []
  }
 ],
 "metadata": {
  "kernelspec": {
   "display_name": ".NET (C#)",
   "language": "C#",
   "name": ".net-csharp"
  },
  "language_info": {
   "name": "csharp"
  },
  "polyglot_notebook": {
   "kernelInfo": {
    "defaultKernelName": "csharp",
    "items": [
     {
      "aliases": [],
      "name": "csharp"
     }
    ]
   }
  }
 },
 "nbformat": 4,
 "nbformat_minor": 2
}
