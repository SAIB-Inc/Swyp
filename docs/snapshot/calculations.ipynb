{
 "cells": [
  {
   "cell_type": "markdown",
   "metadata": {
    "dotnet_interactive": {
     "language": "fsharp"
    },
    "polyglot_notebook": {
     "kernelName": "fsharp"
    },
    "vscode": {
     "languageId": "polyglot-notebook"
    }
   },
   "source": [
    "# **Swyp Teddy Bear Club NFT Rewards Calculation**\n",
    "\n",
    "## **1. Overview**\n",
    "\n",
    "An **Initial NFT Offering (INO)** is a fundraising method in the cryptocurrency and blockchain ecosystem, specifically tailored for NFTs (Non-Fungible Tokens). Similar to an Initial Coin Offering (ICO), INOs allow creators, projects, or platforms to raise funds by selling a collection of NFTs to early adopters and investors.\n",
    "\n",
    "In this context, the **Teddy Bear Club NFTs** served as **TeddySwap's NFT offering**. By minting these NFTs, owners earn rewards in **TEDY Tokens**, with the amount determined by both the rarity and quantity of the NFTs they hold. The INO was conducted in two rounds:\n",
    "- [**Round 1**](https://medium.com/@TeddySwapDEX/teddy-bears-club-minting-utility-and-launch-date-23e9a4e4446d) launched on **February 17, 2023**\n",
    "- [**Round 2**](https://medium.com/@TeddySwapDEX/teddy-bears-club-round-2-c209556b379f) launched on **March 8, 2023**\n",
    "\n",
    "### *Note!*\n",
    "In TeddySwap's [**initial tokenomics**](https://medium.com/@TeddySwapDEX/teddyswap-tokenomics-fcd700aea552), the market cap was set at **5,000,000,000 TEDY**. However, it was later adjusted to **8,000,000 TEDY** in a [**second announcement**](https://medium.com/@TeddySwapDEX/tedy-tokenomics-v2-fc92723ead0c). This notebook utilizes the original market cap for the calculations, scaling it to the new market cap in the final step.\n",
    "\n",
    "\n",
    "### **1.1 Purpose**\n",
    "\n",
    "This document outlines the process for calculating the NFTs' corresponding TEDY token rewards for the Teddy Bear Club NFTs across Round 1 and Round 2. Since the ranking and reward structures differ between the two rounds, separate functions calculate rewards for each round. They are then summed to determine the total rewards, where applicable. \n",
    "\n",
    "This document aims to provide a comprehensive explanation of how the token rewards are computed, ensuring transparency and reproducibility for NFT holders.\n",
    "\n",
    "Feel free to download this notebook and explore it at your convenience.\n",
    "\n",
    "---\n",
    "\n",
    "### **1.2 NFT Information**\n",
    "\n",
    "### *Note!*\n",
    "\n",
    "Throughout the TEDY life cycle and the duration of the INO, several announcements were released that affected the total TEDY rewards initially determined. Unfortunately, the official Teddy Bears Club can no longer be accessed. The link to those are from the web archive. Below is a summary of these announcements:\n",
    "\n",
    "1. According to the official [Teddy Bears Club](https://webcf.waybackmachine.org/web/20240905102756/https://tbc.teddyswap.org/) website, the TEDY earnings were updated to include an additional **10% bonus** to the initial values decided in the [initial announcement](https://medium.com/@TeddySwapDEX/teddy-bears-club-minting-utility-and-launch-date-23e9a4e4446d). \n",
    "\n",
    "Additionally, as **804** Round 1 NFTs were sold, the tiers were adjusted based on the [source code](https://github.com/teddy-swap/tbc-homepage/blob/main/src/App.tsx) of the official Teddy Bear Club website.\n",
    "\n",
    "### Round 1\n",
    "\n",
    "- **Policy ID:** `ab182ed76b669b49ee54a37dee0d0064ad4208a859cc4fdf3f906d87`\n",
    "- **Total NFTs:** 804\n",
    "- **Tier System:**\n",
    "\n",
    "| **Tier** | **Initial Rarity Range** | **Initial TEDY Allocation** | **Updated Rarity Range** | **Updated TEDY Allocation** |\n",
    "|----------|--------------------------|-----------------------------|----------------------|-------------------|\n",
    "| Tier 1   | Rarity 1 - 100     | 28,000  | Rarity 1 - 15    | 30,800                                  |\n",
    "| Tier 2   | Rarity 101 - 999   | 17,500  | Rarity 16 - 100  | 19,250                                  |\n",
    "| Tier 3   | Rarity 1,000 - 2,999  | 12,600  | Rarity 101 - 250 | 13,860                                  |\n",
    "| Tier 4   | Rarity 3,000 - 5,999  | 11,200  | Rarity 251 - 500 | 12,320                                  |\n",
    "| Tier 5   | Rarity 6,000 - 10,000  | 10,500  | Rarity 501 - 804 | 11,550                                  |\n",
    "\n",
    "2. The [**initial announcement**](https://medium.com/@TeddySwapDEX/teddy-bears-club-round-2-c209556b379f) regarding **Round 2** detailed tiers for ranks **1 - 9,200**. Since **2,035** NFTs were sold, the ranks were adjusted accordingly in this [**Discord announcement**](https://discord.com/channels/1053191459597201448/1053207517154508870/1095880926086570105) on the Discord server.\n",
    "\n",
    "### Round 2\n",
    "\n",
    "- **Policy ID:** `da3562fad43b7759f679970fb4e0ec07ab5bebe5c703043acda07a3c`\n",
    "- **Total NFTs:** 2,035\n",
    "- **Tier System:**\n",
    "\n",
    "| **Tier** | **Initial Rarity Range** | **Updated Rarity Range** | **Previous MarketCap TEDY** |\n",
    "|----------|-------------------|------------------------------|---------------|\n",
    "| Tier 1   | Rarity 1 - 100       |  Rarity 1 - 23             |       7,000         |\n",
    "| Tier 2   | Rarity 101 - 999     |  Rarity 24 - 221           |      6,000          |\n",
    "| Tier 3   | Rarity 1,000 - 2,999 |  Rarity 222 - 664          |        5,000        |\n",
    "| Tier 4   | Rarity 3,000 - 5,999 |  Rarity 665 - 1,327        |        4,500        |\n",
    "| Tier 5   | Rarity 6,000 - 9,200 |  Rarity 1,328 - 2,035      |         4,200       |\n",
    "\n",
    "3. Additionally, the [Round 2 announcement](https://medium.com/@TeddySwapDEX/teddy-bears-club-round-2-c209556b379f) also established that unsold NFTs from the INO would contribute to a surplus reward pool. These TEDY rewards are evenly distributed to NFT holders in proportion to the number of NFTs they own.\n",
    "---\n",
    "\n",
    "### **1.3 Workflow Summary**\n",
    "The workflow is divided into the following steps:\n",
    "\n",
    "1. **Fetch Data**  \n",
    "   1.1 Load [`collection_1.json`](./data/collection_1.json) and [`collection_2.json`](./data/collection_2.json) data which was scraped and saved in [`webscraper.ipynb`](./webscraper.ipynb), as well the [`collectiontraits_1.json`](./data/collectiontraits_1.json) and [`collectiontraits_2.json`](./data/collectiontraits_2.json) computed and saved in [`attributecounter.ipynb`](attributecounter.ipynb).\n",
    "\n",
    "2. **NFT Rank Calculation**  \n",
    "   2.1 Assign a score to each trait value based on its rarity. <br>\n",
    "   2.2 Compute the rarity rank for each NFT.\n",
    "\n",
    "3. **NFT Rewards Calculation**  \n",
    "   3.1 Load rank data from the [`collectionranks.csv`](./data/collectionranks.csv) created from [`rankdata.ipynb`](rankdata.ipynb)<br>\n",
    "   3.2 Given a subject, identify its TEDY reward based on its round and rarity rank. <br>\n",
    "   3.3 Calculate the NFT holder's TEDY allocation of the unsold TEDY tokens.<br>\n",
    "   3.4 Given an address, calculate the total TEDY rewards owed - utilizing the (3.2)identified tier and (3.3)surplus allocation calculated in previous steps. <br>\n",
    "\n",
    "4. **Scale Rewards to New Market Cap**<br>\n",
    "   4.1 Adjust the final TEDY token rewards from the initial [**5,000,000,000**](https://medium.com/@TeddySwapDEX/teddyswap-tokenomics-fcd700aea552) to the updated market cap of [**8,000,000**](https://medium.com/@TeddySwapDEX/tedy-tokenomics-v2-fc92723ead0c).\n",
    "   \n",
    "---\n",
    "\n",
    "### **1.4 Necessary Package Installations and Open Statements**\n",
    "\n",
    "The following external libraries are required:\n",
    "- `Plotly.NET`\n",
    "- `System.Text.Json`\n",
    "- `FSharp.Data`\n"
   ]
  },
  {
   "cell_type": "code",
   "execution_count": null,
   "metadata": {
    "dotnet_interactive": {
     "language": "fsharp"
    },
    "polyglot_notebook": {
     "kernelName": "fsharp"
    },
    "vscode": {
     "languageId": "polyglot-notebook"
    }
   },
   "outputs": [],
   "source": [
    "#i \"nuget:https://pkgs.dev.azure.com/dnceng/public/_packaging/dotnet5/nuget/v3/index.json\"\n",
    "#i \"nuget:https://pkgs.dev.azure.com/dnceng/public/_packaging/dotnet-tools/nuget/v3/index.json\"\n",
    "\n",
    "#r \"nuget: Plotly.NET.Interactive, 5.0.0\"\n",
    "#r \"nuget: Plotly.NET.ImageExport\""
   ]
  },
  {
   "cell_type": "code",
   "execution_count": 75,
   "metadata": {
    "dotnet_interactive": {
     "language": "fsharp"
    },
    "polyglot_notebook": {
     "kernelName": "fsharp"
    },
    "vscode": {
     "languageId": "polyglot-notebook"
    }
   },
   "outputs": [],
   "source": [
    "open System.Text.Json\n",
    "open System.IO\n",
    "open System.Net.Http\n",
    "open System.Threading.Tasks\n",
    "open FSharp.Data\n",
    "open FSharp.Reflection\n",
    "open Plotly.NET\n",
    "open Plotly.NET.Interactive\n",
    "open Plotly.NET.ImageExport"
   ]
  },
  {
   "cell_type": "markdown",
   "metadata": {},
   "source": [
    "# **2. Workflow**"
   ]
  },
  {
   "cell_type": "markdown",
   "metadata": {},
   "source": [
    "## 1. Fetch Data\n",
    "Metadata for the NFTs was scraped from the official Teddy Bears Club website ([Teddy Bears Club](https://webcf.waybackmachine.org/web/20240905102756/https://tbc.teddyswap.org/)) and [CNFT Tools](https://cnft.tools/teddybearclub2), and stored in [`collection_1.json`](./data/collection_1.json) and [`collection_2.json`](./data/collection_2.json) for Round 1 and Round 2 respectively. Please refer to the [`webscraper.ipynb`](./webscraper.ipynb) to view the process - which you may test out for yourself. \n",
    "\n",
    "Additionally, refer to [`attributecounter.ipynb`](./attributecounter.ipynb) for the tallying of trait value occurences, saved in [`collectiontraits_1.json`](./data/collectiontraits_1.json) and [`collectiontraits_2.json`](./data/collectiontraits_2.json).\n",
    "\n",
    "However, the necessary metadata and trait occurrence data for the NFTs are already included in this repository as JSON files. Therefore, you may directly utilize the above mentioned files without any additional setup.\n",
    "\n",
    "In this section, we will parse the JSON data to extract information about the NFTs and the occurrence of their traits. This data will serve as the foundation for calculating rankings and determining rewards in the subsequent sections. Using the data from the JSON files, we compute for the NFTs' rarity score and rarity rank. \n",
    "\n",
    "---\n",
    "\n",
    "#### **Types**:\n",
    "The NFT and NFTTraits types are partial representations of the data, as only the fields relevant to ranking and reward calculations have been included.\n",
    "\n",
    "- **`NFT`**: Represents an individual NFT, focusing on its identifiers and traits.\n",
    "\n",
    "- **`NftTraits`**: Captures occurrence counts of trait values across NFTs.\n",
    "\n",
    "#### **Function**:\n",
    "1. **`loadNFTs<'T>`**: \n",
    "- Loads and deserializes JSON data into a specified type:\n",
    "- **Parameters**: \n",
    "     - `filePath (string)`: the path to the JSON file.\n",
    "- **Returns**:\n",
    "    - Parsed data of type `'T`\n",
    "\n",
    "--- \n",
    "\n",
    "#### **Variables**:<br>\n",
    "**`nftRound1NFTS`**: <br>\n",
    "- (NFT list): NFTs from Round 1 <br>\n",
    "\n",
    " **`nftRound2NFTS`**:  <br>\n",
    "- (NFT list):  NFTs from Round 2 <br>\n",
    "\n",
    " **`nftRound1Traits`**: <br>\n",
    "- (NFTTraits): Trait value counts for Round 1 NFTs <br>\n",
    "    \n",
    " **`nftRound2Traits`**:  <br>\n",
    "- (NFTTraits): Trait value counts for Round 2 NFTs<br>\n",
    "\n",
    "---\n",
    "\n",
    "### 1.1 Fetch NFT Data From JSON"
   ]
  },
  {
   "cell_type": "code",
   "execution_count": 81,
   "metadata": {
    "dotnet_interactive": {
     "language": "fsharp"
    },
    "polyglot_notebook": {
     "kernelName": "fsharp"
    },
    "vscode": {
     "languageId": "polyglot-notebook"
    }
   },
   "outputs": [],
   "source": [
    "type NFT = {\n",
    "    assetName: string\n",
    "    encodedName: string\n",
    "    Background: string\n",
    "    Bear: string\n",
    "    Clothes: string\n",
    "    Face: string\n",
    "    Handheld: string\n",
    "    Head: string\n",
    "    Skins: string\n",
    "}\n",
    "\n",
    "type NftTraits = {\n",
    "    Background: Map<string, int>\n",
    "    Bear: Map<string, int>\n",
    "    Clothes: Map<string, int>\n",
    "    Face: Map<string, int>\n",
    "    Handheld: Map<string, int>\n",
    "    Head: Map<string, int>\n",
    "    Skins: Map<string, int>\n",
    "}"
   ]
  },
  {
   "cell_type": "code",
   "execution_count": 5,
   "metadata": {
    "dotnet_interactive": {
     "language": "fsharp"
    },
    "polyglot_notebook": {
     "kernelName": "fsharp"
    },
    "vscode": {
     "languageId": "polyglot-notebook"
    }
   },
   "outputs": [],
   "source": [
    "let loadNfts<'T> (filePath: string) : 'T =\n",
    "    let jsonContent = File.ReadAllText(filePath)\n",
    "    JsonSerializer.Deserialize<'T>(jsonContent)"
   ]
  },
  {
   "cell_type": "code",
   "execution_count": 6,
   "metadata": {
    "dotnet_interactive": {
     "language": "fsharp"
    },
    "polyglot_notebook": {
     "kernelName": "fsharp"
    },
    "vscode": {
     "languageId": "polyglot-notebook"
    }
   },
   "outputs": [],
   "source": [
    "let nftRound1NFTS = loadNfts<NFT list> \"./data/collection_1.json\"\n",
    "let nftRound2NFTS = loadNfts<NFT list> \"./data/collection_2.json\""
   ]
  },
  {
   "cell_type": "code",
   "execution_count": 7,
   "metadata": {
    "dotnet_interactive": {
     "language": "fsharp"
    },
    "polyglot_notebook": {
     "kernelName": "fsharp"
    },
    "vscode": {
     "languageId": "polyglot-notebook"
    }
   },
   "outputs": [],
   "source": [
    "let nftRound1Traits = loadNfts<NFTTraits> \"./data/collectiontraits_1.json\"\n",
    "let nftRound2Traits = loadNfts<NFTTraits> \"./data/collectiontraits_2.json\""
   ]
  },
  {
   "cell_type": "markdown",
   "metadata": {},
   "source": [
    "## **2. NFT Rank Calculation** \n",
    "Each NFT has traits such as Background, Bear, Clothing, and more, with each trait having assigned specific values. For example, the Background trait can have values like Space, Lighthouse, or Sunflowers. The overall rarity score and rank of an NFT are determined by the rarity of its trait values.\n",
    "\n",
    "The rarity score of an NFT is calculated by evaluating the rarity of its trait values. For each trait value, we calculate a **trait score** by determining the percentage of NFTs sharing that value (trait frequency) and subtracting this percentage from 100. This ensures that rarer traits receive higher scores.\n",
    "\n",
    "Finally, the **total rarity score** is obtained by summing the scores across all trait categories (e.g., Background, Hair, Clothes). The score is rounded to two decimal places for consistency.\n",
    "\n",
    "$\\text{Trait Score} = \\text{round}\\left(100.0 - \\left(\\frac{\\text{Trait Frequency}}{\\text{Total NFTs}}\\right) \\cdot 100.0, 2\\right)$\n",
    "\n",
    "$\\text{Total Rarity Score} = \\sum_{i=1}^{7} TraitScore_i$\n",
    "\n",
    "---\n",
    "### 2.1 Assign Point Values Based on Trait Value Rarity   \n",
    "Using the **Trait Score** formula, we compute a score for each trait value. These scores are then stored in a map, organized by trait categories and their respective values. \n",
    "\n",
    "---\n",
    "\n",
    "#### **Function**:\n",
    "1. **`processNftTraits`**: \n",
    "- Calculates rarity scores for each trait value based on the trait data and total NFTs in a round.\n",
    "- **Parameters**:<br>\n",
    "    - **`nftTraits`**: (NftTraits): Contains the trait value occurrence data for a round.\n",
    "        \n",
    "    - **`totalNfts`**: (float): The total number of NFTs in the round.\n",
    "- **Returns**: <br>\n",
    "    - A Map<string, Map<string, float>>, where the outer map corresponds to trait categories, and the inner map holds the scores for each trait value.\n",
    "\n",
    "---\n",
    "\n",
    "#### **Variables**:\n",
    "**`r1TotalNfts`**: \n",
    "- (float): Total NFTs in Round 1 (804.0).<br>\n",
    "\n",
    "**`r2TotalNfts`**: \n",
    "- (float): Total NFTs in Round 2 (2035.0).<br>\n",
    "\n",
    "**`r1ScoredTraits`**: \n",
    "- (Map<string, Map<string, float>>): A map of scored trait values for Round 1 NFTs.<br>\n",
    "\n",
    "**`r2ScoredTraits`**: \n",
    "- (Map<string, Map<string, float>>): A map of scored trait values for Round 2 NFTs.<br>\n"
   ]
  },
  {
   "cell_type": "code",
   "execution_count": 8,
   "metadata": {
    "dotnet_interactive": {
     "language": "fsharp"
    },
    "polyglot_notebook": {
     "kernelName": "fsharp"
    },
    "vscode": {
     "languageId": "polyglot-notebook"
    }
   },
   "outputs": [],
   "source": [
    "let r1TotalNfts = 804.0\n",
    "let r2TotalNfts = 2035.0"
   ]
  },
  {
   "cell_type": "code",
   "execution_count": 82,
   "metadata": {
    "dotnet_interactive": {
     "language": "fsharp"
    },
    "polyglot_notebook": {
     "kernelName": "fsharp"
    },
    "vscode": {
     "languageId": "polyglot-notebook"
    }
   },
   "outputs": [],
   "source": [
    "let processNftTraits (nftTraits: NftTraits) (totalNfts: float) =\n",
    "    let recordType = typeof<NFTTraits>\n",
    "    FSharp.Reflection.FSharpType.GetRecordFields(recordType)\n",
    "    |> Array.fold (fun acc field ->\n",
    "        let fieldValue = field.GetValue(nftTraits) :?> Map<string, int>\n",
    "        let traitScores = \n",
    "            fieldValue |> Map.map (fun key value ->\n",
    "                Math.Round(100.0 - (float value / float totalNfts) * 100.0, 2)\n",
    "            )\n",
    "        Map.add field.Name traitScores acc\n",
    "    ) Map.empty"
   ]
  },
  {
   "cell_type": "code",
   "execution_count": 80,
   "metadata": {
    "dotnet_interactive": {
     "language": "fsharp"
    },
    "polyglot_notebook": {
     "kernelName": "fsharp"
    },
    "vscode": {
     "languageId": "polyglot-notebook"
    }
   },
   "outputs": [],
   "source": [
    "let r1ScoredTraits = processNftTraits nftRound1Traits r1TotalNfts\n",
    "let r2ScoredTraits = processNftTraits nftRound2Traits r2TotalNfts"
   ]
  },
  {
   "cell_type": "markdown",
   "metadata": {},
   "source": [
    "### **Illustrating the Distribution of Trait Scores**: \n",
    "This section generates visual representations of the distribution of trait scores. The `createCharts` function produces doughnut charts that display each trait value along with its corresponding score."
   ]
  },
  {
   "cell_type": "code",
   "execution_count": 11,
   "metadata": {
    "dotnet_interactive": {
     "language": "fsharp"
    },
    "polyglot_notebook": {
     "kernelName": "fsharp"
    },
    "vscode": {
     "languageId": "polyglot-notebook"
    }
   },
   "outputs": [],
   "source": [
    "let createCharts (traitScores: Map<string, Map<string, float>>) = \n",
    "    traitScores\n",
    "    |> Map.fold( fun acc title labelsAndValues ->\n",
    "        let labels,values = \n",
    "            labelsAndValues\n",
    "            |> Map.toList\n",
    "            |> List.unzip\n",
    "\n",
    "        let combinedText = \n",
    "            List.map2 (fun label value -> sprintf \"%s: %.2f\" label value) labels values\n",
    "\n",
    "        let chart = \n",
    "            Chart.Doughnut(values = values, Labels = labels, Hole = 0.5, MultiText = combinedText)\n",
    "            |> Chart.withTitle title\n",
    "            |> Chart.withLayout(\n",
    "                Layout.init(\n",
    "                    Width = 1200,\n",
    "                    Height = 1000\n",
    "                )\n",
    "            )\n",
    "                    \n",
    "        chart :: acc\n",
    "    )[]\n",
    "    |> List.rev\n",
    "\n",
    "let chartRound1 = createCharts r1ScoredTraits \n",
    "let chartRound2 = createCharts r2ScoredTraits"
   ]
  },
  {
   "cell_type": "markdown",
   "metadata": {},
   "source": [
    "### Teddy Bear Club Round 1 Trait Value Scores"
   ]
  },
  {
   "cell_type": "markdown",
   "metadata": {},
   "source": [
    "<img src=\"./assets/charts1/doughnut1.png\" alt=\"Round 1 Doughnut Charts\" width=\"1400\" height=\"800\">\n",
    "<img src=\"./assets/charts1/doughnut2.png\" alt=\"Round 1 Doughnut Charts\" width=\"1400\" height=\"800\">\n",
    "<img src=\"./assets/charts1/doughnut3.png\" alt=\"Round 1 Doughnut Charts\" width=\"1400\" height=\"800\">\n",
    "<img src=\"./assets/charts1/doughnut4.png\" alt=\"Round 1 Doughnut Charts\" width=\"1400\" height=\"800\">"
   ]
  },
  {
   "cell_type": "code",
   "execution_count": null,
   "metadata": {
    "dotnet_interactive": {
     "language": "fsharp"
    },
    "polyglot_notebook": {
     "kernelName": "fsharp"
    },
    "vscode": {
     "languageId": "polyglot-notebook"
    }
   },
   "outputs": [],
   "source": [
    "for chart in chartRound1 do\n",
    "    display(chart |> Chart.withSize(1400,1400))"
   ]
  },
  {
   "cell_type": "markdown",
   "metadata": {},
   "source": [
    "### Teddy Bears Club Round 2 Trait Value Scores"
   ]
  },
  {
   "cell_type": "markdown",
   "metadata": {},
   "source": [
    "<img src=\"./assets/charts2/doughnut1.png\" alt=\"Round 2 Doughnut Charts\" width=\"1400\" height=\"800\">\n",
    "<img src=\"./assets/charts2/doughnut2.png\" alt=\"Round 2 Doughnut Charts\" width=\"1400\" height=\"800\">\n",
    "<img src=\"./assets/charts2/doughnut3.png\" alt=\"Round 2 Doughnut Charts\" width=\"1400\" height=\"800\">\n",
    "<img src=\"./assets/charts2/doughnut4.png\" alt=\"Round 2 Doughnut Charts\" width=\"1400\" height=\"800\">"
   ]
  },
  {
   "cell_type": "code",
   "execution_count": null,
   "metadata": {
    "dotnet_interactive": {
     "language": "fsharp"
    },
    "polyglot_notebook": {
     "kernelName": "fsharp"
    },
    "vscode": {
     "languageId": "polyglot-notebook"
    }
   },
   "outputs": [],
   "source": [
    "for chart in chartRound2 do\n",
    "    display(chart |> Chart.withSize(1400,1400)) "
   ]
  },
  {
   "cell_type": "markdown",
   "metadata": {},
   "source": [
    "### 2.2 Compute Overall Rarity Ranks for Each NFT. \n",
    "This section calculates the total rarity score and rank for each NFT within their respective rounds. The **total rarity score** is determined by summing the scores of all trait values associated with an NFT.\n",
    "\n",
    "$\\text{Total Rarity Score} = \\sum_{i=1}^{7} TraitScore_i$\n",
    "\n",
    "Using the results from this step, a CSV file - [`collectionranks.csv`](./data/collectionranks.csv) - was created to map NFTs to their respective ranks, enabling easier access and computation. This file is referenced in subsequent sections for calculating TEDY token rewards. For more details on generating the CSV, refer to [`rankdata.ipynb`](./rankdata.ipynb).\n",
    "\n",
    "---\n",
    "\n",
    "#### **Function**:\n",
    "1. **`computeNFTRank`**: \n",
    "- Computes the rarity rank of NFTs based on their traits and scores.\n",
    "- **Parameters**:\n",
    "    - **`nftList`**: (NFT list): The list of NFTs to rank.\n",
    "    - **`nftTraitScores`**: (Map<string, Map<string, float>>): Trait value scores computed above.\n",
    "\n",
    "---\n",
    "\n",
    "#### **Variables**:\n",
    "**`rankedNFTsRound1`**: \n",
    "- (list): Stores the ranked Round 1 NFTs, including their `assetName`, `encodedName`, and `rarityScore`.\n",
    "\n",
    "**`rankedNFTsRound2`**: \n",
    "- (list): Stores the ranked Round 2 NFTs with the same structure as above.\n"
   ]
  },
  {
   "cell_type": "code",
   "execution_count": 14,
   "metadata": {
    "dotnet_interactive": {
     "language": "fsharp"
    },
    "polyglot_notebook": {
     "kernelName": "fsharp"
    },
    "vscode": {
     "languageId": "polyglot-notebook"
    }
   },
   "outputs": [],
   "source": [
    "let computeNFTRank (nftList: list<NFT>) nftTraitScores = \n",
    "    nftList\n",
    "    |> List.map (fun nft ->\n",
    "        let rarityScore =  \n",
    "            [\n",
    "                (\"Background\", nft.Background)\n",
    "                (\"Bear\", nft.Bear)\n",
    "                (\"Clothes\", nft.Clothes)\n",
    "                (\"Face\", nft.Face)\n",
    "                (\"Handheld\", nft.Handheld)\n",
    "                (\"Head\", nft.Head)\n",
    "                (\"Skins\", nft.Skins)\n",
    "            ]\n",
    "            |> List.fold (fun acc (attrName, attrValue) ->  \n",
    "                match Map.tryFind attrName nftTraitScores with\n",
    "                | Some traitMap ->  \n",
    "                    acc + (Map.tryFind attrValue traitMap |> Option.defaultValue 0.0)\n",
    "                | None -> acc \n",
    "            ) 0.0 \n",
    "        (nft.assetName, nft.encodedName, rarityScore) \n",
    "    )\n",
    "    |> List.sortBy (fun (_, _, rarityScore) -> -rarityScore)\n",
    "    |> List.mapi (fun index (assetName, encodedName, rarityScore) -> \n",
    "    (index + 1, assetName, encodedName, rarityScore))"
   ]
  },
  {
   "cell_type": "code",
   "execution_count": 15,
   "metadata": {
    "dotnet_interactive": {
     "language": "fsharp"
    },
    "polyglot_notebook": {
     "kernelName": "fsharp"
    },
    "vscode": {
     "languageId": "polyglot-notebook"
    }
   },
   "outputs": [],
   "source": [
    "let rankedNFTsRound1 = computeNFTRank nftRound1NFTS r1ScoredTraits\n",
    "let rankedNFTsRound2 = computeNFTRank nftRound2NFTS r2ScoredTraits"
   ]
  },
  {
   "cell_type": "markdown",
   "metadata": {},
   "source": [
    "## **3. NFT Rewards Calculation** \n",
    "Calculating an NFT holder's TEDY rewards involves multiple factors, including the NFTs they own, the round each NFT belongs to, and their individual ranks within those rounds. \n",
    "\n",
    "Additionally, the calculation considers the holder's proportional share of unsold NFTs, based on the number of NFTs they hold.\n",
    "\n",
    "---\n",
    "### **3.1 Load rank data from the [`collectionranks.csv`](./data/collectionranks.csv)**\n",
    "Load NFT rank data from the [`collectionranks.csv`](./data/collectionranks.csv) file in the `data` folder. The CSV was created by using the rank computations executed below. For detailed steps or to recreate the file, refer to [`rankData.ipynb`](./rankdata.ipynb).\n",
    "\n",
    "#### **Type**:\n",
    "- **`NftRecord`**: Represents an individual NFT record from the CSV.\n",
    "\n",
    "#### **Functions**:\n",
    "\n",
    "1. **`parseCsv`**:\n",
    "- Parses a CSV file into a list of `NftRecord` entries.\n",
    "- **Parameters**:\n",
    "   - `filePath (string)`: The path to the CSV file.\n",
    "- **Returns**:  \n",
    "   - A `list<NFTRecord>` containing records with `Name`, `Subject`, `Rank`, and `Score`.\n",
    "\n",
    "2. **`createSubjectToRankMap`**:\n",
    "- Creates a mapping of `Subject`(Policy ID + Asset Name) to `Rank`.\n",
    "- **Parameters**:\n",
    "   - `records (list<NFTRecord>)`: A list of `NftRecord` entries.\n",
    "- **Returns**:  \n",
    "   - A `Map<string, int>` mapping `Subject` to `Rank`.\n",
    "\n",
    "3. **`createNameToRankMap`**:\n",
    "- Creates a mapping of `Name` (i.e. TeddyBearsClub178) to `Rank`.\n",
    "- **Parameters**:\n",
    "   - `records (list<NFTRecord>)`: A list of `NftRecord` entries.\n",
    "- **Returns**:  \n",
    "   - A `Map<string, int>` mapping `Name` to `Rank`.\n",
    "\n",
    "---\n",
    "\n",
    "#### **Variables**:\n",
    "\n",
    "1. **`csvPath`**:  \n",
    "   - `(string)`: The file path to the CSV file containing NFT rank data.\n",
    "\n",
    "2. **`nftDataList`**:  \n",
    "   - `(list<NFTRecord>)`: A list of parsed `NftRecord` entries from the CSV file.\n",
    "\n",
    "3. **`subjectRankData`**:  \n",
    "   - `(Map<string, int>)`: A mapping of `Subject` to `Rank` created using `createSubjectToRankMap`.\n",
    "\n",
    "4. **`nameRankData`**:  \n",
    "   - `(Map<string, int>)`: A mapping of `Name` to `Rank` created using `createNameToRankMap`.\n"
   ]
  },
  {
   "cell_type": "code",
   "execution_count": 83,
   "metadata": {
    "dotnet_interactive": {
     "language": "fsharp"
    },
    "polyglot_notebook": {
     "kernelName": "fsharp"
    },
    "vscode": {
     "languageId": "polyglot-notebook"
    }
   },
   "outputs": [],
   "source": [
    "type NftRecord = {\n",
    "    Name: string\n",
    "    Subject: string\n",
    "    Rank: int\n",
    "    Score: float\n",
    "}"
   ]
  },
  {
   "cell_type": "code",
   "execution_count": 84,
   "metadata": {
    "dotnet_interactive": {
     "language": "fsharp"
    },
    "polyglot_notebook": {
     "kernelName": "fsharp"
    },
    "vscode": {
     "languageId": "polyglot-notebook"
    }
   },
   "outputs": [],
   "source": [
    " let parseCsv (filePath: string) =\n",
    "    File.ReadAllLines(filePath)\n",
    "    |> Array.skip 1\n",
    "    |> Array.map (fun line ->\n",
    "        let parts = line.Split(',')\n",
    "        {\n",
    "            Name = parts.[0]\n",
    "            Subject = parts.[1]\n",
    "            Rank = int parts.[2]\n",
    "            Score = float parts.[3]\n",
    "        }\n",
    "    )\n",
    "    |> List.ofArray"
   ]
  },
  {
   "cell_type": "code",
   "execution_count": 87,
   "metadata": {
    "dotnet_interactive": {
     "language": "fsharp"
    },
    "polyglot_notebook": {
     "kernelName": "fsharp"
    },
    "vscode": {
     "languageId": "polyglot-notebook"
    }
   },
   "outputs": [],
   "source": [
    "let createSubjectToRankMap (records: NftRecord list) =\n",
    "    records\n",
    "    |> List.map (fun record -> record.Subject, record.Rank)\n",
    "    |> Map.ofList\n",
    "\n",
    "let createNameToRankMap (records: NftRecord list) =\n",
    "    records\n",
    "    |> List.map (fun record -> record.Name, record.Rank)\n",
    "    |> Map.ofList"
   ]
  },
  {
   "cell_type": "code",
   "execution_count": 88,
   "metadata": {
    "dotnet_interactive": {
     "language": "fsharp"
    },
    "polyglot_notebook": {
     "kernelName": "fsharp"
    },
    "vscode": {
     "languageId": "polyglot-notebook"
    }
   },
   "outputs": [],
   "source": [
    "let csvPath = \"./data/collectionranks.csv\"\n",
    "let nftDataList = parseCsv csvPath\n",
    "let subjectRankData = createSubjectToRankMap  nftDataList \n",
    "let nameRankData = createNameToRankMap  nftDataList "
   ]
  },
  {
   "cell_type": "markdown",
   "metadata": {},
   "source": [
    "### **3.2 Identify a Subject's Tier**\n",
    "This section categorizes an NFT (identified by its `policyId` and `assetName`) into its respective tier based on its round and rank. Each tier determines the base TEDY rewards allocated to the NFT.\n",
    "\n",
    "#### **Functions**:\n",
    "1. **`categorizeNftRound1ByTier`**:\n",
    "- Categorizes a Round 1 NFT into its respective tier based on its rank.\n",
    "- **Parameters**:\n",
    "  - `subject` (string): The identifier of the NFT.\n",
    "  - `rank` (int): The rarity rank of the NFT.\n",
    "\n",
    "2. **`categorizeNftRound2ByTier`**:\n",
    "- Categorizes a Round 2 NFT into its respective tier based on its rank.\n",
    "- **Parameters**:\n",
    "  - `subject` (string): The identifier of the NFT.\n",
    "  - `rank` (int): The rarity rank of the NFT.\n",
    "\n",
    "3. **`computeBaseRewards`**:\n",
    "- Determines the base TEDY rewards for a given NFT based on its round and rank.\n",
    "- Calls `categorizeNftRound1ByTier` or `categorizeNftRound2ByTier` depending on the NFT's policy ID.\n",
    "- **Parameters**:\n",
    "  - `subject` (string): The identifier of the NFT.\n",
    "  - `rankData` (Map<string, int>): A mapping of subjects to their rank.\n",
    "- **Returns**:\n",
    "  - `baseReward` (int): The rewards allocated to the given subject.\n",
    "---\n",
    "\n",
    "#### **Variables**:\n",
    " **`round1PolicyId`**:\n",
    "   - (string): the unique policy ID for identifying NFTs from Round 1.\n",
    "\n",
    " **`round2PolicyId`**:\n",
    "   - (string): the unique policy ID for identifying NFTs from Round 2.\n",
    "\n",
    "**`baseReward`**:\n",
    "   - (int): the amount of TEDY rewards allocated to the NFT."
   ]
  },
  {
   "cell_type": "code",
   "execution_count": 23,
   "metadata": {
    "dotnet_interactive": {
     "language": "fsharp"
    },
    "polyglot_notebook": {
     "kernelName": "fsharp"
    },
    "vscode": {
     "languageId": "polyglot-notebook"
    }
   },
   "outputs": [],
   "source": [
    "let round1PolicyId = \"ab182ed76b669b49ee54a37dee0d0064ad4208a859cc4fdf3f906d87\"\n",
    "let round2PolicyId = \"da3562fad43b7759f679970fb4e0ec07ab5bebe5c703043acda07a3c\""
   ]
  },
  {
   "cell_type": "code",
   "execution_count": 24,
   "metadata": {
    "dotnet_interactive": {
     "language": "fsharp"
    },
    "polyglot_notebook": {
     "kernelName": "fsharp"
    },
    "vscode": {
     "languageId": "polyglot-notebook"
    }
   },
   "outputs": [],
   "source": [
    "let categorizeNftRound1ByTier subject rank  =\n",
    "    if rank <= 15 then 38000\n",
    "    elif rank <= 100 then 19250\n",
    "    elif rank <= 250 then 13860\n",
    "    elif rank <= 500 then 12320\n",
    "    elif rank <= 804 then 11550\n",
    "    else 0  "
   ]
  },
  {
   "cell_type": "code",
   "execution_count": 25,
   "metadata": {
    "dotnet_interactive": {
     "language": "fsharp"
    },
    "polyglot_notebook": {
     "kernelName": "fsharp"
    },
    "vscode": {
     "languageId": "polyglot-notebook"
    }
   },
   "outputs": [],
   "source": [
    "let categorizeNftRound2ByTier subject rank =\n",
    "    if rank <= 23 then 7000\n",
    "    elif rank <= 221 then 6000\n",
    "    elif rank <= 664 then 5000\n",
    "    elif rank <= 1327 then 4500\n",
    "    elif rank <= 2035 then 4200\n",
    "    else 0"
   ]
  },
  {
   "cell_type": "code",
   "execution_count": 26,
   "metadata": {
    "dotnet_interactive": {
     "language": "fsharp"
    },
    "polyglot_notebook": {
     "kernelName": "fsharp"
    },
    "vscode": {
     "languageId": "polyglot-notebook"
    }
   },
   "outputs": [],
   "source": [
    "let computeBaseRewards (subject: string) (rankData: Map<string, int>) =\n",
    "    let baseReward =\n",
    "        if subject.Contains(round1PolicyId) then\n",
    "            categorizeNftRound1ByTier subject subjectRankData[subject] \n",
    "        elif subject.Contains(round2PolicyId) then\n",
    "            categorizeNftRound2ByTier subject subjectRankData[subject]\n",
    "        else\n",
    "            printfn \"Unknown NFT policyId for %s\" subject\n",
    "            0\n",
    "    baseReward"
   ]
  },
  {
   "cell_type": "markdown",
   "metadata": {},
   "source": [
    "### Computing an NFT's Rank and Reward with Alice’s Teddy Bear\n",
    "\n",
    "Now that we've built the tools to calculate NFT rankings and determine TEDY rewards, let’s bring these functions to life with a practical example.\n",
    "\n",
    "Meet Alice, a proud owner of a unique NFT: Teddy Bears Club #5731. Naturally, Alice is curious to find out the rank and TEDY rewards allocated to her her beloved Teddy Bear. Using the tools and functions we’ve developed, we can help Alice uncover this information.\n",
    "\n",
    "Later on, we will also calculate for the total TEDY tokens Alice can receive. Let’s dive in!"
   ]
  },
  {
   "cell_type": "markdown",
   "metadata": {},
   "source": [
    "<img src=\"./assets/teddy5731.png\" alt=\"Teddy Bears Club #5731\" width=\"400\" height=\"400\"/>\n",
    "\n",
    "Let’s start by identifying Alice’s NFT in the system. Alice provides her NFT's subject identifier:\n"
   ]
  },
  {
   "cell_type": "code",
   "execution_count": 76,
   "metadata": {
    "dotnet_interactive": {
     "language": "fsharp"
    },
    "polyglot_notebook": {
     "kernelName": "fsharp"
    },
    "vscode": {
     "languageId": "polyglot-notebook"
    }
   },
   "outputs": [],
   "source": [
    "let ownedNFT = \"ab182ed76b669b49ee54a37dee0d0064ad4208a859cc4fdf3f906d8754656464794265617273436c756235373331\""
   ]
  },
  {
   "cell_type": "markdown",
   "metadata": {},
   "source": [
    "We can then use the `computeBaseRewards` function to determine the NFT's tier and TEDY rewards. Here’s how we process Alice’s NFT:"
   ]
  },
  {
   "cell_type": "code",
   "execution_count": 77,
   "metadata": {
    "dotnet_interactive": {
     "language": "fsharp"
    },
    "polyglot_notebook": {
     "kernelName": "fsharp"
    },
    "vscode": {
     "languageId": "polyglot-notebook"
    }
   },
   "outputs": [],
   "source": [
    "let baseReward =  computeBaseRewards ownedNFT subjectRankData"
   ]
  },
  {
   "cell_type": "code",
   "execution_count": 78,
   "metadata": {
    "dotnet_interactive": {
     "language": "fsharp"
    },
    "polyglot_notebook": {
     "kernelName": "fsharp"
    },
    "vscode": {
     "languageId": "polyglot-notebook"
    }
   },
   "outputs": [
    {
     "name": "stdout",
     "output_type": "stream",
     "text": [
      "Alice's Asset: ab182ed76b669b49ee54a37dee0d0064ad4208a859cc4fdf3f906d8754656464794265617273436c756235373331\n",
      "Asset's Rank: 162\n",
      "Asset's TEDY Reward: 13860\n"
     ]
    }
   ],
   "source": [
    "printfn \"Alice's Asset: %s\" ownedNFT\n",
    "printfn \"Asset's Rank: %d\" subjectRankData[ownedNFT]\n",
    "printfn \"Asset's TEDY Reward: %d\" baseReward"
   ]
  },
  {
   "cell_type": "markdown",
   "metadata": {},
   "source": [
    "### **3.3 Calculate Portion of TEDY Rewards from Surplus TEDY**\n",
    "\n",
    "In the [Round 2 announcement](https://medium.com/@TeddySwapDEX/teddy-bears-club-round-2-c209556b379f),it was stated that NFT holders would receive an additional allocation of TEDY tokens from the pool of unsold NFTs. This section explains the formula used to calculate the surplus TEDY rewards allocated per NFT.\n",
    "\n",
    "Where:\n",
    "\n",
    "- **Total INO TEDY Allocation:**  \n",
    "  The total amount of TEDY designated for Initial NFT Offering (INO) rewards based on the [initial tokenomics](https://medium.com/@TeddySwapDEX/teddyswap-tokenomics-fcd700aea552).  \n",
    "  $\\text{Total INO TEDY Allocation} = 5,000,000,000 \\times 4.5\\% = 225,000,000 \\text{TEDY}$\n",
    "  \n",
    "- **Round 1 Bonus:**  \n",
    "  The bonus multiplier applied to NFTs sold in Round 1.  \n",
    " $\\text{Round 1 Bonus} = 2.75$\n",
    "\n",
    "- **Round 1 NFTs Sold:**  \n",
    "  The total number of NFTs sold in Round 1.  \n",
    "  $\\text{Round 1 NFTs Sold} = 804$\n",
    "\n",
    "- **Round 2 NFTs Sold:**  \n",
    "  The total number of NFTs sold in Round 2.  \n",
    "  $\\text{Round 2 NFTs Sold} = 2,035$\n",
    "\n",
    "- $\\text{Tier Tokens}_i$:  \n",
    "  The number of TEDY tokens allocated per NFT in Tier \\(i\\).\n",
    "\n",
    "- $\\text{Count of Tier}_i$:\n",
    "  The number of NFTs in Tier \\(i\\).\n",
    "\n",
    "#### **Calculations**\n",
    "\n",
    "1. **Calculate Distributed Tokens:**\n",
    "\n",
    "   Determine the total TEDY tokens already distributed based on the tiers of NFTs sold in both rounds.\n",
    "\n",
    "   $\\text{Distributed Tokens} = \\sum_{i=1}^{5} (\\text{Round 1 Tier Tokens}_i \\times \\text{Count of Tier}_i) + \\sum_{i=1}^{5} (\\text{Round 2 Tier Tokens}_i \\times \\text{Count of Tier}_i)$\n",
    "\n",
    "2. **Determine Available Token Rewards:**\n",
    "\n",
    "   Calculate the remaining TEDY tokens available for surplus distribution by subtracting the distributed tokens from the total INO TEDY allocation.\n",
    "\n",
    "   $\\text{Available Token Rewards} = \\text{Total INO TEDY Allocation} - \\text{Distributed Tokens}$\n",
    "\n",
    "3. **Compute TEDY Surplus per NFT:**\n",
    "\n",
    "   Calculate the additional TEDY reward allocated per NFT by dividing the available token rewards by the effective total number of NFTs, considering the bonus multiplier for Round 1 NFTs.\n",
    "\n",
    "   $\\text{TEDY Surplus per NFT} = \\frac{\\text{Available Token Rewards}}{(\\text{Round 1 NFTs Sold} \\times \\text{Round 1 Bonus}) + \\text{Round 2 NFTs Sold}}$\n",
    "\n",
    "---\n",
    "\n",
    "#### **Functions**:\n",
    "1. **`calculateSurplusTedyPerNFT`**:\n",
    "- Computes the additional TEDY rewards allocated per NFT owned by a holder.\n",
    "- **Parameters**:\n",
    "   - None explicitly passed, but it relies on:\n",
    "      - `availableTokenRewards` (float) - The total amount of TEDY rewards available.\n",
    "      - `round1Bonus` (float) - The bonus multiplier for Round 1 NFTs.\n",
    "      - `round1NFTsSold` (int) - Total number of NFTs sold in Round 1.\n",
    "      - `round2NFTsSold` (int)  Total number of NFTs sold in Round 2.\n",
    "- **Returns**:\n",
    "   - (float) - The calculated TEDY surplus reward per NFT, rounded up to the nearest whole number.\n",
    "\n",
    "---\n",
    "\n",
    "#### **Variables**:\n",
    "**`round1Bonus`**:\n",
    "   - (float): represents the bonus multiplier applied to Round 1 NFTs.\n",
    "\n",
    "**`round1NFTsSold`**:\n",
    "   - (int): represents the total NFTs minted for Round 1.\n",
    "\n",
    "**`round2NFTsSold`**:\n",
    "   - (int): represents the total NFTs minted for Round 2.\n",
    "   <br>\n",
    "\n",
    "**`round1Tier1`, `round1Tier2`, `round1Tier3`, `round1Tier4`, `round1Tier5`**:\n",
    "   - Tokens allocated per NFT for each tier in Round 1:\n",
    "     - **round1Tier1**: `30800`\n",
    "     - **round1Tier2**: `19250`\n",
    "     - **round1Tier3**: `13860`\n",
    "     - **round1Tier4**: `12320`\n",
    "     - **round1Tier5**: `11550`\n",
    "\n",
    "**`round2Tier1`, `round2Tier2`, `round2Tier3`, `round2Tier4`, `round2Tier5`**:\n",
    "   - Tokens allocated per NFT for each tier in Round 2:\n",
    "     - **round2Tier1**: `7000`\n",
    "     - **round2Tier2**: `6000`\n",
    "     - **round2Tier3**: `5000`\n",
    "     - **round2Tier4**: `4500`\n",
    "     - **round2Tier5**: `4200`\n",
    "\n",
    "**`round1CountOfTier1`, `round1CountOfTier2`, `round1CountOfTier3`, `round1CountOfTier4`, `round1CountOfTier5`**:\n",
    "   - The number of NFTs held in each tier:\n",
    "     - **countOfTier1**: `15`\n",
    "     - **countOfTier2**: `85`\n",
    "     - **countOfTier3**: `150`\n",
    "     - **countOfTier4**: `250`\n",
    "     - **countOfTier5**: `304`\n",
    "\n",
    "**`round2CountOfTier1`, `round2CountOfTier2`, `round2CountOfTier3`, `round2CountOfTier4`, `round2CountOfTier5`**:\n",
    "   - The number of NFTs held in each tier:\n",
    "     - **countOfTier1**: `23`\n",
    "     - **countOfTier2**: `198`\n",
    "     - **countOfTier3**: `443`\n",
    "     - **countOfTier4**: `663`\n",
    "     - **countOfTier5**: `708`\n",
    "\n",
    "**`distributedTokens`**:\n",
    "   - (int): The total tokens distributed across all both rounds.\n",
    "\n",
    "**`availableTokenRewards`**:\n",
    "   - (int): The remaining TEDY tokens available for INO rewards after distribution.\n"
   ]
  },
  {
   "cell_type": "code",
   "execution_count": 32,
   "metadata": {
    "dotnet_interactive": {
     "language": "fsharp"
    },
    "polyglot_notebook": {
     "kernelName": "fsharp"
    },
    "vscode": {
     "languageId": "polyglot-notebook"
    }
   },
   "outputs": [],
   "source": [
    "let round1Bonus = 2.75\n",
    "let round1NftsSold = 804.0\n",
    "let round2NftsSold = 2035.0"
   ]
  },
  {
   "cell_type": "code",
   "execution_count": 39,
   "metadata": {
    "dotnet_interactive": {
     "language": "fsharp"
    },
    "polyglot_notebook": {
     "kernelName": "fsharp"
    },
    "vscode": {
     "languageId": "polyglot-notebook"
    }
   },
   "outputs": [],
   "source": [
    "let round1Tier1 = 30800\n",
    "let round1Tier2 = 19250\n",
    "let round1Tier3 = 13860\n",
    "let round1Tier4 = 12320\n",
    "let round1Tier5 = 11550\n",
    "\n",
    "let round1CountOfTier1 = 15\n",
    "let round1CountOfTier2 = 85\n",
    "let round1CountOfTier3 = 150\n",
    "let round1CountOfTier4 = 250\n",
    "let round1CountOfTier5 = 304\n",
    "\n",
    "let round2Tier1 = 7000\n",
    "let round2Tier2 = 6000\n",
    "let round2Tier3 = 5000\n",
    "let round2Tier4 = 4500\n",
    "let round2Tier5 = 4200\n",
    "\n",
    "let round2CountOfTier1 = 23\n",
    "let round2CountOfTier2 = 198\n",
    "let round2CountOfTier3 = 443\n",
    "let round2CountOfTier4 = 663\n",
    "let round2CountOfTier5 = 708\n",
    "\n",
    "let totalTokenRewards = 225000000"
   ]
  },
  {
   "cell_type": "code",
   "execution_count": 40,
   "metadata": {
    "dotnet_interactive": {
     "language": "fsharp"
    },
    "polyglot_notebook": {
     "kernelName": "fsharp"
    },
    "vscode": {
     "languageId": "polyglot-notebook"
    }
   },
   "outputs": [],
   "source": [
    "let round1Counts = [| round1CountOfTier1; round1CountOfTier2; round1CountOfTier3; round1CountOfTier4; round1CountOfTier5 |]\n",
    "let round1Tiers = [| round1Tier1; round1Tier2; round1Tier3; round1Tier4; round1Tier5 |]\n",
    "let round2Counts = [| round2CountOfTier1; round2CountOfTier2; round2CountOfTier3; round2CountOfTier4; round2CountOfTier5 |]\n",
    "let round2Tiers = [| round2Tier1; round2Tier2; round2Tier3; round2Tier4; round2Tier5 |]"
   ]
  },
  {
   "cell_type": "code",
   "execution_count": 41,
   "metadata": {
    "dotnet_interactive": {
     "language": "fsharp"
    },
    "polyglot_notebook": {
     "kernelName": "fsharp"
    },
    "vscode": {
     "languageId": "polyglot-notebook"
    }
   },
   "outputs": [],
   "source": [
    "let distributedTokens = \n",
    "    (Array.zip round1Counts round1Tiers |> Array.sumBy (fun (count, tier) ->  count *  tier)) +\n",
    "    (Array.zip round2Counts round2Tiers |> Array.sumBy (fun (count, tier) ->  count *  tier))\n"
   ]
  },
  {
   "cell_type": "code",
   "execution_count": 42,
   "metadata": {
    "dotnet_interactive": {
     "language": "fsharp"
    },
    "polyglot_notebook": {
     "kernelName": "fsharp"
    },
    "vscode": {
     "languageId": "polyglot-notebook"
    }
   },
   "outputs": [],
   "source": [
    "let availableTokenRewards =  totalTokenRewards - distributedTokens"
   ]
  },
  {
   "cell_type": "code",
   "execution_count": 44,
   "metadata": {
    "dotnet_interactive": {
     "language": "fsharp"
    },
    "polyglot_notebook": {
     "kernelName": "fsharp"
    },
    "vscode": {
     "languageId": "polyglot-notebook"
    }
   },
   "outputs": [],
   "source": [
    "let calculateSurplusTedyPerNFT = \n",
    "    let surplusReward = float availableTokenRewards/(round1NftsSold * round1Bonus + round2NftsSold)\n",
    "    Math.Ceiling(surplusReward)"
   ]
  },
  {
   "cell_type": "code",
   "execution_count": 46,
   "metadata": {
    "dotnet_interactive": {
     "language": "fsharp"
    },
    "polyglot_notebook": {
     "kernelName": "fsharp"
    },
    "vscode": {
     "languageId": "polyglot-notebook"
    }
   },
   "outputs": [],
   "source": [
    "let surplusReward = int calculateSurplusTedyPerNFT"
   ]
  },
  {
   "cell_type": "markdown",
   "metadata": {},
   "source": [
    "## **3.4 Calculate Total TEDY Rewards** \n",
    "In this step, we calculate the total TEDY rewards for a given address based on the NFTs it holds.\n",
    "\n",
    "This process involves parsing the address's token data from `collectionassets.json`. \n",
    "\n",
    "To begin, you must **generate the JSON** file containing the address's token data by following the workflow outlined in [`api.ipynb`](./api.ipynb). This file, `collectionassets.json`, is created by querying the [CardanoScan API](https://docs.cardanoscan.io/). The JSON file is not included in this repository, and you must generate it yourself if you wish to explore these calculations.\n",
    "\n",
    "Once the token data is available, we use the `computeBaseRewards` function and include the `surplusReward` to compute the total TEDY rewards for the address.\n",
    "\n",
    "*Note!*\n",
    "You will need to replace the placeholder with the address you wish to query.\n",
    "\n",
    "---\n",
    "\n",
    "#### **Types**:\n",
    "- **`Token`**: Represents a token/NFT, focusing on its identifiers and balance.\n",
    "- **`Response`**: Represents the response structure containing a list of tokens.\n",
    "  - `tokens (Token[])`: An array of `Token` objects.\n",
    "\n",
    "---\n",
    "\n",
    "#### **Function**:\n",
    "1. **`calculateTotalRewards`**:\n",
    "   - Computes the total TEDY rewards based on the Teddy Bear Club NFTs owned by an address.\n",
    "   - **Parameters**:\n",
    "     - `filePath (string)`: The path to the JSON file containing token data.\n",
    "     - `round1PolicyId (string)`: The policy ID for tokens in Round 1.\n",
    "     - `round2PolicyId (string)`: The policy ID for tokens in Round 2.\n",
    "     - `subjectRankData (Map<string, int>)`: A mapping of token IDs to their respective ranks.\n",
    "     - `surplusReward (int)`: Additional reward to be distributed across all tokens.\n",
    "   - **Returns**:\n",
    "     - `totalTedyRewards (int)`: The total calculated rewards.\n",
    "\n",
    "---\n",
    "\n",
    "#### **Variable**:\n",
    "- **`totalTedyRewards`**: \n",
    "  - (int) — Total TEDY rewards allocated to the address, calculated as the sum of base rewards for all NFTs and the surplus reward distributed across all tokens. This calculation assumes the original 5,000,000,000 market cap.\n"
   ]
  },
  {
   "cell_type": "code",
   "execution_count": 48,
   "metadata": {
    "dotnet_interactive": {
     "language": "fsharp"
    },
    "polyglot_notebook": {
     "kernelName": "fsharp"
    },
    "vscode": {
     "languageId": "polyglot-notebook"
    }
   },
   "outputs": [],
   "source": [
    "type Token = {\n",
    "    policyId: string\n",
    "    assetName: string\n",
    "    fingerprint: string\n",
    "    assetId: string\n",
    "    balance: string\n",
    "}\n",
    "\n",
    "type Response = {\n",
    "    tokens: Token[]\n",
    "}"
   ]
  },
  {
   "cell_type": "code",
   "execution_count": 57,
   "metadata": {
    "dotnet_interactive": {
     "language": "fsharp"
    },
    "polyglot_notebook": {
     "kernelName": "fsharp"
    },
    "vscode": {
     "languageId": "polyglot-notebook"
    }
   },
   "outputs": [],
   "source": [
    "let calculateTotalRewards (filePath: string) (round1PolicyId: string) (round2PolicyId: string) (subjectRankData: Map<string, int>) (surplusReward: float) =\n",
    "    let addressNfts = loadNfts<Response> filePath\n",
    "\n",
    "    let nftList =\n",
    "        addressNfts.tokens\n",
    "        |> Array.map (fun token -> token.assetId)\n",
    "        |> Array.toList\n",
    "\n",
    "    let rewardsList =\n",
    "        [ for nft in nftList do\n",
    "            if nft.Contains(round1PolicyId) then\n",
    "                yield computeBaseRewards nft subjectRankData\n",
    "            elif nft.Contains(round2PolicyId) then\n",
    "                yield computeBaseRewards nft subjectRankData ]\n",
    "\n",
    "    let totalNftRewards = rewardsList |> List.sum\n",
    "    let numberOfNfts = rewardsList |> List.length\n",
    "    let totalTedyRewards = totalNftRewards + ((int)surplusReward * numberOfNfts)\n",
    "\n",
    "    totalTedyRewards\n"
   ]
  },
  {
   "cell_type": "code",
   "execution_count": 55,
   "metadata": {
    "dotnet_interactive": {
     "language": "fsharp"
    },
    "polyglot_notebook": {
     "kernelName": "fsharp"
    },
    "vscode": {
     "languageId": "polyglot-notebook"
    }
   },
   "outputs": [
    {
     "name": "stdout",
     "output_type": "stream",
     "text": [
      "Total Rewards of Address: 52413\n"
     ]
    }
   ],
   "source": [
    "let totalTedyRewards = calculateTotalRewards \"./data/collectionassets.json\" round1PolicyId round2PolicyId subjectRankData surplusReward\n",
    "printfn \"Total Rewards of Address: %d\" totalTedyRewards\n"
   ]
  },
  {
   "cell_type": "markdown",
   "metadata": {},
   "source": [
    "### **4. Adjust Rewards for Market Cap**\n",
    "In this step, we adjust the final TEDY reward allocation to reflect the updated market cap of 8,000,000, ensuring alignment with the revised tokenomics. The adjustment scales the rewards originally calculated for the initial market cap of 5,000,000,000.\n",
    "\n",
    "Where:\n",
    "- Total TEDY Allocation: The total rewards calculated based upon the initial marketcap.\n",
    "- [Current Marketcap](https://medium.com/@TeddySwapDEX/tedy-tokenomics-v2-fc92723ead0c): 8,000,000\n",
    "- [Previous Market Cap](https://medium.com/@TeddySwapDEX/teddyswap-tokenomics-fcd700aea552): 5,000,000\n",
    "\n",
    "$\\text{Final Round Reward} = (\\frac{\\text{Total TEDY Allocation} * \\text{Current Marketcap}}{\\text{Previous Market Cap}})$\n",
    "\n",
    "---\n",
    "\n",
    "#### **Functions**:\n",
    "1. **`marketcapAdjustment`**:\n",
    "- Adjusts the reward amount based on the ratio of the current market cap to the past market cap.\n",
    "- **Parameters**:\n",
    "   - `rewards` (float): The original reward amount to be adjusted.\n",
    "- **Returns**:\n",
    "   - (int): The adjusted reward amount.\n",
    "\n",
    "---\n",
    "\n",
    "#### **Variables**:\n",
    "**`pastMarketCap`**:\n",
    "   - The previous market cap of the token, used as a reference for adjustments.\n",
    "\n",
    "**`currentMarketCap`**:\n",
    "   - The current market cap of the token, used to scale rewards.\n",
    "\n",
    "**`totalTedyReward`**:\n",
    "   - The final TEDY rewards allocation \n"
   ]
  },
  {
   "cell_type": "code",
   "execution_count": 68,
   "metadata": {
    "dotnet_interactive": {
     "language": "fsharp"
    },
    "polyglot_notebook": {
     "kernelName": "fsharp"
    },
    "vscode": {
     "languageId": "polyglot-notebook"
    }
   },
   "outputs": [],
   "source": [
    "let initialMarketCap = 5000000000.0\n",
    "let currentMarketCap = 8000000.0"
   ]
  },
  {
   "cell_type": "code",
   "execution_count": 90,
   "metadata": {
    "dotnet_interactive": {
     "language": "fsharp"
    },
    "polyglot_notebook": {
     "kernelName": "fsharp"
    },
    "vscode": {
     "languageId": "polyglot-notebook"
    }
   },
   "outputs": [],
   "source": [
    "let marketcapAdjustment (rewards: float) = \n",
    "    let finalRoundReward = (rewards*currentMarketCap)/initialMarketCap\n",
    "    Math.Ceiling(finalRoundReward)"
   ]
  },
  {
   "cell_type": "code",
   "execution_count": 89,
   "metadata": {
    "dotnet_interactive": {
     "language": "fsharp"
    },
    "polyglot_notebook": {
     "kernelName": "fsharp"
    },
    "vscode": {
     "languageId": "polyglot-notebook"
    }
   },
   "outputs": [],
   "source": [
    "let totalTedyReward = int(marketcapAdjustment totalTedyRewards)"
   ]
  },
  {
   "cell_type": "markdown",
   "metadata": {},
   "source": [
    "# Alice's Total TEDY Rewards\n",
    "\n",
    "Now that we’ve developed the functions to calculate rewards, it’s time to discover the total TEDY rewards Alice will receive. Unfortunately, we don't have Alice's address, so we will be running through the calculations manually - to provide an example to follow.\n",
    "\n",
    "We saw above that as a Round 1 NFT, ranked 162 and placed in Tier 3, #5731 earns Alice a total of **13,860 TEDY tokens**. Furthermore, she gains a surplus reward of 48,213 * 1 = **48,213**, having only one asset. \n",
    "\n",
    "Her total reward is the sum of the two, 13,860 + 48,213 = **62,073**.\n",
    "\n",
    "Finally, we scale her rewards according to the new market cap of 8,000,000.\n",
    "\n",
    "$\\text{Final Round Reward} = (\\frac{\\text{62,073} * \\text{8,000,000}}{\\text{5,000,000,000}})$"
   ]
  },
  {
   "cell_type": "code",
   "execution_count": 71,
   "metadata": {
    "dotnet_interactive": {
     "language": "fsharp"
    },
    "polyglot_notebook": {
     "kernelName": "fsharp"
    },
    "vscode": {
     "languageId": "polyglot-notebook"
    }
   },
   "outputs": [],
   "source": [
    "let totalReward = baseReward + surplusReward\n",
    "let finalReward = Math.Ceiling((float totalReward * currentMarketCap) / initialMarketCap)\n"
   ]
  },
  {
   "cell_type": "code",
   "execution_count": 73,
   "metadata": {
    "dotnet_interactive": {
     "language": "fsharp"
    },
    "polyglot_notebook": {
     "kernelName": "fsharp"
    },
    "vscode": {
     "languageId": "polyglot-notebook"
    }
   },
   "outputs": [
    {
     "name": "stdout",
     "output_type": "stream",
     "text": [
      "#5731 Base Reward: 13860\n",
      "Alice's Surplus Reward: 48213\n",
      "Alice's Initial TEDY Rewards: 62073\n",
      "Alice's Total TEDY Rewards: 100\n"
     ]
    }
   ],
   "source": [
    "printfn \"#5731 Base Reward: %d\" baseReward\n",
    "printfn \"Alice's Surplus Reward: %d\" surplusReward\n",
    "printfn \"Alice's Initial TEDY Rewards: %d\" totalReward\n",
    "printfn \"Alice's Total TEDY Rewards: %d\" (int finalReward)"
   ]
  },
  {
   "cell_type": "markdown",
   "metadata": {},
   "source": [
    "## **Disclaimers**\n",
    "1. *Market Cap Adjustments*:\n",
    "The calculations above are based on the initial market cap of **5,000,000,000** used to model events during the INO. `marketcapAdjustment` scales rewards to align with the updated market cap of **8,000,000**, resulting in adjusted and lower TEDY reward amounts.\n",
    "\n",
    "The figures provided are *estimates* and are intended for informational purposes only. We do not guarantee their accuracy and disclaim liability for any investment decisions made based on this information. Use this data at your own risk.\n",
    "\n",
    "2. Exclusions:\n",
    "These NFT calculations **do not** account for the following bonuses promised by TeddySwap:\n",
    "\n",
    "- FISO (Fair Initial Stake Offering) bonuses\n",
    "- ITN (Incentivized Testnet) rewards\n",
    "- LBE (Liquidity Bootstrapping Event) rewards\n",
    "- Yield farming bonuses\n"
   ]
  }
 ],
 "metadata": {
  "kernelspec": {
   "display_name": ".NET (C#)",
   "language": "C#",
   "name": ".net-csharp"
  },
  "language_info": {
   "name": "csharp"
  },
  "polyglot_notebook": {
   "kernelInfo": {
    "defaultKernelName": "csharp",
    "items": [
     {
      "aliases": [],
      "name": "csharp"
     }
    ]
   }
  }
 },
 "nbformat": 4,
 "nbformat_minor": 2
}
