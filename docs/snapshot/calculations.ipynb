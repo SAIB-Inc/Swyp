{
 "cells": [
  {
   "cell_type": "markdown",
   "metadata": {
    "dotnet_interactive": {
     "language": "fsharp"
    },
    "polyglot_notebook": {
     "kernelName": "fsharp"
    },
    "vscode": {
     "languageId": "polyglot-notebook"
    }
   },
   "source": [
    "# **Swyp Teddy Bear Club NFT Rewards Calculation**\n",
    "\n",
    "## **1. Overview**\n",
    "\n",
    "An **Initial NFT Offering (INO)** is a fundraising method in the cryptocurrency and blockchain ecosystem, specifically tailored for NFTs (Non-Fungible Tokens). Similar to an Initial Coin Offering (ICO), INOs allow creators, projects, or platforms to raise funds by selling a collection of NFTs to early adopters and investors.\n",
    "\n",
    "In this context, the **Teddy Bear Club NFTs** served as **TeddySwap's NFT offering**. By minting these NFTs, owners earn rewards in **TEDY Tokens**, with the amount determined by both the rarity and quantity of the NFTs they hold. The INO was conducted in two rounds:\n",
    "- [**Round 1**](https://medium.com/@TeddySwapDEX/teddy-bears-club-minting-utility-and-launch-date-23e9a4e4446d) launched on **February 17, 2023**\n",
    "- [**Round 2**](https://medium.com/@TeddySwapDEX/teddy-bears-club-round-2-c209556b379f) launched on **March 8, 2023**\n",
    "\n",
    "### *Note!*\n",
    "In TeddySwap's [**initial tokenomics**](https://medium.com/@TeddySwapDEX/teddyswap-tokenomics-fcd700aea552), the market cap was set at **5,000,000,000 TEDY**. However, it was later adjusted to **8,000,000 TEDY** in a [**second announcement**](https://medium.com/@TeddySwapDEX/tedy-tokenomics-v2-fc92723ead0c). This notebook utilizes the original market cap for the calculations, scaling it to the new market cap in the final step.\n",
    "\n",
    "Additionally, the Swyp Team considers rewards for holders of the tokens until Janurary 17, 2024\n",
    "\n",
    "\n",
    "### **1.1 Purpose**\n",
    "\n",
    "This document outlines the process for calculating the NFTs' corresponding TEDY token rewards for the Teddy Bear Club NFTs across Round 1 and Round 2. Since the ranking and reward structures differ between the two rounds, separate functions calculate rewards for each round. They are then summed to determine the total rewards, where applicable. \n",
    "\n",
    "This document aims to provide a comprehensive explanation of how the token rewards are computed, ensuring transparency and reproducibility for NFT holders.\n",
    "\n",
    "Feel free to download this notebook and explore it at your convenience. You may also proceed to Section 5 to compute your TEDY rewards.\n",
    "\n",
    "---\n",
    "\n",
    "### **1.2 NFT Information**\n",
    "\n",
    "### *Note!*\n",
    "\n",
    "Throughout the TEDY life cycle and the duration of the INO, several announcements were released that affected the initial total TEDY rewards. Unfortunately, the official Teddy Bears Club website is no longer accessible. The links provided in this notebook refer to the archived version of the site. Below is a summary of the relevant announcements:\n",
    "\n",
    "1. According to the official [Teddy Bears Club](https://webcf.waybackmachine.org/web/20240905102756/https://tbc.teddyswap.org/) website, the TEDY earnings were updated to include an additional **10% bonus** to the values decided in the [initial announcement](https://medium.com/@TeddySwapDEX/teddy-bears-club-minting-utility-and-launch-date-23e9a4e4446d). \n",
    "\n",
    "Additionally, as **804** Round 1 NFTs were sold, the tiers were adjusted. The updated tiers are dervied from the [source code](https://github.com/teddy-swap/tbc-homepage/blob/main/src/App.tsx) of the official Teddy Bear Club website.\n",
    "\n",
    "### Round 1\n",
    "\n",
    "- **Policy ID:** `ab182ed76b669b49ee54a37dee0d0064ad4208a859cc4fdf3f906d87`\n",
    "- **Total NFTs:** 804\n",
    "- **Tier System:**\n",
    "\n",
    "| **Tier** | **Initial Rarity Range** | **Initial TEDY Allocation** | **Updated Rarity Range** | **Updated TEDY Allocation** |\n",
    "|----------|--------------------------|-----------------------------|----------------------|-------------------|\n",
    "| Tier 1   | Rarity 1 - 100     | 28,000  | Rarity 1 - 15    | 30,800                                  |\n",
    "| Tier 2   | Rarity 101 - 999   | 17,500  | Rarity 16 - 100  | 19,250                                  |\n",
    "| Tier 3   | Rarity 1,000 - 2,999  | 12,600  | Rarity 101 - 250 | 13,860                                  |\n",
    "| Tier 4   | Rarity 3,000 - 5,999  | 11,200  | Rarity 251 - 500 | 12,320                                  |\n",
    "| Tier 5   | Rarity 6,000 - 10,000  | 10,500  | Rarity 501 - 804 | 11,550                                  |\n",
    "\n",
    "2. The [**initial announcement**](https://medium.com/@TeddySwapDEX/teddy-bears-club-round-2-c209556b379f) regarding **Round 2** detailed tiers for ranks **1 - 9,200**. Since **2,035** NFTs were sold, the ranks were adjusted accordingly in this [**Discord announcement**](https://discord.com/channels/1053191459597201448/1053207517154508870/1095880926086570105) on the TeddySwap Discord server.\n",
    "\n",
    "### Round 2\n",
    "\n",
    "- **Policy ID:** `da3562fad43b7759f679970fb4e0ec07ab5bebe5c703043acda07a3c`\n",
    "- **Total NFTs:** 2,035\n",
    "- **Tier System:**\n",
    "\n",
    "| **Tier** | **Initial Rarity Range** | **Updated Rarity Range** | **Previous MarketCap TEDY** |\n",
    "|----------|-------------------|-------------------------------|---------------------|\n",
    "| Tier 1   | Rarity 1 - 100       |  Rarity 1 - 23             |       7,000         |\n",
    "| Tier 2   | Rarity 101 - 999     |  Rarity 24 - 221           |      6,000          |\n",
    "| Tier 3   | Rarity 1,000 - 2,999 |  Rarity 222 - 664          |        5,000        |\n",
    "| Tier 4   | Rarity 3,000 - 5,999 |  Rarity 665 - 1,327        |        4,500        |\n",
    "| Tier 5   | Rarity 6,000 - 9,200 |  Rarity 1,328 - 2,035      |         4,200       |\n",
    "\n",
    "3. During the Round 2 NFTs minting period, the [Teddy Bear Surprise](https://medium.com/@TeddySwapDEX/1st-teddy-bear-surprise-945ed9e7405a) was released. Several changes were announced on discord afterwards, with the second table below containing the updated results.\n",
    "\n",
    "Initial Announcement:\n",
    "\n",
    "| **Tier** | **Range** | **TEDY Rewards** |\n",
    "|----------|----------------|------------|\n",
    "| Tier 1   | 1-1,250        | 10,733     | \n",
    "| Tier 2   | 1,251 - 1,400  | 9,733      | \n",
    "| Tier 3   | 1,401 - 1,600  | 8,400      |\n",
    "| Tier 4   | 1,601 - 2,000  | 6,400      | \n",
    "| Tier 5   | 2,001 - 2,500  | 4,000      | \n",
    "\n",
    "Post Discord Announcements:\n",
    "\n",
    "1. [+8,400 TEDY for 1-1,599](https://discord.com/channels/1053191459597201448/1053207517154508870/1092528784198094949)\n",
    "2. [Tier Modification](https://discord.com/channels/1053191459597201448/1053207517154508870/1093526335999197274)\n",
    "3. [+2,000 TEDY for 1,800 - 2,000](https://discord.com/channels/1053191459597201448/1053207517154508870/1093690327631659049)\n",
    "4. [+2,000 TEDY for 1,881-2,000](https://discord.com/channels/1053191459597201448/1053207517154508870/1093950972524507278)\n",
    "\n",
    "| **Tier** | **Range** | **TEDY Rewards**|\n",
    "|----------|-----------|-----------------|\n",
    "| Tier 1   | 1-1,250        | 19,133     | \n",
    "| Tier 2   | 1,251 - 1,400  | 18,133     | \n",
    "| Tier 3   | 1,401 - 1,599  | 16,800     |\n",
    "| Tier 4   | 1,600          | 8,400      | \n",
    "| Tier 5   | 1,601 - 1,799  | 6,400      | \n",
    "| Tier 6   | 1,800          | 8,400      | \n",
    "| Tier 7   | 1,801 - 1,880  | 6,000      |\n",
    "| Tier 8   | 1,881 - 2,000  | 8,000      | \n",
    "| Tier 9   | 2,001 - 2,035  | 4,000      | \n",
    "\n",
    "3. Additionally, the [Round 2 announcement](https://medium.com/@TeddySwapDEX/teddy-bears-club-round-2-c209556b379f) established that unsold NFTs from the INO would contribute to a surplus reward pool. Initially, these TEDY rewards were to be evenly distributed to all NFT holders in proportion to the number of NFTs they own.\n",
    "\n",
    "Due to the large quantity of remaining tokens diluting the ranking system's impact, the Swyp Team decided to calculate surplus rewards according to rarity, with a corresponding percentage allocated to each tier. Calculations for these values are explain below in 3.4\n",
    "\n",
    "| **Tier** | **Percentage** | **Round 1 TEDY** | **Round 2 TEDY** |\n",
    "|----------|----------------|------------------|------------------|\n",
    "| Tier 1   | 10%            | 654,932          | 238,157          |\n",
    "| Tier 2   | 15%            | 146,196          | 53,162           |\n",
    "| Tier 3   | 20%            | 98,376           | 35,773           |\n",
    "| Tier 4   | 27%            | 84,128           | 30,592           |\n",
    "| Tier 5   | 28%            | 76,310           | 27,749           |\n",
    "---\n",
    "\n",
    "### **1.3 Workflow Summary**\n",
    "The workflow is divided into the following steps:\n",
    "\n",
    "1. **Fetch Data**  \n",
    "   1.1 Load [`tbc_roundone.json`](./data/tbc_roundone.json) and [`tbc_roundtwo.json`](./data/tbc_roundtwo.json) data which was scraped and saved in [`download_nft_data.ipynb`](download_nft_data.ipynb), as well the [`tbc_traits_roundone.json`](./data/tbc_traits_roundone.json) and [`tbc_traits_roundtwo.json`](./data/tbc_traits_roundtwo.json) computed and saved in [`count_trait_values.ipynb`](count_trait_values.ipynb).\n",
    "\n",
    "2. **NFT Rank Calculation**  \n",
    "   2.1 Assign a score to each trait value based on its rarity. <br>\n",
    "   2.2 Compute the rarity rank for each NFT.\n",
    "\n",
    "3. **NFT Rewards Calculation**  \n",
    "   3.1 Load rank data from the [`tbc_ranked_by_rarity.csv`](./data/tbc_ranked_by_rarity.csv) created from [`rank_nfts_by_rarity.ipynb`](rank_nfts_by_rarity.ipynb) and order data from [`tbc_ranked_by_order.csv`](./data/tbc_ranked_by_order.csv) from [`query_assets_by_policu.ipynb`](./query_assets_by_policy.ipynb.ipynb)<br>\n",
    "   3.2 Given a subject, identify its TEDY reward based on its round and rarity rank. <br>\n",
    "   3.3 Calculate the Teddy Bear Surprise bonus TEDY for a Round 2 NFT.<br>\n",
    "   3.4 Calculate an NFT's surplus TEDY reward allocation according to its tier.<br>\n",
    "   3.5 Given an address, calculate the total TEDY rewards owed - utilizing the (3.2)identified tier and (3.4)surplus allocation calculated in previous steps. <br>\n",
    "\n",
    "4. **Scale Rewards to New Market Cap**<br>\n",
    "   4.1 Adjust the final TEDY token rewards from the initial [**5,000,000,000**](https://medium.com/@TeddySwapDEX/teddyswap-tokenomics-fcd700aea552) to the updated market cap of [**8,000,000**](https://medium.com/@TeddySwapDEX/tedy-tokenomics-v2-fc92723ead0c).\n",
    "\n",
    "5. **Calculate Your Rewards**<br>\n",
    "   5.1 Enter a Cardano address or a list of subjects to calculate your total TEDY rewards.\n",
    "   \n",
    "---\n",
    "\n",
    "### **1.4 Necessary Package Installations and Open Statements**\n",
    "\n",
    "The following external libraries are required:\n",
    "- `Plotly.NET`\n",
    "- `System.Text.Json`\n",
    "- `FSharp.Data`\n"
   ]
  },
  {
   "cell_type": "code",
   "execution_count": null,
   "metadata": {
    "dotnet_interactive": {
     "language": "fsharp"
    },
    "polyglot_notebook": {
     "kernelName": "fsharp"
    },
    "vscode": {
     "languageId": "polyglot-notebook"
    }
   },
   "outputs": [],
   "source": [
    "#i \"nuget:https://pkgs.dev.azure.com/dnceng/public/_packaging/dotnet5/nuget/v3/index.json\"\n",
    "#i \"nuget:https://pkgs.dev.azure.com/dnceng/public/_packaging/dotnet-tools/nuget/v3/index.json\"\n",
    "\n",
    "#r \"nuget: Plotly.NET.Interactive, 5.0.0\"\n",
    "#r \"nuget: Plotly.NET.ImageExport\""
   ]
  },
  {
   "cell_type": "code",
   "execution_count": 2,
   "metadata": {
    "dotnet_interactive": {
     "language": "fsharp"
    },
    "polyglot_notebook": {
     "kernelName": "fsharp"
    },
    "vscode": {
     "languageId": "polyglot-notebook"
    }
   },
   "outputs": [],
   "source": [
    "open System.Text.Json\n",
    "open System.IO\n",
    "open System.Net.Http\n",
    "open System.Threading.Tasks\n",
    "open FSharp.Data\n",
    "open FSharp.Reflection\n",
    "open Plotly.NET\n",
    "open Plotly.NET.Interactive\n",
    "open Plotly.NET.ImageExport"
   ]
  },
  {
   "cell_type": "markdown",
   "metadata": {},
   "source": [
    "# **2. Workflow**"
   ]
  },
  {
   "cell_type": "markdown",
   "metadata": {},
   "source": [
    "## 1. Fetch Data\n",
    "Metadata for the NFTs was scraped from the CNFT Tools website for [Round One](https://cnft.tools/teddybearclub) and [Round Two](https://cnft.tools/teddybearclub2), and stored in [`tbc_roundone.json`](./data/tbc_roundone.json) and [`tbc_roundotwo.json`](./data/tbc_roundtwo.json) for Round 1 and Round 2 respectively. Please refer to the [`download_nft_data.ipynb`](download_nft_data.ipynb) to view the process - which you may test out for yourself. \n",
    "\n",
    "Additionally, refer to [`count_trait_values.ipynb`](count_trait_values.ipynb) for the tallying of trait value occurences, saved in [`tbc_traits_roundone.json`](./data/tbc_traits_roundone.json) and [`tbc_traits_roundtwo.json`](./data/tbc_traits_roundtwo.json).\n",
    "\n",
    "However, the necessary metadata and trait occurrence data for the NFTs are already included in this repository as JSON files. Therefore, you may directly utilize the above mentioned files without any additional setup.\n",
    "\n",
    "In this section, we will parse the JSON data to extract information about the NFTs and the occurrence of their trait values. This data will serve as the foundation for calculating rankings and determining rewards in the subsequent sections. Using the data from the JSON files, we compute for the NFTs' rarity score and rarity rank. \n",
    "\n",
    "---\n",
    "\n",
    "#### **Types**:\n",
    "The NFT and NFTTraits types are partial representations of the data, as only the fields relevant to ranking and reward calculations have been included.\n",
    "\n",
    "- **`NFT`**: Represents an individual NFT, focusing on its identifiers and traits.\n",
    "\n",
    "- **`NftTraits`**: Captures occurrence counts of trait values across NFTs.\n",
    "\n",
    "#### **Function**:\n",
    "1. **`loadNFTs<'T>`**: \n",
    "- Loads and deserializes JSON data into a specified type:\n",
    "- **Parameters**: \n",
    "     - `filePath (string)`: the path to the JSON file.\n",
    "- **Returns**:\n",
    "    - Parsed data of type `'T`\n",
    "\n",
    "--- \n",
    "\n",
    "#### **Variables**:<br>\n",
    "**`nftsRoundOne`**: (NFT list) - NFTs from Round 1 <br>\n",
    "\n",
    " **`nftsRoundTwo`**: (NFT list) -  NFTs from Round 2 <br>\n",
    "\n",
    " **`nftRoundOneTraits`**: (NFTTraits) - Trait value counts for Round 1 NFTs <br>\n",
    "    \n",
    " **`nftRoundTwoTraits`**: (NFTTraits) - Trait value counts for Round 2 NFTs<br>\n",
    "\n",
    "---\n",
    "\n",
    "### 1.1 Fetch NFT Data From JSON"
   ]
  },
  {
   "cell_type": "code",
   "execution_count": 4,
   "metadata": {
    "dotnet_interactive": {
     "language": "fsharp"
    },
    "polyglot_notebook": {
     "kernelName": "fsharp"
    },
    "vscode": {
     "languageId": "polyglot-notebook"
    }
   },
   "outputs": [],
   "source": [
    "type Nft = {\n",
    "    assetName: string\n",
    "    encodedName: string\n",
    "    Background: string\n",
    "    Bear: string\n",
    "    Clothes: string\n",
    "    Face: string\n",
    "    Handheld: string\n",
    "    Head: string\n",
    "    Skins: string\n",
    "}\n",
    "\n",
    "type NftTraits = {\n",
    "    Background: Map<string, int>\n",
    "    Bear: Map<string, int>\n",
    "    Clothes: Map<string, int>\n",
    "    Face: Map<string, int>\n",
    "    Handheld: Map<string, int>\n",
    "    Head: Map<string, int>\n",
    "    Skins: Map<string, int>\n",
    "}"
   ]
  },
  {
   "cell_type": "code",
   "execution_count": 5,
   "metadata": {
    "dotnet_interactive": {
     "language": "fsharp"
    },
    "polyglot_notebook": {
     "kernelName": "fsharp"
    },
    "vscode": {
     "languageId": "polyglot-notebook"
    }
   },
   "outputs": [],
   "source": [
    "let loadNfts<'T> (filePath: string) : 'T =\n",
    "    let jsonContent = File.ReadAllText(filePath)\n",
    "    JsonSerializer.Deserialize<'T>(jsonContent)"
   ]
  },
  {
   "cell_type": "code",
   "execution_count": 6,
   "metadata": {
    "dotnet_interactive": {
     "language": "fsharp"
    },
    "polyglot_notebook": {
     "kernelName": "fsharp"
    },
    "vscode": {
     "languageId": "polyglot-notebook"
    }
   },
   "outputs": [],
   "source": [
    "let nftsRoundOne = loadNfts<Nft list> \"./data/tbc_roundone.json\"\n",
    "let nftsRoundTwo = loadNfts<Nft list> \"./data/tbc_roundtwo.json\""
   ]
  },
  {
   "cell_type": "code",
   "execution_count": 7,
   "metadata": {
    "dotnet_interactive": {
     "language": "fsharp"
    },
    "polyglot_notebook": {
     "kernelName": "fsharp"
    },
    "vscode": {
     "languageId": "polyglot-notebook"
    }
   },
   "outputs": [],
   "source": [
    "let nftRoundOneTraits = loadNfts<NftTraits> \"./data/tbc_traits_roundone.json\"\n",
    "let nftRoundTwoTraits = loadNfts<NftTraits> \"./data/tbc_traits_roundtwo.json\""
   ]
  },
  {
   "cell_type": "markdown",
   "metadata": {},
   "source": [
    "## **2. NFT Rank Calculation** \n",
    "Each NFT has traits such as Background, Bear, Clothing, and more, with each trait having assigned specific values. For example, the Background trait can have values like Space, Lighthouse, or Sunflowers. The overall rarity score and rank of an NFT are determined by the rarity of its trait values.\n",
    "\n",
    "The rarity score of an NFT is calculated by evaluating the rarity of its trait values. For each trait value, we calculate a **trait score** by determining the percentage of NFTs sharing that value (trait frequency) and subtracting this percentage from 100. This ensures that rarer traits receive higher scores.\n",
    "\n",
    "Finally, the **total rarity score** is obtained by summing the scores across all trait categories (e.g., Background, Hair, Clothes). The score is rounded to two decimal places.\n",
    "\n",
    "$\\text{Trait Score} = \\text{round}\\left(100.0 - \\left(\\frac{\\text{Trait Frequency}}{\\text{Total NFTs}}\\right) \\cdot 100.0, 2\\right)$\n",
    "\n",
    "$\\text{Total Rarity Score} = \\sum_{i=1}^{7} TraitScore_i$\n",
    "\n",
    "---\n",
    "### 2.1 Assign Point Values Based on Trait Value Rarity   \n",
    "Using the **Trait Score** formula, we compute a score for each trait value. These scores are then stored in a map, organized by trait categories and their respective values. \n",
    "\n",
    "---\n",
    "\n",
    "#### **Function**:\n",
    "1. **`processNftTraits`**: \n",
    "- Calculates rarity scores for each trait value based on the trait data and total NFTs in a round.\n",
    "- **Parameters**:<br>\n",
    "    - **`nftTraits`**: (NftTraits): Contains the trait value occurrence data for a round.\n",
    "        \n",
    "    - **`totalNfts`**: (float): The total number of NFTs in the round.\n",
    "- **Returns**: <br>\n",
    "    - A Map<string, Map<string, float>>, where the outer map corresponds to trait categories, and the inner map holds the scores for each trait value.\n",
    "\n",
    "---\n",
    "\n",
    "#### **Variables**:\n",
    "**`roundOneTotalNfts`**: (float) - Total NFTs in Round 1 (804.0).<br>\n",
    "\n",
    "**`roundTwoTotalNfts`**: (float) - Total NFTs in Round 2 (2035.0).<br>\n",
    "\n",
    "**`roundOneScoredTraits`**: (Map<string, Map<string, float>>) - A map of scored trait values for Round 1 NFTs.<br>\n",
    "\n",
    "**`roundTwoScoredTraits`**: (Map<string, Map<string, float>>) - A map of scored trait values for Round 2 NFTs.<br>\n"
   ]
  },
  {
   "cell_type": "code",
   "execution_count": 8,
   "metadata": {
    "dotnet_interactive": {
     "language": "fsharp"
    },
    "polyglot_notebook": {
     "kernelName": "fsharp"
    },
    "vscode": {
     "languageId": "polyglot-notebook"
    }
   },
   "outputs": [],
   "source": [
    "let roundOneTotalNfts = 804.0\n",
    "let roundTwoTotalNfts = 2035.0"
   ]
  },
  {
   "cell_type": "code",
   "execution_count": 9,
   "metadata": {
    "dotnet_interactive": {
     "language": "fsharp"
    },
    "polyglot_notebook": {
     "kernelName": "fsharp"
    },
    "vscode": {
     "languageId": "polyglot-notebook"
    }
   },
   "outputs": [],
   "source": [
    "let processNftTraits (nftTraits: NftTraits) (totalNfts: float) =\n",
    "    let recordType = typeof<NftTraits>\n",
    "    FSharp.Reflection.FSharpType.GetRecordFields(recordType)\n",
    "    |> Array.fold (fun acc field ->\n",
    "        let fieldValue = field.GetValue(nftTraits) :?> Map<string, int>\n",
    "        let traitScores = \n",
    "            fieldValue |> Map.map (fun key value ->\n",
    "                Math.Round(100.0 - (float value / float totalNfts) * 100.0, 2)\n",
    "            )\n",
    "        Map.add field.Name traitScores acc\n",
    "    ) Map.empty"
   ]
  },
  {
   "cell_type": "code",
   "execution_count": 10,
   "metadata": {
    "dotnet_interactive": {
     "language": "fsharp"
    },
    "polyglot_notebook": {
     "kernelName": "fsharp"
    },
    "vscode": {
     "languageId": "polyglot-notebook"
    }
   },
   "outputs": [],
   "source": [
    "let roundOneScoredTraits = processNftTraits nftRoundOneTraits roundOneTotalNfts\n",
    "let roundTwoScoredTraits = processNftTraits nftRoundTwoTraits roundTwoTotalNfts"
   ]
  },
  {
   "cell_type": "markdown",
   "metadata": {},
   "source": [
    "### **Illustrating the Distribution of Trait Scores**: \n",
    "This section generates visual representations of the distribution of trait scores. The `createCharts` function produces doughnut charts that display each trait value along with its corresponding score."
   ]
  },
  {
   "cell_type": "code",
   "execution_count": 11,
   "metadata": {
    "dotnet_interactive": {
     "language": "fsharp"
    },
    "polyglot_notebook": {
     "kernelName": "fsharp"
    },
    "vscode": {
     "languageId": "polyglot-notebook"
    }
   },
   "outputs": [],
   "source": [
    "let createCharts (traitScores: Map<string, Map<string, float>>) = \n",
    "    traitScores\n",
    "    |> Map.fold( fun acc title labelsAndValues ->\n",
    "        let labels,values = \n",
    "            labelsAndValues\n",
    "            |> Map.toList\n",
    "            |> List.unzip\n",
    "\n",
    "        let combinedText = \n",
    "            List.map2 (fun label value -> sprintf \"%s: %.2f\" label value) labels values\n",
    "\n",
    "        let chart = \n",
    "            Chart.Doughnut(values = values, Labels = labels, Hole = 0.5, MultiText = combinedText)\n",
    "            |> Chart.withTitle title\n",
    "            |> Chart.withLayout(\n",
    "                Layout.init(\n",
    "                    Width = 1200,\n",
    "                    Height = 1000\n",
    "                )\n",
    "            )\n",
    "                    \n",
    "        chart :: acc\n",
    "    )[]\n",
    "    |> List.rev\n",
    "\n",
    "let chartRound1 = createCharts roundOneScoredTraits \n",
    "let chartRound2 = createCharts roundTwoScoredTraits"
   ]
  },
  {
   "cell_type": "markdown",
   "metadata": {},
   "source": [
    "### Teddy Bear Club Round 1 Trait Value Scores"
   ]
  },
  {
   "cell_type": "markdown",
   "metadata": {},
   "source": [
    "<img src=\"./assets/charts1/doughnut1.png\" alt=\"Round 1 Doughnut Charts\" width=\"1400\" height=\"800\">\n",
    "<img src=\"./assets/charts1/doughnut2.png\" alt=\"Round 1 Doughnut Charts\" width=\"1400\" height=\"800\">\n",
    "<img src=\"./assets/charts1/doughnut3.png\" alt=\"Round 1 Doughnut Charts\" width=\"1400\" height=\"800\">\n",
    "<img src=\"./assets/charts1/doughnut4.png\" alt=\"Round 1 Doughnut Charts\" width=\"1400\" height=\"800\">"
   ]
  },
  {
   "cell_type": "code",
   "execution_count": null,
   "metadata": {
    "dotnet_interactive": {
     "language": "fsharp"
    },
    "polyglot_notebook": {
     "kernelName": "fsharp"
    },
    "vscode": {
     "languageId": "polyglot-notebook"
    }
   },
   "outputs": [],
   "source": [
    "for chart in chartRound1 do\n",
    "    display(chart |> Chart.withSize(1400,1400))"
   ]
  },
  {
   "cell_type": "markdown",
   "metadata": {},
   "source": [
    "### Teddy Bears Club Round 2 Trait Value Scores"
   ]
  },
  {
   "cell_type": "markdown",
   "metadata": {},
   "source": [
    "<img src=\"./assets/charts2/doughnut1.png\" alt=\"Round 2 Doughnut Charts\" width=\"1400\" height=\"800\">\n",
    "<img src=\"./assets/charts2/doughnut2.png\" alt=\"Round 2 Doughnut Charts\" width=\"1400\" height=\"800\">\n",
    "<img src=\"./assets/charts2/doughnut3.png\" alt=\"Round 2 Doughnut Charts\" width=\"1400\" height=\"800\">\n",
    "<img src=\"./assets/charts2/doughnut4.png\" alt=\"Round 2 Doughnut Charts\" width=\"1400\" height=\"800\">"
   ]
  },
  {
   "cell_type": "code",
   "execution_count": null,
   "metadata": {
    "dotnet_interactive": {
     "language": "fsharp"
    },
    "polyglot_notebook": {
     "kernelName": "fsharp"
    },
    "vscode": {
     "languageId": "polyglot-notebook"
    }
   },
   "outputs": [],
   "source": [
    "for chart in chartRound2 do\n",
    "    display(chart |> Chart.withSize(1400,1400)) "
   ]
  },
  {
   "cell_type": "markdown",
   "metadata": {},
   "source": [
    "### 2.2 Compute Overall Rarity Ranks for Each NFT. \n",
    "This section calculates the total rarity score and rank for each NFT within their respective rounds. The **total rarity score** is determined by summing the scores of all trait values associated with an NFT.\n",
    "\n",
    "$\\text{Total Rarity Score} = \\sum_{i=1}^{7} TraitScore_i$\n",
    "\n",
    "Using the results from this step, a CSV file - [`tbc_ranked_by_rarity.json`](./data/tbc_ranked_by_rarity.csv) - was created to map NFTs to their respective ranks, enabling easier access and computation. This file is referenced in subsequent sections for calculating TEDY token rewards. For more details on generating the CSV, refer to [`rank_nfts_by_rarity.ipynb`](rank_nfts_by_rarity.ipynb).\n",
    "\n",
    "---\n",
    "\n",
    "#### **Function**:\n",
    "1. **`computeNftRank`**: \n",
    "- Computes the rarity rank of NFTs based on their traits and scores.\n",
    "- **Parameters**:\n",
    "    - **`nftList`**: (NFT list): The list of NFTs to rank.\n",
    "    - **`nftTraitScores`**: (Map<string, Map<string, float>>): Trait value scores computed above.\n",
    "\n",
    "---\n",
    "\n",
    "#### **Variables**:\n",
    "**`rankedNftsRoundOne`**: (list) - Stores the ranked Round 1 NFTs, including their `assetName`, `encodedName`, and `rarityScore`.\n",
    "\n",
    "**`rankedNftsRoundTwo`**: (list) - Stores the ranked Round 2 NFTs with the same structure as above.\n"
   ]
  },
  {
   "cell_type": "code",
   "execution_count": 12,
   "metadata": {
    "dotnet_interactive": {
     "language": "fsharp"
    },
    "polyglot_notebook": {
     "kernelName": "fsharp"
    },
    "vscode": {
     "languageId": "polyglot-notebook"
    }
   },
   "outputs": [],
   "source": [
    "let computeNftRank (nftList: list<Nft>) nftTraitScores = \n",
    "    nftList\n",
    "    |> List.map (fun nft ->\n",
    "        let rarityScore =  \n",
    "            [\n",
    "                (\"Background\", nft.Background)\n",
    "                (\"Bear\", nft.Bear)\n",
    "                (\"Clothes\", nft.Clothes)\n",
    "                (\"Face\", nft.Face)\n",
    "                (\"Handheld\", nft.Handheld)\n",
    "                (\"Head\", nft.Head)\n",
    "                (\"Skins\", nft.Skins)\n",
    "            ]\n",
    "            |> List.fold (fun acc (attrName, attrValue) ->  \n",
    "                match Map.tryFind attrName nftTraitScores with\n",
    "                | Some traitMap ->  \n",
    "                    acc + (Map.tryFind attrValue traitMap |> Option.defaultValue 0.0)\n",
    "                | None -> acc \n",
    "            ) 0.0 \n",
    "        (nft.assetName, nft.encodedName, rarityScore) \n",
    "    )\n",
    "    |> List.sortBy (fun (_, _, rarityScore) -> -rarityScore)\n",
    "    |> List.mapi (fun index (assetName, encodedName, rarityScore) -> \n",
    "    (index + 1, assetName, encodedName, rarityScore))"
   ]
  },
  {
   "cell_type": "code",
   "execution_count": 13,
   "metadata": {
    "dotnet_interactive": {
     "language": "fsharp"
    },
    "polyglot_notebook": {
     "kernelName": "fsharp"
    },
    "vscode": {
     "languageId": "polyglot-notebook"
    }
   },
   "outputs": [],
   "source": [
    "let rankedNftsRoundOne = computeNftRank nftsRoundOne roundOneScoredTraits\n",
    "let rankedNftsRoundTwo = computeNftRank nftsRoundTwo roundTwoScoredTraits"
   ]
  },
  {
   "cell_type": "markdown",
   "metadata": {},
   "source": [
    "## **3. NFT Rewards Calculation** \n",
    "Calculating an NFT holder's TEDY rewards involves multiple factors, including the NFTs they own, the round each NFT belongs to, and their respective tiers within those rounds. For Round 2 Teddy Bear Club NFTs, the order of minting is considered as well.\n",
    "\n",
    "Furthermore, the calculation considers the holder's proportional share of unsold NFTs, based on the number of NFTs they hold, the NFTs's round and tier.\n",
    "\n",
    "---\n",
    "### **3.1 Load NFT rank and order data**\n",
    "1. Load NFT rank data from the [`tbc_ranked_by_order.csv`](./data/tbc_ranked_by_rarity.csv) file in the `data` folder. The CSV was created by using the rank computations executed below. For detailed steps or to recreate the file, refer to [`rank_nfts_by_rarity.ipynb`](rank_nfts_by_rarity.ipynb).\n",
    "\n",
    "#### **Type**:\n",
    "- **`NftRecord`**: Represents an individual NFT record from the CSV.\n",
    "\n",
    "#### **Functions**:\n",
    "\n",
    "1. **`parseRankCsv`**:\n",
    "- Parses a CSV file into a list of `NftRecord` entries.\n",
    "- **Parameters**:\n",
    "   - `filePath (string)`: The path to the CSV file.\n",
    "- **Returns**:  \n",
    "   - A `list<NftRecord>` containing records with `Name`, `Subject`, `Rank`, and `Score`.\n",
    "\n",
    "2. **`createSubjectToRankMap`**:\n",
    "- Creates a mapping of `Subject`(Policy ID + Asset Name) to `Rank`.\n",
    "- **Parameters**:\n",
    "   - `records (list<NftRecord>)`: A list of `NftRecord` entries.\n",
    "- **Returns**:  \n",
    "   - A `Map<string, int>` mapping `Subject` to `Rank`.\n",
    "\n",
    "3. **`createNameToRankMap`**:\n",
    "- Creates a mapping of `Name` (i.e. TeddyBearsClub178) to `Rank`.\n",
    "- **Parameters**:\n",
    "   - `records (list<NftRecord>)`: A list of `NftRecord` entries.\n",
    "- **Returns**:  \n",
    "   - A `Map<string, int>` mapping `Name` to `Rank`.\n",
    "\n",
    "---\n",
    "\n",
    "#### **Variables**:\n",
    "\n",
    "1. **`rankCsvPath`**: `(string)` - The file path to the CSV file containing NFT rank data.\n",
    "\n",
    "2. **`rankedNftDataList`**: `(list<NftRecord>)` - A list of parsed `NftRecord` entries from the CSV file.\n",
    "\n",
    "3. **`subjectRankData`**: `(Map<string, int>)` - A mapping of `Subject` to `Rank` created using `createSubjectToRankMap`.\n",
    "\n",
    "4. **`nameRankData`**: `(Map<string, int>)` - A mapping of `Name` to `Rank` created using `createNameToRankMap`.\n"
   ]
  },
  {
   "cell_type": "code",
   "execution_count": 14,
   "metadata": {
    "dotnet_interactive": {
     "language": "fsharp"
    },
    "polyglot_notebook": {
     "kernelName": "fsharp"
    },
    "vscode": {
     "languageId": "polyglot-notebook"
    }
   },
   "outputs": [],
   "source": [
    "type NftRecord = {\n",
    "    Name: string\n",
    "    Subject: string\n",
    "    Rank: int\n",
    "    Score: float\n",
    "}"
   ]
  },
  {
   "cell_type": "code",
   "execution_count": 15,
   "metadata": {
    "dotnet_interactive": {
     "language": "fsharp"
    },
    "polyglot_notebook": {
     "kernelName": "fsharp"
    },
    "vscode": {
     "languageId": "polyglot-notebook"
    }
   },
   "outputs": [],
   "source": [
    " let parseRankCsv (filePath: string) =\n",
    "    File.ReadAllLines(filePath)\n",
    "    |> Array.skip 1\n",
    "    |> Array.map (fun line ->\n",
    "        let parts = line.Split(',')\n",
    "        {\n",
    "            Name = parts.[0]\n",
    "            Subject = parts.[1]\n",
    "            Rank = int parts.[2]\n",
    "            Score = float parts.[3]\n",
    "        }\n",
    "    )\n",
    "    |> List.ofArray\n"
   ]
  },
  {
   "cell_type": "code",
   "execution_count": 16,
   "metadata": {
    "dotnet_interactive": {
     "language": "fsharp"
    },
    "polyglot_notebook": {
     "kernelName": "fsharp"
    },
    "vscode": {
     "languageId": "polyglot-notebook"
    }
   },
   "outputs": [],
   "source": [
    "let createSubjectToRankMap (records: NftRecord list) =\n",
    "    records\n",
    "    |> List.map (fun record -> record.Subject, record.Rank)\n",
    "    |> Map.ofList\n",
    "\n",
    "let createNameToRankMap (records: NftRecord list) =\n",
    "    records\n",
    "    |> List.map (fun record -> record.Name, record.Rank)\n",
    "    |> Map.ofList"
   ]
  },
  {
   "cell_type": "code",
   "execution_count": 17,
   "metadata": {
    "dotnet_interactive": {
     "language": "fsharp"
    },
    "polyglot_notebook": {
     "kernelName": "fsharp"
    },
    "vscode": {
     "languageId": "polyglot-notebook"
    }
   },
   "outputs": [],
   "source": [
    "let rankCsvPath = \"./data/tbc_ranked_by_rarity.csv\"\n",
    "let rankedNftDataList = parseRankCsv rankCsvPath\n",
    "let subjectRankData = createSubjectToRankMap rankedNftDataList \n",
    "let nameRankData = createNameToRankMap rankedNftDataList  "
   ]
  },
  {
   "cell_type": "markdown",
   "metadata": {},
   "source": [
    "---\n",
    "\n",
    "2. Load NFT order data from the [`tbc_ranked_by_order.csv`](./data/tbc_ranked_by_order.csv) file in the `data` folder. The CSV was created by using the [CardanoScan API](https://docs.cardanoscan.io/). For detailed steps or to recreate the file, refer to [`query_assets_by_policy.ipynb`](query_assets_by_policy.ipynb.ipynb).\n",
    "\n",
    "#### **Type**:\n",
    "- **`OrderedNft`**: Represents an individual NFT record from the CSV.\n",
    "\n",
    "#### **Functions**:\n",
    "\n",
    "1. **`parseOrderCsv`**:\n",
    "- Parses a CSV file into a list of `OrderedNft` entries.\n",
    "- **Parameters**:\n",
    "   - `filePath (string)`: The path to the CSV file.\n",
    "- **Returns**:  \n",
    "   - A `list<OrderedNft>` containing records with `Name`, `Subject`, `Rank`, and `Score`.\n",
    "\n",
    "2. **`createSubjectToOrderMap`**:\n",
    "- Creates a mapping of `Subject`(Policy ID + Asset Name) to `Order`.\n",
    "- **Parameters**:\n",
    "   - `records (list<OrderedNft>)`: A list of `OrderedNft` entries.\n",
    "- **Returns**:  \n",
    "   - A `Map<string, int>` mapping `Subject` to `Order`.\n",
    "\n",
    "---\n",
    "\n",
    "#### **Variables**:\n",
    "\n",
    "1. **`orderCsvPath`**: `(string)` - The file path to the CSV file containing NFT order data.\n",
    "\n",
    "2. **`nftOrderList`**: `(list<NFTRecord>)` - A list of parsed `OrderedNft` entries from the CSV file.\n",
    "\n",
    "3. **`subjectOrderData`**: `(Map<string, int>)` - A mapping of `Subject` to `Order` created using `createSubjectToOrderMap`."
   ]
  },
  {
   "cell_type": "code",
   "execution_count": 18,
   "metadata": {
    "dotnet_interactive": {
     "language": "fsharp"
    },
    "polyglot_notebook": {
     "kernelName": "fsharp"
    },
    "vscode": {
     "languageId": "polyglot-notebook"
    }
   },
   "outputs": [],
   "source": [
    "type OrderedNft = {\n",
    "    AssetId: string\n",
    "    Order: int\n",
    "}"
   ]
  },
  {
   "cell_type": "code",
   "execution_count": 19,
   "metadata": {
    "dotnet_interactive": {
     "language": "fsharp"
    },
    "polyglot_notebook": {
     "kernelName": "fsharp"
    },
    "vscode": {
     "languageId": "polyglot-notebook"
    }
   },
   "outputs": [],
   "source": [
    "let parseOrderCsv (filePath: string) =\n",
    "    File.ReadAllLines(filePath)\n",
    "    |> Array.skip 1\n",
    "    |> Array.map (fun line ->\n",
    "        let parts = line.Split(',')\n",
    "        {\n",
    "            AssetId = parts.[0]\n",
    "            Order = int parts.[1]\n",
    "        }\n",
    "    )\n",
    "    |> List.ofArray"
   ]
  },
  {
   "cell_type": "code",
   "execution_count": 20,
   "metadata": {
    "dotnet_interactive": {
     "language": "fsharp"
    },
    "polyglot_notebook": {
     "kernelName": "fsharp"
    },
    "vscode": {
     "languageId": "polyglot-notebook"
    }
   },
   "outputs": [],
   "source": [
    "let createSubjectToOrderMap (records: OrderedNft list) =\n",
    "    records\n",
    "    |> List.map (fun record -> record.AssetId, record.Order)\n",
    "    |> Map.ofList"
   ]
  },
  {
   "cell_type": "code",
   "execution_count": 21,
   "metadata": {
    "dotnet_interactive": {
     "language": "fsharp"
    },
    "polyglot_notebook": {
     "kernelName": "fsharp"
    },
    "vscode": {
     "languageId": "polyglot-notebook"
    }
   },
   "outputs": [],
   "source": [
    "let orderCsvPath = \"./data/tbc_ranked_by_order.csv\"\n",
    "let nftOrderList = parseOrderCsv orderCsvPath\n",
    "let subjectOrderData = createSubjectToOrderMap nftOrderList"
   ]
  },
  {
   "cell_type": "markdown",
   "metadata": {},
   "source": [
    "### **3.2 Identify a Subject's Tier**\n",
    "This section determines the tier of an NFT based on its policy Id (indicating the round) and its rarity rank. The tier determines the base TEDY rewards allocated to the NFT.\n",
    "\n",
    "#### **Functions**:\n",
    "1. **`calculateRewardByTier`**:\n",
    "- Categorizes an NFT into a tier based on its rank and round (indicated by `tiers`).\n",
    "- **Parameters**:\n",
    "  - `rank` (int): The rarity rank of the NFT.\n",
    "  - `subject` ((int * int) list): A list of tier thresholds and their associated rewards.\n",
    "- **Returns**:\n",
    "  -(int): The reward corresponding to the NFT’s tier.\n",
    "\n",
    "2. **`computeBaseReward`**:\n",
    "- Determines the base TEDY rewards for a given NFT based on its round and tier.\n",
    "- Calls `calculateRewardByTier` with either `roundOneTiers` or `roundTwoTiers` based on the NFT's policy ID.\n",
    "- **Parameters**:\n",
    "  - `subject` (string): The unique identifier of the NFT.\n",
    "  - `rankData` (Map<string, int>): A mapping of subjects to their rank.\n",
    "- **Returns**:\n",
    "  - (int): The base rewards allocated to the given subject.\n",
    "---\n",
    "\n",
    "#### **Variables**:\n",
    " **`roundOnePolicyId`**: (string) - the unique policy ID for identifying NFTs from Round 1.\n",
    "\n",
    " **`roundTwoPolicyId`**: (string) - the unique policy ID for identifying NFTs from Round 2.\n",
    "\n",
    "**`roundOneTiers`**: ((int * int) list) - A list of thresholds and rewards for Round 1 tiers.\n",
    "\n",
    "**`roundTwoTiers`**: ((int * int) list) - A list of thresholds and rewards for Round 2 tiers."
   ]
  },
  {
   "cell_type": "code",
   "execution_count": 22,
   "metadata": {
    "dotnet_interactive": {
     "language": "fsharp"
    },
    "polyglot_notebook": {
     "kernelName": "fsharp"
    },
    "vscode": {
     "languageId": "polyglot-notebook"
    }
   },
   "outputs": [],
   "source": [
    "let roundOnePolicyId = \"ab182ed76b669b49ee54a37dee0d0064ad4208a859cc4fdf3f906d87\"\n",
    "let roundTwoPolicyId = \"da3562fad43b7759f679970fb4e0ec07ab5bebe5c703043acda07a3c\""
   ]
  },
  {
   "cell_type": "code",
   "execution_count": 23,
   "metadata": {
    "dotnet_interactive": {
     "language": "fsharp"
    },
    "polyglot_notebook": {
     "kernelName": "fsharp"
    },
    "vscode": {
     "languageId": "polyglot-notebook"
    }
   },
   "outputs": [],
   "source": [
    "let calculateRewardByTier (rank: int) (tiers: (int * int) list) =\n",
    "    match tiers |> List.tryFind (fun (threshold, _) -> rank <= threshold) with\n",
    "    | Some (_, reward) -> reward\n",
    "    | None -> 0"
   ]
  },
  {
   "cell_type": "code",
   "execution_count": 24,
   "metadata": {
    "dotnet_interactive": {
     "language": "fsharp"
    },
    "polyglot_notebook": {
     "kernelName": "fsharp"
    },
    "vscode": {
     "languageId": "polyglot-notebook"
    }
   },
   "outputs": [],
   "source": [
    "let roundOneTiers = [ (15, 38000); (100, 19250); (250, 13860); (500, 12320); (804, 11550) ]\n",
    "let roundTwoTiers = [ (23, 7000); (221, 6000); (664, 5000); (1327, 4500); (2035, 4200) ]"
   ]
  },
  {
   "cell_type": "code",
   "execution_count": 25,
   "metadata": {
    "dotnet_interactive": {
     "language": "fsharp"
    },
    "polyglot_notebook": {
     "kernelName": "fsharp"
    },
    "vscode": {
     "languageId": "polyglot-notebook"
    }
   },
   "outputs": [],
   "source": [
    "let computeBaseReward (subject: string) (rankData: Map<string, int>) =\n",
    "    let rank = rankData[subject]\n",
    "    if subject.Contains(roundOnePolicyId) then\n",
    "        calculateRewardByTier rank roundOneTiers\n",
    "    elif subject.Contains(roundTwoPolicyId) then\n",
    "        calculateRewardByTier rank roundTwoTiers\n",
    "    else\n",
    "        printfn \"Unknown NFT policyId for %s\" subject\n",
    "        0"
   ]
  },
  {
   "cell_type": "markdown",
   "metadata": {},
   "source": [
    "### 3.3 **Identify a Round Two NFT's Minted Order Tier**\n",
    "\n",
    "This section determines the TEDY bonus allocated to Round 2 Teddy Bear Club NFTs for the [Teddy Bear Surprise](https://medium.com/@TeddySwapDEX/1st-teddy-bear-surprise-945ed9e7405a). For a detailed explanation of the Order Tiers and corresponding TEDY, you may refer to 1.2 - NFT Information above.\n",
    "\n",
    "---\n",
    "#### **Function**:\n",
    "1. **`computeRoundTwoSurpriseTedy`**:\n",
    "- Categorizes an NFT into a tier based on the order of minting.\n",
    "- **Parameters**:\n",
    "  - `subject` (string): The subject - Policy ID + Asset Name.\n",
    "  - `orderedData` (Map<string,int>): A map of subjects and their order of minting.\n",
    "- **Returns**:\n",
    "  -(int): The reward corresponding to the NFT’s tier."
   ]
  },
  {
   "cell_type": "code",
   "execution_count": 26,
   "metadata": {
    "dotnet_interactive": {
     "language": "fsharp"
    },
    "polyglot_notebook": {
     "kernelName": "fsharp"
    },
    "vscode": {
     "languageId": "polyglot-notebook"
    }
   },
   "outputs": [],
   "source": [
    "let computeRoundTwoSurpriseTedy (subject: string) (orderedData: Map<string,int>) = \n",
    "    let order = orderedData[subject]\n",
    "    if order <= 1250 then\n",
    "        19133\n",
    "    elif order <= 1400 then\n",
    "        18133\n",
    "    elif order < 1600 then\n",
    "        16800\n",
    "    elif order = 1600 then\n",
    "        8400\n",
    "    elif order < 1800 then\n",
    "        6400\n",
    "    elif order = 1800 then\n",
    "        8400\n",
    "    elif order <= 1880 then \n",
    "        6000\n",
    "    elif order <= 2000 then \n",
    "        8000\n",
    "    else\n",
    "        4000"
   ]
  },
  {
   "cell_type": "markdown",
   "metadata": {},
   "source": [
    "### Computing an NFT's Rank and Reward with Alice’s Teddy Bear\n",
    "\n",
    "Now that we've built the tools to calculate NFT rankings and determine TEDY rewards, let’s bring these functions to life with a practical example.\n",
    "\n",
    "Meet Alice, a proud owner of a unique NFT: Teddy Bears Club #5731. Naturally, Alice is curious to find out the rank and TEDY rewards allocated to her her beloved Teddy Bear. Using the tools and functions we’ve developed, we can help Alice uncover this information.\n",
    "\n",
    "Later on, we will also calculate for the total TEDY tokens Alice can receive. Let’s dive in!"
   ]
  },
  {
   "cell_type": "markdown",
   "metadata": {},
   "source": [
    "<img src=\"./assets/teddy5731.png\" alt=\"Teddy Bears Club #5731\" width=\"400\" height=\"400\"/>\n",
    "\n",
    "Let’s start by identifying Alice’s NFT in the system. Alice provides her NFT's subject identifier:\n"
   ]
  },
  {
   "cell_type": "code",
   "execution_count": 27,
   "metadata": {
    "dotnet_interactive": {
     "language": "fsharp"
    },
    "polyglot_notebook": {
     "kernelName": "fsharp"
    },
    "vscode": {
     "languageId": "polyglot-notebook"
    }
   },
   "outputs": [],
   "source": [
    "let aliceNft = \"ab182ed76b669b49ee54a37dee0d0064ad4208a859cc4fdf3f906d8754656464794265617273436c756235373331\""
   ]
  },
  {
   "cell_type": "markdown",
   "metadata": {},
   "source": [
    "We can then use the `computeBaseRewards` function to determine the NFT's tier and TEDY rewards. Here’s how we process Alice’s NFT:"
   ]
  },
  {
   "cell_type": "code",
   "execution_count": 28,
   "metadata": {
    "dotnet_interactive": {
     "language": "fsharp"
    },
    "polyglot_notebook": {
     "kernelName": "fsharp"
    },
    "vscode": {
     "languageId": "polyglot-notebook"
    }
   },
   "outputs": [],
   "source": [
    "let aliceBaseReward =  computeBaseReward aliceNft subjectRankData"
   ]
  },
  {
   "cell_type": "code",
   "execution_count": 29,
   "metadata": {
    "dotnet_interactive": {
     "language": "fsharp"
    },
    "polyglot_notebook": {
     "kernelName": "fsharp"
    },
    "vscode": {
     "languageId": "polyglot-notebook"
    }
   },
   "outputs": [
    {
     "name": "stdout",
     "output_type": "stream",
     "text": [
      "Alice's Asset: ab182ed76b669b49ee54a37dee0d0064ad4208a859cc4fdf3f906d8754656464794265617273436c756235373331\n",
      "Asset's Rank: 162\n",
      "Asset's Reward: 13,860 TEDY\n"
     ]
    }
   ],
   "source": [
    "printfn \"Alice's Asset: %s\" aliceNft\n",
    "printfn \"Asset's Rank: %d\" subjectRankData[aliceNft]\n",
    "printfn \"Asset's Reward: %s TEDY\" (System.String.Format(\"{0:N0}\", aliceBaseReward))"
   ]
  },
  {
   "cell_type": "markdown",
   "metadata": {},
   "source": [
    "As #5731 is a Round 1 NFT, it is not eligible for the Teddy Bear Surprise. However, Alice's friend Bob does have a Round 2 NFT: Teddy Bear Club #5417.\n",
    "\n",
    "<img src=\"./assets/teddy5417.png\" alt=\"Teddy Bears Club #5417\" width=\"400\" height=\"400\"/>\n",
    "\n",
    "Let's see determine #5417's NFT Rank and Order, and the corresponding rewards it is allocated."
   ]
  },
  {
   "cell_type": "code",
   "execution_count": 30,
   "metadata": {
    "dotnet_interactive": {
     "language": "fsharp"
    },
    "polyglot_notebook": {
     "kernelName": "fsharp"
    },
    "vscode": {
     "languageId": "polyglot-notebook"
    }
   },
   "outputs": [],
   "source": [
    "let bobNft = \"da3562fad43b7759f679970fb4e0ec07ab5bebe5c703043acda07a3c54656464794265617273436c756235343137\""
   ]
  },
  {
   "cell_type": "code",
   "execution_count": 32,
   "metadata": {
    "dotnet_interactive": {
     "language": "fsharp"
    },
    "polyglot_notebook": {
     "kernelName": "fsharp"
    },
    "vscode": {
     "languageId": "polyglot-notebook"
    }
   },
   "outputs": [],
   "source": [
    "let rankReward =  computeBaseReward bobNft subjectRankData\n",
    "let surpriseReward = computeRoundTwoSurpriseTedy bobNft subjectOrderData\n",
    "let bobBaseReward = rankReward + surpriseReward"
   ]
  },
  {
   "cell_type": "code",
   "execution_count": 33,
   "metadata": {
    "dotnet_interactive": {
     "language": "fsharp"
    },
    "polyglot_notebook": {
     "kernelName": "fsharp"
    },
    "vscode": {
     "languageId": "polyglot-notebook"
    }
   },
   "outputs": [
    {
     "name": "stdout",
     "output_type": "stream",
     "text": [
      "Bob's Asset: da3562fad43b7759f679970fb4e0ec07ab5bebe5c703043acda07a3c54656464794265617273436c756235343137\n",
      "Asset's Rank: 1865\n",
      "Asset's Order: 239\n",
      "Asset's Rank Reward: 4,200 TEDY\n",
      "Asset's Order Reward: 19,133 TEDY\n",
      "Asset's Reward: 23,333 TEDY\n"
     ]
    }
   ],
   "source": [
    "printfn \"Bob's Asset: %s\" bobNft\n",
    "printfn \"Asset's Rank: %d\" subjectRankData[bobNft]\n",
    "printfn \"Asset's Order: %d\" subjectOrderData[bobNft]\n",
    "printfn \"Asset's Rank Reward: %s TEDY\" (System.String.Format(\"{0:N0}\", rankReward))\n",
    "printfn \"Asset's Order Reward: %s TEDY\" (System.String.Format(\"{0:N0}\", surpriseReward))\n",
    "printfn \"Asset's Reward: %s TEDY\" (System.String.Format(\"{0:N0}\", bobBaseReward))"
   ]
  },
  {
   "cell_type": "markdown",
   "metadata": {},
   "source": [
    "### **3.4 Calculate Portion of TEDY Rewards from Surplus TEDY**\n",
    "\n",
    "In the [initial Round 2 announcements](https://medium.com/@TeddySwapDEX/teddy-bears-club-round-2-c209556b379f), surplus rewards were intended to be proportional to the number of NFTs owned. However, the large quantity of remaining tokens diminished the ranking system's impact. To address this, the Swyp Team introduced a tier-based system where TEDY rewards are allocated based on the rarity ranking of NFTs. The surplus tiers follow the rarity scheme described in section 1.2 - NFT Information. Following the original announcement, Round 1 Teddy Bear Club NFTs receive a bonus of 2.75 in consideration of the higher minting cost.\n",
    "\n",
    "This section explains the formula used in this new calculation.\n",
    "\n",
    "The **Round 1 TEDY Allocation** formula calculates the TEDY allocation for each Round 1 NFT by applying the Round 1 Bonus (2.75x).\n",
    "\n",
    "$\\text{Round 1 TEDY Allocation} = \\text{Round 2 TEDY Allocation} * \\text{Round 1 Bonus}$\n",
    "\n",
    "The **Round 2 TEDY Allocation** formula calculates the TEDY allocation for each Round 2 NFT based on the proportion of available token rewards allocated to its tier.\n",
    "\n",
    "$\\text{Round 2 TEDY Allocation} = \\frac{\\text{Percentage} * \\text{Available Token Rewards}}{\\text{Round 1 NFTs Sold} * \\text{Round 1 Bonus} + \\text{Round 2 NFTs Sold}}$\n",
    "\n",
    "\n",
    "| **Tier** | **Percentage** | **Round 1 TEDY** | **Round 2 TEDY** |\n",
    "|----------|----------------|------------------|------------------|\n",
    "| Tier 1   | 10%            | 654,932          | 238,157          |\n",
    "| Tier 2   | 15%            | 146,196          | 53,162           |\n",
    "| Tier 3   | 20%            | 98,376           | 35,773           |\n",
    "| Tier 4   | 27%            | 84,128           | 30,592           |\n",
    "| Tier 5   | 28%            | 76,310           | 27,749           |\n",
    "\n",
    "\n",
    "Where:\n",
    "\n",
    "- **Total INO TEDY Allocation:**  \n",
    "  The total amount of TEDY designated for Initial NFT Offering (INO) rewards based on the [initial tokenomics](https://medium.com/@TeddySwapDEX/teddyswap-tokenomics-fcd700aea552).  \n",
    "  $\\text{Total INO TEDY Allocation} = 5,000,000,000 \\times 4.5\\% = 225,000,000 \\text{ TEDY}$\n",
    "  \n",
    "- **Round 1 Bonus:**  \n",
    "  The bonus multiplier applied to NFTs sold in Round 1.  \n",
    " $\\text{Round 1 Bonus} = 2.75$\n",
    "\n",
    "- **Round 1 NFTs Sold:**  \n",
    "  The total number of NFTs sold in Round 1.  \n",
    "  $\\text{Round 1 NFTs Sold} = 804$\n",
    "\n",
    "- **Round 2 NFTs Sold:**  \n",
    "  The total number of NFTs sold in Round 2.  \n",
    "  $\\text{Round 2 NFTs Sold} = 2,035$\n",
    "\n",
    "- $\\text{Tier Tokens}_i$:  \n",
    "  The number of TEDY tokens allocated per NFT in Tier \\(i\\).\n",
    "\n",
    "- $\\text{Count of Tier}_i$:\n",
    "  The number of NFTs in Tier \\(i\\).\n",
    "\n",
    "#### **Calculations**\n",
    "\n",
    "1. **Calculate Distributed Tokens:**\n",
    "\n",
    "   Determine the total TEDY tokens already distributed based on the tiers of NFTs sold in both rounds.\n",
    "\n",
    "   $\\text{Distributed Tokens} = $\n",
    "   <br>$\\sum_{i=1}^{5} (\\text{Round 1 Tier Tokens}_i * \\text{Count of Tier}_i) * 2.75 +$ \n",
    "   <br>$\\sum_{i=1}^{5} (\\text{Round 2 Tier Tokens}_i * \\text{Count of Tier}_i) + $\n",
    "   <br>$\\sum_{i=1}^{9} (\\text{Round 2 MintOrdered Tier Tokens}_i * \\text{Count of MintOrdered Tier}_i)$\n",
    "\n",
    "2. **Determine Available Token Rewards:**\n",
    "\n",
    "   Calculate the remaining TEDY tokens available for surplus distribution by subtracting the distributed tokens from the total INO TEDY allocation.\n",
    "\n",
    "   $\\text{Available Token Rewards} = \\text{Total INO TEDY Allocation} - \\text{Distributed Tokens}$\n",
    "\n",
    "3. **Compute TEDY Surplus per NFT According to Tier:**\n",
    "\n",
    "   The additional TEDY reward allocated per NFT is calculated by multiplying the allocated percentage for the tier by the available token rewards, then dividing it by the total number of NFTs in that tier. This is multiplied by the Round 1 Bonus for Round 1 NFTs.\n",
    "\n",
    "   $\\text{TEDY Surplus per NFT by Tier} = \\frac{\\text{Percentage} * \\text{Available Token Rewards}}{\\text{Round 1 NFTs Sold} * \\text{Round 1 Bonus} + \\text{Round 2 NFTs Sold}}$\n",
    "\n",
    "---\n",
    "\n",
    "#### **Functions**:\n",
    "1. **`calculateSurplusTedyPerNft`**:\n",
    "- Computes the additional TEDY rewards allocated per NFT for each tier, based on the available token rewards, tier allocation percentages, total number of NFTs in each tier, and Round 1 Bonus.\n",
    "- **Parameters**:\n",
    "   - `availableTokenRewards` (float) - The total amount of TEDY rewards available for surplus distribution.\n",
    "- **Returns**:\n",
    "   - (int list) - A list of TEDY surplus rewards per NFT for each tier, rounded up to the nearest whole number.\n",
    "\n",
    "---\n",
    "\n",
    "#### **Variables**:\n",
    "**`roundOneBonus`**: (float) - represents the bonus multiplier applied to Round 1 NFTs.\n",
    "\n",
    "**`roundOneNFTsSold`**: (int) - represents the total NFTs minted for Round 1.\n",
    "\n",
    "**`roundTwoNFTsSold`**: (int) - represents the total NFTs minted for Round 2.\n",
    "<br>\n",
    "\n",
    "**`roundOneTierOne`, `roundOneTierTwo`, `roundOneTierThree`, `roundOneTierFour`, `roundOneTierFive`**:\n",
    "   - Tokens allocated per NFT for each tier in Round 1:\n",
    "     - **roundOneTierOne**: `30,800`\n",
    "     - **roundOneTierTwo**: `19,250`\n",
    "     - **roundOneTierThree**: `13,860`\n",
    "     - **roundOneTierFour**: `12,320`\n",
    "     - **roundOneTierFour**: `11,550`\n",
    "\n",
    "**`roundTwoTierOne`, `roundTwoTierTwo`, `roundTwoTierThree`, `roundTwoTierFour`, `roundTwoTierFive`**:\n",
    "   - Tokens allocated per NFT for each tier in Round 2:\n",
    "     - **roundTwoTierOne**: `7,000`\n",
    "     - **roundTwoTierTwo**: `6,000`\n",
    "     - **roundTwoTierThree**: `5,000`\n",
    "     - **roundTwoTierFour**: `4,500`\n",
    "     - **roundTwoTierFive**: `4,200`\n",
    "\n",
    "**`roundOneCountOfTierOne`, `roundOneCountOfTierTwo`, `roundOneCountOfTierThree`, `roundOneCountOfTierFour`, `roundOneCountOfTierFive`**:\n",
    "   - The number of NFTs held in each tier:\n",
    "     - **roundOneCountOfTierOne**: `15`\n",
    "     - **roundOneCountOfTierTwo**: `85`\n",
    "     - **roundOneCountOfTierThree**: `150`\n",
    "     - **roundOneCountOfTierFour**: `250`\n",
    "     - **roundOneCountOfTierFive**: `304`\n",
    "\n",
    "**`roundTwoCountOfTierOne`, `roundTwoCountOfTierTwo`, `roundTwoCountOfTierThree`, `roundTwoCountOfTierFour`, `roundTwoCountOfTierFive`**:\n",
    "   - The number of NFTs held in each tier:\n",
    "     - **roundTwoCountOfTierOne**: `23`\n",
    "     - **roundTwoCountOfTierTwo**: `198`\n",
    "     - **roundTwoCountOfTierThree**: `443`\n",
    "     - **roundTwoCountOfTierFour**: `663`\n",
    "     - **roundTwoCountOfTierFive**: `708`\n",
    "\n",
    "**`roundTwoOrderedTierOne`, `roundTwoOrderedTierTwo`, `roundTwoOrderedTierThree`, `roundTwoOrderedTierFour`, `roundTwoOrderedTierFive`, `roundTwoOrderedTierSix`, `roundTwoOrderedTierSeven`, `roundTwoOrderedTierEight`, `roundTwoOrderedTierNine`**:\n",
    "   - Tokens allocated per NFT for each order tier in Round 2's Teddy Bear Surprise:\n",
    "     - **roundTwoOrderedTierOne**: `19,133`\n",
    "     - **roundTwoOrderedTierTwo**: `18,133`\n",
    "     - **roundTwoOrderedTierThree**: `16,800`\n",
    "     - **roundTwoOrderedTierFour**: `8,400`\n",
    "     - **roundTwoOrderedTierFive**: `6,400`\n",
    "     - **roundTwoOrderedTierSix**: `8,400`\n",
    "     - **roundTwoOrderedTierSeven**: `6,000`\n",
    "     - **roundTwoOrderedTierEight**: `8,000`\n",
    "     - **roundTwoOrderedTierNine**: `4,000`\n",
    "\n",
    "**`roundTwoOrderedCountOfTierOne`, `roundTwoOrderedCountOfTierTwo`, `roundTwoOrderedCountOfTierThree`, `roundTwoOrderedCountOfTierFour`, `roundTwoOrderedCountOfTierFive`, `roundTwoOrderedCountOfTierSix`, `roundTwoOrderedCountOfTierSeven`, `roundTwoOrderedCountOfTierEight`, `roundTwoOrderedCountOfTierNine`**:\n",
    "   - The number of NFTs held in each order tier for Round 2's Teddy Bear Surprise:\n",
    "     - **roundTwoOrderedCountOfTierOne**: `1,250`\n",
    "     - **roundTwoOrderedCountOfTierTwo**: `150`\n",
    "     - **roundTwoOrderedCountOfTierThree**: `199`\n",
    "     - **roundTwoOrderedCountOfTierFour**: `1`\n",
    "     - **roundTwoOrderedCountOfTierFive**: `199`\n",
    "     - **roundTwoOrderedCountOfTierSix**: `1`\n",
    "     - **roundTwoOrderedCountOfTierSeven**: `80`\n",
    "     - **roundTwoOrderedCountOfTierEight**: `120`\n",
    "     - **roundTwoOrderedCountOfTierNine**: `35`\n",
    "\n",
    "**`distributedTokens`**: (int) - The total tokens distributed across all both rounds.\n",
    "\n",
    "**`availableTokenRewards`**: (int) - The remaining TEDY tokens available for INO rewards after distribution.\n",
    "\n",
    "**`surplusTierReward`**: (list<int>) - The calculated TEDY surplus reward per NFT for each tier, computed using the `calculateSurplusRewardsPerTier` function.\n",
    "\n",
    "**`roundOneSurplusRewardsTierReward`** - (list<int>)\n"
   ]
  },
  {
   "cell_type": "code",
   "execution_count": 34,
   "metadata": {
    "dotnet_interactive": {
     "language": "fsharp"
    },
    "polyglot_notebook": {
     "kernelName": "fsharp"
    },
    "vscode": {
     "languageId": "polyglot-notebook"
    }
   },
   "outputs": [],
   "source": [
    "let roundOneBonus = 2.75\n",
    "let roundOneNFTsSold = 804.0\n",
    "let roundTwoNftsSold = 2035.0"
   ]
  },
  {
   "cell_type": "code",
   "execution_count": 35,
   "metadata": {
    "dotnet_interactive": {
     "language": "fsharp"
    },
    "polyglot_notebook": {
     "kernelName": "fsharp"
    },
    "vscode": {
     "languageId": "polyglot-notebook"
    }
   },
   "outputs": [],
   "source": [
    "let roundOneTierOne = 30800.0\n",
    "let roundOneTierTwo = 19250.0\n",
    "let roundOneTierThree = 13860.0\n",
    "let roundOneTierFour = 12320.0\n",
    "let roundOneTierFive = 11550.0\n",
    "\n",
    "let roundOneCountOfTierOne = 15.0\n",
    "let roundOneCountOfTierTwo = 85.0\n",
    "let roundOneCountOfTierThree = 150.0\n",
    "let roundOneCountOfTierFour = 250.0\n",
    "let roundOneCountOfTierFive = 304.0\n",
    "\n",
    "let roundTwoTierOne = 7000.0\n",
    "let roundTwoTierTwo = 6000.0\n",
    "let roundTwoTierThree = 5000.0\n",
    "let roundTwoTierFour = 4500.0\n",
    "let roundTwoTierFive = 4200.0\n",
    "\n",
    "let roundTwoCountOfTierOne = 23.0\n",
    "let roundTwoCountOfTierTwo = 198.0\n",
    "let roundTwoCountOfTierThree = 443.0\n",
    "let roundTwoCountOfTierFour = 663.0\n",
    "let roundTwoCountOfTierFive = 708.0\n",
    "\n",
    "let roundTwoOrderedTierOne = 19133.0\n",
    "let roundTwoOrderedTierTwo = 18133.0\n",
    "let roundTwoOrderedTierThree = 16800.0\n",
    "let roundTwoOrderedTierFour = 8400.0\n",
    "let roundTwoOrderedTierFive = 6400.0\n",
    "let roundTwoOrderedTierSix = 8400.0\n",
    "let roundTwoOrderedTierSeven = 6000.0\n",
    "let roundTwoOrderedTierEight = 8000.0\n",
    "let roundTwoOrderedTierNine = 4000.0\n",
    "\n",
    "let roundTwoOrderedCountOfTierOne = 1250.0\n",
    "let roundTwoOrderedCountOfTierTwo = 150.0\n",
    "let roundTwoOrderedCountOfTierThree = 199.0\n",
    "let roundTwoOrderedCountOfTierFour = 1.0\n",
    "let roundTwoOrderedCountOfTierFive = 199.0\n",
    "let roundTwoOrderedCountOfTierSix = 1.0\n",
    "let roundTwoOrderedCountOfTierSeven = 80.0\n",
    "let roundTwoOrderedCountOfTierEight = 120.0\n",
    "let roundTwoOrderedCountOfTierNine = 35.0\n",
    "\n",
    "let totalTokenRewards = 225000000"
   ]
  },
  {
   "cell_type": "code",
   "execution_count": 37,
   "metadata": {
    "dotnet_interactive": {
     "language": "fsharp"
    },
    "polyglot_notebook": {
     "kernelName": "fsharp"
    },
    "vscode": {
     "languageId": "polyglot-notebook"
    }
   },
   "outputs": [],
   "source": [
    "let roundOneCounts = [| roundOneCountOfTierOne; roundOneCountOfTierTwo; roundOneCountOfTierThree; roundOneCountOfTierFour; roundOneCountOfTierFive |]\n",
    "let roundOneTiers = [| roundOneTierOne; roundOneTierTwo; roundOneTierThree; roundOneTierFour; roundOneTierFive |]\n",
    "let roundTwoCounts = [| roundTwoCountOfTierOne; roundTwoCountOfTierTwo; roundTwoCountOfTierThree; roundTwoCountOfTierFour; roundTwoCountOfTierFive |]\n",
    "let roundTwoTiers = [| roundTwoTierOne; roundTwoTierTwo; roundTwoTierThree; roundTwoTierFour; roundTwoTierFive |]\n",
    "let roundTwoOrderedTiers = [| \n",
    "    roundTwoOrderedTierOne; \n",
    "    roundTwoOrderedTierTwo; \n",
    "    roundTwoOrderedTierThree; \n",
    "    roundTwoOrderedTierFour; \n",
    "    roundTwoOrderedTierFive; \n",
    "    roundTwoOrderedTierSix; \n",
    "    roundTwoOrderedTierSeven; \n",
    "    roundTwoOrderedTierEight; \n",
    "    roundTwoOrderedTierNine \n",
    "|]\n",
    "\n",
    "let roundTwoOrderedCounts = [| \n",
    "    roundTwoOrderedCountOfTierOne; \n",
    "    roundTwoOrderedCountOfTierTwo; \n",
    "    roundTwoOrderedCountOfTierThree; \n",
    "    roundTwoOrderedCountOfTierFour; \n",
    "    roundTwoOrderedCountOfTierFive; \n",
    "    roundTwoOrderedCountOfTierSix; \n",
    "    roundTwoOrderedCountOfTierSeven; \n",
    "    roundTwoOrderedCountOfTierEight; \n",
    "    roundTwoOrderedCountOfTierNine \n",
    "|]\n"
   ]
  },
  {
   "cell_type": "code",
   "execution_count": 38,
   "metadata": {
    "dotnet_interactive": {
     "language": "fsharp"
    },
    "polyglot_notebook": {
     "kernelName": "fsharp"
    },
    "vscode": {
     "languageId": "polyglot-notebook"
    }
   },
   "outputs": [],
   "source": [
    "let distributedTokens = \n",
    "    Math.Ceiling(\n",
    "        (Array.zip roundOneCounts roundOneTiers |> Array.sumBy (fun (count, tier) ->  count *  tier)) * roundOneBonus +\n",
    "        (Array.zip roundTwoCounts roundTwoTiers |> Array.sumBy (fun (count, tier) ->  count *  tier)) +\n",
    "        (Array.zip roundTwoOrderedCounts roundTwoOrderedTiers |> Array.sumBy (fun (count, tier) ->  count *  tier))\n",
    "    )"
   ]
  },
  {
   "cell_type": "code",
   "execution_count": 39,
   "metadata": {
    "dotnet_interactive": {
     "language": "fsharp"
    },
    "polyglot_notebook": {
     "kernelName": "fsharp"
    },
    "vscode": {
     "languageId": "polyglot-notebook"
    }
   },
   "outputs": [],
   "source": [
    "let availableTokenRewards =  totalTokenRewards - int distributedTokens"
   ]
  },
  {
   "cell_type": "code",
   "execution_count": 40,
   "metadata": {
    "dotnet_interactive": {
     "language": "fsharp"
    },
    "polyglot_notebook": {
     "kernelName": "fsharp"
    },
    "vscode": {
     "languageId": "polyglot-notebook"
    }
   },
   "outputs": [],
   "source": [
    "let calculateSurplusRewardsPerTier (availableTokenRewards: float) =\n",
    "    let percentages = [0.1; 0.15; 0.2; 0.27; 0.28]\n",
    "    let nftCounts = [roundOneCountOfTierOne * roundOneBonus + roundTwoCountOfTierOne;\n",
    "                     roundOneCountOfTierTwo * roundOneBonus + roundTwoCountOfTierTwo;\n",
    "                     roundOneCountOfTierThree * roundOneBonus + roundTwoCountOfTierThree;\n",
    "                     roundOneCountOfTierFour * roundOneBonus + roundTwoCountOfTierFour;\n",
    "                     roundOneCountOfTierFive * roundOneBonus + roundTwoCountOfTierFive]\n",
    "    percentages\n",
    "    |> List.mapi (fun i percentage ->\n",
    "        let rewardPerNft = (availableTokenRewards * percentage) / float nftCounts.[i]\n",
    "        Math.Ceiling(rewardPerNft) |> int\n",
    "    )"
   ]
  },
  {
   "cell_type": "code",
   "execution_count": 41,
   "metadata": {
    "dotnet_interactive": {
     "language": "fsharp"
    },
    "polyglot_notebook": {
     "kernelName": "fsharp"
    },
    "vscode": {
     "languageId": "polyglot-notebook"
    }
   },
   "outputs": [],
   "source": [
    "let surplusTierReward = calculateSurplusRewardsPerTier availableTokenRewards\n",
    "let roundOneSurplusRewardsTierReward = \n",
    "    surplusTierReward \n",
    "    |> List.map (fun rewards -> int (Math.Ceiling(float rewards * 2.75)))\n"
   ]
  },
  {
   "cell_type": "markdown",
   "metadata": {},
   "source": [
    "## **3.5 Calculate Total TEDY Rewards**  \n",
    "In this section, we query the [CardanoScan API](https://docs.cardanoscan.io/) for the assets of a certain address, and calculate the total TEDY rewards for a given address based on the Teddy Bear Club NFTs it holds.\n",
    "\n",
    "This process involves **generating the JSON** file - `address_tokens.json` - containing the address's token data by following the workflow outlined below.\n",
    "\n",
    "`address_tokens.json`, is created by querying the [CardanoScan API](https://docs.cardanoscan.io/). The JSON file is not included in this repository. If you wish to explore these calculations, you may do so in section 5 below. \n",
    "\n",
    "Once the token data is available, we use the `computeBaseRewards` and `computeSurplusRewards` functions to compute the total TEDY rewards for the address.\n",
    "\n",
    "---"
   ]
  },
  {
   "cell_type": "markdown",
   "metadata": {},
   "source": [
    "### 3.5.1 CardanoScan API Query\n",
    "1. **`getApiKey`**:\n",
    "   - Retrieves your API key from the environment.\n",
    "   - Ensures the key is securely accessed and avoids hardcoding sensitive information.\n",
    "\n",
    "2. **`saveJsonToFile`**:\n",
    "   - Formats the JSON response into a more readable format and saves it to a file.\n",
    "   - By default, it saves the output to [`collectionassets.json`](./data/collectionassets.json).\n",
    "\n",
    "3. **`getAssetsByAddress`**:\n",
    "   - Configures the API request by setting the required headers (including the API key) and query parameters.\n",
    "   - Sends the request to the API endpoint and handles the response.\n",
    "\n",
    "---"
   ]
  },
  {
   "cell_type": "code",
   "execution_count": 42,
   "metadata": {
    "dotnet_interactive": {
     "language": "fsharp"
    },
    "polyglot_notebook": {
     "kernelName": "fsharp"
    },
    "vscode": {
     "languageId": "polyglot-notebook"
    }
   },
   "outputs": [],
   "source": [
    "type Token = {\n",
    "    policyId: string\n",
    "    assetName: string\n",
    "    fingerprint: string\n",
    "    assetId: string\n",
    "    balance: string\n",
    "}\n",
    "\n",
    "type ApiResponse = {\n",
    "    tokens: Token list\n",
    "    count: int\n",
    "    pageNo: int\n",
    "    limit: int\n",
    "}"
   ]
  },
  {
   "cell_type": "code",
   "execution_count": 43,
   "metadata": {
    "dotnet_interactive": {
     "language": "fsharp"
    },
    "polyglot_notebook": {
     "kernelName": "fsharp"
    },
    "vscode": {
     "languageId": "polyglot-notebook"
    }
   },
   "outputs": [],
   "source": [
    "let getApiKey () =\n",
    "    match Environment.GetEnvironmentVariable(\"CARDANO_API_KEY\") with\n",
    "    | null -> failwith \"API key not found. Set it in your environment variables.\"\n",
    "    | key -> key"
   ]
  },
  {
   "cell_type": "code",
   "execution_count": 44,
   "metadata": {
    "dotnet_interactive": {
     "language": "fsharp"
    },
    "polyglot_notebook": {
     "kernelName": "fsharp"
    },
    "vscode": {
     "languageId": "polyglot-notebook"
    }
   },
   "outputs": [],
   "source": [
    "let saveJsonToFile (filePath: string) (jsonResponse: string) =\n",
    "    try\n",
    "        \n",
    "        let data = JsonSerializer.Deserialize<obj>(jsonResponse)\n",
    "        let options = JsonSerializerOptions(WriteIndented = true, Encoder = System.Text.Encodings.Web.JavaScriptEncoder.UnsafeRelaxedJsonEscaping)\n",
    "        let jsonOutput = JsonSerializer.Serialize(data, options)\n",
    "\n",
    "        File.WriteAllText(filePath, jsonOutput)\n",
    "    with ex ->\n",
    "        printfn \"Failed to save JSON at %s. Error: %s\" filePath ex.Message"
   ]
  },
  {
   "cell_type": "code",
   "execution_count": 45,
   "metadata": {
    "dotnet_interactive": {
     "language": "fsharp"
    },
    "polyglot_notebook": {
     "kernelName": "fsharp"
    },
    "vscode": {
     "languageId": "polyglot-notebook"
    }
   },
   "outputs": [],
   "source": [
    "let getAssetsByAddress (address: string) (filePath: string) =\n",
    "    async {\n",
    "        let apiKey = getApiKey()\n",
    "        let baseUrl = \"https://api.cardanoscan.io/api/v1/asset/list/byAddress\"\n",
    "        let mutable pageNo = 1\n",
    "        let mutable allTokens = []\n",
    "        let mutable hasMoreData = true\n",
    "\n",
    "        use client = new HttpClient()\n",
    "        client.DefaultRequestHeaders.Add(\"apiKey\", apiKey)\n",
    "\n",
    "        try\n",
    "            while hasMoreData do\n",
    "                let url = $\"{baseUrl}?address={address}&pageNo={pageNo}\"\n",
    "                let! response = client.GetAsync(url) |> Async.AwaitTask\n",
    "\n",
    "                if response.IsSuccessStatusCode then\n",
    "                    let! content = response.Content.ReadAsStringAsync() |> Async.AwaitTask\n",
    "                    try\n",
    "                        let data = JsonSerializer.Deserialize<ApiResponse>(content)\n",
    "\n",
    "                        if data.tokens.IsEmpty then\n",
    "                            hasMoreData <- false\n",
    "                        else\n",
    "                            allTokens <- allTokens @ data.tokens\n",
    "                            pageNo <- pageNo + 1\n",
    "                    with ex ->\n",
    "                        printfn \"JSON Deserialization Error: %s\" ex.Message\n",
    "                        printfn \"Raw Content: %s\" content\n",
    "                        hasMoreData <- false\n",
    "                        ()\n",
    "                else\n",
    "                    let! errorContent = response.Content.ReadAsStringAsync() |> Async.AwaitTask\n",
    "                    printfn \"API Error: %s\" errorContent\n",
    "                    hasMoreData <- false\n",
    "                    return ()\n",
    "\n",
    "            if allTokens.IsEmpty then\n",
    "                printfn \"No tokens found for address: %s\" address\n",
    "                return ()\n",
    "\n",
    "            let assetIds =\n",
    "                allTokens\n",
    "                |> List.filter (fun token -> token.assetId.Contains(roundOnePolicyId) || token.assetId.Contains(roundTwoPolicyId))\n",
    "                |> List.map (fun token -> token.assetId)\n",
    "\n",
    "            let allTokensJson = JsonSerializer.Serialize(allTokens, JsonSerializerOptions(WriteIndented = true))\n",
    "            saveJsonToFile filePath allTokensJson\n",
    "\n",
    "            printfn \"Successfully saved all tokens to %s\" filePath\n",
    "            return Ok (), assetIds\n",
    "        with ex ->\n",
    "            printfn \"Exception occurred: %s\" ex.Message\n",
    "            return Error $\"Exception: {ex.Message}\", []\n",
    "    }"
   ]
  },
  {
   "cell_type": "markdown",
   "metadata": {},
   "source": [
    "### 3.5.2 Reward Calculations\n",
    "\n",
    "#### **Functions**:\n",
    "1. **`computeSurplusRewards`**:\n",
    "   - Computes the additional TEDY rewards allocated to a given NFT based on its round and tier.\n",
    "   - **Parameters**:\n",
    "     - **`subject`** (string): The unique identifier of the NFT.\n",
    "     - **`rankData`** (Map<string, int>): A mapping of NFT IDs to their ranks.\n",
    "     - **`surplusRewardsPerTier`** (list<int>): A list of surplus rewards allocated per NFT in each tier.\n",
    "   - **Returns**:\n",
    "     - (int): The calculated surplus reward for the NFT.\n",
    "\n",
    "2. **`calculateTotalRewards`**:\n",
    "  - Computes the total TEDY rewards for all NFTs owned by an address.\n",
    "  - **Parameters**:\n",
    "    - **`subjectList`** (list<string>): A list of NFTs held by the address.\n",
    "    - **`roundOnePolicyId`** (string): The policy ID for tokens in Round 1.\n",
    "    - **`roundTwoPolicyId`** (string): The policy ID for tokens in Round 2.\n",
    "    - **`subjectRankData`** (Map<string, int>): A mapping of token IDs to their ranks.\n",
    "    - **`surplusRewardsPerTier`** (list<int>): A list of surplus rewards per NFT for each tier.\n",
    "  - **Returns**:\n",
    "    - (int): The total calculated TEDY rewards for all NFTs owned by the address.\n",
    "\n",
    "---\n",
    "\n",
    "#### **Variable**:\n",
    "- **`totalTedyRewards`**: (int) — Total TEDY rewards allocated to the address. This calculation assumes the original 5,000,000,000 market cap."
   ]
  },
  {
   "cell_type": "code",
   "execution_count": 46,
   "metadata": {
    "dotnet_interactive": {
     "language": "fsharp"
    },
    "polyglot_notebook": {
     "kernelName": "fsharp"
    },
    "vscode": {
     "languageId": "polyglot-notebook"
    }
   },
   "outputs": [],
   "source": [
    "let computeSurplusRewards (subject: string) (rankData: Map<string, int>) (surplusRewardsPerTier: int list) =\n",
    "    let rank = rankData[subject]\n",
    "    let roundOneSurplusRewardsTierReward = \n",
    "        surplusRewardsPerTier \n",
    "        |> List.map (fun rewards -> int (Math.Ceiling(float rewards * 2.75)))\n",
    "    if subject.Contains(roundOnePolicyId) then\n",
    "        calculateRewardByTier rank (List.zip [15; 100; 250; 500; 804] roundOneSurplusRewardsTierReward)\n",
    "    elif subject.Contains(roundTwoPolicyId) then\n",
    "        calculateRewardByTier rank (List.zip [23; 221; 664; 1327; 2035] surplusRewardsPerTier)\n",
    "    else\n",
    "        -1"
   ]
  },
  {
   "cell_type": "code",
   "execution_count": 47,
   "metadata": {
    "dotnet_interactive": {
     "language": "fsharp"
    },
    "polyglot_notebook": {
     "kernelName": "fsharp"
    },
    "vscode": {
     "languageId": "polyglot-notebook"
    }
   },
   "outputs": [],
   "source": [
    "let calculateTotalRewards (subjectList: list<string>) (roundOnePolicyId: string) (roundTwoPolicyId: string) (subjectRankData: Map<string, int>) (surplusRewardsPerTier: int list) =\n",
    "    let rewardsList =\n",
    "        [ for subject in subjectList do\n",
    "            match subject.Contains(roundOnePolicyId) || subject.Contains(roundTwoPolicyId) with\n",
    "            | true ->\n",
    "                let baseReward =  \n",
    "                    if subject.Contains(roundOnePolicyId) then\n",
    "                        computeBaseReward subject subjectRankData\n",
    "                    elif subject.Contains(roundTwoPolicyId) then\n",
    "                        computeBaseReward subject subjectRankData + computeRoundTwoSurpriseTedy subject subjectOrderData\n",
    "                    else\n",
    "                        0\n",
    "                let surplusReward = computeSurplusRewards subject subjectRankData surplusRewardsPerTier\n",
    "                yield baseReward + surplusReward\n",
    "            | false -> ()\n",
    "        ]\n",
    "\n",
    "    let totalTedyRewards = rewardsList |> List.sum\n",
    "    totalTedyRewards"
   ]
  },
  {
   "cell_type": "markdown",
   "metadata": {},
   "source": [
    "### If you wish to run this section, replace address' value. However, you may do so in Section 5, which allows you to calculate TEDY rewards by address or subject."
   ]
  },
  {
   "cell_type": "code",
   "execution_count": 51,
   "metadata": {
    "dotnet_interactive": {
     "language": "fsharp"
    },
    "polyglot_notebook": {
     "kernelName": "fsharp"
    },
    "vscode": {
     "languageId": "polyglot-notebook"
    }
   },
   "outputs": [],
   "source": [
    "let address = \"\""
   ]
  },
  {
   "cell_type": "code",
   "execution_count": 69,
   "metadata": {
    "dotnet_interactive": {
     "language": "fsharp"
    },
    "polyglot_notebook": {
     "kernelName": "fsharp"
    },
    "vscode": {
     "languageId": "polyglot-notebook"
    }
   },
   "outputs": [],
   "source": [
    "let fetchRewardsAsync () =\n",
    "    async {\n",
    "        let filePath = \"./data/address_tokens.json\"\n",
    "\n",
    "        let! result, assetIds = getAssetsByAddress address filePath\n",
    "\n",
    "        match result with\n",
    "        | Ok () ->\n",
    "            let totalTedyRewards = calculateTotalRewards assetIds roundOnePolicyId roundTwoPolicyId subjectRankData surplusTierReward\n",
    "            return Some(assetIds, totalTedyRewards)\n",
    "        | Error errMsg ->\n",
    "            printfn \"Error: %s\" errMsg\n",
    "            return None\n",
    "    }\n"
   ]
  },
  {
   "cell_type": "code",
   "execution_count": 70,
   "metadata": {
    "dotnet_interactive": {
     "language": "fsharp"
    },
    "polyglot_notebook": {
     "kernelName": "fsharp"
    },
    "vscode": {
     "languageId": "polyglot-notebook"
    }
   },
   "outputs": [
    {
     "name": "stdout",
     "output_type": "stream",
     "text": [
      "Successfully saved all tokens to ./data/address_tokens.json\n",
      "Assets: [\"da3562fad43b7759f679970fb4e0ec07ab5bebe5c703043acda07a3c54656464794265617273436c756235343137\"]\n",
      "Total Rewards: 51,082 TEDY\n"
     ]
    }
   ],
   "source": [
    "let mutable totalTedyRewards = 0\n",
    "let result = fetchRewardsAsync () |> Async.RunSynchronously\n",
    "\n",
    "match result with\n",
    "| Some (assetIds, rewards) ->\n",
    "    totalTedyRewards <- rewards\n",
    "    printfn \"Assets: %A\" assetIds\n",
    "    printfn \"Total Rewards: %s TEDY\" (System.String.Format(\"{0:N0}\", totalTedyRewards))\n",
    "| None ->\n",
    "    printfn \"Failed to fetch rewards.\"\n"
   ]
  },
  {
   "cell_type": "markdown",
   "metadata": {},
   "source": [
    "### **4. Adjust Rewards for Market Cap**\n",
    "In this step, we adjust the final TEDY reward allocation to reflect the updated market cap of 8,000,000, ensuring alignment with the revised tokenomics. The adjustment scales the rewards originally calculated for the initial market cap of 5,000,000,000.\n",
    "\n",
    "Where:\n",
    "- Total TEDY Allocation: The total rewards calculated based upon the initial marketcap.\n",
    "- [Current Marketcap](https://medium.com/@TeddySwapDEX/tedy-tokenomics-v2-fc92723ead0c): 8,000,000\n",
    "- [Previous Market Cap](https://medium.com/@TeddySwapDEX/teddyswap-tokenomics-fcd700aea552): 5,000,000\n",
    "\n",
    "$\\text{Final Round Reward} = (\\frac{\\text{Total TEDY Allocation} * \\text{Current Marketcap}}{\\text{Previous Market Cap}})$\n",
    "\n",
    "---\n",
    "\n",
    "#### **Functions**:\n",
    "1. **`marketcapAdjustment`**:\n",
    "- Adjusts the reward amount based on the ratio of the current market cap to the past market cap.\n",
    "- **Parameters**:\n",
    "   - `rewards` (float): The original reward amount to be adjusted.\n",
    "- **Returns**:\n",
    "   - (int): The adjusted reward amount.\n",
    "\n",
    "---\n",
    "\n",
    "#### **Variables**:\n",
    "**`pastMarketCap`**: (float) - The previous market cap of the token, used as a reference for adjustments.\n",
    "\n",
    "**`currentMarketCap`**: (float) - The current market cap of the token, used to scale rewards.\n",
    "\n",
    "**`totalTedyReward`**: (int) - The final TEDY rewards allocation \n"
   ]
  },
  {
   "cell_type": "code",
   "execution_count": 54,
   "metadata": {
    "dotnet_interactive": {
     "language": "fsharp"
    },
    "polyglot_notebook": {
     "kernelName": "fsharp"
    },
    "vscode": {
     "languageId": "polyglot-notebook"
    }
   },
   "outputs": [],
   "source": [
    "let initialMarketCap = 5000000000.0\n",
    "let currentMarketCap = 8000000.0"
   ]
  },
  {
   "cell_type": "code",
   "execution_count": 55,
   "metadata": {
    "dotnet_interactive": {
     "language": "fsharp"
    },
    "polyglot_notebook": {
     "kernelName": "fsharp"
    },
    "vscode": {
     "languageId": "polyglot-notebook"
    }
   },
   "outputs": [],
   "source": [
    "let marketcapAdjustment (rewards: float) = \n",
    "    let finalRoundReward = (rewards*currentMarketCap)/initialMarketCap\n",
    "    Math.Ceiling(finalRoundReward)"
   ]
  },
  {
   "cell_type": "code",
   "execution_count": 56,
   "metadata": {
    "dotnet_interactive": {
     "language": "fsharp"
    },
    "polyglot_notebook": {
     "kernelName": "fsharp"
    },
    "vscode": {
     "languageId": "polyglot-notebook"
    }
   },
   "outputs": [],
   "source": [
    "let totalTedyReward = int(marketcapAdjustment totalTedyRewards)"
   ]
  },
  {
   "cell_type": "markdown",
   "metadata": {},
   "source": [
    "# Alice's Total TEDY Rewards\n",
    "\n",
    "Now that we’ve developed the functions to calculate rewards, it’s time to discover the total TEDY rewards Alice will receive. We will be running through the calculations manually as well - to provide an example to follow.\n",
    "\n",
    "We saw above that as a Round 1 NFT, ranked 162 and placed in Tier 3, #5731 earns Alice a total of **13,860 TEDY**. Furthermore, she gains a surplus reward of **98,376 TEDY**. \n",
    "\n",
    "Her total reward is the sum of the two, 13,860 + 98,376  = **112,236 TEDY**.\n",
    "\n",
    "Finally, we scale her rewards according to the new market cap of 8,000,000.\n",
    "\n",
    "$\\text{Final Round Reward} = (\\frac{\\text{112,236} * \\text{8,000,000}}{\\text{5,000,000,000}}) = 180$"
   ]
  },
  {
   "cell_type": "code",
   "execution_count": 64,
   "metadata": {
    "dotnet_interactive": {
     "language": "fsharp"
    },
    "polyglot_notebook": {
     "kernelName": "fsharp"
    },
    "vscode": {
     "languageId": "polyglot-notebook"
    }
   },
   "outputs": [],
   "source": [
    "let aliceSurplusReward = computeSurplusRewards aliceNft subjectRankData surplusTierReward\n",
    "let totalReward = aliceBaseReward + aliceSurplusReward\n",
    "let finalReward = int(marketcapAdjustment totalReward)"
   ]
  },
  {
   "cell_type": "code",
   "execution_count": 65,
   "metadata": {
    "dotnet_interactive": {
     "language": "fsharp"
    },
    "polyglot_notebook": {
     "kernelName": "fsharp"
    },
    "vscode": {
     "languageId": "polyglot-notebook"
    }
   },
   "outputs": [
    {
     "name": "stdout",
     "output_type": "stream",
     "text": [
      "#5731 Base Reward: 13,860\n",
      "Alice's Reward Pre-Marketcap Adjustment : 112,236\n",
      "Alice's Rewards Post-Marketcap Adjustment: 180\n"
     ]
    }
   ],
   "source": [
    "printfn \"#5731 Base Reward: %s\" (System.String.Format(\"{0:N0}\", aliceBaseReward))\n",
    "printfn \"Alice's Reward Pre-Marketcap Adjustment : %s\" (System.String.Format(\"{0:N0}\", totalReward))\n",
    "printfn \"Alice's Rewards Post-Marketcap Adjustment: %s\" (System.String.Format(\"{0:N0}\", (int finalReward)))"
   ]
  },
  {
   "cell_type": "markdown",
   "metadata": {},
   "source": [
    "# 5. Calculate Your Rewards\n",
    "\n",
    "This section allows you to calculate the TEDY reward allocation by providing either a Cardano address or a list of subjects.\n",
    "\n",
    "---\n",
    "### Option 1: Provide a Cardano Address\n",
    "\n",
    "### Enter Your Cardano Address\n",
    "\n",
    "Replace the placeholder address in the code below with the **hex representation of the Cardano address** you want to query. This will fetch all associated NFTs, generate the `address_tokens.json` file, and calculate the rewards accordingly.\n",
    "\n",
    "*Note!*<br>\n",
    "To use the [CardanoScan API](https://docs.cardanoscan.io/), you must have a valid API key. The `getApiKey` function retrieves this key from your environment variables, so ensure your key is named `CARDANO_API_KEY` or update the `getAssetsByAddress` function to match your setup. "
   ]
  },
  {
   "cell_type": "code",
   "execution_count": 66,
   "metadata": {
    "dotnet_interactive": {
     "language": "fsharp"
    },
    "polyglot_notebook": {
     "kernelName": "fsharp"
    },
    "vscode": {
     "languageId": "polyglot-notebook"
    }
   },
   "outputs": [],
   "source": [
    "let address = \"\""
   ]
  },
  {
   "cell_type": "code",
   "execution_count": 71,
   "metadata": {
    "dotnet_interactive": {
     "language": "fsharp"
    },
    "polyglot_notebook": {
     "kernelName": "fsharp"
    },
    "vscode": {
     "languageId": "polyglot-notebook"
    }
   },
   "outputs": [
    {
     "name": "stdout",
     "output_type": "stream",
     "text": [
      "Successfully saved all tokens to ./data/address_tokens.json\n",
      "Assets: [\"da3562fad43b7759f679970fb4e0ec07ab5bebe5c703043acda07a3c54656464794265617273436c756235343137\"]\n",
      "Total Reward Pre-MarketCap Adjustment: 51,082\n",
      "Total Reward Post-MarketCap Adjustment: 82\n"
     ]
    }
   ],
   "source": [
    "let result = fetchRewardsAsync () |> Async.RunSynchronously\n",
    "\n",
    "match result with\n",
    "| Some (assetIds, rewards) ->\n",
    "    totalTedyRewards <- rewards\n",
    "    printfn \"Assets: %A\" assetIds\n",
    "    printfn \"Total Reward Pre-MarketCap Adjustment: %s\" (System.String.Format(\"{0:N0}\", totalTedyRewards))\n",
    "    printfn \"Total Reward Post-MarketCap Adjustment: %s\" (System.String.Format(\"{0:N0}\", (int (marketcapAdjustment totalTedyRewards))))\n",
    "| None ->\n",
    "    printfn \"Failed to fetch rewards.\""
   ]
  },
  {
   "cell_type": "markdown",
   "metadata": {},
   "source": [
    "### Option 2: Provide a List of Subjects\n",
    "\n",
    "If you already have the specific NFT subjects, you can directly input them into the list. Each subject should be enclosed in quotes and separated by a **semicolon** (;).\n",
    "\n",
    "i.e:<br>\n",
    "[<br> \"ab182ed76b669b49ee54a37dee0d0064ad4208a859cc4fdf3f906d8754656464794265617273436c756235373331\";<br>\n",
    "\"da3562fad43b7759f679970fb4e0ec07ab5bebe5c703043acda07a3c54656464794265617273436c756235343137\"<br>\n",
    "]"
   ]
  },
  {
   "cell_type": "code",
   "execution_count": 75,
   "metadata": {
    "dotnet_interactive": {
     "language": "fsharp"
    },
    "polyglot_notebook": {
     "kernelName": "fsharp"
    },
    "vscode": {
     "languageId": "polyglot-notebook"
    }
   },
   "outputs": [],
   "source": [
    "let subjectList = \n",
    "    [\n",
    "        \n",
    "    ]"
   ]
  },
  {
   "cell_type": "code",
   "execution_count": null,
   "metadata": {
    "dotnet_interactive": {
     "language": "fsharp"
    },
    "polyglot_notebook": {
     "kernelName": "fsharp"
    },
    "vscode": {
     "languageId": "polyglot-notebook"
    }
   },
   "outputs": [],
   "source": [
    "let preadjustmentTedy = calculateTotalRewards subjectList roundOnePolicyId roundTwoPolicyId subjectRankData surplusTierReward\n",
    "let postadjustmentTedy = int (marketcapAdjustment preadjustmentTedy)\n",
    "\n",
    "printfn \"Total Pre-MarketCap Adjustment: %s TEDY\"  (System.String.Format(\"{0:N0}\", preadjustmentTedy))\n",
    "printfn \"Total Post-MarketCap Adjustment: %s TEDY\" (System.String.Format(\"{0:N0}\", postadjustmentTedy))"
   ]
  },
  {
   "cell_type": "markdown",
   "metadata": {},
   "source": [
    "## **Disclaimers**\n",
    "1. *Market Cap Adjustments*:\n",
    "The calculations above are based on the initial market cap of **5,000,000,000** used to model events during the INO. `marketcapAdjustment` scales rewards to align with the updated market cap of **8,000,000**, resulting in adjusted and lower TEDY reward amounts.\n",
    "\n",
    "The figures provided are *estimates* and are intended for informational purposes only. We do not guarantee their accuracy and disclaim liability for any investment decisions made based on this information. Use this data at your own risk.\n",
    "\n",
    "2. Exclusions:\n",
    "These NFT calculations **do not** account for the following bonuses promised by TeddySwap:\n",
    "\n",
    "- FISO (Fair Initial Stake Offering) bonuses\n",
    "- ITN (Incentivized Testnet) rewards\n",
    "- LBE (Liquidity Bootstrapping Event) rewards\n",
    "- Yield farming bonuses\n"
   ]
  }
 ],
 "metadata": {
  "kernelspec": {
   "display_name": ".NET (C#)",
   "language": "C#",
   "name": ".net-csharp"
  },
  "language_info": {
   "name": "csharp"
  },
  "polyglot_notebook": {
   "kernelInfo": {
    "defaultKernelName": "csharp",
    "items": [
     {
      "aliases": [],
      "name": "csharp"
     }
    ]
   }
  }
 },
 "nbformat": 4,
 "nbformat_minor": 2
}
