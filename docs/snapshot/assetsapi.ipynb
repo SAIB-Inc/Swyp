{
 "cells": [
  {
   "cell_type": "markdown",
   "metadata": {
    "dotnet_interactive": {
     "language": "csharp"
    },
    "polyglot_notebook": {
     "kernelName": "csharp"
    }
   },
   "source": [
    "# Retrive NFTs Assets by Address using CardanoScan API\n",
    "\n",
    "---\n",
    "### 1.1 **1.4 Necessary Package Installations and Open Statements**"
   ]
  },
  {
   "cell_type": "code",
   "execution_count": null,
   "metadata": {
    "dotnet_interactive": {
     "language": "fsharp"
    },
    "polyglot_notebook": {
     "kernelName": "fsharp"
    },
    "vscode": {
     "languageId": "polyglot-notebook"
    }
   },
   "outputs": [],
   "source": [
    "#r \"nuget: FSharp.Data\""
   ]
  },
  {
   "cell_type": "code",
   "execution_count": 47,
   "metadata": {
    "dotnet_interactive": {
     "language": "fsharp"
    },
    "polyglot_notebook": {
     "kernelName": "fsharp"
    },
    "vscode": {
     "languageId": "polyglot-notebook"
    }
   },
   "outputs": [],
   "source": [
    "open System\n",
    "open System.IO\n",
    "open System.Text.Json\n",
    "open System.Net.Http\n",
    "open System.Threading.Tasks\n",
    "open FSharp.Data"
   ]
  },
  {
   "cell_type": "markdown",
   "metadata": {},
   "source": [
    "## Validate Your API Key\n",
    "\n",
    "To use the [CardanoScan API](https://docs.cardanoscan.io/), you must have a valid API key. The `getApiKey` function retrieves this key from your environment variables, so ensure your key is named `CARDANO_API_KEY` to be recognized. \n",
    "\n",
    "1. **`getApiKey`**:\n",
    "   - Retrieves your API key from the environment.\n",
    "   - Ensures the key is securely accessed and avoids hardcoding sensitive information.\n",
    "\n",
    "2. **`saveJsonToFile`**:\n",
    "   - Formats the JSON response into a more readable format and saves it to a file.\n",
    "   - By default, it saves the output to [`collectionassets.json`](./data/collectionassets.json).\n",
    "\n",
    "3. **`getAssetsByAddress`**:\n",
    "   - Configures the API request by setting the required headers (including the API key) and query parameters.\n",
    "   - Sends the request to the API endpoint and handles the response.\n"
   ]
  },
  {
   "cell_type": "code",
   "execution_count": 26,
   "metadata": {
    "dotnet_interactive": {
     "language": "fsharp"
    },
    "polyglot_notebook": {
     "kernelName": "fsharp"
    },
    "vscode": {
     "languageId": "polyglot-notebook"
    }
   },
   "outputs": [],
   "source": [
    "let getApiKey () =\n",
    "    match Environment.GetEnvironmentVariable(\"CARDANO_API_KEY\") with\n",
    "    | null -> failwith \"API key not found. Set it in your environment variables.\"\n",
    "    | key -> key"
   ]
  },
  {
   "cell_type": "code",
   "execution_count": 53,
   "metadata": {
    "dotnet_interactive": {
     "language": "fsharp"
    },
    "polyglot_notebook": {
     "kernelName": "fsharp"
    },
    "vscode": {
     "languageId": "polyglot-notebook"
    }
   },
   "outputs": [],
   "source": [
    "let saveJsonToFile (filePath: string) (jsonResponse: string) =\n",
    "    try\n",
    "        \n",
    "        let data = JsonSerializer.Deserialize<obj>(jsonResponse)\n",
    "        let options = JsonSerializerOptions(WriteIndented = true, Encoder = System.Text.Encodings.Web.JavaScriptEncoder.UnsafeRelaxedJsonEscaping)\n",
    "        let jsonOutput = JsonSerializer.Serialize(data, options)\n",
    "\n",
    "        File.WriteAllText(filePath, jsonOutput)\n",
    "        printfn \"JSON saved to %s\" filePath\n",
    "    with ex ->\n",
    "        printfn \"Failed to save pretty-printed JSON. Error: %s\" ex.Message"
   ]
  },
  {
   "cell_type": "code",
   "execution_count": 54,
   "metadata": {
    "dotnet_interactive": {
     "language": "fsharp"
    },
    "polyglot_notebook": {
     "kernelName": "fsharp"
    },
    "vscode": {
     "languageId": "polyglot-notebook"
    }
   },
   "outputs": [],
   "source": [
    "let getAssetsByAddress (address: string) (filePath: string)=\n",
    "    async {\n",
    "        let apiKey = getApiKey()\n",
    "        let pageNo = 1\n",
    "        let baseUrl = \"https://api.cardanoscan.io/api/v1/asset/list/byAddress\"\n",
    "        let url = $\"{baseUrl}?address={address}&pageNo={pageNo}\"\n",
    "\n",
    "        use client = new HttpClient()\n",
    "        client.DefaultRequestHeaders.Add(\"apiKey\", apiKey)\n",
    "\n",
    "        try\n",
    "            let! response = client.GetAsync(url) |> Async.AwaitTask\n",
    "            if response.IsSuccessStatusCode then\n",
    "                let! content = response.Content.ReadAsStringAsync() |> Async.AwaitTask\n",
    "                saveJsonToFile filePath content\n",
    "                return Ok ()\n",
    "            else\n",
    "                let! errorContent = response.Content.ReadAsStringAsync() |> Async.AwaitTask\n",
    "                printfn \"Error Response Body: %s\" errorContent\n",
    "                return Error $\"Error: {response.StatusCode} - {response.ReasonPhrase}\"\n",
    "        with ex ->\n",
    "            printfn \"Exception: %s\" ex.Message\n",
    "            return Error $\"Exception: {ex.Message}\"\n",
    "    }"
   ]
  },
  {
   "cell_type": "markdown",
   "metadata": {},
   "source": [
    "## Enter the Address and Call the Functions\n",
    "\n",
    "You can replace the address in the cell below with the desired Cardano address to search for assets or information related to it.\n"
   ]
  },
  {
   "cell_type": "code",
   "execution_count": 56,
   "metadata": {
    "dotnet_interactive": {
     "language": "fsharp"
    },
    "polyglot_notebook": {
     "kernelName": "fsharp"
    },
    "vscode": {
     "languageId": "polyglot-notebook"
    }
   },
   "outputs": [],
   "source": [
    "let address = \"01a2372d4f613b6d64da77f6047d4756b261b31619a54ec32e49b09797cfa1b556bfa358a865b6982a6e3a8c5f2e7144a430b1c7d9173c2ea4\" "
   ]
  },
  {
   "cell_type": "code",
   "execution_count": 57,
   "metadata": {
    "dotnet_interactive": {
     "language": "fsharp"
    },
    "polyglot_notebook": {
     "kernelName": "fsharp"
    },
    "vscode": {
     "languageId": "polyglot-notebook"
    }
   },
   "outputs": [
    {
     "name": "stdout",
     "output_type": "stream",
     "text": [
      "JSON saved to ./data/collectionassets.json\n",
      "API response saved successfully.\n"
     ]
    }
   ],
   "source": [
    "let filePath = \"./data/collectionassets.json\"\n",
    "\n",
    "async {\n",
    "    let! result = getAssetsByAddress address filePath\n",
    "    match result with\n",
    "    | Ok () -> printfn \"API response saved successfully.\"\n",
    "    | Error errMsg -> printfn \"Error: %s\" errMsg\n",
    "}\n",
    "|> Async.RunSynchronously"
   ]
  }
 ],
 "metadata": {
  "kernelspec": {
   "display_name": ".NET (C#)",
   "language": "C#",
   "name": ".net-csharp"
  },
  "language_info": {
   "name": "csharp"
  },
  "polyglot_notebook": {
   "kernelInfo": {
    "defaultKernelName": "csharp",
    "items": [
     {
      "aliases": [],
      "name": "csharp"
     }
    ]
   }
  }
 },
 "nbformat": 4,
 "nbformat_minor": 2
}
